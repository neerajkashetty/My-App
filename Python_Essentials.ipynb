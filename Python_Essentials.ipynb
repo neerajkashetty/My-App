{
  "cells": [
    {
      "cell_type": "markdown",
      "metadata": {
        "id": "view-in-github",
        "colab_type": "text"
      },
      "source": [
        "<a href=\"https://colab.research.google.com/github/neerajkashetty/My-App/blob/master/Python_Essentials.ipynb\" target=\"_parent\"><img src=\"https://colab.research.google.com/assets/colab-badge.svg\" alt=\"Open In Colab\"/></a>"
      ]
    },
    {
      "cell_type": "markdown",
      "metadata": {
        "id": "q-6gN1k2TbQG"
      },
      "source": [
        "#**Python Essentials**![py.png](data:image/png;base64,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)\n",
        "\n",
        "This notebook covers basic Python syntax, variable, operations, functions, and other key aspects of Python language for you to start programming Python. It's recommended that you are already familiar with another high level programming language before taking advantage of this notebook. For detailed explanation of each topic covered in this notebook, please use online resources for a more comprehensive study of Python basics. "
      ]
    },
    {
      "cell_type": "markdown",
      "source": [
        "##**Benefits And Drawbacks Of Python**\n",
        "The various attractive features of Python make it popular and preferred in many fields.\n",
        "\n",
        "Some of the top features of Python include:\n",
        "\n",
        "* Free and Open-Sourced\n",
        "* Dynamically typed\n",
        "* Portable\n",
        "* Numerous libraries and applications\n",
        "* Large supportive community\n",
        "* Flexibility\n",
        "* Easy to use and learn\n",
        "* Extensible\n",
        "* Embeddable\n",
        "* Shorter line of code than most languages\n",
        "\n",
        "\n",
        "Though Python is popular, it is not effective in some domains. Knowing these drawbacks will help us to limit Python to where it is effective, thereby building robust applications.\n",
        "\n",
        "##**Some Drawbacks of Python are:**\n",
        "\n",
        "* Slow speed\n",
        "* Memory inefficient\n",
        "* Ineffective in mobile computing.\n",
        "* Undeveloped database layers.\n",
        "* Run time error prompt due to its dynamism.\n",
        "\n",
        "\n",
        "\n",
        "[Source](https://www.softwaretestinghelp.com/python/)\n",
        "\n",
        "\n"
      ],
      "metadata": {
        "id": "mK0abYhRMj5Y"
      }
    },
    {
      "cell_type": "markdown",
      "metadata": {
        "id": "3uXW5tYLBzgo"
      },
      "source": [
        "# **Execute Python Syntax**\n",
        "As we learned in the class, Python syntax can be executed by writing directly in the Command Line:"
      ]
    },
    {
      "cell_type": "code",
      "execution_count": null,
      "metadata": {
        "colab": {
          "base_uri": "https://localhost:8080/"
        },
        "id": "9AsUqFTVTmKn",
        "outputId": "a3509f59-9d5f-4073-86d1-645ddd888dda"
      },
      "outputs": [
        {
          "name": "stdout",
          "output_type": "stream",
          "text": [
            "Hay Welcome to Data Science & Machine Learning With I. K. Nti!\n"
          ]
        }
      ],
      "source": [
        "print (\"Hay Welcome to Data Science & Machine Learning With I. K. Nti!\")"
      ]
    },
    {
      "cell_type": "markdown",
      "metadata": {
        "id": "r8tuoHyMTsOB"
      },
      "source": [
        "# **Python Comments**\n",
        "\n",
        ":Comments can be used to explain Python code.\n",
        "\n",
        ":Comments can be used to make the code more readable.\n",
        "\n",
        ":Comments can be used to prevent execution when testing code.\n",
        "\n",
        "##**Creating a Comment**\n",
        "Comments starts with a **#**, and Python will ignore them:"
      ]
    },
    {
      "cell_type": "code",
      "execution_count": null,
      "metadata": {
        "id": "N0Umfzh8UDJn"
      },
      "outputs": [],
      "source": [
        "#I hope and trust that we will enjoy this class together as a family\n",
        "print (\"Hay Welcome to Data Science & Machine Learning With I. K. Nti!\")"
      ]
    },
    {
      "cell_type": "code",
      "source": [],
      "metadata": {
        "id": "tr81hdL-Licb"
      },
      "execution_count": null,
      "outputs": []
    },
    {
      "cell_type": "markdown",
      "metadata": {
        "id": "s72zTiwSUjKW"
      },
      "source": [
        "#**Variables**\n",
        "Variables are containers for storing data values.\n",
        "\n",
        "##**Creating Variables**\n",
        "Python has no command for declaring a variable.\n",
        "\n",
        "A variable is created the moment you first assign a value to it."
      ]
    },
    {
      "cell_type": "code",
      "execution_count": null,
      "metadata": {
        "colab": {
          "base_uri": "https://localhost:8080/"
        },
        "id": "8-32nDWlUy2A",
        "outputId": "7052b4b2-2310-43e2-97de-904f3fbd13d6"
      },
      "outputs": [
        {
          "name": "stdout",
          "output_type": "stream",
          "text": [
            "53\n",
            "Kofi\n"
          ]
        }
      ],
      "source": [
        "#Example\n",
        "x = 53\n",
        "y = \"Kofi\"\n",
        "print(x)\n",
        "print(y)"
      ]
    },
    {
      "cell_type": "markdown",
      "metadata": {
        "id": "n_G-pso0VNAE"
      },
      "source": [
        "**Variables do not need to be declared with any particular type, and can even change type after they have been set.**"
      ]
    },
    {
      "cell_type": "code",
      "execution_count": null,
      "metadata": {
        "colab": {
          "base_uri": "https://localhost:8080/"
        },
        "id": "8aB_ClaqVJ7T",
        "outputId": "a108be11-82b5-4698-f64e-24407d033278"
      },
      "outputs": [
        {
          "name": "stdout",
          "output_type": "stream",
          "text": [
            "Isaac\n"
          ]
        }
      ],
      "source": [
        "x = 9       # x is of type int\n",
        "x = \"Isaac\" # x is now of type str\n",
        "print(x)"
      ]
    },
    {
      "cell_type": "markdown",
      "metadata": {
        "id": "9k2whurPVXES"
      },
      "source": [
        "##**Casting**\n",
        "If you want to specify the data type of a variable, this can be done with casting."
      ]
    },
    {
      "cell_type": "code",
      "execution_count": null,
      "metadata": {
        "colab": {
          "base_uri": "https://localhost:8080/"
        },
        "id": "9ZQ2LkrxValY",
        "outputId": "22c82fdb-10af-49a1-fecc-6f8a2a3054a0"
      },
      "outputs": [
        {
          "name": "stdout",
          "output_type": "stream",
          "text": [
            "80 80 80.0\n"
          ]
        }
      ],
      "source": [
        "x = str(80)    # x will be '80'\n",
        "y = int(80)    # y will be 80\n",
        "z = float(80)  # z will be 80.0\n",
        "print (x,y,z)"
      ]
    },
    {
      "cell_type": "markdown",
      "metadata": {
        "id": "kdguuaYLWH2m"
      },
      "source": [
        "##**Variable Names**\n",
        "A variable can have a short name (like x and y) or a more descriptive name (age, carname, total_volume). Rules for Python variables:\n",
        "A variable name must start with a letter or the underscore character\n",
        "A variable name cannot start with a number\n",
        "A variable name can only contain alpha-numeric characters and underscores (A-z, 0-9, and _ )\n",
        "Variable names are case-sensitive (age, Age and AGE are three different variables)"
      ]
    },
    {
      "cell_type": "code",
      "execution_count": null,
      "metadata": {
        "id": "2SUzxihMWMeB"
      },
      "outputs": [],
      "source": [
        "#Example\n",
        "#Legal variable names:\n",
        "#Remember that variable names are case-sensitive\n",
        "\n",
        "myvar = \"Kofi\"\n",
        "my_var = 4\n",
        "_my_var = \"Isaac\"\n",
        "myVar = 6.05\n",
        "MYVAR = \"Faith\"\n",
        "myvar2 = \"SoIT\""
      ]
    },
    {
      "cell_type": "code",
      "execution_count": null,
      "metadata": {
        "id": "junsHyGKWrc3"
      },
      "outputs": [],
      "source": [
        "# Declare Five (5) Variable with different names"
      ]
    },
    {
      "cell_type": "markdown",
      "metadata": {
        "id": "AJpdbTIaXCkI"
      },
      "source": [
        "##**Many Values to Multiple Variables**\n",
        "Python allows you to assign values to multiple variables in one line:"
      ]
    },
    {
      "cell_type": "code",
      "execution_count": null,
      "metadata": {
        "colab": {
          "base_uri": "https://localhost:8080/"
        },
        "id": "IdpdJwvfXLpd",
        "outputId": "04611c79-2b91-4401-8ded-8a65577fde17"
      },
      "outputs": [
        {
          "name": "stdout",
          "output_type": "stream",
          "text": [
            "Data Science and Machine Learning\n",
            "100\n",
            "Female\n"
          ]
        }
      ],
      "source": [
        "#Note: Ensure the number of variables matches the number of values, or else you will get an error.\n",
        "x, y, z = \"Data Science and Machine Learning\", 100, 'Female'\n",
        "print(x)\n",
        "print(y)\n",
        "print(z)"
      ]
    },
    {
      "cell_type": "markdown",
      "metadata": {
        "id": "QKbZV75OXnzt"
      },
      "source": [
        "##**One Value to Multiple Variables**\n",
        "And you can assign the same value to multiple variables in one line:"
      ]
    },
    {
      "cell_type": "code",
      "execution_count": null,
      "metadata": {
        "colab": {
          "base_uri": "https://localhost:8080/"
        },
        "id": "PwwNupA-XwaQ",
        "outputId": "47754040-c36d-4727-d007-699dc2a5389e"
      },
      "outputs": [
        {
          "name": "stdout",
          "output_type": "stream",
          "text": [
            "Data Science and Machine Learning\n",
            "Data Science and Machine Learning\n",
            "Data Science and Machine Learning\n"
          ]
        }
      ],
      "source": [
        "x = y = z = \"Data Science and Machine Learning\"\n",
        "print(x)\n",
        "print(y)\n",
        "print(z)"
      ]
    },
    {
      "cell_type": "markdown",
      "metadata": {
        "id": "E9w0eSKVX6Wt"
      },
      "source": [
        "##**Unpack a Collection**\n",
        "If you have a collection of values in a list, tuple etc. Python allows you to extract the values into variables. This is called unpacking."
      ]
    },
    {
      "cell_type": "code",
      "execution_count": null,
      "metadata": {
        "colab": {
          "base_uri": "https://localhost:8080/"
        },
        "id": "5m8TE7DFYCN7",
        "outputId": "4d17e327-612e-46e0-b69b-f27490af3a39"
      },
      "outputs": [
        {
          "output_type": "stream",
          "name": "stdout",
          "text": [
            "Mark\n",
            "Kate\n",
            "Alice\n",
            "[3 3 4]\n",
            "10\n"
          ]
        }
      ],
      "source": [
        "#Unpack a list:\n",
        "import numpy as np\n",
        "Names = [\"Mark\", \"Kate\", \"Alice\"]\n",
        "x, y, z = Names\n",
        "print(x)\n",
        "print(y)\n",
        "print(z)\n",
        "\n",
        "L = np.random.randint(low=2,high=5,size=3)\n",
        "print(L)\n",
        "x, y, z = L\n",
        "print(x+y+z)\n"
      ]
    },
    {
      "cell_type": "code",
      "execution_count": null,
      "metadata": {
        "id": "pKPpmvdmYTcC"
      },
      "outputs": [],
      "source": [
        "# creat a list of your names (i.e., firstname, middlename, lastname) and print them out"
      ]
    },
    {
      "cell_type": "markdown",
      "metadata": {
        "id": "KT40_gyyYoML"
      },
      "source": [
        "##**Output Variables**\n",
        "The Python print() function is often used to output variables."
      ]
    },
    {
      "cell_type": "code",
      "execution_count": null,
      "metadata": {
        "colab": {
          "base_uri": "https://localhost:8080/"
        },
        "id": "_IBsMdhMYt58",
        "outputId": "24ec464d-8406-42b0-9d60-c0ba56164129"
      },
      "outputs": [
        {
          "name": "stdout",
          "output_type": "stream",
          "text": [
            "Python is awesome\n"
          ]
        }
      ],
      "source": [
        "x = \"Python is awesome\"\n",
        "print(x)"
      ]
    },
    {
      "cell_type": "markdown",
      "metadata": {
        "id": "E6--SlRzYz0S"
      },
      "source": [
        "**In the print() function, you output multiple variables, separated by a comma:**"
      ]
    },
    {
      "cell_type": "code",
      "execution_count": null,
      "metadata": {
        "id": "ERqzk70vY3mw"
      },
      "outputs": [],
      "source": [
        "#Example\n",
        "x = \"Python\"\n",
        "y = \"is\"\n",
        "z = \"awesome\"\n",
        "print(x, y, z)"
      ]
    },
    {
      "cell_type": "markdown",
      "metadata": {
        "id": "ptIk2K3IY9ku"
      },
      "source": [
        "**You can also use the + operator to output multiple variables:**"
      ]
    },
    {
      "cell_type": "code",
      "execution_count": null,
      "metadata": {
        "colab": {
          "base_uri": "https://localhost:8080/"
        },
        "id": "jpp4V47mY_cI",
        "outputId": "99063a5b-8098-4234-bed4-7af39794ad56"
      },
      "outputs": [
        {
          "name": "stdout",
          "output_type": "stream",
          "text": [
            "I love Data Science & Machine Learning With Kofi\n"
          ]
        }
      ],
      "source": [
        "#Example\n",
        "#Notice the space character after \"Python \" and \"is \", without them the result would be \"Pythonisawesome\".\n",
        "x = \"I love \"\n",
        "y = \"Data Science & Machine Learning \"\n",
        "z = \"With Kofi\"\n",
        "print(x + y + z)"
      ]
    },
    {
      "cell_type": "code",
      "execution_count": null,
      "metadata": {
        "id": "IJr41355ZaZo"
      },
      "outputs": [],
      "source": [
        "#For numbers, the + character works as a mathematical operator:\n",
        "x = 95\n",
        "y = 100\n",
        "print(x + y)"
      ]
    },
    {
      "cell_type": "markdown",
      "metadata": {
        "id": "aNKbMTI8Zlao"
      },
      "source": [
        "**In the print() function, when you try to combine a string and a number with the + operator, Python will give you an error:**\n",
        "##**WHY**?"
      ]
    },
    {
      "cell_type": "code",
      "execution_count": null,
      "metadata": {
        "id": "ktIg0eXoZtV0"
      },
      "outputs": [],
      "source": [
        "#Example\n",
        "x = 5\n",
        "y = \"John\"\n",
        "print(x + y)"
      ]
    },
    {
      "cell_type": "markdown",
      "metadata": {
        "id": "B3GTH-F1Z1L1"
      },
      "source": [
        "**The best way to output multiple variables in the print() function is to separate them with commas, which even support different data types:**"
      ]
    },
    {
      "cell_type": "code",
      "execution_count": null,
      "metadata": {
        "id": "dP5rWFXFZ52M"
      },
      "outputs": [],
      "source": [
        "#Example\n",
        "x = 5\n",
        "y = \"John\"\n",
        "print(x, y)"
      ]
    },
    {
      "cell_type": "markdown",
      "metadata": {
        "id": "F07yMhBJc1OZ"
      },
      "source": [
        "##**Global Variables**\n",
        "Variables that are created outside of a function (as in all of the examples above) are known as global variables.\n",
        "\n",
        "Global variables can be used by everyone, both inside of functions and outside."
      ]
    },
    {
      "cell_type": "code",
      "execution_count": null,
      "metadata": {
        "colab": {
          "base_uri": "https://localhost:8080/"
        },
        "id": "qHxTvmeEc4Tq",
        "outputId": "c4b617c6-f320-4317-9633-fed60fadc2c0"
      },
      "outputs": [
        {
          "name": "stdout",
          "output_type": "stream",
          "text": [
            "You are awesome\n"
          ]
        }
      ],
      "source": [
        "#Example\n",
        "# Let's create a variable outside of a function, and use it inside the function\n",
        "\n",
        "k = \"awesome\"\n",
        "\n",
        "def myfunc():\n",
        "  print(\"You are \" + k)\n",
        "\n",
        "myfunc()"
      ]
    },
    {
      "cell_type": "markdown",
      "metadata": {
        "id": "vl6hXMctdOHZ"
      },
      "source": [
        "**If you create a variable with the same name inside a function, this variable will be local, and can only be used inside the function. The global variable with the same name will remain as it was, global and with the original value.**"
      ]
    },
    {
      "cell_type": "code",
      "execution_count": null,
      "metadata": {
        "colab": {
          "base_uri": "https://localhost:8080/"
        },
        "id": "fQaFEU0JdSFB",
        "outputId": "b78faa32-261a-439a-a278-715b5073fe85"
      },
      "outputs": [
        {
          "name": "stdout",
          "output_type": "stream",
          "text": [
            "You are fantastic\n",
            "You are awesome\n"
          ]
        }
      ],
      "source": [
        "#Example\n",
        "# Let's create a variable inside a function, with the same name as the global variable\n",
        "\n",
        "k = \"awesome\"\n",
        "\n",
        "def myfunc():\n",
        "  k = \"fantastic\"\n",
        "  print(\"You are \" + k)\n",
        "myfunc()\n",
        "\n",
        "print(\"You are \" + k)"
      ]
    },
    {
      "cell_type": "markdown",
      "metadata": {
        "id": "vb1e7RF0dzJv"
      },
      "source": [
        "###**The global Keyword**\n",
        "Normally, when you create a variable inside a function, that variable is local, and can only be used inside that function.\n",
        "\n",
        "To create a global variable inside a function, you can use the global keyword."
      ]
    },
    {
      "cell_type": "code",
      "execution_count": null,
      "metadata": {
        "colab": {
          "base_uri": "https://localhost:8080/"
        },
        "id": "Mvpe5l-xd5b0",
        "outputId": "082a62c5-0310-4f44-f2d7-cda3df8e3a84"
      },
      "outputs": [
        {
          "name": "stdout",
          "output_type": "stream",
          "text": [
            "You are fantastic\n"
          ]
        }
      ],
      "source": [
        "#Example\n",
        "#If we use the global keyword, the variable belongs to the global scope:\n",
        "\n",
        "def myfunc():\n",
        "  global i\n",
        "  i = \"fantastic\"\n",
        "\n",
        "myfunc()\n",
        "\n",
        "print(\"You are \" + i)"
      ]
    },
    {
      "cell_type": "markdown",
      "metadata": {
        "id": "YdxEeXS9eViu"
      },
      "source": [
        "**Also, use the global keyword if you want to change a global variable inside a function.**\n",
        "\n",
        "####**Example**\n",
        "To change the value of a global variable inside a function, refer to the variable by using the global keyword:"
      ]
    },
    {
      "cell_type": "code",
      "execution_count": null,
      "metadata": {
        "colab": {
          "base_uri": "https://localhost:8080/"
        },
        "id": "WW95NsZDecv8",
        "outputId": "6bc8b689-1f5a-4326-ced9-977a256b223f"
      },
      "outputs": [
        {
          "name": "stdout",
          "output_type": "stream",
          "text": [
            "You are fantastic\n"
          ]
        }
      ],
      "source": [
        "x = \"awesome\"\n",
        "\n",
        "def myfunc():\n",
        "  global x\n",
        "  x = \"fantastic\"\n",
        "\n",
        "myfunc()\n",
        "\n",
        "print(\"You are \" + x)"
      ]
    },
    {
      "cell_type": "markdown",
      "metadata": {
        "id": "n_rflbp6eyqi"
      },
      "source": [
        "#**Task 1**\n",
        "Now you have learned a lot about variables, and how to use them in Python.\n",
        "Are you ready for a test?"
      ]
    },
    {
      "cell_type": "code",
      "execution_count": null,
      "metadata": {
        "id": "ZeBoxrJVgeDY"
      },
      "outputs": [],
      "source": [
        "# Exercise\n",
        "#Question 1: Create a variable named carname and assign the value Volvo to it.\n",
        "\n"
      ]
    },
    {
      "cell_type": "code",
      "execution_count": null,
      "metadata": {
        "id": "mNaN0SZNg8e7"
      },
      "outputs": [],
      "source": [
        "# Question 2: Display the sum of 20 + 50, using two variables: x and y.\n",
        " \n"
      ]
    },
    {
      "cell_type": "code",
      "execution_count": null,
      "metadata": {
        "id": "RLE0ijLuhdoP"
      },
      "outputs": [],
      "source": [
        "#Question 3: Remove the illegal characters in the variable name:\n",
        "first_name = \"John\"\n"
      ]
    },
    {
      "cell_type": "code",
      "execution_count": null,
      "metadata": {
        "colab": {
          "base_uri": "https://localhost:8080/"
        },
        "id": "PsuCG1KGe9x9",
        "outputId": "10aa2d77-c095-4b35-def8-96ab6c513421"
      },
      "outputs": [
        {
          "output_type": "stream",
          "name": "stdout",
          "text": [
            "rrr\n",
            "rrr\n"
          ]
        }
      ],
      "source": [
        "#Question 4\n",
        "#i. Create a variable named (n) and assign the value 60 to it.\n",
        "\n",
        "s = str(input())\n",
        "print(s)\n",
        "\n",
        "# ii. Print out all from 0 to n-1\n",
        "# hint you can use the for and range function\n"
      ]
    },
    {
      "cell_type": "markdown",
      "metadata": {
        "id": "S4509mephv8i"
      },
      "source": [
        "#**Python Data Types**\n",
        "Built-in Data Types\n",
        "In programming, data type is an important concept.\n",
        "\n",
        "Variables can store data of different types, and different types can do different things.\n",
        "\n",
        "Python has the following data types built-in by default, in these categories:\n",
        "\n",
        "\n",
        "*   Text Type:\tstr\n",
        "*   Numeric Types:\tint, float, complex\n",
        "*   Sequence Types:\tlist, tuple, range\n",
        "*   Mapping Type:\tdict\n",
        "*   Set Types:\tset, frozenset\n",
        "*   Boolean Type:\tbool\n",
        "*   Binary Types:\tbytes, bytearray, memoryview\n",
        "*   None Type:\tNoneType\n",
        "\n",
        "\n",
        "\n",
        "\n",
        "\n",
        "\n",
        "\n",
        "\n",
        "\n"
      ]
    },
    {
      "cell_type": "markdown",
      "metadata": {
        "id": "VBbU0_oeikhQ"
      },
      "source": [
        "##**Getting the Data Type**\n",
        "You can get the data type of any object by using the type() function:"
      ]
    },
    {
      "cell_type": "code",
      "execution_count": null,
      "metadata": {
        "colab": {
          "base_uri": "https://localhost:8080/"
        },
        "id": "a-nw1-9Ripx6",
        "outputId": "90134ce1-9e77-4ed0-c6b8-4bb7a3683398"
      },
      "outputs": [
        {
          "name": "stdout",
          "output_type": "stream",
          "text": [
            "<class 'float'>\n"
          ]
        }
      ],
      "source": [
        "#Example\n",
        "#Print the data type of the variable x:\n",
        "\n",
        "x = 10.67\n",
        "print(type(x))"
      ]
    },
    {
      "cell_type": "markdown",
      "metadata": {
        "id": "BnKihxiqi7dE"
      },
      "source": [
        "##**Setting the Data Type**\n",
        "In Python, the data type is set when you assign a value to a variable:"
      ]
    },
    {
      "cell_type": "code",
      "execution_count": null,
      "metadata": {
        "id": "BQB0XEbhi--i"
      },
      "outputs": [],
      "source": [
        "# Find the data type of the following variable\n",
        "a = \"Hello World\"\n",
        "b = 20\n",
        "c = 20.5\n",
        "d = 1j\n",
        "e = [\"apple\", \"banana\", \"cherry\"]\n",
        "f = (\"apple\", \"banana\", \"cherry\")\n",
        "g = range(6)\n",
        "h = {\"name\" : \"John\", \"age\" : 36}\n",
        "i = {\"apple\", \"banana\", \"cherry\"}\n",
        "j = frozenset({\"apple\", \"banana\", \"cherry\"})\n",
        "k = True\n",
        "l = b\"Hello\"\n",
        "m = bytearray(5)\n",
        "n = memoryview(bytes(5))\n",
        "o = None"
      ]
    },
    {
      "cell_type": "markdown",
      "metadata": {
        "id": "k7aF3Iu9kN2G"
      },
      "source": [
        "##**Setting the Specific Data Type**\n",
        "If you want to specify the data type, you can use the following constructor functions:"
      ]
    },
    {
      "cell_type": "code",
      "execution_count": null,
      "metadata": {
        "id": "9VH9MCIikQc1"
      },
      "outputs": [],
      "source": [
        "x = str(\"Wow! you are here\")\n",
        "k = list((\"Fred\", \"Kate\", \"Alice\"))"
      ]
    },
    {
      "cell_type": "markdown",
      "metadata": {
        "id": "DD0O060Lkh5k"
      },
      "source": [
        "##**Python Numbers**\n",
        "There are three numeric types in Python:\n",
        "*   int\n",
        "*   float\n",
        "*  complex\n",
        "\n",
        "Variables of numeric types are created when you assign a value to them:"
      ]
    },
    {
      "cell_type": "code",
      "execution_count": null,
      "metadata": {
        "id": "xBIcfFC6kycS"
      },
      "outputs": [],
      "source": [
        "#Example\n",
        "x = 1    # int\n",
        "y = 2.8  # float\n",
        "z = 1j   # complex"
      ]
    },
    {
      "cell_type": "code",
      "execution_count": null,
      "metadata": {
        "id": "dQ1nB5CNk6Pb"
      },
      "outputs": [],
      "source": [
        "#Example\n",
        "print(type(x))\n",
        "print(type(y))\n",
        "print(type(z))"
      ]
    },
    {
      "cell_type": "markdown",
      "metadata": {
        "id": "5ZxvVTKnlTb5"
      },
      "source": [
        "###**Int**\n",
        "Int, or integer, is a whole number, positive or negative, without decimals, of unlimited length.\n",
        "\n",
        "Example\n",
        "Integers:"
      ]
    },
    {
      "cell_type": "code",
      "execution_count": null,
      "metadata": {
        "id": "-wLmPHmNlV3Q"
      },
      "outputs": [],
      "source": [
        "x = 1\n",
        "y = 245384896564786435784\n",
        "z = -6435784\n",
        "\n",
        "print(type(x))\n",
        "print(type(y))\n",
        "print(type(z))"
      ]
    },
    {
      "cell_type": "markdown",
      "metadata": {
        "id": "wI60yUBylkDB"
      },
      "source": [
        "###**Float**\n",
        "Float, or \"floating point number\" is a number, positive or negative, containing one or more decimals.\n",
        "\n",
        "Example\n",
        "Floats:"
      ]
    },
    {
      "cell_type": "code",
      "execution_count": null,
      "metadata": {
        "id": "XJQBCYnvqLqX"
      },
      "outputs": [],
      "source": [
        "x = 1.10\n",
        "y = 1.0\n",
        "z = -35.59\n",
        "\n",
        "print(type(x))\n",
        "print(type(y))\n",
        "print(type(z))"
      ]
    },
    {
      "cell_type": "markdown",
      "metadata": {
        "id": "cIeFP1PZqSBD"
      },
      "source": [
        "**Float can also be scientific numbers with an \"e\" to indicate the power of 10.**"
      ]
    },
    {
      "cell_type": "code",
      "execution_count": null,
      "metadata": {
        "colab": {
          "base_uri": "https://localhost:8080/",
          "height": 38
        },
        "id": "NDFybQXbq1VG",
        "outputId": "c1e397d0-f270-4d1d-be62-1fcdd8f7d644"
      },
      "outputs": [
        {
          "data": {
            "text/html": [
              "<marquee style='width: 30%; color: blue;'><b>Float can also be scientific numbers with an \"e\" to indicate the power of 10.!</b></marquee>\n"
            ],
            "text/plain": [
              "<IPython.core.display.HTML object>"
            ]
          },
          "metadata": {},
          "output_type": "display_data"
        }
      ],
      "source": [
        "%%html\n",
        "<marquee style='width: 30%; color: blue;'><b>Float can also be scientific numbers with an \"e\" to indicate the power of 10.!</b></marquee>"
      ]
    },
    {
      "cell_type": "code",
      "execution_count": null,
      "metadata": {
        "id": "jAH6fT5CqTwR"
      },
      "outputs": [],
      "source": [
        "x = 35e3\n",
        "y = 12E4\n",
        "z = -87.7e100\n",
        "\n",
        "print(type(x))\n",
        "print(type(y))\n",
        "print(type(z))"
      ]
    },
    {
      "cell_type": "markdown",
      "metadata": {
        "id": "OM14qx6drndd"
      },
      "source": [
        "###**Complex**\n",
        "Complex numbers are written with a \"j\" as the imaginary part:\n",
        "\n",
        "Example\n",
        "Complex:"
      ]
    },
    {
      "cell_type": "code",
      "execution_count": null,
      "metadata": {
        "id": "x7O8UwiOrqGL",
        "colab": {
          "base_uri": "https://localhost:8080/"
        },
        "outputId": "c34da0dc-15ac-462d-a8fb-80ef568d96de"
      },
      "outputs": [
        {
          "output_type": "stream",
          "name": "stdout",
          "text": [
            "<class 'complex'>\n",
            "<class 'complex'>\n",
            "<class 'complex'>\n"
          ]
        }
      ],
      "source": [
        "x = 3+5j\n",
        "y = 5j\n",
        "z = -5j\n",
        "\n",
        "print(type(x))\n",
        "print(type(y))\n",
        "print(type(z))"
      ]
    },
    {
      "cell_type": "markdown",
      "metadata": {
        "id": "9C6577bTrwyu"
      },
      "source": [
        "###**Type Conversion**\n",
        "You can convert from one type to another with the int(), float(), and complex() methods:\n",
        "\n",
        "Example\n",
        "Convert from one type to another:"
      ]
    },
    {
      "cell_type": "code",
      "execution_count": null,
      "metadata": {
        "id": "T1DzsTZVrzVr"
      },
      "outputs": [],
      "source": [
        "x = 1    # int\n",
        "y = 2.8  # float\n",
        "z = 1j   # complex\n",
        "\n",
        "#convert from int to float:\n",
        "a = float(x)\n",
        "\n",
        "#convert from float to int:\n",
        "b = int(y)\n",
        "\n",
        "#convert from int to complex:\n",
        "c = complex(x)\n",
        "\n",
        "print(a)\n",
        "print(b)\n",
        "print(c)\n",
        "\n",
        "print(type(a))\n",
        "print(type(b))\n",
        "print(type(c))"
      ]
    },
    {
      "cell_type": "markdown",
      "metadata": {
        "id": "EjGmAEKasA6P"
      },
      "source": [
        "##**Random Number**\n",
        "Python does not have a random() function to make a random number, but Python has a built-in module called random that can be used to make random numbers:"
      ]
    },
    {
      "cell_type": "code",
      "execution_count": null,
      "metadata": {
        "colab": {
          "base_uri": "https://localhost:8080/"
        },
        "id": "E-9NexmCsD0L",
        "outputId": "9da62ab0-d80d-47b3-f8c3-54cae7b9c9a3"
      },
      "outputs": [
        {
          "name": "stdout",
          "output_type": "stream",
          "text": [
            "7\n"
          ]
        }
      ],
      "source": [
        "#Example\n",
        "#Import the random module, and display a random number between 1 and 9:\n",
        "\n",
        "import random\n",
        "\n",
        "print(random.randrange(1, 10))"
      ]
    },
    {
      "cell_type": "code",
      "execution_count": null,
      "metadata": {
        "colab": {
          "base_uri": "https://localhost:8080/"
        },
        "id": "etDIrmwzsYYJ",
        "outputId": "4cf2a12c-4f6a-4fd7-d2f1-978a7fef8ce5"
      },
      "outputs": [
        {
          "name": "stdout",
          "output_type": "stream",
          "text": [
            "0.5714025946899135\n"
          ]
        }
      ],
      "source": [
        "#Example\n",
        "#Set the seed value to 10 and see what happens:\n",
        "\n",
        "random.seed(10)\n",
        "print(random.random())"
      ]
    },
    {
      "cell_type": "code",
      "execution_count": null,
      "metadata": {
        "colab": {
          "base_uri": "https://localhost:8080/"
        },
        "id": "IewbYMu5slVW",
        "outputId": "7bec65b9-a3f0-4739-fc00-a1d511e655f2"
      },
      "outputs": [
        {
          "name": "stdout",
          "output_type": "stream",
          "text": [
            "(3, (2910518045, 2919558713, 592432859, 1634426085, 3924201493, 2436393689, 1577666200, 2922410003, 974169664, 795094350, 229866157, 130904809, 1313496028, 151893204, 3486739395, 1254617844, 3741002464, 4043461294, 940567236, 3349574631, 3489906999, 3261599347, 2403221536, 670872903, 3291149686, 2850655986, 2300538667, 1966995484, 175963536, 924945844, 1168257397, 2243822545, 2476790015, 2148121793, 3534563085, 1634343159, 2195478836, 1940344654, 370949334, 790535762, 1834814106, 4193214965, 3695000399, 2646949069, 1255132785, 3590688196, 3614018245, 1434516408, 1253983818, 2914647727, 2606531973, 2406691187, 1975526356, 189193241, 1108539432, 2680589103, 1694965793, 1270659808, 2973657439, 2369101683, 3184678051, 2395301497, 3818025635, 2083282924, 2495703181, 2124728846, 2038113894, 4244989963, 1156889065, 862609957, 2423551262, 3819059707, 663961624, 1681714007, 956580344, 1691052737, 2131558558, 654187240, 632833144, 3714198047, 567096537, 899554154, 1802427323, 749355744, 2193727072, 814094773, 1966673377, 3483188262, 3304963165, 1367177032, 3891513754, 2505812233, 2020523939, 1985742846, 626704061, 2653107502, 369960010, 286620024, 1371527384, 3694698447, 857611653, 869587454, 2700337194, 2374526720, 49116546, 643099391, 182535168, 3408150791, 1262701388, 2044935380, 66933741, 1206230504, 3689390267, 3730160777, 1209037781, 3887489275, 4160956783, 3262330543, 1378506881, 213395142, 4003002911, 1240622885, 1127976482, 862859126, 951706629, 423108747, 795053686, 963998611, 1732453326, 736754916, 848978347, 3030738943, 3997094088, 3230629491, 2362366182, 380869993, 1437617939, 4032723754, 2655721859, 494454313, 3031980635, 3186607144, 1650607978, 4217776597, 4190195720, 725273803, 4006933892, 2918307247, 2612992595, 3215906428, 2851350426, 138902605, 1697094929, 2328216144, 394484776, 1652463476, 1630639266, 3699042210, 290713434, 3556002357, 1343746095, 1326206488, 655702823, 104936293, 2562826877, 1655598022, 3369850420, 2464204480, 3646132136, 3777599822, 3250707394, 1311671700, 660106068, 2666540169, 3855967181, 3367262877, 3654600570, 4182463737, 2035454178, 3131455025, 3350888983, 2034228846, 3896381437, 553700319, 1513975352, 696913668, 899881025, 2219743994, 1037817141, 1134907302, 393009801, 1982642987, 2425999375, 791671476, 3795955847, 1034404248, 4020367997, 27481502, 1351841369, 2355714421, 2404611283, 479609721, 1112463824, 3928318551, 938984560, 719567750, 110352693, 1639696170, 3186598251, 761292111, 475645688, 2270995138, 728894833, 2926173947, 1320936647, 3383250105, 65720013, 2671014330, 2847387027, 2969121075, 3329352935, 3770288520, 3964206281, 4168182361, 1707359060, 1408257001, 3450715693, 628449203, 610896409, 588905957, 1322830820, 3640462283, 4044750620, 2988164925, 4083824041, 1990129261, 4156233382, 3627401237, 3211010341, 1666616239, 2972480848, 844583042, 44704583, 3282062939, 2321904370, 13127913, 2065944849, 2364468384, 476631061, 3534359369, 1647310850, 266968272, 3454720710, 1795924682, 1820316222, 2507582687, 1496785810, 3992024104, 2288242718, 1335683996, 723170702, 1489652666, 3949068654, 320306710, 4039547071, 1817806802, 3128530084, 1963667656, 2299476734, 2214544820, 256065957, 976636793, 438871982, 3257022782, 3658046347, 1888125657, 3003359985, 3232519787, 2193873780, 2536958314, 612736659, 1757352080, 4126160663, 4208600692, 3357929051, 1349803408, 709797723, 2862193196, 2733865338, 1847917732, 2982838690, 756992610, 416120390, 1772328840, 3511192812, 3639215236, 581323757, 3429866854, 3299034763, 81263526, 2143662131, 3509206122, 1142149236, 2288638797, 2314182509, 3192068459, 2648103877, 31364268, 2871284653, 1933723073, 3554926164, 3163027549, 896467848, 3570120642, 4038118284, 392098617, 1167346532, 1785455384, 2033872205, 1693658308, 2059628508, 2889657430, 2071562487, 4113666792, 3822310955, 3533962258, 1371655696, 1403861461, 421464014, 3959461194, 4149058179, 1086465771, 1015946246, 2621382350, 2000582283, 2881047661, 1627167598, 3039242003, 870964291, 3355521124, 2260981, 1193867314, 1982094414, 3007508121, 2789947772, 167554690, 3028775942, 3246523627, 3674172133, 2758002636, 1559765501, 2027717592, 2915111825, 1190458685, 1058903556, 2432688681, 971451939, 1888620569, 975460118, 1624467345, 136309091, 3997234029, 598318846, 2989382797, 3608316101, 45266846, 1528146332, 1965658838, 3637786198, 2524595919, 4232358541, 1631453446, 1639144870, 4020252532, 3236917143, 1360250576, 2788984411, 3762745571, 3613352771, 3217621372, 301525683, 1343328237, 376601489, 1111565393, 3852204545, 425855701, 3603214514, 336697868, 803277263, 4248673218, 3324796209, 1656738380, 3899708684, 4031041788, 2708835100, 1110160947, 1298501877, 1740735328, 862669803, 3200748959, 1070336453, 1445010694, 780106578, 153499529, 1688823727, 3505867478, 2474839954, 4132413130, 3784848098, 2090083651, 4108657297, 1011350285, 1479116717, 988654479, 1105442054, 380740504, 3203487161, 2643610060, 3322988986, 3221217626, 3592249213, 2779884253, 2044186223, 3076165135, 3806351734, 3060357717, 2863011615, 1169058161, 1113969302, 1045981805, 311464233, 2236176646, 1435805243, 3509008257, 2512719556, 3206195232, 1171330831, 3022981576, 3076049986, 1677146765, 3823183119, 1331676465, 774674370, 2425031589, 3005427466, 3407759373, 3141051671, 3903949247, 3364298405, 1079187575, 3726093522, 2717490088, 3888044370, 1773096918, 123582274, 3938703114, 116639222, 1093335968, 4230241756, 592927768, 1215086274, 990026541, 2309421364, 1242303966, 996591525, 4178510717, 3476836050, 2178247059, 3556310446, 2628742925, 122665979, 1780590194, 2922761788, 1222392510, 631653315, 3959254022, 3653793144, 612798403, 3314303312, 3895051139, 1208878662, 484620038, 3626750088, 3921956316, 3904249617, 3353478870, 249377279, 1753034227, 3565445698, 2095500303, 2480455683, 1292245244, 946291267, 684375320, 104145271, 2913686448, 2225127489, 2472333904, 750174656, 4004286304, 4085497527, 3271252141, 1864494644, 4199917053, 1358886282, 358292498, 2284423264, 797448349, 2293886434, 2336156133, 2389862705, 1443734706, 1644943784, 4261302510, 3324227082, 2865938428, 3042091860, 454590046, 1243572319, 1931670576, 709576968, 1404809709, 434868187, 2115929572, 4209433267, 1742225740, 824328396, 2952650178, 3096666239, 2887532264, 4149344548, 2648994466, 1276043052, 2495228838, 3764729951, 730275817, 4277707459, 1591279516, 312613621, 1748807698, 397249599, 3326824925, 892425536, 1889212692, 1705415062, 2399075847, 2028569480, 2077597603, 559770995, 216133874, 813523529, 1663090043, 1327536309, 1126315189, 3535249660, 1641628170, 348337888, 3109355426, 4058285115, 859672864, 2699711497, 816683043, 2182992420, 1814760603, 3746802868, 3646961272, 3713358315, 492059394, 1300908413, 3272406897, 1809600926, 2628610618, 244337251, 1948103926, 991353850, 543539075, 1534159671, 1747272920, 4028644690, 2570417421, 2025455257, 1249379269, 2357813788, 266006694, 1706446538, 1938738160, 2482161797, 3559851357, 3073890391, 227514435, 152405858, 1227333167, 261909105, 3384151334, 1102033054, 197708743, 1157470553, 478563148, 440882900, 686627002, 357675544, 477440013, 1561143843, 2428402127, 3322010885, 3820876946, 3288851063, 2607677986, 222929805, 4257935406, 3469582068, 3578401122, 3245095917, 1435026106, 1525707182, 1550874090, 3218908085, 1476614429, 1169975610, 1160989991, 1383567367, 4084887544, 2096043608, 2194693540, 2), None)\n"
          ]
        }
      ],
      "source": [
        "#Returns the current internal state of the random number generator\n",
        "print(random.getstate())"
      ]
    },
    {
      "cell_type": "markdown",
      "metadata": {
        "id": "j7sC6gg6s5Xt"
      },
      "source": [
        "[ Random Module Reference](https://www.w3schools.com/python/module_random.asp)"
      ]
    },
    {
      "cell_type": "markdown",
      "metadata": {
        "id": "YJ8kDwbPtQ9V"
      },
      "source": [
        "Specify a Variable Type\n",
        "There may be times when you want to specify a type on to a variable. This can be done with casting. Python is an object-orientated language, and as such it uses classes to define data types, including its primitive types.\n",
        "\n",
        "Casting in python is therefore done using constructor functions:\n",
        "\n",
        "*   **int()** - constructs an integer number from an integer literal, a float literal (by removing all decimals), or a string literal (providing the string represents a whole number)\n",
        "* **float()** - constructs a float number from an integer literal, a float literal or a string literal (providing the string represents a float or an integer)\n",
        "* **str()** - constructs a string from a wide variety of data types, including strings, integer literals and float literals"
      ]
    },
    {
      "cell_type": "code",
      "execution_count": null,
      "metadata": {
        "id": "EOX3Iok9tna_"
      },
      "outputs": [],
      "source": [
        "x = int(1)   # x will be 1\n",
        "y = int(2.8) # y will be 2\n",
        "z = int(\"3\") # z will be 3"
      ]
    },
    {
      "cell_type": "code",
      "execution_count": null,
      "metadata": {
        "id": "eDzxZcJlttLE"
      },
      "outputs": [],
      "source": [
        "x = float(1)     # x will be 1.0\n",
        "y = float(2.8)   # y will be 2.8\n",
        "z = float(\"3\")   # z will be 3.0\n",
        "w = float(\"4.2\") # w will be 4.2"
      ]
    },
    {
      "cell_type": "code",
      "execution_count": null,
      "metadata": {
        "id": "80o57BOhtxHS"
      },
      "outputs": [],
      "source": [
        "x = str(\"s1\") # x will be 's1'\n",
        "y = str(2)    # y will be '2'\n",
        "z = str(3.0)  # z will be '3.0'"
      ]
    },
    {
      "cell_type": "markdown",
      "metadata": {
        "id": "_cWb-OfDt2tT"
      },
      "source": [
        "##**Strings**\n",
        "Strings in python are surrounded by either single quotation marks, or double quotation marks.\n",
        "'hello' is the same as \"hello\".\n",
        "You can display a string literal with the print() function:"
      ]
    },
    {
      "cell_type": "code",
      "execution_count": null,
      "metadata": {
        "id": "9Qr4hmgEt9On"
      },
      "outputs": [],
      "source": [
        "print(\"I appreciate you coming to class\")\n",
        "print('I appreciate you coming to class')"
      ]
    },
    {
      "cell_type": "markdown",
      "metadata": {
        "id": "Tv-iK0gcuOiS"
      },
      "source": [
        "###**Assign String to a Variable**\n",
        "Assigning a string to a variable is done with the variable name followed by an equal sign and the string:"
      ]
    },
    {
      "cell_type": "code",
      "execution_count": null,
      "metadata": {
        "id": "QoWSkSHauQ68"
      },
      "outputs": [],
      "source": [
        "a = \"Hello\"\n",
        "print(a)"
      ]
    },
    {
      "cell_type": "markdown",
      "metadata": {
        "id": "_1PaaiVHuXrT"
      },
      "source": [
        "###**Multiline Strings**\n",
        "You can assign a multiline string to a variable by using three quotes:\n",
        "\n",
        "###**Example**\n",
        "You can use three double quotes:"
      ]
    },
    {
      "cell_type": "code",
      "execution_count": null,
      "metadata": {
        "colab": {
          "base_uri": "https://localhost:8080/"
        },
        "id": "V7AdPQEdudzK",
        "outputId": "5f52095f-85ea-41b2-dede-13d85f9ffbb7"
      },
      "outputs": [
        {
          "name": "stdout",
          "output_type": "stream",
          "text": [
            "This course will introduce you to data science techniques, \n",
            "i.e., processing and interpreting data. You will use available program libraries/packages, \n",
            "applied data science methods, and software tools to describe data, discover hidden patterns or \n",
            "identify anomalies in data with a particular interest in IT data generated in modern computer networks.\n"
          ]
        }
      ],
      "source": [
        "a = \"\"\"This course will introduce you to data science techniques, \n",
        "i.e., processing and interpreting data. You will use available program libraries/packages, \n",
        "applied data science methods, and software tools to describe data, discover hidden patterns or \n",
        "identify anomalies in data with a particular interest in IT data generated in modern computer networks.\"\"\"\n",
        "print(a)"
      ]
    },
    {
      "cell_type": "code",
      "execution_count": null,
      "metadata": {
        "colab": {
          "base_uri": "https://localhost:8080/"
        },
        "id": "JavKyj0Ku0mO",
        "outputId": "76db96da-dcb1-4394-ca47-0b370b2ebefb"
      },
      "outputs": [
        {
          "name": "stdout",
          "output_type": "stream",
          "text": [
            "This course will introduce you to data science techniques, \n",
            "i.e., processing and interpreting data. You will use available program libraries/packages, \n",
            "applied data science methods, and software tools to describe data, discover hidden patterns or \n",
            "identify anomalies in data with a particular interest in IT data generated in modern computer networks.\n"
          ]
        }
      ],
      "source": [
        "#Or three single quotes:\n",
        "a = '''This course will introduce you to data science techniques, \n",
        "i.e., processing and interpreting data. You will use available program libraries/packages, \n",
        "applied data science methods, and software tools to describe data, discover hidden patterns or \n",
        "identify anomalies in data with a particular interest in IT data generated in modern computer networks.'''\n",
        "print(a)"
      ]
    },
    {
      "cell_type": "markdown",
      "metadata": {
        "id": "FuNWAK_RvAGH"
      },
      "source": [
        "###**Strings are Arrays**\n",
        "Like many other popular programming languages, strings in Python are arrays of bytes representing unicode characters.\n",
        "However, Python does not have a character data type, a single character is simply a string with a length of 1.\n",
        "Square brackets can be used to access elements of the string."
      ]
    },
    {
      "cell_type": "code",
      "execution_count": null,
      "metadata": {
        "colab": {
          "base_uri": "https://localhost:8080/"
        },
        "id": "kV0A0OxsvDXq",
        "outputId": "3348ce31-b678-49b6-f95f-ddc51f7c7ef6"
      },
      "outputs": [
        {
          "name": "stdout",
          "output_type": "stream",
          "text": [
            "h\n"
          ]
        }
      ],
      "source": [
        "#Get the character at position 1 (remember that the first character has the position 0):\n",
        "\n",
        "a = \"Thank you for coming to class!\"\n",
        "print(a[1])"
      ]
    },
    {
      "cell_type": "markdown",
      "metadata": {
        "id": "PlTxZn0Uvdx7"
      },
      "source": [
        "###**Looping Through a String**\n",
        "Since strings are arrays, we can loop through the characters in a string, with a for loop"
      ]
    },
    {
      "cell_type": "code",
      "execution_count": null,
      "metadata": {
        "colab": {
          "base_uri": "https://localhost:8080/"
        },
        "id": "JHbyJpSmvf9F",
        "outputId": "46e670c1-9509-469f-9a3e-bd60148b7e36"
      },
      "outputs": [
        {
          "name": "stdout",
          "output_type": "stream",
          "text": [
            "D\n",
            "a\n",
            "t\n",
            "a\n",
            " \n",
            "S\n",
            "c\n",
            "i\n",
            "e\n",
            "n\n",
            "c\n",
            "e\n",
            " \n",
            "a\n",
            "n\n",
            "d\n",
            " \n",
            "M\n",
            "a\n",
            "c\n",
            "h\n",
            "i\n",
            "n\n",
            "e\n",
            " \n",
            "L\n",
            "e\n",
            "a\n",
            "r\n",
            "n\n",
            "i\n",
            "n\n",
            "g\n"
          ]
        }
      ],
      "source": [
        "#Loop through the letters in the word \"banana\":\n",
        "\n",
        "for x in \"Data Science and Machine Learning\":\n",
        "  print(x)"
      ]
    },
    {
      "cell_type": "markdown",
      "metadata": {
        "id": "o_fyjimhvxaf"
      },
      "source": [
        "###**String Length**\n",
        "To get the length of a string, use the len() function."
      ]
    },
    {
      "cell_type": "code",
      "execution_count": null,
      "metadata": {
        "colab": {
          "base_uri": "https://localhost:8080/"
        },
        "id": "Vbw2GfoNv2mq",
        "outputId": "fcd8db2a-c37f-432b-a759-ea3157e6c6bf"
      },
      "outputs": [
        {
          "name": "stdout",
          "output_type": "stream",
          "text": [
            "34\n"
          ]
        }
      ],
      "source": [
        "#The len() function returns the length of a string:\n",
        "\n",
        "a = \"Data Science and Machine Learning!\"\n",
        "print(len(a))"
      ]
    },
    {
      "cell_type": "markdown",
      "metadata": {
        "id": "i-a6JMeDv_W2"
      },
      "source": [
        "###**Check String**\n",
        "To check if a certain phrase or character is present in a string, we can use the keyword in."
      ]
    },
    {
      "cell_type": "code",
      "execution_count": null,
      "metadata": {
        "colab": {
          "base_uri": "https://localhost:8080/"
        },
        "id": "14NCxyIbwCHv",
        "outputId": "68f68ef2-21f0-4467-9d9a-d15e01111b08"
      },
      "outputs": [
        {
          "name": "stdout",
          "output_type": "stream",
          "text": [
            "True\n"
          ]
        }
      ],
      "source": [
        "#Check if \"and\" is present in the following text:\n",
        "\n",
        "mytxt = \"Data Science and Machine Learning!!\"\n",
        "print(\"and\" in mytxt)"
      ]
    },
    {
      "cell_type": "markdown",
      "metadata": {
        "id": "EV3XdP0vwXOJ"
      },
      "source": [
        "**Use it in an if statement:**"
      ]
    },
    {
      "cell_type": "code",
      "execution_count": null,
      "metadata": {
        "colab": {
          "base_uri": "https://localhost:8080/"
        },
        "id": "m0U7rHX1xm94",
        "outputId": "7707c0e9-77dd-4a18-ec38-10bf95435bd3"
      },
      "outputs": [
        {
          "name": "stdout",
          "output_type": "stream",
          "text": [
            "Yes, 'and' is present.\n"
          ]
        }
      ],
      "source": [
        "#Print only if \"free\" is present:\n",
        "\n",
        "mytxt = \"Data Science and Machine Learning!!\"\n",
        "if \"and\" in mytxt:\n",
        "  print(\"Yes, 'and' is present.\")"
      ]
    },
    {
      "cell_type": "markdown",
      "metadata": {
        "id": "CdY3PD3Zx3lu"
      },
      "source": [
        "###**Check if NOT**\n",
        "To check if a certain phrase or character is NOT present in a string, we can use the keyword not in.\n",
        "####**Example**\n",
        "Check if \"expensive\" is NOT present in the following text:"
      ]
    },
    {
      "cell_type": "code",
      "execution_count": null,
      "metadata": {
        "colab": {
          "base_uri": "https://localhost:8080/"
        },
        "id": "yi84pLg-x-uE",
        "outputId": "155efa56-df88-4165-92d1-d8d8a8370638"
      },
      "outputs": [
        {
          "name": "stdout",
          "output_type": "stream",
          "text": [
            "True\n"
          ]
        }
      ],
      "source": [
        "mytxt = \"Data Science and Machine Learning!\"\n",
        "print(\"SoIT\" not in mytxt)"
      ]
    },
    {
      "cell_type": "code",
      "execution_count": null,
      "metadata": {
        "id": "k8C8qv4myNa2"
      },
      "outputs": [],
      "source": [
        "#Use it in an if statement:\n",
        "#print only if \"expensive\" is NOT present:\n",
        "mytxt = \"Data Science and Machine Learning!\"\n",
        "if \"expensive\" not in mytxt:\n",
        "  print(\"No, 'expensive' is NOT present.\")"
      ]
    },
    {
      "cell_type": "markdown",
      "metadata": {
        "id": "qD4S3E3-yogq"
      },
      "source": [
        "###**Slicing Strings**\n",
        "You can return a range of characters by using the slice syntax.\n",
        "Specify the start index and the end index, separated by a colon, to return a part of the string.\n",
        "####**Example**\n",
        "Get the characters from position 2 to position 5 (not included):"
      ]
    },
    {
      "cell_type": "code",
      "execution_count": null,
      "metadata": {
        "colab": {
          "base_uri": "https://localhost:8080/"
        },
        "id": "r3TTEndjyzls",
        "outputId": "da1f123a-250c-4260-b315-7c5316310562"
      },
      "outputs": [
        {
          "name": "stdout",
          "output_type": "stream",
          "text": [
            "for\n"
          ]
        }
      ],
      "source": [
        "mytxt = \"Information Technology!\"\n",
        "print(mytxt[2:5])\n",
        "#Note: The first character has index 0."
      ]
    },
    {
      "cell_type": "code",
      "execution_count": null,
      "metadata": {
        "colab": {
          "base_uri": "https://localhost:8080/"
        },
        "id": "CxIrAdS-zfbu",
        "outputId": "29f4ae34-8fd1-4d85-9152-e8a5b4685734"
      },
      "outputs": [
        {
          "name": "stdout",
          "output_type": "stream",
          "text": [
            "Infor\n"
          ]
        }
      ],
      "source": [
        "#Slice From the Start\n",
        "#By leaving out the start index, the range will start at the first character:\n",
        "#Get the characters from the start to position 5 (not included):\n",
        "print(mytxt[:5])"
      ]
    },
    {
      "cell_type": "code",
      "execution_count": null,
      "metadata": {
        "colab": {
          "base_uri": "https://localhost:8080/"
        },
        "id": "wUo1OuLvz45W",
        "outputId": "f25ae8bd-28e7-4d98-af0f-779a883db277"
      },
      "outputs": [
        {
          "name": "stdout",
          "output_type": "stream",
          "text": [
            "formation Technology!\n"
          ]
        }
      ],
      "source": [
        "#Slice To the End\n",
        "#By leaving out the end index, the range will go to the end:\n",
        "#Get the characters from position 2, and all the way to the end:\n",
        "print(mytxt[2:])"
      ]
    },
    {
      "cell_type": "markdown",
      "metadata": {
        "id": "esd3Uxd00TJQ"
      },
      "source": [
        "###**Negative Indexing**\n",
        "Use negative indexes to start the slice from the end of the string:\n",
        "####**Example**\n",
        "Get the characters:\n",
        "From: \"l\" in \"Technology!\" (position -5)\n",
        "To, but not included: \"d\" in \"Technology!\" (position -2):\n",
        "#####**Note:** \n",
        "it start from -0 = !, -1 = y, -2 = g, -3 = o, -4 = l"
      ]
    },
    {
      "cell_type": "code",
      "execution_count": null,
      "metadata": {
        "colab": {
          "base_uri": "https://localhost:8080/"
        },
        "id": "zer58KNs0gkx",
        "outputId": "9c4d1ff4-923c-4d0e-ae77-91844b6399f7"
      },
      "outputs": [
        {
          "name": "stdout",
          "output_type": "stream",
          "text": [
            "log\n"
          ]
        }
      ],
      "source": [
        "mytxt = \"Information Technology!\"\n",
        "print(mytxt[-5:-2])"
      ]
    },
    {
      "cell_type": "markdown",
      "metadata": {
        "id": "jkDGk-v02nxt"
      },
      "source": [
        "###**Modify Strings**\n",
        "Python has a set of built-in methods that you can use on strings.\n",
        "\n",
        "####**Upper Case**\n",
        "\n",
        "#####**Example**\n",
        "The upper() method returns the string in upper case:"
      ]
    },
    {
      "cell_type": "code",
      "execution_count": null,
      "metadata": {
        "colab": {
          "base_uri": "https://localhost:8080/"
        },
        "id": "-FFUWaew2z3W",
        "outputId": "d77b5f07-2c50-491b-c867-b9692d399557"
      },
      "outputs": [
        {
          "name": "stdout",
          "output_type": "stream",
          "text": [
            "INFORMATION TECHNOLOGY!\n"
          ]
        }
      ],
      "source": [
        "print(mytxt.upper())"
      ]
    },
    {
      "cell_type": "code",
      "execution_count": null,
      "metadata": {
        "colab": {
          "base_uri": "https://localhost:8080/"
        },
        "id": "fbIYlJra28by",
        "outputId": "f19ddd41-cf78-4e60-9a59-46bf26ef45e6"
      },
      "outputs": [
        {
          "name": "stdout",
          "output_type": "stream",
          "text": [
            "information technology!\n"
          ]
        }
      ],
      "source": [
        "#The lower() method returns the string in lower case:\n",
        "print(mytxt.lower())"
      ]
    },
    {
      "cell_type": "markdown",
      "metadata": {
        "id": "miNKUewN3GC9"
      },
      "source": [
        "###**Remove Whitespace**\n",
        "Whitespace is the space before and/or after the actual text, and very often you want to remove this space.\n",
        "\n",
        "####**Example**\n",
        "The strip() method removes any whitespace from the beginning or the end:"
      ]
    },
    {
      "cell_type": "code",
      "execution_count": null,
      "metadata": {
        "colab": {
          "base_uri": "https://localhost:8080/"
        },
        "id": "8r-v5Ezg3MZR",
        "outputId": "74c821ee-279f-4731-fee8-997e9d019639"
      },
      "outputs": [
        {
          "name": "stdout",
          "output_type": "stream",
          "text": [
            "Information technology!\n"
          ]
        }
      ],
      "source": [
        "mytxt = \"  Information technology! \"\n",
        "print(mytxt.strip()) # returns \"Information technology!\""
      ]
    },
    {
      "cell_type": "markdown",
      "metadata": {
        "id": "vHNQi3AH3c39"
      },
      "source": [
        "### Replace String\n",
        "Example\n",
        "The replace() method replaces a string with another string:"
      ]
    },
    {
      "cell_type": "code",
      "execution_count": null,
      "metadata": {
        "colab": {
          "base_uri": "https://localhost:8080/"
        },
        "id": "g0INFqkx3jAt",
        "outputId": "375d5291-907b-409f-ea23-2b00edbcaa71"
      },
      "outputs": [
        {
          "name": "stdout",
          "output_type": "stream",
          "text": [
            "Information technoloJy!\n"
          ]
        }
      ],
      "source": [
        "mytxt = \"Information technology!\"\n",
        "print(mytxt.replace(\"g\", \"J\"))"
      ]
    },
    {
      "cell_type": "markdown",
      "metadata": {
        "id": "DGKZ7xsq30Hc"
      },
      "source": [
        "###**Split String**\n",
        "The split() method returns a list where the text between the specified separator becomes the list items.\n",
        "\n",
        "**[Read More on String Methods Reference](https://www.w3schools.com/python/python_ref_string.asp)**"
      ]
    },
    {
      "cell_type": "code",
      "execution_count": null,
      "metadata": {
        "colab": {
          "base_uri": "https://localhost:8080/"
        },
        "id": "iTmfs2PG3yV3",
        "outputId": "caa54b20-f431-4765-f148-56961313a77a"
      },
      "outputs": [
        {
          "name": "stdout",
          "output_type": "stream",
          "text": [
            "['Information technology!']\n"
          ]
        }
      ],
      "source": [
        "#The split() method splits the string into substrings if it finds instances of the separator:\n",
        "mytxt = \"Information technology!\"\n",
        "print(mytxt.split(\",\")) # returns ['Information technology!']"
      ]
    },
    {
      "cell_type": "markdown",
      "metadata": {
        "id": "L8YYbLh04mwm"
      },
      "source": [
        "###**String Concatenation**\n",
        "To concatenate, or combine, two strings you can use the + operator.\n",
        "\n",
        "####**Example**\n",
        "Merge variable a with variable b into variable c:"
      ]
    },
    {
      "cell_type": "code",
      "execution_count": null,
      "metadata": {
        "colab": {
          "base_uri": "https://localhost:8080/"
        },
        "id": "ErLSAyf_4wil",
        "outputId": "2e334992-f737-49cb-9f3b-5815769814ea"
      },
      "outputs": [
        {
          "name": "stdout",
          "output_type": "stream",
          "text": [
            "I am praud to be part of the MSc Information Technologyclass of SoIT\n"
          ]
        }
      ],
      "source": [
        "a = \"I am praud to be part of the \"\n",
        "b = \"MSc Information Technology\"\n",
        "c = \"class of SoIT\"\n",
        "d = a + b + c\n",
        "print(d)"
      ]
    },
    {
      "cell_type": "code",
      "execution_count": null,
      "metadata": {
        "id": "OYoeQe4L5QiI"
      },
      "outputs": [],
      "source": [
        "#To add a space between them, add a \" \":\n",
        "\n",
        "a = \"Information\"\n",
        "b = \"Technology\"\n",
        "c = a + \" \" + b\n",
        "print(c)"
      ]
    },
    {
      "cell_type": "markdown",
      "metadata": {
        "id": "uo6e_8D-5e1S"
      },
      "source": [
        "###**Format - Strings**\n",
        "As we learned in the Python Variables chapter, we cannot combine strings and numbers like this:"
      ]
    },
    {
      "cell_type": "code",
      "execution_count": null,
      "metadata": {
        "colab": {
          "base_uri": "https://localhost:8080/",
          "height": 201
        },
        "id": "9hj7P3oP5ls0",
        "outputId": "066e1a29-ba91-4a9f-87a9-e88feebb8f02"
      },
      "outputs": [
        {
          "ename": "TypeError",
          "evalue": "ignored",
          "output_type": "error",
          "traceback": [
            "\u001b[0;31m---------------------------------------------------------------------------\u001b[0m",
            "\u001b[0;31mTypeError\u001b[0m                                 Traceback (most recent call last)",
            "\u001b[0;32m<ipython-input-59-4d1b227cff41>\u001b[0m in \u001b[0;36m<module>\u001b[0;34m\u001b[0m\n\u001b[1;32m      1\u001b[0m \u001b[0mage\u001b[0m \u001b[0;34m=\u001b[0m \u001b[0;36m36\u001b[0m\u001b[0;34m\u001b[0m\u001b[0;34m\u001b[0m\u001b[0m\n\u001b[0;32m----> 2\u001b[0;31m \u001b[0mtxt\u001b[0m \u001b[0;34m=\u001b[0m \u001b[0;34m\"My name is John, I am \"\u001b[0m \u001b[0;34m+\u001b[0m \u001b[0mage\u001b[0m\u001b[0;34m\u001b[0m\u001b[0;34m\u001b[0m\u001b[0m\n\u001b[0m\u001b[1;32m      3\u001b[0m \u001b[0mprint\u001b[0m\u001b[0;34m(\u001b[0m\u001b[0mtxt\u001b[0m\u001b[0;34m)\u001b[0m\u001b[0;34m\u001b[0m\u001b[0;34m\u001b[0m\u001b[0m\n",
            "\u001b[0;31mTypeError\u001b[0m: can only concatenate str (not \"int\") to str"
          ]
        }
      ],
      "source": [
        "age = 36\n",
        "mytxt = \"My name is Kofi, I am \" + age\n",
        "print(mytxt)"
      ]
    },
    {
      "cell_type": "markdown",
      "metadata": {
        "id": "30l2-6845x66"
      },
      "source": [
        "But we can combine strings and numbers by using the format() method!\n",
        "\n",
        "The format() method takes the passed arguments, formats them, and places them in the string where the placeholders {} are:"
      ]
    },
    {
      "cell_type": "code",
      "execution_count": null,
      "metadata": {
        "colab": {
          "base_uri": "https://localhost:8080/"
        },
        "id": "tbrlBZ605zf0",
        "outputId": "35c4e29f-c889-4ca6-8daf-92c07790f094"
      },
      "outputs": [
        {
          "name": "stdout",
          "output_type": "stream",
          "text": [
            "My name is Kofi, and I am 19\n"
          ]
        }
      ],
      "source": [
        "#Use the format() method to insert numbers into strings:\n",
        "\n",
        "age = 19\n",
        "mytxt = \"My name is Kofi, and I am {}\"\n",
        "print(mytxt.format(age))"
      ]
    },
    {
      "cell_type": "markdown",
      "metadata": {
        "id": "6sNMMzZt6HmO"
      },
      "source": [
        "**Note:** The format() method takes unlimited number of arguments, and are placed into the respective placeholders:"
      ]
    },
    {
      "cell_type": "code",
      "execution_count": null,
      "metadata": {
        "colab": {
          "base_uri": "https://localhost:8080/"
        },
        "id": "5CEtXsga6LvE",
        "outputId": "21e7343e-c544-44d9-cec2-1c05eb71c2bc"
      },
      "outputs": [
        {
          "name": "stdout",
          "output_type": "stream",
          "text": [
            "I want 3 pieces of item 567 for 49.95 dollars.\n"
          ]
        }
      ],
      "source": [
        "quantity = 3\n",
        "itemno = 567\n",
        "price = 49.95\n",
        "myorder = \"I want {} pieces of item {} for {} dollars.\"\n",
        "print(myorder.format(quantity, itemno, price))"
      ]
    },
    {
      "cell_type": "markdown",
      "metadata": {
        "id": "FHti2hs46V-W"
      },
      "source": [
        "**You can use index numbers {0} to be sure the arguments are placed in the correct placeholders:**"
      ]
    },
    {
      "cell_type": "code",
      "execution_count": null,
      "metadata": {
        "colab": {
          "base_uri": "https://localhost:8080/"
        },
        "id": "IyckX2BW6Xyb",
        "outputId": "a11b2eaa-dd10-4b18-b6f4-8075dd880c30"
      },
      "outputs": [
        {
          "name": "stdout",
          "output_type": "stream",
          "text": [
            "I want to pay 49.95 dollars for 3 pieces of item 567.\n"
          ]
        }
      ],
      "source": [
        "quantity = 3\n",
        "itemno = 567\n",
        "price = 49.95\n",
        "myorder = \"I want to pay {2} dollars for {0} pieces of item {1}.\"\n",
        "print(myorder.format(quantity, itemno, price))"
      ]
    },
    {
      "cell_type": "markdown",
      "metadata": {
        "id": "GPKtSPQE6j2L"
      },
      "source": [
        "**You can also use named indexes by entering a name inside the curly brackets {carname}, but then you must use names when you pass the parameter values txt.format(carname = \"BMW\"):**"
      ]
    },
    {
      "cell_type": "code",
      "execution_count": null,
      "metadata": {
        "colab": {
          "base_uri": "https://localhost:8080/"
        },
        "id": "mOSIXjeQ6mF_",
        "outputId": "a90e749b-238a-4c3b-9d26-93c560782eec"
      },
      "outputs": [
        {
          "name": "stdout",
          "output_type": "stream",
          "text": [
            "I have a BMW, it is a 2023 BMW X7.\n"
          ]
        }
      ],
      "source": [
        "myorder = \"I have a {carname}, it is a {model}.\"\n",
        "print(myorder.format(carname = \"BMW\", model = \"2023 BMW X7\"))"
      ]
    },
    {
      "cell_type": "markdown",
      "metadata": {
        "id": "prVaATxe7UID"
      },
      "source": [
        "###**Escape Characters**\n",
        "To insert characters that are illegal in a string, use an escape character.\n",
        "\n",
        "An escape character is a backslash \\ followed by the character you want to insert.\n",
        "\n",
        "An example of an illegal character is a double quote inside a string that is surrounded by double quotes:"
      ]
    },
    {
      "cell_type": "code",
      "execution_count": null,
      "metadata": {
        "id": "fJh5Lea_7eQp"
      },
      "outputs": [],
      "source": [
        "#You will get an error if you use double quotes inside a string that is surrounded by double quotes:\n",
        "\n",
        "mytxt = \"We are the so-called \"Vikings\" from the north.\""
      ]
    },
    {
      "cell_type": "code",
      "execution_count": null,
      "metadata": {
        "id": "32fpInM77nbG"
      },
      "outputs": [],
      "source": [
        "#To fix this problem, use the escape character \\\":\n",
        "#The escape character allows you to use double quotes when you normally would not be allowed:\n",
        "\n",
        "mytxt = \"We are the so-called \\\"Vikings\\\" from the north.\"\n"
      ]
    },
    {
      "cell_type": "markdown",
      "metadata": {
        "id": "m0wjwvuP75Ol"
      },
      "source": [
        "![image.png](data:image/png;base64,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)"
      ]
    },
    {
      "cell_type": "markdown",
      "metadata": {
        "id": "fjxtE8dtBRLo"
      },
      "source": [
        "[**String Methods**](https://www.w3schools.com/python/python_strings_methods.asp)"
      ]
    },
    {
      "cell_type": "markdown",
      "metadata": {
        "id": "HyK5M5zO97DS"
      },
      "source": [
        "#**Python Booleans**\n",
        "\n",
        "Booleans represent one of two values: True or False.\n",
        "\n",
        "Boolean Values\n",
        "In programming you often need to know if an expression is True or False.\n",
        "\n",
        "You can evaluate any expression in Python, and get one of two answers, True or False.\n",
        "\n",
        "When you compare two values, the expression is evaluated and Python returns the Boolean answer:"
      ]
    },
    {
      "cell_type": "code",
      "execution_count": null,
      "metadata": {
        "colab": {
          "base_uri": "https://localhost:8080/"
        },
        "id": "fhVKJgj8-NwE",
        "outputId": "b5b034ce-10be-4c88-ec3b-8145c47c4be0"
      },
      "outputs": [
        {
          "name": "stdout",
          "output_type": "stream",
          "text": [
            "True\n",
            "False\n",
            "False\n"
          ]
        }
      ],
      "source": [
        "#Example\n",
        "print(19 > 10)\n",
        "print(19 == 10)\n",
        "print(19 < 10)\n",
        "#When you run a condition in an if statement, Python returns True or False:"
      ]
    },
    {
      "cell_type": "code",
      "execution_count": null,
      "metadata": {
        "colab": {
          "base_uri": "https://localhost:8080/"
        },
        "id": "yePT7N1F-cNv",
        "outputId": "cc570f39-20ae-4b4b-9bdf-591197084881"
      },
      "outputs": [
        {
          "name": "stdout",
          "output_type": "stream",
          "text": [
            "b is lesser than a\n"
          ]
        }
      ],
      "source": [
        "#Example\n",
        "#Print a message based on whether the condition is True or False:\n",
        "\n",
        "a = 50\n",
        "b = 3\n",
        "\n",
        "if b > a:\n",
        "  print(\"b is greater than a\")\n",
        "else:\n",
        "  print(\"b is lesser than a\")"
      ]
    },
    {
      "cell_type": "markdown",
      "metadata": {
        "id": "RkKK0UI3-wiX"
      },
      "source": [
        "##**Evaluate Values and Variables**\n",
        "The bool() function allows you to evaluate any value, and give you True or False in return,"
      ]
    },
    {
      "cell_type": "code",
      "execution_count": null,
      "metadata": {
        "colab": {
          "base_uri": "https://localhost:8080/"
        },
        "id": "8AojzMVv-y63",
        "outputId": "7e0f5b75-e026-467f-f9e9-fa3cc6640ff6"
      },
      "outputs": [
        {
          "name": "stdout",
          "output_type": "stream",
          "text": [
            "True\n",
            "True\n"
          ]
        }
      ],
      "source": [
        "#Example\n",
        "#Evaluate a string and a number:\n",
        "\n",
        "print(bool(\"Data Science\"))\n",
        "print(bool(15))"
      ]
    },
    {
      "cell_type": "code",
      "execution_count": null,
      "metadata": {
        "colab": {
          "base_uri": "https://localhost:8080/"
        },
        "id": "iKu2EJCu_B7x",
        "outputId": "d60b4bef-b43c-4745-865e-11519bb926c4"
      },
      "outputs": [
        {
          "name": "stdout",
          "output_type": "stream",
          "text": [
            "True\n",
            "True\n"
          ]
        }
      ],
      "source": [
        "#Example\n",
        "#Evaluate two variables:\n",
        "\n",
        "x = \"Data Science\"\n",
        "y = 15\n",
        "\n",
        "print(bool(x))\n",
        "print(bool(y))"
      ]
    },
    {
      "cell_type": "markdown",
      "metadata": {
        "id": "1riekMPb_K-Y"
      },
      "source": [
        "##**Most Values are True**\n",
        "Almost any value is evaluated to True if it has some sort of content.\n",
        "\n",
        "Any string is True, except empty strings.\n",
        "\n",
        "Any number is True, except 0.\n",
        "\n",
        "Any list, tuple, set, and dictionary are True, except empty ones."
      ]
    },
    {
      "cell_type": "code",
      "execution_count": null,
      "metadata": {
        "colab": {
          "base_uri": "https://localhost:8080/"
        },
        "id": "ezAt7VwD_OlP",
        "outputId": "1da76a3c-9243-4b59-f5e9-2752abdc6e29"
      },
      "outputs": [
        {
          "data": {
            "text/plain": [
              "True"
            ]
          },
          "execution_count": 7,
          "metadata": {},
          "output_type": "execute_result"
        }
      ],
      "source": [
        "#Example\n",
        "#The following will return True:\n",
        "\n",
        "bool(\"abc\")\n",
        "bool(123)\n",
        "bool([\"apple\", \"cherry\", \"banana\"])"
      ]
    },
    {
      "cell_type": "markdown",
      "metadata": {
        "id": "hFt0Dtp8_hwI"
      },
      "source": [
        "##**Some Values are False**\n",
        "In fact, there are not many values that evaluate to False, except empty values, such as (), [], {}, \"\", the number 0, and the value None. And of course the value False evaluates to False."
      ]
    },
    {
      "cell_type": "code",
      "execution_count": null,
      "metadata": {
        "colab": {
          "base_uri": "https://localhost:8080/"
        },
        "id": "ZrZGQD-P_kec",
        "outputId": "0be658af-1873-4b6a-8efe-79888e07f406"
      },
      "outputs": [
        {
          "data": {
            "text/plain": [
              "False"
            ]
          },
          "execution_count": 8,
          "metadata": {},
          "output_type": "execute_result"
        }
      ],
      "source": [
        "#Example\n",
        "#The following will return False:\n",
        "\n",
        "bool(False)\n",
        "bool(None)\n",
        "bool(0)\n",
        "bool(\"\")\n",
        "bool(())\n",
        "bool([])\n",
        "bool({})"
      ]
    },
    {
      "cell_type": "markdown",
      "metadata": {
        "id": "5SWQ2srd_wNQ"
      },
      "source": [
        "One more value, or object in this case, evaluates to False, and that is if you have an object that is made from a class with a __len__ function that returns 0 or False:"
      ]
    },
    {
      "cell_type": "code",
      "execution_count": null,
      "metadata": {
        "colab": {
          "base_uri": "https://localhost:8080/"
        },
        "id": "xVmowrp0_yAn",
        "outputId": "7f0a8ee6-8bdc-4f0f-9464-94365fc04af7"
      },
      "outputs": [
        {
          "name": "stdout",
          "output_type": "stream",
          "text": [
            "True\n"
          ]
        }
      ],
      "source": [
        "#Example\n",
        "class myclass():\n",
        "  def Mylen (self):\n",
        "    return 0\n",
        "\n",
        "myobject = myclass()\n",
        "print(bool(myobject))"
      ]
    },
    {
      "cell_type": "markdown",
      "metadata": {
        "id": "y3zXpbOZAIvv"
      },
      "source": [
        "##**Functions can Return a Boolean**\n",
        "You can create functions that returns a Boolean Value:\n",
        "\n",
        "Example\n",
        "Print the answer of a function:"
      ]
    },
    {
      "cell_type": "code",
      "execution_count": null,
      "metadata": {
        "colab": {
          "base_uri": "https://localhost:8080/"
        },
        "id": "QwBtF0pQAKyg",
        "outputId": "61570e39-c0f7-4b12-966a-4fc7b9b26866"
      },
      "outputs": [
        {
          "name": "stdout",
          "output_type": "stream",
          "text": [
            "True\n"
          ]
        }
      ],
      "source": [
        "def First_Function() :\n",
        "  return True\n",
        "\n",
        "print(First_Function())"
      ]
    },
    {
      "cell_type": "code",
      "execution_count": null,
      "metadata": {
        "colab": {
          "base_uri": "https://localhost:8080/"
        },
        "id": "wo-vI-fuAYeG",
        "outputId": "f66b9176-d1b3-47b6-92fc-5994d0ddce3c"
      },
      "outputs": [
        {
          "name": "stdout",
          "output_type": "stream",
          "text": [
            "YES!\n"
          ]
        }
      ],
      "source": [
        "#You can execute code based on the Boolean answer of a function:\n",
        "\n",
        "#Example\n",
        "#Print \"YES!\" if the function returns True, otherwise print \"NO!\":\n",
        "\n",
        "def First_Function() :\n",
        "  return True\n",
        "\n",
        "if First_Function():\n",
        "  print(\"YES!\")\n",
        "else:\n",
        "  print(\"NO!\")"
      ]
    },
    {
      "cell_type": "markdown",
      "metadata": {
        "id": "aIw_FOmrApva"
      },
      "source": [
        "Python also has many built-in functions that return a boolean value, like the isinstance() function, which can be used to determine if an object is of a certain data type:\n"
      ]
    },
    {
      "cell_type": "code",
      "execution_count": null,
      "metadata": {
        "colab": {
          "base_uri": "https://localhost:8080/"
        },
        "id": "J-EVvMemAlIE",
        "outputId": "3941eb0b-70d4-432e-e2af-0487084a6a65"
      },
      "outputs": [
        {
          "name": "stdout",
          "output_type": "stream",
          "text": [
            "True\n"
          ]
        }
      ],
      "source": [
        "#Example\n",
        "#Check if an object is an integer or not:\n",
        "\n",
        "k = 2000\n",
        "print(isinstance(k, int))"
      ]
    },
    {
      "cell_type": "markdown",
      "metadata": {
        "id": "XpP_f_BDB-Wo"
      },
      "source": [
        "# **Let us help the basic school student**\n",
        "A young boy has to string variable a shown below\n",
        "\n",
        "* sring variable First_string should be assign to \"I love Machine Leaning and Data Mining\"\n",
        "* While string variable Second_string should be assign to \"I love this class\"\n",
        "\n",
        "Now he want to write Python code that will:\n",
        "* Convert this string to upper case\n",
        "* compare the length of two strings and print out the longest one\n"
      ]
    },
    {
      "cell_type": "code",
      "execution_count": null,
      "metadata": {
        "id": "PBq7pm4cA4sy"
      },
      "outputs": [],
      "source": [
        "# Write your codes here....\n",
        "\n",
        "\n"
      ]
    },
    {
      "cell_type": "code",
      "execution_count": null,
      "metadata": {
        "cellView": "form",
        "colab": {
          "base_uri": "https://localhost:8080/"
        },
        "collapsed": true,
        "id": "i0fdymCzS8Mj",
        "outputId": "11330983-1bce-4b6c-e38d-391c56cbd8a5"
      },
      "outputs": [
        {
          "name": "stdout",
          "output_type": "stream",
          "text": [
            "Your first string is I LOVE MACHINE LEANING AND DATA MINING\n",
            "Your second string is I LOVE THIS CLASS\n",
            "Your first string variable is bigger the the second\n"
          ]
        }
      ],
      "source": [
        "#@title\n",
        " # Edclare string variables\n",
        " First_string = \"I love Machine Leaning and Data Mining\"\n",
        " Second_string = \"I love this class\"\n",
        "\n",
        "#Convert this string to upper case\n",
        "First_string = First_string.upper()\n",
        "Second_string =  Second_string .upper()\n",
        "\n",
        "print(\"Your first string is \" + First_string )\n",
        "print(\"Your second string is \" + Second_string )\n",
        "\n",
        "if len(First_string)> len (Second_string): # check the if length of first string is bigger than the second\n",
        "  print(\"Your first string variable is bigger the the second\") # If it is true tell the person\n",
        "elif len(Second_string) > len(First_string):  # check the if length of second string is bigger than the first\n",
        "  print(\"Your second string variable is bigger the the first\") # tell the person\n",
        "else:\n",
        "  print(\"Both strings are equal in length\") # I think strings are equal\n",
        "\n",
        "\n",
        "\n",
        "\n",
        "#Alternative \n",
        "# Alternatively\n",
        "if (First_string > Second_string):\n",
        "  print(\"Your first string variable is bigger the the second\") # If it is true tell the person\n",
        "elif (First_string < Second_string):\n",
        "   print(\"Your second string variable is bigger the the first\")\n",
        "\n",
        "else:\n",
        "  print(\"Both strings are equal in length\") # I think strings are equal"
      ]
    },
    {
      "cell_type": "markdown",
      "metadata": {
        "id": "js3uV3RNDTVv"
      },
      "source": [
        "#**Python Operators**\n",
        "Operators are used to perform operations on variables and values.\n",
        "\n",
        "In the example below, we use the + operator to add together two values:"
      ]
    },
    {
      "cell_type": "code",
      "execution_count": null,
      "metadata": {
        "colab": {
          "base_uri": "https://localhost:8080/"
        },
        "id": "EOLuENHPDZzR",
        "outputId": "ababeafd-578a-4317-fc4e-09b4b5617552"
      },
      "outputs": [
        {
          "name": "stdout",
          "output_type": "stream",
          "text": [
            "15\n"
          ]
        }
      ],
      "source": [
        "#Example\n",
        "print(10 + 5)"
      ]
    },
    {
      "cell_type": "markdown",
      "metadata": {
        "id": "OhQSjoT-Dgy6"
      },
      "source": [
        "#**Python divides the operators in the following groups:**\n",
        "\n",
        "* Arithmetic operators\n",
        "* Assignment operators\n",
        "* Comparison operators\n",
        "* Logical operators\n",
        "* Identity operators\n",
        "* Membership operators\n",
        "* Bitwise operators\n",
        "* Python Arithmetic Operators\n",
        "\n",
        "**Arithmetic operators are used with numeric values to perform common mathematical operations:**\n",
        "\n",
        "![image.png](data:image/png;base64,iVBORw0KGgoAAAANSUhEUgAAA5gAAAH8CAYAAAC0MgDYAAAgAElEQVR4nOzdf3CU9b33/1e+tzPEux6lnrJsepTbONgWGlpS4Ej4UYcEPOMizrApzmRTncbFNhKOCMGiJMKACQImeLBEc9fEOMXdzEh3mVFY54hZpwUS/AIJLSlphUksept18RwCtXeSqd+5vn/sJtlNdvPzyi98PmZ2Jrt7fT7XZxf2uj7vz88EwzAMAQAAAAAwQv/PeBcAAAAAAHBjIMAEAAAAAJiCABMAAAAAYAoCTAAAAACAKQgwAQAAAACmIMAEAAAAAJiCABMAAAAAYAoCTAAAAACAKQgwAQAAAEwwdSpOSFBC96NYdeNdJAyKyQFmhwKn3Cr75VplpN3d8x8iabYy7l+rzVU+NX1h7hknnVPFET+UBCU8z08FGK5AdWb07ykhQQm2SrXEOvhTtzL57QEARkVA7ocT+t6T+nkUnxrvMgOjw7wA82OvNqcnKyktW+tfrJT/VEQVL9Ak/7FKlT62UrOn3a3MXzWozbQTA0CEd9dq88GYISYAAABGmTkB5sduZadlqvSDwCAObpH3yR/pR495Y/cyAMAIeX9ZKt/XfbQEAADAOBh5gNnRoOKsbLkjY0urTUX+ZrX/w5BhGGq/Ui/XxnRZIw5pqcrU+tcIMQGMgkCZnHv96hjvcgAAvrbs7lYZhhH3UbBwvEsIjI4RB5gt1YUqjBpDblPF8aMqWJasxJtCryR+K1WOfUflfS41Kq1vW69eht5zpB52qyVQJ/fza5UxJyn8+t1a9FixvI39DLJta5GvarPW3r9Id3fnd7cW3b9WxdV1CnzVN0nd8zHGxbe1yPer9VoZPnf3WPkvmuStKlXhukxlpM9WUkS6pDkZynhssyrfbVJb1HnCE5XTCqNPvG1R1Hkzq3v3Arep5d1KbX4sQ4vu6TouSbPTM7X+Rbfq4nQaD+nzADcIq7WnGSvwYqFKzww+xOz4tE7uX5Vq82MZ0XPIExJ0d1qGMteVyn0qECNo7TvvJvR7a5L3+bXdv9u709aq+HBTRPo2tbxbpvUPha8hSbO1cl2Z6vrreR3GtQ0AMJG1qNIWfQ/50ba6Pveahpei64sJacWq+zL03vDvX33ri5nVAemrgPwR9cWkOSu1/ld1UdPbAqfcKn6s614Urpv/ue8Z+tRHT4TvfQ/33MdC+ftHdA8LnHKrdF1mRLwQqpNnriuT7xIT88acMSLNRsUKGVLPw/psjdEe7/ArHsOp6OPz3r7a8/4nLsMe+b412Ui2Rh/f80g2nN7WviV6O99Ij5sm/JjpNDwt0elqd/Yq194Dhn1m9GtFdeGD64r6z7/rsbDIqP1b9xmMokGksbsjPtOVGqNgmXWANMmG8/ULfb7zIX0eYJJqdduj/k8X/LrCsEX9BkuM+q6De19fdtb2m1e8h/URl9EcndJwrYk+xvlsQdzrUNrOWuPqlVqjaFWc33bUdaPHcK9tAICx0PdeEFWn60+Ly3BEXd+tRv57PTW79tNFRlpU/dhhuCKu9cO/f/WtL6Y/XWA4Z/aT/uoFw/XvabHP0atcsfJPnpkcv3zLSoz6qApt77pzkRF95zYM42/1xoE18fPs+j7Td9XGj09gupEFmK0ew9HrHzHyBxEjQZ8fn56L+K/SuwI40MOaZxy90pO8va7XD7C/R2TF0+j7A4j1GHKAqciAe4gB5t9qjaKFg/0urIbDHX3JGNLnASap3jfVojrDqN8XfeOz/yb82zApwJRk2F6P/L3FuK4N8Hu1DhAoRuc/smsbAGAsDPFe0Ose1P5evmGNVcftUx+0RnfOGCO5fw2uvjiU+1fvjqah5S8jbV9U7XyAALPZcD0yUEdM/O8No2dkQ2Q/bZI/6oV0zUpO7CeBVclzer305xbFXRpobp5cDVfVbhgyjHa1+gqUFvl+oEyVx8KpO/wqWl3Ysz+O1aEDda3htIbaPzkaPdb9VIl8/QwRte+rVfPV9rhj5Wdl5avCd0Gtf+t5v/1qs2p22aLmmgaq6tQkSUpTgWHIqCuKPtHO2qhzeLJCqZuq8qOHHs/Nk+diuDztrTr6bOQ3EZB7U6X8/YwGHOjzADeK1MdLVTC35/ngF/z5pmxPlMhV16yr7RG/69Z6uf496soj3wcN8a9bkmxPe1R/JZzHlRoVRf3WAgqkFulo09XQ+/+4qpqd/eRv8rUNADDxJK4okjfyXhAok3NTpdx786Lqg2k7vSpZNbVXavPuX6mPlKjmk676ZrNcj0TVahWw5qmi+x7UrubfOOLUe2Oz7axRc1fd+Uq9KqLyl+r2+ga912VL1XplH+z5NGnPenSh6977j6uq/3Vk2QIqO+jr97PDRCMKT/v05NkN1yf9J+nTkrHGZXQPIOjdwxD5Xnf6Xi0VT4daStrfy496Pf3XvQcB9H9M73INv3dvgNaW3t/Zzj6d/YZh1Bslc6PL4/T2bnXpe0xk77F5nweYuGL1YBqGYVx9Oy+qJdj6dI3RPkAPZr/6vTb1bbXu/Xtr/nV6/7/7ixVGepz8R3ptAwCMhZH1YIY095tHrCGuAxqgbt27vth7WG/v+0ufunl7jZHfT713wPpon9GL6UbFxe7U/dSpe0/Tyzdq+gyiHMwxGA03DSYIjesmySpFtAa0qX2Ul21MnrlIkrfnhY8DapPU2hjdl+r/+d1K+Hn/efkDAUnJwy5L25/r5K+rVf3pWtVdapNaL8jfaELbSKBF9eciX7ArPbV3a9Uspa6QFHGcv7FJWpEq4Otu6qp8la4pU/ah0PPAi5tVmpo3iJQdCpzzy3+8SfUNPjV8KrW3+FV3aWTlufmW3r/fXhJvVrwjmsbh2gYAGDm7u7V7ZNrgJMux16Wjx3vtziBJVodKdzr6ubKPzv0r8Z++OcABN2uAI/p3R7J+pMiavV+BLyTNHCBdW5MajkW+UKqMm0sHSNQSyvuO4RQUQzGyAPOOWUqX5O5+wa+mlg5pZrxhsgG1nO/10veSNZSfXjwdXzaYkMsgfezV5sfyBrnv5zB81dF3pa8+/1KJuvmfol9p+JJNGYCQZDm2lujAoc3hoTYNKtxU2O+1pu1MmZxZ6+Ud4c3YbGN6bQMAjK+7HCrdd1Ruhzvq5bSthXLcFTvJRL1/jaov29Q63mVAXCObg2lNVfqK6JdcH9TG33vui1r5D0W/lLdg1pBO2R5nCePEm6KrjvbfNPe795BhGDKeS4udWX++9GtzWmZPcGlNV/7rR1XfclVXr7bLMGpV1H8OA7spUX1C9Fif+x/RT1Nv6W/+K/A1MzdPpTsjevQDgfhzLy5VKntBxM15pl0l3lpdaA3/rj9xyT7KxY1nzK5tAIDx97Fb+ZvcfV6ue9Kp0nMxjp/A96/Bah9Ooj515QLVDnRvNDxy0Hs5Jka4D2ay0rNsUa8EXiiVK2YLSofqXi5SZeRL1jzZ0gYYOhalTQ0feKNeSU2bJauk5JTMqNe91X61DCHnQZfgA69KI2upjxepJMem1LumaurUYQR4/4jxmjVZP5ob+YJX/obee/g0qPad6FfSU4YWrAM3tkSlPVGkvEEMkWh4p0y+iOf2bSXKX52mWdZh/q5NNFbXNgDAeGuR+5cxhsdKkuq0+YmevS+7TOT716Ccq40qv5Sn1O8NIl2funKlPMcYyTdRjDDAlJKzinqtkOjT2qUrVfxBizrCvW4dXzTIvWml7M9HD/Wy7cyX7Vv9ZP5Ve0+PZUdA/heylVcVeUCqspeFeiimLrMrP7Ii+e5aLXqoWL4/B7rLIUkdbS1qOFypzY7Zoc3Qh6jjy14d8n+uV0PXCpVftanpXb9qh5Lhay55+1xIUpX+aHQPROW6PFWeCweZHQH5tuZpc2RLlrVAtqWT4EICjKVv2VS4b+C2297DUFvONynQdZ/qCKju3dpxC+rG6toGABhPHap7Prt77QBJSn3uqI5Grix7qlD2X/oU2eUwke9fsbT/rScIbDvn1vonNivqE+Ska9Gg+p5SZV8X2ckVUOn96VpfVaeWtohAs6NNgT/75X5xvVY+5mYV2bFiylJBfTaIHfiRnOPpuxLWEPfBtD5x1IhcW7XZ7YjeQ2iAR+RKVoNedbWhxEgdwjn6rCI7wGccrX0wWUUWN6J4q8hGazYqHuh/Bb+rXueQrl9DXUW2zx5lvVcPHGCVv5Fc2wAAY2GoeyJHX6tb3+p1nV9YZNT+zYi5D2ZknW9k96+BV5Hts/tBnx0e+t89YWj7YKYZJQ2Dz3todeVYZcdoGXEPpiTpLodcdR7lLxvMcj3Jsu+tVf3r9hGtcWhdVSLfXlvUyovJWS7VevOVbsaqQfHMdark6X7mN81M7v9z3WHX5p2DmB91S5oKqo8O4jtNlvN1vyqzWDESiC1Z2TuL1N+vburqfFWsiv9bs840ZzGy4RqTaxsAYHx87Fb+k5G9a2kqebVAabdIuiVN+b+KvIcF5HZkd8/HnOj3r8FLU97bLuXPHfjIbrekqeDdeh1YQx14ojEnwJSku+wq8beqtc6lA087lb4w4h/bOkvpK5zKf/2oLlxplufptLhL8kdZfUA1vgPKW5PWHbQlL3SqyHtBTW/nK/WWvkmSV5eopqVVte4Dys9JV1rUMsfJSlthV95zFfI0tCp/Yd/0A5uq9L0+XfAWyRn5GZUs29MuXTjtkrPf9IlKey6cftmsiB+9VbOWpWtW5Hj5u2wq8Tep2Veh/Jx0zbJGHmtX3l6XalubVZEzq++iQAC6Jc7PV9HT/d1iZ8npbVDNy3mypUQcZ50lx94aNRwr0qJRL2X/Rv/aBgAYc1/WqTgret6l/TfRgVbi/AKV7YtsJo2cjznx71+RCty1cu10Kr2rrNZZsj1xQDWttTqwahiB4tRU5b3VrKtNR1XxXJ7sUXVryZqSrvScfB1w1+jCK45JEmxPfgmGYRjjXYhun7qVeWd2z144a1xqfYv/DAAAAMBkU/d8ghZt63leVGeogEbQG555PZgAAAAAgK81AkwAAAAAgCkIMAEAAAAApiDABAAAAACYYmIt8gMAAAAAmLTowQQAAAAAmIIAEwAAAABgCgJMAAAAAIApCDABAAAAAKYgwAQAAAAAmIIAEwAAAABgCgJMAAAAAIApCDABAAAAAKYgwAQAAAAAmIIAEwAAAABgCgJMAAAAAIApCDABAAAAAKYgwAQAAAAAmIIAEwAAAABgCgJMAAAAAIApbmpubh7vMgAAAAAAbgA3/c9bbh3vMgAAAAAAbgAMkQUAAAAAmIIAEwAAAABgCgJMAAAAAIApCDABAAAAAKYgwAQAAAAAmIIAEwAAAABgCgJMAAAAAIApCDABAAAAAKYgwAQAAAAAmIIAEwAAAABgCgJMAAAAAIApCDABAAAAAKYgwAQAAAAAmIIAEwAAAABgCgJMAAAAAIApCDABAAAAAKYgwAQAAAAAmIIAEwAAAABgCgJMAIjptPZPn6ak6TnyfjYW6QAAACY/AkwAN4zrvqeUNH1a6OFw6fJ4FyjSZx45p09T0vSXdCbW6497FBxqWgAAgAmGABPADeKaTrznkmSRxSKpxqMTLeNdJgAAgK8XAkwAN4bP3penWlLGJj2VZZF0XFXvnR/vUvX4dqYqP7+i1s83av5YpgUAABhDoxhghuch9TfsCwBMcvl3v5VPkm3NKuX821pZJDW+dVyN410wAADM1jV1Yt/p8S4J0Ac9mABuAJd14p33JWUr8z6LNG+5nkiR1PhbnRgowvwqqBMVz8hpmxeevzlPqx5/RlU1H+lzM9PFmGsZPJyjpNRc+STp7Vz9sGv+aPix/2z8tL3LcubwS8q3Lw7n8X392P6U9vs+0vUYhwcP5yhp+jQ5DwclXdNFX2TaeVr11Cs6QcsgAAzSZXnXf19J06dp1f7z6ox1SOd57beFrs95hyfUCgFqLEtX0vRp+ml1f+U6r/KMaUqaniU3008wAAJMAJNfy3EdrpGUtVxLbpekOVpinyPpvF59r5/W3f8+rt0PfV9rCirlO9t1Y72sM29XaqvjKVWZnW40/P209j+8TKtyd8l98qNwABrUxZMu7c5ZrKWPvKLGv8dJ+9FvtcO+SD/OiUx7WWeqt2tNRq68n4zRZwCASW2G7Ft2ym6RzuzaovKzvUPMTp0p26LdZyXLmp3asnrGuJQynhSbUxmSaiqOxB3103nyHb3aKCkrWw8mj2HhMCkRYAKY9Brfq9QJSTm2pbo1/FrKfT9RiqRg1TGdiNmcfFneLXbtPytZ7t+qN09cUuvnV0KP5j/p9+6tyoh5tuGm68uyukqtDeWySdJD5fpDVz7hx4Z5A+UQlG/Lz7T7ZFCW+7fq0JlPw2k/1V9qypUzTwq+t13Zpcdjtqj79m2XVyu0y31Sf7kcPm+TX6VrLFLQox0HY6cDAPRyZ6b2VWxUik5r9882yBexTVXnh6V6ds9pad5WVe7J1MQKLyUlPyhHlqTGMh05Geuqf001h15SUNH3WSAeAkwAk9x5nXjrvCSnMu69refllKXKTJEUdOnEmb43zM6Tb2rH25JSNqqyfKMy7olI+w2L7slYogUxzjbcdKOi8bd66VBQsqxTWflGLblzSviNKbo1JVO73qxWjkUKlr0iT4whTSmbvDru/Q/lZHxHt3YlvX2OHFt3yiYpWH1GF8foowDAZDfl3ny9sGWBFPTo2V2e0FZZfz+u3WtfUqOWq7Rso+Z/Y7xLGcttyli9TlJQ+9840ncqRssRuaslWTbKdt9tfZMDvRBgApjcGo/L0ygpb6WWRN335siWs1RSUPtr/t9ePXGdOl0Tao21rV87hBv+cNONjsaTv1WjpJT1P9GSWGW5fbnsORZJ7+vwyb5za2Z857uxW6K/PUM/kKSg1GFmgQHghjZF8zeVqzRDCh7KVd4+j9xbclUetMhevkeOCTy0dMrC5dpgkfR2mby9xsk2+ipVIykld5WWTImVGog28gCzewPw3g+bdksxF65IYsNwACY5816ZGmXRhox/Ve/73ozFmVoiSWVHdeJa5DsfqfF3kmTRD5ItQzjbcNONhmv6vDm0DcuC5PgDrmYk/6sk6USw3yWLAACmmCHHnvLQfMw9uco/FNT8LW9o33DnXZ59KUYdelrPAnF7bLHfH+ouDlOW6sHc8NoFb0dMj+g8riPl5yUtV45tzvA+A7526MEEMHl1Htf7VUFJQe2339H3BrvwKZ2QJFXKdzIywuxQZ6Mk/avuHFKcONx0o6FT1/479Nf0fx7EkKUvO5hPCQBj4c5Mbdm6PPxkubLWLOjTADoRdS32E9zvUU34/nK9xqP9QbG4D4Zk5AFm9wbgvR8+PSPFXLiilQ3DAZig88xxVQ+yidb93vGILTsSJYskXVPHkKKu4aYbDVN02+2hvz7/r2v9HypJtyROigoOAEx6n3i0Z9f74Sfva8+e8HzM4Zi3MUYd+krPAnFbfLHffy1TQ24H7VrsRy65//OypMs68qZLkkUb1qxgcR8MGj2YACaprvmQFj3ji9WI1esmXO3R+92r+k3XPfdJ0nFdvDyUSHG46Qbhq6HOd7xN0+8ODVc6fTFe1aVTH50/IklaYpk+ktIBAAblvMp/kStvcI42eP3d8zG3vjmx9r6M7TYtsTklhbYsOfOhR1U1klLy9OBimigxeASYACana8flK5OUkqeM/rbz+PZSrXxIko7I+7uuG7xFKQuXSpLKDx+L6NmM8FWH2vu8ONx0/ZVvhu6RJN9fhjZfRlLK4tBWLI3lv9WJWHtdfnJE1YckablWL55wC+MDwA2mU2f2bdGOs9L8LXu0cfGc7vmYNfm52t9nf8yJ59b7VoYW+2ksk3PtLjVKylj7oFLGu2CYVAgwAUxK108eUZWkFPvSAW58Fi1fnS1JqnnnePcwpRnp2eGezS1at/+4gl33/c5ruljzipxL7NofI7fhpotvumbcJ0kuVb15Xte/GkLSlJ9o4xqLFHxFeY/sku9i11DZTl1v9GjrL3LlDUqWvHXKZO4MAIyq6+9tlzO83+ULeeF5l3dm6oVSpyw6rd0/2xW7MXAi6V7sJ6hgUJKy5fg3GigxNASYACahazrxnkvSHGXeN/CqdrcuXC6HJNV4dKJrP8hvZ2p7eaYsCqpml10/nBFeGGjGTP3YsV2Ncx5URqzMhpsurhl6cK1TFgXlzU/Xd/+lZ5Gi/WcHSmuRbc8bemaxRcGTL8m5ZGY47R36bkauqs5Klvt3yJW/lPmXADCaPvHo2fxKBbVA2/duVErERffW+3eocsuCUGPglhHMxxwjXYv9SJKylmvJ7eNZGkxGBJgAJp/P3penWlLKT7RkMON2bl+qjCxJOq6q9853vzxjdbmO/65cuQ8tUKh9dobmP+TULu+f9OFr67QgTnbDTRfPrffv1jHvDjnmdbUSW3TP4qW69X8MIvE3FmjDWx/onfKtciz+TnhRB4vuWZytZ6pO6vjBdUqZkBt7A8ANovO89odHjNgOlCu3z31piuZv2qPt80LzMXccmuAhZvJS2e6XWNwHw5XQ+vkVY7wLAQAAAGACaHHppwufUk3KDh2rWcf8SwwZPZgAAAAAJEmNvkrViMV9MHwEmAAAAACkzuM6Un5eLO6DkSDABAAAAKDrNR7tD0qWDZnKYHEfDBMBJgAAAPC1d1lH3gyt0P7EQ6w+juFjkR8AAAAAgCnowQQAAAAAmIIAEwAAAABgCgJMAAAAAIApCDABAAAAAKYgwAQAAAAAmIIAEwAAAABgCgJMAAAAAIApCDABAAAAAKYgwAQAAAAAmIIAEwAAAABgCgJMAAAAAIApCDABAAAAAKYgwAQAAAAAmIIAEwAAAABgCgJMAAAAAIApCDABAAAAAKYgwAQAAAAAmIIAEwAAAABgCgJMAAAAAIApCDABAAAAAKYgwAQAAAAAmIIAEwAAAABgipv+75fXx7sMAAAAAIAbQIJhGMZ4FwIAAAAAMPkxRBYAAAAAYAoCTAAAAACAKQgwAQAAAACmIMAEAAAAAJiCABMAAAAAYAoCTAAAAACAKQgwAQAAAACmIMAEAAAAAJiCABMAAAAAYAoCTAAAAACAKQgwAQAAAACmIMAEAAAAAJiCABMAAAAAYAoCTAAAAACAKQgwAQAAAACmIMAEAAAAAJiCABMAAAAAYAoCTAAAAACAKQgwAWBI6lSckKCEhGLVjXdRAAAAJhgCTACTX6BO7hfXKzN9tpISEpSQkKCEhLu16P5Mrd9WKe+5gDrGu4yTLDCtez70PRafintE+PNkyv3pWJYMAABMZDeNdwEAYCRaqtcqw1Gplr7vqO5Yi+qOeVX2vKSZJaq/mK/UsS8iAADA1wY9mAAmrbZ31muRo1ItSpZ971FdaG2XYRihR/tVtTbVyLXToVlWSZc6JkAv5o0kTQWGIcPwyHHHeJcFAABMFASYACapFnleLVNAku3XNfI8bdMsa2LP24lTZf1euhzPuXSh6YJcG6cqMW5eAAAAMAMBJoBJKqDAu6G/Fs1J7v/QqbPk2JcXPTz2U7cyExKU8LBbgTjJBp6HKLU1elX8WIZmJ4WOvTttrYoPN0X3lp4qVkLCIhVKkgq1qHueaOiRWR2IXaaAX2XrVnbnnfCoVwFJbefcKvvlWmX0mXO6VsXVdQp81c93EaiT+/m1ypiTFE6XpNnpa7W5yquGTzvUNbdy0bbQ4YVp0WXt+b4GnlMaOOWO+m6S5mRo7fNeNbXF/Laj8wv4VbYuU4vu6Uq7UpurmxQzKQCMqxa5Hw1dUxe90BB7tExHg4rTQtfc7Oq+kzpGT5u8j4XOW/hBP+N4vvBqbUKCEpIK5We4D0bKAIBJqd4ossqQZDi9V4ee/BOXYZcMrXEZrXEOqd0Zyr+oLupVo0gyJLuRtzHdsCp0TO9H2s5ao70rSV1RzGO6HnZ3a68yHTCOvu40knsfGy5rV7niPayrDhj17UYfV98rMNKt/aRd4zJauz9ff8dEfg9FRm2fM7Ubtbvifzey2oySht4F7Movzyh52d73s8f6XgFgomhxGQ6rDCnNKKrrfZVqN2p3poWuz4+4jOYxLlq7vyB0Pc7xGPHuls2v2wxJRure+jEtG25M9GACmKRmKS3HKkmqXJet4neb1NZfz53pvCqrlrJfr1Xz1fDcz39cVb07T2mS6rblqfRUuBl4YYEMo1ZFkqQi1XbNEw0/PFnW6KwPrdfKrS1Kf7lGzX+LOPYth6ySlGhT3sse1bdcVfs/et5vb61XxSNWBd5Zr8LeLeSXKpV9f7H8Aatsu47qwpXIdBdU4y6SY2qiuuZW1u4MJSuqiy5rdxn6ETjklH2rXwGrTUX+5u4ytl+pl+vf06SAT5sfKJT/y1ipy7T5yQal7nSptqVrTm27Wn0F4e+1SK5LQ/hnAoCxcJdDlYcKlKo6Fa52yhuxunbHiSLlbauTFhbJ+4pDA4y5MV3iskxtniupqlKemNfPBnlf9klKVfYKlsKDCcYhqAUAc/yt1ihaGN3Dlbww3XA+XWIccB81aptajfZ/xEk74h7MPONonKbg+r2pofI8XRPR29Zfj1+vMs3NN47GK9RAWsJ5PHE0oqX6quHJGVoPYOzPHnVEnM9Tb5TMlSFZjfz3Yp3pqnH0CashybC9HtmO39MzXNESr0yhdI63hvvlAMBoitFT+bcaI98qQ7IZFRfHr2TNv04P9VDGuAd093A+UDHmvau4MdGDCWDyuiVNBceadXRveKVYSS2n/Kp8cbPWO1Zq0awk3XznbGW/6O9/XuKwJOmbU2O/k7oiOzTf82CdmoaT9T0/0o8G6iZUhwLnvKp8sVDrH85Qxv3huY7J2fJK0hdtPfOA2mrlr5Iku9bnpI3uYkfn/HKdkzR3s7JXxDrTVNkeXS+rJF+1P8b2Mj/S7LtiZ508c5EkqWNMe6oBYLASlfacSxUPSIGD2cp+3q3KddkqDVjlcB+Qc+b4lSx5mUM2SQ3bKuX7IvKdNvkOFisgyfl45pj3ruLGNMIAM6E7h7sAACAASURBVCD3w70WgIh49LcwBgCY4pZk2Z526UJraKhnrd+jir0lys9JDwWdgSa5f5mhpKXFahirhQusyZolSYFWtY7CqjRtZ8qUec/NSkrN1NpfFqvskF/+Y341xVut6OMm1UrS3EWaNcpbirR90qIGSUqbFb+ickeyFknSsUDcBZYAYHJKlvMVlxxWqW5bttYeDChtp1eVWcMJ3boWP4v1yJT704Fz6DYzU84cSapU5TsRTXuXPKqskmQtkOOBOK2mwBDRgwnghpFonaW0ZXY5n85Xyes1utDaM3dPpwpVdHiMwhlrkmZLklrVFnOe4QhcqlT2gvXyXpKsy5wqcR9VfctVXb16VVfbDRmfuGTvnaajIxT03ZOkJJOL0+dUX7aG/kj6pgauqlxVO6sVArjR3OVQ0S5b+IlNzkdGeeTIoEyV7ZGC0OiRl72he4KkhsNl8klK3ZSp9PEvJG4QIwwwrXK81WsBiIhHwUJzCgkAw5Mo6wOFKno69Mx7aYyWhv+0RfWSpGRZv2Vu1g2HCuWTZH3EpVp/hfKzbEq9a6qmTp2qqfEqB4mJoSG7F1vVam5x+p7qlnAI23p1EFuKfFM3U6EBcKP52K3Crb7wE58Kt7ljTAcYjNCia7Hr2R45hjgipXuxn3Ml8nzQIXX45dnXIMmmvNUs7gPz0IMJ4AaXqJv/qZ+3v5LazT7lpy2hIakrZim5TwA1krMF1NQQ6oXNfsQ++Lkyd80KDUk9V6umoQypktQ+xPmOU+9MDgWzdU1xK1QdTfWheaIrrAOuSAsAk0uDSrOy5Q6kqsBf3z0fc/1rY7n3ZTypSn80VVJAxQd9ajhcpuKApBynMsdxfihuPASYACanT70qfMGvwEBDLL+skz/ckJw3d1bP69+yhgK0w/VqiZXHVwG1fDKcggXk/c0BBSTZstIjgkCrkldLUpNaPh5OvpKUqKnhHtG2L2N/8I5Aa9+ew6mLlJ4jSV4dqKqLvQl4L9a7QgNtm1qGWCmam67scAu561isM7XIe9Alqff3AwCTXYfqns/T5lNS2s4yFS5L7Z6P6ft5topPjf+cgNRVebJJUlWebJu8kqwqeMQ2iCkNwOARYAKYpDrUtDVDScmzlf3LSnnPtUTPd+xoU8upSm1+yK7CU5IeqFD+qohbaOKPtChHkkpVuNPXE6h2tKnp3VJlzkpS9mv9nb9Wnmq/mr7oqTB0fNEg95N2Zb4akOYWqHBNZPiUJOtMSfLqwK99AwfGMU3VrAWheT2VewvlPtcTSnYEGuR9PlOzF2yWP0Y627qi8D6SdmW+4FdLxHfVEWiSv7pY2T/3di+6k2QNld37SqV8nw6lsKnK3uqQVQGVPrpShYd79icNfT/Zyj4YkKz5yl9DeAngxtH2zmbZw/tdlj0dnnd5l0Nlv86TVXUqXB1v/98x1L3YT0CBgKS5m5W5jLkKMNk4bY8CACPTetRwzozeAzPeI3nNAaM+xp6V7aeLjLQ4aayrioyix/vbB7Ofh9VhVDTF2AOyoSTm+ezu8L6Og9ib0zDqjQPLrHHOm27k7yuIm0fzW04jub9yR6WpN0oW9ndMf/t6thu1u9JD+6rFLKfNKGno/f0MvE9oq9se/X0BwETR4jIcVhlSmlHS0PvNGPtjjqPufS8lI3Vv/TiXBjciejABTE5Wmyoutqu1waOK5/JkX5HevRemJFlT0mV/okSuulY1v5Wn1BjjfxLnF8jf5FFRTlp4qKZVs1bl6YCvWU1vFyj9zv4KUKCjF4/qwBN2pXXNXZmZJudOjy40ueT8XowW4bn58p13KX/VrO65h8kL05V8y1A+eKry3mtQzV5n93mtKely7nSptqFGJWtmx02ZvKZCza01qnjaqfSUrhJYNWuZU/mvH9WFVxwRcyJTlf/uBbmetvV8rzPTlH7HYAZSJSrt2Ro11LlUlNPz7xIqp0cXmo4qfy4t5gBuEB0NKs7Kljsg2X/jUv7c3gckKu25MpUsDM3H3HxwfOdjJi5Nl1MSi/tgtCQYhmGMdyEAAAAAjL6ODwqVnF6sQI5HV1+3M/8SpqMHEwAAAPhaaJPvYLECLO6DUUSACQAAAHwdXPKoskos7oNRRYAJAAAAfA00HC6TT5LtSbuYfYnRQoAJAAAA3Og6/PLsa5DklHMV20Rh9LDIDwAAAADAFPRgAgAAAABMQYAJAAAAADAFASYAAAAAwBQEmAAAAAAAUxBgAgAAAABMQYAJAAAAADAFASYAAAAAwBQEmAAAAAAAUxBgAgAAAABMQYAJAAAAADAFASYAAAAAwBQEmAAAAAAAUxBgAgAAAABMQYAJAAAAADAFASYAAAAAwBQEmAAAAAAAUxBgAgAAAABMQYAJAAAAADAFASYAAAAAwBQEmAAAAAAAUxBgAgAAAABMQYAJAAAAADDFTc3NzeNdBgAAAADADeCm/3nLreNdBgAAAADADYAhsgAAAAAAUxBgAgAAAABMQYAJAAAAADAFASYAAAAAwBQEmAAAAAAAUxBgAgAAAABMQYAJAAAAADAFASYAAAAAwBQEmAAAAAAAUxBgAgAAAABMQYAJAAAAADAFASYAAAAAwBQEmAAAAAAAUxBgAgAAAABMQYAJAAAAADAFASYAAAAAwBQEmAAAAAAAUxBgAgAAAABMMQoBZlDex6fJeThoftYAMMEED+coafoEueZ95pFz+jQlPe7RBCgNAMB0p7V/+jTtPzve5QDiowcTwKTVFdwlTZ+mpKeO6Hq/R1+W2zGt+/hRDwgHEex1l3/f6dEtS7hCkjQ9R97PRvlUMZzZF/rO+6sQdR0zIQJ1AAAwbCMPMFtccjq2y302TqXgq6DOHH5JTscrahzxyQAgjupX5O7nItN58k3tqRm74gAAMFKdv9ulVbmvqKblWuwDrl1WTcVT+mnB+wM0sgJjZ+QB5rdXKCe9U7687+uH9+WqvOYvuvaVpP/6i2rKcvXj1O/LefCvWuJ8UDNGXl4A6CtljlJ0Wq8ejHeDDeroGy8pqDlKSRnjsvXDsrpKrZ9fUeumBaN8pgXa8PkVtX5eJfu3R/lUwzR/0xW1fn5Flast410UAJgwpsxZpSe+80fteGim7nVsl/vsZbVLar98Wu6dWbr3O/O09cP/Jbv9B7p1vAsLhI08wJxi0ZK1u/XmiUtybfmuzu/M1Vaf5CvI1Y7z39Uz1Zf0B+9/KCdjBv/xAYyOlXl64iEp+EaljrTEeL/xt3r1bSll2yY9cfeYlw4AgOG5fY5sm8r1+zN/Uml6p3x5udovaX9urnx/X67Shk/14WsbZZ9H4xwmjlGcgxlU5/83erkDQI8ZWvmzjbLofe05eFydUe9dk69iuxqVrY1Z/xo3hwHnCQ5hAZ3g4RwlpebKJ0lv5+qH03vmfkaeI+4CQb3OFTxZqa2P23Tv9GlKmv59/fiRZ1T1YZzhUjF1zcF8SWdivn9Nl2sizzFNSQttcm55Rd6TH+n6V13HdSr4O5d2b8nRGtu8ns80Z7HWPP6Mqmou9+pBDp131Z7Qs9226O8h8rsc6PsPnvVo/1N2/XhO6Lgf3mdX/r4juhjza+j1eYPHVbUlR6sWdqXN0o7DHzGcDIBJLsu7/vtKmj5Nq/af73UPCus8r/220DU87/BlE87Zoc6vBj4qlsaydCVNn6afVvdXjvMqz5impOlZcsdquAX6MfIAszOoExXP6KdLZiq74q+av61cu2ySrdirXff+VVVZM/VD+1MxKh4AYJ4pi3+qLRlSsOwVeSJvhi1H5K6WUrZkK+P2cSve8Fw7rVcfn6cf2p9R1dunFaoKBHXxvUptfWiROZWUv38k91PputcReQ5JLafle2O78uyLVfWH7gLpxJtPaf8bR3TibMS5gx/pxNuV2uqYp+yC901ewbZTZ/bbtcKWq93Vx3UxnHnwz8fl3pOjHy/JUnljzOqcpM91piJH986xa+sbR3SmpSvt+yrPXazsfadjVwQBYEhmyL5lp+wW6cyuLSo/2/vK0qkzZVu0+6xkWbNTW1YPYdLYf5+Xb1+ufjz/+8r/cLrsZeXaIGlD+RvK+pcTyk+9Q/c+/pK88dZCiSHF5lSGpJqKI3HXR+k8+Y5ebZSUla0HkwdfXEAyI8D87Jiq/FNkK/tTeCjsd3XbTZL++bvKWPsfOtTwJ1U+8r90ovKIzGivAYDYZijzF+tCvZjVXb2YnTpRvUs1Wq6c1Qs0ZYxKYlldpdaGctkk6aFy/eHz0PzCrseGeYPM6HeVKj//Az1T5dcfmsPpL/9Jh7Yul0VBeXO3j3BV2E6dKF2t/OrL0jynSn1/0sdd5bx8SR/WVGnXz5ZHfW+Jt2bqmXKvfn/+Us+xn3+qv5yp1oZ50pmKDXr9ZFflKjT3850toWfP+KK/h9bXMjXQoK7g2xvk3HVcQctyPeM9q4//Tyjtx01+la1dIAXf146sXTrx91ipK7Wj4I9K2VKud8582l3WP7g3ar6kM3v2RTdGAMBw3ZmpfRUblaLT2v2zDfJFXJs7PyzVs3tOS/O2qnJP5pDWJOk8/45e/egH2v72pfBQ2Bm6WdLNMxbIvqlKH350Vrvu/au83j8OviMn+UE5siQ1lunIyVjNbNdUc+glBSXl2JYyxQ1DNvIAMzlble4dcsQb+32TRfNXb1Sle50m0NoaAG5AU+77iZ6YJwX3h3sxPzuiqv1BWTasU+ZkbIG9b7d+f6JKG2xzZPlG+LUpFi3ZUK4XsiTpiKr9I2i6a6zUjrKgZMlU2f/eLcc8S08wOeU2zUh5UDl7qpXbHRBbZCst14bVS3WP5baIwHOKbr1zuZ7ZvlFSUDWNHw2/TFHOy7vfo6Asyj3whjYsnqEpN4XPePsc2Yur9ebPLFLwFZW/Het7eFClZ86qclOm5t/ZVdopsmRs1fYtFknv6+R5tkUBYI4p9+brhS0LpKBHz+7yhDpW/n5cu9e+pEYtV2nZRs3/xkC59Mrzvq16p3ydMpJvi33AbTOUsfY/9Gbx8iEEgrcpY/U6SUHtf+NI31En4ZE/smyU7b445wX6wT6YAG4gc+RYny3pfVUdPq0zh8vk03JtyVo6Zr2XprptamhESN83tMTmlCSdOPXHYQ9JbTz5WzVKsuQ4Zb9zCAm/uqaLJz2qKtuu/IftWvNweO7mQy+F8v17xzBL1LuAx+VplJSSp8z7Yv0L3qaMh9fKIqnm8PEYo2R+oO/E+VwzkkPzcTtYKwCAaaZo/qZylWZIwUO5ytvnkXtLrsqDFtnL98gxgRo6pyxcrg0WSW+XydtrnGyjr1I1klJyV2nJpLx5YrzFrLqMjEX2167Ibn7GADCgW21ObU9xaccem1ZJsuTtmJy9lwO41TJdFknBpssKSgMONe3rmj5vPi9JWpnynUGnuuzbrvwtr+jEGHT8Xf/scmh+0PzvxB9SljRD8yX5fhdUUGI7LADjbIYce8p10pYr755cnZE0f4tP+4Yy77JfoakHIzZlqR7MnaP9O8/r1bePKycl3BDbeVxHys9LWq4c25yRnwdfS/RgArjBzJF9/YPhvxfoCfsk7b0ciCUUWKmxU8PrL+zUtf8O/TX9nwc3BKrzd9u1KicUXM54aJ1Kq3z6/flL+stHl0JzI31bh1WSeDr+/nm4gLcNYuhXmzpYsQfARHBnprZsXR5+slxZa8ZuDYCh6FrsJ7jfo5rw/eB6jUf7g2JxH4wIASaAG47F9lho6E/WOjlu1MnfrZdD26DcZxlG76UkTdFt4VV1P/+vwWx5ElTNoVcUVKg1/vev7ZDDtkD3WG7Trbfd1j030kyJ35geLuC1QSxeMVWJE7EGB+Dr5xOP9ux6P/zkfe3Z45mYC112LfYjl9z/eVnSZR150yXJog1rVrC4D4aNABPAjWfKUj1z/opa/+PBId8g24e5r1hcX2mYPYz9C17+Y+iPlBmaPqwcbtP0u0PDn44OalGev+riIUlaqqxhrsg71O/21m/PCC0Od+ajuJWzzot/HGGgDQBmOq/yX+TKG5yjDV5/93zMrW9OxBCzZz5/TcURnfnQo6oaSSl5enAxLXYYPgJMAJBksSyVJJ29GLsScL3186Ht5fvtGbpHknx/MXlfSEl/P63XDxyRZNGGjH8d9tCrlMU/UYqkYFWlvJ8MdHSipqRIUpuux9wSRLr+f/4a83XLnaEhyxcvD7GClbJUmSmSGsvk+V2s8a+XdfTQbyVJGauXMv8SwDjr1Jl9W7TjrDR/yx5tXDxHjj3lslukmvxc7e+zP+b4u/W+laERP41lcq7dpUZJGWsfZOcHjAgBJgBImjF3uVIkndizS+7GniGjnZ+clnubXUtt23ViSDlO14z7JMmlqjfP6/pwekabj8lb85GCEQHd9Yvva3/uz7S/MbRht2MkrcwpP9HGNRYp6FHeL56Rt/Gauqs/ndd0ufGIqrZkqfysJH1HKRkWSef16p6XdOKzriM7df2T46rKt2vp466Yp5luCYV+vqo3VfPZUCpYc2TfkCmLgipfn6Xdvo+6v8fO/z4vb0Gu8g4FJcs65T5EeAlgfF1/b7uc4f0uX8gLj/S4M1MvlDpl0Wnt/lm8PXvHUXixHymoYFCSsuX4N66nGBkCTACQooKt/IyZSpo+TUnTp+mu+Tbl/+8Ordy6TkuGlOEMPbjWKYuC8uan67v/Mq07z/1nB5lFo0c7HIv1w7t70n53SZZ2vxeUZfHQN+zuyyLbnjf0zGKLdLZSeRkzdVf4PEkzZurejBxtfeP9cNA5RUty9ysnWQq+t0trUu8Il+kOfXe+XVtP3qantjljnmXKfT/R9nmSzr6kn3anm6akxz0D9u5aHtqvyq1LZQke1/6cxd3f412z0pVXcVqyLNf26q1aMsS95QDAVJ949Gx+pYJaoO17Nyolou3v1vt3qHLLAin4ivK2TLz5mF2L/UiSspZrye3jWRrcCAgwAUCSZJHtQK3eKXYq43vh2XzJC+TYUq53zvu0a80Phjyf89b7d+uYd4cc87rCQIvuWbxUt/6PQWZg261D7t3KeWhBdyA5Y96Dyin26thbQ9+wO6ZvLNAGb61+X7Uj6jxKXiDbz3aozPcn5c4Lv3b7cu36z5Mqy1uueyyR5anWh/9ZpZyF8WaDzlFudXQ6JS/QkqTBrF47RfM3eHXMV65nspZ2p7d8b6kcW6r0+xPVyk1hrhCAcdR5Xvt/kStvULIdKFdun/GlUzR/0x5tnxeaj7nj0AQLMZOXyna/xOI+MEtC6+dXjPEuBAAgwmceOVNz5XuoXH94LZPFawAAo6fFpZ8ufEo1KTt0rGYd8y8xYvRgAgAAAF9Tjb5K1YjFfWAeAkwAAADg66jzuI6UnxeL+8BMBJgAAADA19D1Go/2ByXLhkxlsLgPTEKACQAAAHztXNaRN12S5uiJh5YOe09loDcW+QEAAAAAmIIeTAAAAACAKQgwAQAAAACmIMAEAAAAAJiCABMAAAAAYAoCTAAAAACAKQgwAQAAAACmIMAEAAAAAJiCABMAAAAAYAoCTAAAAACAKQgwAQAAAACmIMAEAAAAAJiCABMAAAAAYAoCTAAAAACAKQgwAQAAAACmIMAEAAAAAJiCABMAAAAAYAoCTAAAAACAKQgwAQAAAACmIMAEAAAAAJiCABMAAAAAYAoCTAAAAACAKQgwAQAAAACmuOn/fnl9vMsAAAAAALgBJBiGYYx3IQAAAAAAkx9DZAEAAAAApiDABAAAAACYggATAAAAAGAKAkwAAAAAgCkIMAEAAAAApiDABAAAAACYggATAAAAAGAKAkwAAAAAgCkIMAEAAAAApiDABAAAAACYggATAAAAAGAKAkwAAAAAgCkIMAEAAAAApiDABAAAAACYggATAAAAAGAKAkwAAAAAgCkIMAEAAAAApiDABAAAAACYYnQCzA6/CpMSlJBaqoZROQEAAADwNXSpUisTEpTwmFdt410WIIZRCTDbjnlVHJBsT9qVOhonAABJgepMJSQkxHjcrUX3Z2jtL8vk/qBJbV8NIo/n60woUZ2KExKUkJAp96cTIR8AwI2m4Z0y+WRVwSM2TR3vwgAxjEKA2Sb/4TJJdmWvSDY/ewAYUIvqjvlV+eJ6ZafP1jdnZar0BO28AIDJrkH+3zRI1vVauSxxvAsDxGR+gHnJo8oqSTnZst1heu4A0Ncal1oNQ0b3o11Xrzar3ntAzmVW6ZJXm5fOUnZ1S5+k1ixPKM1zaSYUJE0FhiHD8MgxouufWfkAAG4kHR94VHJOSt1kkxl3LWA0mB5gthz30m0PYJwlaurUZKWuzlOFv0n1+2yyKiC3I1vFZzrGu3AAAAxDh2qPVSogm/JWMwkNE5fJAWaDvC/7JKtT6Wl02wOYCKYqdaNH3udSJdWpcJtLkf2YXXMwM6sDPS+eK9WPEhKUYKtU3z7PHi2vZSghIUEZr3Ud1TV3slixZnS2XfKpbF2mFt3TNVc0SbPTM7X+Rbf8lyKH8PafjyQFTrlV/FiGZieF8kqak6G1z3vVFGsk8KduZSYkKOFhtwKS2hq9UWnvTlur0g8CMRICAAbWIvejSUpISNCiFxoUsxmzo0HFaaHrfqzRNIPyhU/uFwLSA3alzxxsojZ5Hwudt/CDfhpYv/BqbUKCEpIK5acdFiNlmKmuyLBKRureelOzBYBYWt12Q5KhNS6jdaCDr3gMp2RIqUZJQ9887O7IHJqNigdkSOlGxcV4GdYbJXNlSLaIY2qNIsmQiozaXkc3v+U0kqVQeWM9oj5D/HwMo92o3ZVuWOPlY7UZJQ3t0Uk+cRl2ydDqAqNkY7y0VsPhbh7oWwQAxNLiMhxWGVKaUVTX6xpstBu1O9MMSYb1EZcx3Ctt1/3K6b06pHTt/oLQdT/HY8RL2fy6zRB1eJjExB7MDvnfPqCA0um2BzDxfGuRbI9IUoNqzw/Uepys9DU2SX6VHY6z2dIpn0rOScpxKnOgluQ2n0qfrFSL0lTgvaCr7RFzRVsvqMZdory7BjfqI3DIKftWvwJWm4r8zWr/Ryiv9iv1cv17mhTwafMDhfJ/GSPx4WJtrpZWvnxUF660h8rwj6uq/7UjNIR4UyUt1wAwHHc5VHmoQKmqU+Fqp7wRK4B3nChS3rY6aWGRvK84NLwlMFt09KBXUr4cDwxtElriskxtniupqlKeS7GOCI9AVKqyV1CHx8iZF2C2+eV9ISA94BhCtz0AjBWrku4J/eX9eODhoMmrnHJKatjniRF0dTWoDXK++Z8bVBaQtGa91q+epandsWSiplpnKT0rXwf22mUdsFQNcu1yKyCr8n/jUcGyZCXeFM7pW6lyvOzT0SesUqBUpYdiBNFzC1TTVKOKf7dp1rfChbhpqlIfL1XpGkmBStU1DlgIAEAMiUsKVbYzTQq4lbfVHZpi8aVfhWuK1SCbKg4WKO2WYWZ+zquydyXrszYtGvIstFTZ16VL8qmsuq7PEN6uhYP0QJ7sc4dZPiCCaQFm2wdelUlyPp45zJYZAJhAvmWT41mrFCiW91iviY1dDWqDnW+emBjaE/iQR0c/HkGZzvnlOidp7mZlr4h13qmyPbpeVkm+an/f+aP3zNbsmNGwVclzJCkg9bNnKACgP4lKe86ligekwMFsZT/vVuW6bJUGrHK4D8g5gg6YhmMuNShVmx9O13BWOUle5pBNUsO2Svm+iHynTb6DxQqIOjzMY1KA2SLPa5WS8mRfxtqxAG4EiVq0wimrpLLDfkWGmF0NaqmbMpU+mDv9XLvyHpAkr9YmJ2n2Q+tV+Cu3fKeaFIg1lDWOtk9a1CBJabPiVwLuSNYiSToWEMv2AMBYS5bzFZccVqluW7bWHgwobadXlVkjCN06/PLsa5DmZit9uD2MMzPlzJGkSlW+E9H82LW9oLVgyENvgXjMCTAv+eV+V7I+a1c6/zcBTEgBtV4M/eX43uBu9LHnrQTkq66UhrRMfLKc7gtyPW1TsgJqeqdMxU9ma2XabCX9U4LufrhUdV8MnEvHl62hP5K+OYhtoK6qnfmUADD27nKoaJct/MQm5yNpw+p17NJx3KfigGR70q7hz5CcKtsjBaERLi971bW6QMPhMvk0hAZTYBBMCTAbDpfJP4JuewAYdV/UyndQktKVnjrwbMeQVNmftEny9Sz2c+moXIc0xGXiJU2dJcfeo2r+R7tam2p11H1A+TlpSpbUcmizFq0qVsMAAWHiLUmhP1qvKtZuJNG+qZu5IAPA2PvYrcKtvvATnwq3ufvd8qp/bfJVl0pyyrlqZANYuxtNz5XI80FHT88o+2rCZCYEmHXyjbTbHgBGVYfqXi1RpSStcWrlEALD5KX20LwVt18NkhreCbX2Dnuuyk2Jsn4vTbasPJW8XqvmqzUqmCvpVKF85/pPOvXO5FDrdV1T3MpKR1O9vJK0wjqIRYMAAOZqUGlWttyBVBX467vnY65/bZgh5qc+uaok5diU/q2Rli1V6Y+mSgqo+KBPDYfLVBzQ4FZDB4ZgxAFmxwdHdWDE3fYAMFra1PSaU/ZtdZLSVLLVMbTAq2veyrkSeY7Vyf+bBnPnqkydrdn3DPLYuenKDrc+u47F6u5skfegS5Jky0pnsQYAGFMdqns+T5tPSWk7y1S4LLV7Pqbv59kqPjX0eQstx1zyDnbF8kFIXZUnmyRV5cm2ySuZmDfQZYQBZtfKUzbZl1KVATBRdKitrUUNh8u0Nn2WZv/crYCS5XzLpfwhj7TomrcSUPGjdpWck6zrVg5prkqgeq1WriuT91STAm0RFYyONjUdPqADhyRZ85Q6YAtyqrK3hvasLH10pQoPN6ktvOprxxcNcj+ZreyDAcn6/7d3/0FR3oe+xz/MzQzem161uccVciqnZKKNKbQxaiMqcQKYTjbqjEvIXMDcka45QddeNaTFoNHRApFUNOSKoa2UzEl2uRPDOqO4mSYsGQv+yAUlOdCYakZyMDfgmhN/tLnCnMw8mRxY+QAAIABJREFU94/dRcDdZYHHH9H3a4aJsM+P77Lkeb6f5/urQAVZXJMB4Ea6eOAF/8PMOcWq/FVg3OUPc1T5e4fidFQbl4ZZoziswPqU0c5YHo3+yX561NMj6aEXlPkY4ylgrrvGtPdXjfLUiKZ1ADfX3lzFx+SGf/1+m3bVVssxa3TPaMelpMkeV6KSnh71aIa2L04Z4REuyPP6anleD/d6ihy/L5A1iu5PcVnVcpf2yFbUqBLbgyq5ZgOrtr9brLTRrrUGABi5z11y/HOlepSi7a9v0IwBmW3i4u1ybz2huZvKlbvqYR35l5zoepgElqaa8YqZE/AEHprW+JcmmZGTRg9EmG5MLZidB6pVLakgm6Z1ALeSOE1/LE22ldvlbDyjC6frRh0uJUnj0pT5fOAWPIqFqOOyqvVJo1PbV9qUlnS1g25cUprsv9ojb/cR7Yp68oZxSnnRq7ajThXnpWl63IBjba3TJycPquAhnkYDwA3T26aS7Fy5eiTbv4TqKTNOKS9Vavsc/3jMF96MZjxmrxrf3q42pZk+Ac+41DTZJTG5D66XGMMwjNHt2qbyGQ/rhZ4N8nYWM7UxAAAAYIaLHq3+/pOqfGKPznjspo6p7/1goxLTStSTV6cLf7TRSATTjb4FM9hsz7o5AAAAgGkufuBWpcYwY3n4IwfmT2FyH1w/owyYwWb7GcpdSNM6AAAAYI5O1f2hWpJDtsdMjoCf1am6Rkzug+tqDF1kAQAAAHxXtP32YT386zZZ/3hGB/OYbRzXx5jXwQQAAABwi+ttVN2ONkl22aOeWA4YOVowAQAAAACmoAUTAAAAAGAKAiYAAAAAwBQETAAAAACAKQiYAAAAAABTEDABAAAAAKYgYAIAAAAATEHABAAAAACYgoAJAAAAADAFARMAAAAAYAoCJgAAAADAFARMAAAAAIApCJgAAAAAAFMQMAEAAAAApiBgAgAAAABMQcAEAAAAAJiCgAkAAAAAMAUBEwAAAABgCgImAAAAAMAUBEwAAAAAgCkImAAAAAAAUxAwAQAAAACmIGACAAAAAExx15kzZ252GQAAAAAAt4G7/sv3xt/sMgAAAAAAbgN0kQUAAAAAmIKACQAAAAAwBQETAAAAAGAKAiYAAAAAwBQETAAAAACAKQiYAAAAAABTEDABAAAAAKYgYAIAAAAATEHABAAAAACYgoAJAAAAADAFARMAAAAAYAoCJgAAAADAFARMAAAAAIApCJgAAAAAAFMQMAEAAAAApiBgAgAAAABMQcAEAAAAAJiCgAkAAAAAMAUBEwCuG5/cz05S/ORJqjhuzhFbd5h7PAAAADOZEzAvnZJ7a54Wz/FXfB6xrlWF55T6wu7QJVfOJMWn71Rr+I0AICLfvjzFT/Zfd+LX1utyxK0D153A9vZ9vhtUSgAAxsDXpKq1Nj2aPEnxk3+sR59Zr5oPL4Xfvq9J25InKf7ZOnGnw80w9oDZ166K7HlyVNartdP/o67jTm3Lm6enftceepdD1SrzSjkFv9Cs2DGXAACk2t1ydYR/ue/wWyrz3rjiAAAwZl/Wy5Fu05baJp32SZJPp9+rVtGSuSp6L3TI7Nq7WxW+ZG1ekynLDS0s4DfmgHn5kFPbjkuWrCp92HVe3efO66+HXpXNIrVuekfN17RQdqnud7vlS9qiPOuEsZ4eAKSkZCWpRa+/2RCmFdOng2/slE/JSkq6wWUDAGCUOg7skNsnzSp066//11/P/ti1TrPkU82eenUN3eGbJtWUNUjZzyuH+x1ukjEHzFNt1ZKk7GcylRBojRz/wFPKzpKk3To+pEXB33ppUV5hrvi7B2CKJx1auUTyvVGt+s4Qr3e8o9f3S0mbntfK+2546QAAGIUunTrWLmmR8rJSNf4u/08t6cuUvUDSoQa1fjlkj327VeWbrc0rFmn8jS4uEDDGgOlT12eStEjTpgz8eawS7kuVJJ3794HN9+2qKdst30yHch6n9RKAWRL05PJ1sqhBZW82DRn/fUmePZvVoVyty/7ZsEfyHa9TRf9Yl0n66QKbCnbU63SE4S7SJZ327FSBbZ5+OjkwRsa2VhX7/o9834bavkUVkycpfvJOtYYrR2B8abRjRYed/OfLOtknhxmT42uRe8daZS34cf8Y1UesNhVsdcrTwQgeAIisS+7V/uvn4or20HOQ9LWrwuq/Pzj2XdPuGMY5nfVI0k+UMKiePVkJSZL0b/J9PeDHXzeoqqxBluVmtF5ekmetv7zbDkeYMOXrehVMnqT45NIQvRZxp7qhs8hefs+p149blF9op/USgKli5y1TYbrkq9ytuoGtmJ31ctVKSYW5Sr8n0hH61Fph00Jrvrb1j3WRfJ82yVWWp0fnZ6uqI8Td85tTcq2eq0fzSuU6fCoQ3nw6fdipbfl52uIx6x1eH33Hdyor3SpHmVPNn14Nk13Hm+SqXCt7ujNsCAYASFKCbIVb/cPDSgtVdXzovaJPrZWFgSFlW1W4NOG6lKJj7w7V+DJUmJ9hQuvlBKVnrZNFPlXsfT/sJHpdf3LKJSkpf7HmM68KAsYYMC1KuF+S6nXq7MCf96nrTJMkiyZbgi2V7XKVVcuXXqS8BfwFAjBbgjKfW+VvxawNtmL2qbm2VF5lKG/pbEW68vj2r5G9tEk+S4bWu4/r88BYl89PNqpyxWzJ16At2aVq/mbgXn1q3ZWvgr0+aaZd5Z6/6PNz/v26uz7Th55XlXdLP007JddLpWr2WWQr8ejDM4Gynzuvz08d1/s1ryp/aazG3exiAsCtbkqmduxZpyS1aNvyNfIM6Lra92G5XixrkWYWqbosU9HHy8maYpWkf1XXoHr2OXV1SNI0JQRn8fm6XjWbWmRxrFJm4ljfjF/svMVamSSp1hl6+Ina5dnTIClZmQuSzTkpbgtjbsGcNsMuSap9s05dgQc2lz99R7V7JekpzZwe+JmnWls6LMp/7qnA/1iX1LpnvZYFumT9dIFNBZUtwywzAADhxS54SitnSr6KQCvml/WqqfDJsma4G2673BV18smi/F1vaM28BMUGxrrE3pMsW0mt3lpukXy7VbV/QNemznf06g7/+JjK321TzkzL1RAbO0EJMxdq1q085vPLdjUfl6QVylsxWwl3X30pdkKCkqy52ly1ih4nABCF2EcK9HLhbMlXpxdL6/wT8HzTpG0rdqpDGSqvXKdZdw93lIESNG1OsqR61ext0uXAkAuf9y3VHpK0IFVJgYDZUbtDLmWo8JlU/33om1Py7Fg7YAnBPG3ZF2kJwVCSZc1LldSgmn0t1+zbd/iAXu+QlG6XlRsFBhhzwBy/IFfrZ0q+vfl6JMH/R/yjBWvl9knp5XZ/c3lfi2rKnVJ/6+UleQvnavGGankDXbJ8nzbJtdWq1MJws0ACwHCSlbM6V8GbYeu+SnmUocLs1Iitl+poUl2HpCSHMkP2sJig9KdXyCLJu6+pf9a+rsN18kqyFK6SbUqI3W51d0/QZEnSATUcjjjIFAAwrFjNer5K5en+erFjR51chfmq8llkqypTzihaFpMWP+/veltm04/+MTA3QM5OtcqifEeg0ebLOu3c2j7gYWq7qrLmyV7mHLCEYL2q8sMvIRhOwrxMpUvqKHPKO3C8py7Ju3enfJJyli0aQass7gRjH4MZm6w1tYdV6cjQ1MBTlISZuVpfc1jVy/x/bj7Pbm3rSNb6gsD/CB1ObXvDJ81cp7faA12y2mu1Zqbke6M04lp2ABDJeKtdm5OkjjKrFm9tj6q70OUvu9QhSbOmhb9JxidoliQd8gXGWV7S6fYmSdL8+//JnMLfaBNSZXVYJLWrwna/HrGu1ZZKpzyH29V1idkaAGDkEpRTVhUIhf4hFLMK39CO0Y67vHeRKr1ubc6eHbg/WTT1cbtK9x/R5gWxkvrU+r8r5dEibV7uf5h6+T2nthyXLFmv6s+nhi4h6JR3JM8TExcpJ1uSnHL9aWAPHv/8BrKs09J0Ju7EYOZM8jNhmmybavXnQFj80POq1lin+VsM+pr0x0310hKHsmf6WwZ8p1vUIcmat0zpwb7jlgzl5C2S1K6W08xaCGC0kmVbvSjw79laaRum9VJS7zfn/P+YPCGKiREuqrdPkvp0KfA0d9o/fleXso7V/KIPtHdTpqZapK7jTlVtXSu7LU2PTPuBfmrbLPdpgiYAjMiUTBUWZQS+yVB2VuQ5AIZlSVX+qx59eO68us/9RX9+c5vyHgmEus539GpZu5IKV+nJe/0/OtURXEIwV1MDm41/IFd5yySpWh2fjeTkwcl+JO+eegXbgDo81fKKyX0Q2nWfRbbLvVsVvmStz1+kYBWsq7NekjQ1YfDTnISEqZIkT+e/Xe9iAbiNWay/0BqLpOxVUU3VPu5uf0dRnbsURRf9iRoXuJkG/3vx79/hEHaXRfMdVfpz+xf6a2uj9ta8qjXL/T1SfId3y2EbPFkFAGAYZ+tUVtoQ+KZBZWV1inZhkpEJTmS3SCv/ezDE+tR1UpIWadq9g7e23Od/+PqvXSNryOmf7KejUvWH+6S+JtVXtUvKUJ6VyX1wresbML9pUk1pg5T9vPJm8ngDwA0Sm6r17efV/Wp0C02PvzfBP5FN66mwlYC+0/8qjyQtsAQellmUEBgX0HH23CgLemWU+0U4Ysh1N6MRq/FTkjXfmqv1ZbX6c9txlS+R5KtT3Yf0KgGA6LSr6rl8uX3JWuNu7B+PWfTWdYiYne+oqsKnpE3Py3bv8JuPXrLmP50sBZYs6fD8URU+Sdm5WmTSjLW4vVzXgNm1b7eqfLO1ecXgSl5Cov8Jyumuwf+zdXWdliRZE7+j45kAfDclpSoz8HS27lCo1sguHdz7jiQpfWlq/zjNqQ89JUlqrrnabWiwXvWGDHyTNWmBJLXqVMip3y+p68uRTbpjsaRKko6fDl2Judx9bmQTqN2VoGnTR1QEALjD9al1R6G2HJdmFZZp3bzk/vGY3oJ8VVyzPubYztX8Zqm8FrvWZw9sRbQoYbok1evUkN4nvjP+HoQ/SRj5sI6kx+1Kl6TaQuVuqpdk0ZqshSast4nb0fULmF83qKqsQZblz1/TRc0ydbaSJHlq3pI3+GDc1yBXTb2kZM2e+l0dzwTguylZtjWZssinqtXZ2uY51T8dfN/X7XJvyJdjr0+yrFL+kqtd+2PnLNL6JEkdm/Xihjp1BGfY+7ZPXced2mJ7QgWeUOdL0E8WJEtqUlm5M8R+c7V4a9OI3kHCQxlKktRcVipXx9Vw2ne2Ra5NNqVaN6t56E7Hd+rR/J1ye4dM6vNtn7qOV6umRpJmc00GgChcfm+z7IH1Ll92BLqsTsnUy+V2WdSibcuHrqU8Bh3VKqv0adbqXKXfM/ilaUnBJQSdOh24HVz+1KmatyTJrqT7R3G+/sl+fPL5JCU5tGgevRMR2nULmB17d6jGN1srn8m49ulGUq7WL7dIx3dqWbJ/yuX45GxVHJcsy4uiGjMFAGayLKlQdVGqLL4mVeTN658O/ofT0+TY0yJZMrS5tkjzB65hFjtb+a8UaZak1j35Wjg9cD37xx/oEetaufUzpYe5niUt9U8979u79pr9qnoXa70jdWRvIOkprcuySL46FaTf7z/e5En64SyrCn7XqyeLVml+iN1O7yuVI8c/qU9wH3851svtsyh9a5nyuCYDQGRn6/RiQbV8mq3Nr6xT0oDsNf7xLaounC35dstRaMZ4zEvyvlmpVotda7OuHQM5/vFcbZ7pv788Om3wEoKztuZqdJO+Xp3sR5KSbKmskYywrk/A/LpBrl0tsjheDFMxmaD0siM6sClX8x8IjGZ6IEN5JR41lYUIpABw3cVq1hq33vdUaX12av+yS5YHUpVTWKM/N9cqP+nap7WxM9fpQLtbm/v3sWjqPP9STU3uMtnuC3O6exep8pBHpcuHLPFU5dHH+7cpO3mkNQCLrLuO6ECJXemB66oSZyunsEoH2j0qzfrJtdfWmav0sbdG5Y5czZ85YNK1xNmyLt+i6kNH9NZzyWOb/RAAbnd97ap4Ll9un2TdVaX8a+q+sZr1fFkg9OVry94xRswOp159w6f0wlXXtF76JSt/72FVOhZpVmCMZHAJwXeeG/2kPLGPpCpbEpP7YDgx3efOGze7EAAAAABuXX2HS/Uz2075smv01ygn0cOd6bovUwIAAADgu+ySvHt3ysfkPogCARMAAABAeJ31ctWKyX0QFQImAAAAgLA6PNXySkpfsYjJfTAsAiYAAACA0PqaVF/VLilXOT9PGHZzgEl+AAAAAACmoAUTAAAAAGAKAiYAAAAAwBQETAAAAACAKQiYAAAAAABTEDABAAAAAKYgYAIAAAAATEHABAAAAACYgoAJAAAAADAFARMAAAAAYAoCJgAAAADAFARMAAAAAIApCJgAAAAAAFMQMAEAAAAApiBgAgAAAABMQcAEAAAAAJiCgAkAAAAAMAUBEwAAAABgCgImAAAAAMAUBEwAAAAAgCkImAAAAAAAUxAwAQAAAACmIGACAAAAAExx1//7++WbXQYAAAAAwG0gxjAM42YXAgAAAADw3UcXWQAAAACAKQiYAAAAAABTEDABAAAAAKYgYAIAAAAATEHABAAAAACYgoAJAAAAADAFARMAAAAAYAoCJgAAAADAFARMAAAAAIApCJgAAAAAAFMQMAEAAAAApiBgAgAAAABMQcAEAAAAAJiCgAkAAAAAMAUBEwAAAABgCgImAAAAAMAUBEwAAAAAgCkImAAAAAAAU1yHgNkj19MxyqztGfmetZmKedqlke8JAAAA3O6OqiQmRiXHRrrf6OvnwEjRggngO6unNlMxMTHRff3m6M0u7m0p+BlEqrQc/U3MsNtEz1+5iokpUdhP9AuXMofbBgAAXBdjD5ifVSvT+oKqj4WpOHzbo6O1Jcq0lqtt0Audqn76Sb1Qc1Q934beteeYSyVPP6nyj8ZcSgAAAOA7pff9jZqbUy7PZxdDb3CxU57/tUJP/k+PBm0x6vo5MHZjD5g/eFKOJ3rlfiZe8cm5Kn/3E134VtJXn8jz21w9OCVetj90Ku2XNiUO2jFeT660qndvruKnPKjc33r0yVeSvr2gT94tV25yvOKXVqsz1SHbD8dcSgC3syynug1DRqSvl1JudinvWCkv+T+Duuy4G3PCH+SozjBkGBvEpw7gu2zcjEy9MP2EXkj9vu6zvqDqY526IulK51FV//pJ3ff9+7S6KVG5OQ9r4sAdR10/B0xgmOU/Lhgn3MVGTlKcIcmQ4ozp2cVGXduFYXe90FZnFGdPN+IkQ5IRl5RjFLtPGBf+w7TSAbgNdbts/utNltPovtmFuUMFPwOb60Z9AkeMYsmQio0jN+iMAHDTXek2vK85DOv9CtSzEw3ryl2G9+yVyPuNoX4OjNZ1HIPZo94wXV+H3bO319yiAEBA77ESzY2JUUx8rtxfhN6mZ2+u4mNiFJNSoqN/D/wwOK4vMBFZzweVWv30XN0XE6OYmHg9uGS1KpvDdGGSAt2YVisz5b7AuND7NPfp1ar8IHT3pcFjGy/q5L4SrUh70F+umPs09xflaow4pHHoPjG6LyVTq/9XY8hhCcFxkiXHJH3bo8aBZY1/UE/+2qWTg96ef8KI+By3JMmdEz9k3OvV8Y+Djj1Qb48aazZq9dPpmjv16r7xyenKXFV5bZewYyWKiZmrjZKkjf7PccBX/xjPIZ/VNQJdw67+buL1YNoKlew7qZCf4JDjXexwq+QX6XowPvh7XaHyMJ8jgDtBp1z/w38NnPtym0LWYnvbVJLiv97k1naacM4ro6xnj75+ro/K9XBMjGKs1Yr0Dtp++7BiYmL0ZI0Z7xPfSWOOqAOeqMQ9Zjd2ebzGrqUybK95jYOv2Y20uODPzxiDn5VcMbobdxmOJxINxaUZ9tcOGt7XbIaW7jK8nl2G/bG4/p+f4SELgBBG14J5xTiyNcXfW+IZp3Fm6MudTiMnToaUYhQfHfBk+KzTsEmGFjqMgqzEwJPgoV9xRo7rmiMaRmedYb8/1Pb+r5RfHrymHP0tgy9tNwoeiwu9b1yO4ewM8Rb/dsQoDrePZGhOsXHkb4N3ObLV/5rjlV2GLVxZB+3XbTizwr+ngS2MwWMXHx1SzuDvNOxXiuHwDPhkjxZH2HZAK2rwuKH+Lob53cQt3m6cGPK76T/e0g3G9nVp/b1tovrsAdwZwt07DMMY9r4TyfkTRt3WHGN6nIzErGLDedRpbJCMDa4jhnOrzUhU8OdDrnajrp9HcsbY84QMaYaxvS3MJle8xoY4GZLdqDs/kjeK28nYA+bpPYbtiQJjT/8ftr/S0X+j/49u44ir2LA9sd04MWjHM8aeLKtR8McjRnegK2y3yzaoQtB91GkUZ1nD/xEDuKONvovsmf5wlFJ6wrhyzc9DhIWBYeh+m1HsPmF0B4PIlW7DW2oNBA+b4Tw7YL8rJ4ziOcEg6TROnA+c7T+uGGcaiw1rnP816+8Hn6//vSlYCfjEuBAs6PkTxp5n/CEp7kWvMbgqc8ZwPhNnSHFG2jqncaL76qtXzp8wnL9MCblfMASqv7JyxrgSuDZfOXvQ2BB4D9Y/hi5npC6y4QNmnWHPLjacjZ8Y3RcGlObKBeOMZ4ORIhmK22B4B73BKLrIhg2Y3UZd8Pe2uNjwdgYPfMW40OY0HIH3GPerIb/TgZ994MHnJ/2f4wXjxO9z/J/9NWUFcCe50rTBmBF4+Fd3NsTPQzzcG/aY720wUrK3GwdPB2Og/xrYfz29cMY4+JrdsP7y4OCgOOr6eWQX3PYw957Br2vlwREEV9xuzBuD2W/IH/BI9hwSMAEgkoEhbNivrUPiSIinzWd+bw0dMAxjQAvmLuOTkOPDLxh1ef5zpQ0Ii/032yf2hH5q3bY9ZJAKvrcZL3lD36SD5YkrHlQ5uNK4wYiTjBkvHQl58zeMT4xdC2VIDuPggAMHQ6Dtj2GerR8t9oeoZ+oGXaPHFDCHceSlUE/KxxAw27YHKn8FhjdUJe/8QcMRJ0OyGntOhzjeQxsMb8gPo7v/wURxy0jeIYDbS4iWyr95jYJQ15VRGxIwozb6+vkgV7xGQaiHqYZhXG3hjDM2NPK07U7GOpgA7kw/zFH1vxQoTke1cald1bUlyv1njzSnWO5NaRoXbr+J39f37wr5gtKWOiRJjU1tgbF/F3Xk/WpJkmNlZuiZ+h7K1eosST0l8jRdO3IncfqDg2cGDPpBoh6WpB4NGO/TqyPvlqhHaXL8j5Qw72G6Hk6VpDq1fXbtqw9PDzOf4A8SNVeSrscY+a9OqrG2UuW/XqH0x9OVHhj7Ofc3ktRm2inbPnCqTdKMX+cq7XshNvgHq3JXxUnyyPVBiLFDUx/UgyE/jDglJktSjzTasU0AbgPjlPKSU3uekHrezFXub1yqXpWr8p445bh2yX7/zS6fCcbNlfXFOEluba8dssDJR25VvivpoReU+VjYuyjuACGrSWMTp5y3DeWMZs/sOhnZphcIwO0uy6nut3M00kUwxi0slnvrEc3d5NKKHElxOXLWblBKqPARhYnx8YqT1NPeqW5JcerUyaOSNEOJU0ImE/WHk71S51cXpRG/i4FOqu19SWrUiqkxWhFx21sgDH3bKfevV8ixszH0ZDymuqju0/7K0Nz7w0/Kn3j/XEluNfb0SEzeD2DEEmXf7VRjSq5cm3J1VFLK1iOqzjbrepKiDYYxiv1GXz8fbJzSnn5BM15+QW076tT4yxlKGydJvWp8e7vaJFn/p00zxnwefJfRggngDjZOKS8Wa0Pw2zy7csay7m5coJXvo95Aq2Kvej+SpETF/8Pwu/f2XhnDyQee77ugV41Fc5W5s1E9SpTtV3tUd/QTdV+4oAsXrsgwDB3Zau75Ln7l/1f8pHBhf4C/XQk9EyQADOeHOSoutQa+scr+TLgeJd9RD9nkeEJST4lc7wbm3v7KI9fLPZLssi/m4dydjoAJ4A7Wq6Mvb1RJ8NuXN6rk2BhixRedckvSwrhAO+Q4jXtIkjrV/dXwu48b959Hf+7A+fwntsl51pBhRP7aMGeMpxuLHo+qf9sjKUXFRz9R3St22eZMV9zEiZo48XpUxcZpYiDkd5+PsJxM0H/9z7dXhRDAjfO5SxuLPIFvPNq4yRVxWY/vnkRlPmuXJFX/oU6dkjoPVKtaUtyLObJG8UAVtzcCJoA71sUDL8i26aiU5dQnnuB4zI1q/Pvw+4bS03nC/4+HEhUvSUrU9BRJatPJznChplOfNPn/lfgPUbSsRZSoGUslya0TJ29w+9u3I2x9/fykXJK00K6cOaOJciNt7Z2o+Kn+TltHPg1X1evVJ23+dT3T4sbSVRnAnatN5dm5cvXM0IbGE/3jMVf/4faKmBMfs8khSe9Wyt18VK7XPJJm6IWnI8xhgDsGARPAnelzlxz/XKmeuBw5X8nR9CeK5d6aIvWUK3fVKJ42//2odr3ilhSnDU/MDdxgJ2ruwsFPeYfqPeZS9fuS4jbImjrW2/LV85VvKtfRUQblkYibMl2S5D49wlGU48b5x+icv6jQ0fuius+GPKMSl0rSSXV+PrJTzngsVzMkte1whn6I8Llb1W9KklU5j9HFC8BI9erobxx64ZiUsrVSGx+bIftup3LiJM8/546th8ytZmKabC/GSWrT9iybNn4k6QmHbA/d7ILhVkDABHAHCj5hjlPOa+WBcZfjlPJSpbbPGeZp8+mDcr57Uj0DAsrFTz0qybGp5CMp7ply2QfMnjfxCYeK50h6d4XSf1Gpo18EKhjf9qrzgxJlLt2oo5KsW+2BiRLGZuJSh7bPkXRso2xLXlD1sU5dHFCn6b3YqbZ3XSrJWSH3F2M/n+ISlSZJf9il6o+i6Hoa9MAMWeMkfbRdG19uVE+wjL0X1flBpVakTVfmH0LtGK+4+yXJrV2/91zdLxoP5WrjM3Gq46+1AAAToUlEQVT+hwhLNsr9abC8vbr4kUurs3Pl6pHiflWg3NthtkcAN1R/r5g5xar8VWDc5Q9zVPl7x5h7yNx6ApP9SOrp8T9gtD8bZrZ03Hlu2gIpADBGo1sHc8A6ZaEWgg6xPqZhGFfXQozwFfdYmEW0O+sM+/3h90v55cFr1sgcfn3JCOtBnvcaGx6LG+Z3MngNs2HXqgy3tqRxwTi4MtS5rpYr3LEveBxGYpjyJWbtMrb/MkyZgmuHDvnq/12FLathGH87YhRH+N3ELd5unBj6GUY6XrS/PwC3twH3jsFr9xpGyPUxbwvBdS9lSHaj7vzNLg9uFbRgArij9Oy1+58wP7RB7les164xOfBp88ria7uZLt0lr2eXHFkp/U9qE+fY5HjNq7b3wixx8kOb9rSc0cHXHLLN6d9LKVkO7Wrs1pHXrOY+9f2HNBU3ntQZzy45stI0vX84YaJSFtpV8JpT3pPVyvmBGSebKOtrbfK+YldKsNUvbrrSFk4cdhzOxCd26US7UwWLpwcmRQr8TjxndOJth+ZOCrPjQwXyDNpPSpyTpsRolpf5Xoo2vNemI65i2R8L7h+n6Y/ZVez+RCf3F2jGKJepAXCH6m1TSaAHhO1fnCq4ppvo4B4yL7x5u4zHTFRaln+2XCb3wUAxhjGqxXQA4M7yhUuZU3LlHuWamwAA3F46VW29TyvenaHtbSdCBGvcqWjBBAAAADAyH7lV+a6Y3AfXIGACAAAAGIFeNb69XW1ich9ci4AJAAAAIHpfeeR6uUeK26CcJ8a6hjNuNwRMAAAAAFHrPFCtakkzns80ZYkt3F6Y5AcAAAAAYApaMAEAAAAApiBgAgAAAABMQcAEAAAAAJiCgAkAAAAAMAUBEwAAAABgCgImAAAAAMAUBEwAAAAAgCkImAAAAAAAUxAwAQAAAACmIGACAAAAAExBwAQAAAAAmIKACQAAAAAwBQETAAAAAGAKAiYAAAAAwBQETAAAAACAKQiYAAAAAABTEDABAAAAAKYgYAIAAAAATEHABAAAAACYgoAJAAAAADAFARMAAAAAYAoCJgAAAADAFHedOXPmZpcBAAAAAHAbuOu/fG/8zS4DAAAAAOA2QBdZAAAAAIApCJgAAAAAAFMQMAEAAAAApiBgAgAAAABMQcAEAAAAAJiCgAkAAAAAMAUBEwAAAABgCgImAAAAAMAUBEwAAAAAgCkImAAAAAAAUxAwAQAAAACmIGACAAAAAExBwAQAAAAAmIKACQAAAAAwBQETAAAAAGAKAiYAAAAAwBQETAAAAACAKQiYAAAAAABTXJ+A2dekbcmTFJ++Wx2RN1Rz6Y8VPzlNVZE3BABTtO6YpPjJk1Rx/GaX5Prz7ctT/ORJit/RcrOLAgAwS6dTyyZPUvzael2OtF3U9XHAXNclYF4+dFAVPil9xSIlRdrwUpM8FT4p3S5rxA0B4Fr9ASqKrzshUEYrGLLt+3xjP9iXdbJPnqT4yTvVOobDEIYBIDod71XLK4vWZC3U+AjbRV0fB0x2HQLmJTV7qiUtkm1BQsQtLx+uV40ka9ZCRd4SAAAAuNO1q/ntdsmyQhnzYiNsF319HDDbXaYfsbNerlpJ2ZnKuDfShl2qf8spKVeZCyymFwPAHWRJlT7+Q6a4kkRn1vPn1f28SQe7N1PV5zLHfBjL0hp1LzWhPABwG+s7fECvd0hJmzI0K9KGUdfHAfOZ3oLZdaw+qmZ7dTbJ45UsazKVfo/ZpQAAAABuJ31qOeSUTxnKsyZH3DLq+jhwHZgcMNvl2dMgWXI1f1akZnupw+PvP5694GeKvCUA3DiXOxtUU5inxXMC4zfnWGUvrFZzpOGK3/rUum+nCmzz9NPJkxQ/+cd61LZWFZ5ToSdgCI5bfLZOPknyNammMFuPJgfOubpeIxkdefnTelWstfXv/9MFNhXsqFPrl6G3DzXRUUdlmuInT9Ky2q4IZ+qS6+lJip9sk6szzHsZ5JK6vNUqetaqR4LjYZPnKevZ9ara16SuS1e3DI7BDDsu9FKXvHvWy26dGRhXO1OLn12vmsOhtx98vEs67Rn4+czU4rW7I3+mABC1LrlX/1jxkydpcUW7+kJt0teuCqv//uDYF+k6G8HX72tfhU9KX6T5iZE2jL4+PlB094F2VaVPUvzk7Kv3AWAIcwPm8QZ/s33+Ys2P+PfcIm9Vu5Tk0KKI/ccB4Mbp2r9WC+dkq+iNerUGb5ydLfK8sV5ZyVYVvRfipvtNiyqefkyL80vlOnwqELJ8On3YqW1585T6zG51fBPujBfVXrtWjyTbVPRGg04HA09fyOpJCH06/Va+UhfkaVttU//+vk+b5CrLl31rfZTHkZKsdqVL8u5rUtiqRUe9ag5JSs8cpnIjSV3yrE3TIznrVbO/5eoxfafUvL9aW/Jt2tIYZcI7W6+Cn8/Usg3V8hwPHqlLrfurVWT7sRZvaAhf5lPvaIttrh7NG/j5dKm1drOy0vPlPhtdEQAgvATZCrfKZpFaSwtVdXzoNbxPrZWF2nZcsmRtVeHS0Y2J9B2qk0tSzrJFkecuibo+Plj/fWBPfdhZZ4NddJWdq0XD3gdwpzIxYPap+U975FPqsM32fYff1x990vw8ZrUCcGvo+2inHM861aXZyqtq1F+7zqv73Hl1nzmuvUUZsqhFNc8UDnli65OncLm2HfbJ8niR9rZ+4d/n3Bf6q7dKeTMl33ublVveFPqJ9v71Wlbapfklbn14JnC+c+fVHeV40r4Py7WqoE4+zVbeqx59HCzzuS/011aPypdHvhYPkpgqa7qkQ9XyhKlZtL5XqQ5FUbmRdNm7Wy/Wdkkz16m6+TN9HnxvXZ/p42a3KjfZlRBNxaevXRXP5cnVKc1aUaX3TwZ+x//3C33oLlK6RWrdk62it0JHTM+OzXJroUpdh69+picbVZ5lkXx12vJmmM8GAEZiSqZ27FmnJLVo2/I18gzoQdL3YbleLGuRZhapuixzlBNbdqlhb72kVVqaPiHCdtHXx6+RuEg52ZI6KlV/ONSV8ZK8e3fKJynPmkrXW4RlXsDsX3JkuCfbl9S8f6d8ytDSecxqBcAE+/MDXR9DfeXJHaar6FWX5H2jVK2S0surVLo0WeOD4efuBM1fUyvn1tmSGlRWOyCQdLyjnXt9kmWVKqvWaf6U4E6xGp+UqdK3apVnkXyVu1UXqitR0iq95XWrfEWqEu4e6ZvuUl3FTnVIsu6qUmn2bFn6A1usxk+ZrYw5/zSC4yVo0bJcSe16fX+I0NXXpIYan2RZN0zlxu/Ux9XySbI+u0LWqROuDoWInSDL1FTZHNu02Tp8jL7srda245LSX1VlSaaS7gkc6a5YJcxbp7dqt2iWJG/ZW2oOUR9Ket6tJverykufdvUzvSdZOUVbZZXkq23V6WFLAQDDi32kQC8XzpZ8dXqxtM7fs+KbJm1bsVMdylB55TrNGvG1PqCjXjVeybImQ7MjTh4bbX08lAlKX7pKkk8Vb4QYqhGcOMiyTtYFw98HcOcyLWAGlxwZ9sn2103yvCGa1gHcOi61qLlWkuzKWxz6Cpa02O4PJBUNagkEmY7D76hDUtLqpzQ/VKXhngzZ8iySGrTvcIgWtvt+ouTRTn3b2aR9XkmWIq3MMudh3fj0TK2xSL6Kg2q+NPi14HpqluzUyJWbgHF3+5+cezzvq+vb0ZbokloOOSVJecvD3FuSnlLeEkm+nfIeuzZhJkz7Uein7Pcm6CeS5JN6R1s8ABgkVrOer1J5uuTbmy/Hjjq5CvNV5bPIVlWmnDHUezsOvaMOJWvlktSIc5dEXR8PI3ZOhtZYJO2vlHtIbxb//Ckj73qLO49JATO45Ihd1nmRn2h0/ckpl2haB2CiJVX6+NyALqaDvmpkG26K9rOn1CJJSQmaHO4SFgwk6pLv3yXpks6daZckzU4MfxtPSPyZJKnZd24k72hYl0+3q1mSFkw1bx3h2J9pfrZFUrU8hwcmzOB6asNXboKSHveP5dH+tXpkxjwtKyxVzb4GtZ72qS/qwNml062SlKyEe8N9MBYlTA9s/fWlMNsAwI2SoJyyKv94zLJ8Fez1aVbhG9oxynGXkqS+JtVXtUtJT2l+xLFl0dfHw4pN1aL8ZF3TmyVYhihmsAXMCZiBJ+mWNU9qfsS/5y4172ugaR3AraWvzz+hwX2Toxj72KvePknq06Wv/T+Z/N+iuJ79vdfUsX693wQCa1Rljlas5i9xKEmS6636qxPnfNmgulpJ6XZZox04n5ir3YeqlJ+eIPlOyfvGThXlZ2vx/B/rh/84U/bKltAz7A7Sq74OSfonWaJYzqqvl7ZIALeAKZkqLMoIfJOh7KzZY1oxoe9Ygyp8UvqKYeYuibo+Hllwsh9fRZ28gfvcZW+dKnyiByKiYkrA7PBUqzmaJ9uBGQhpWgdwS4mN9d+0z5yLYnmQcRoXK0mxmhAIPef+PYqWs++NM3dJpv8UOJrJwVVJi5SXLsl7dbKfrkPvyCMpfXHqiFpLxz+Qqc2u4+o+8xf92VOrypJVypmZIKlLnq1W5Yabzr/fOMUmSdK/yff18OeLHTduBKUDgOvkbJ3KShsC3zSorKwu/EzXw7ok777dknKV8/PIV+Co6+PDCU72I6dcf+rS1ZZR1tVEdEwImMElR4Zrtg/OQJiszAU0rQO4hUyZptmS1HFKXeGCTOcpf5dUJcjy3yRpgibf57+WtZwOV3Xo06l2/1Ih8y2TTSywZEn4kb/lsqNL5na+TdD8xRmS2lV3qF3966lFUbkJ626Lps7MkG3FFpV7juuv7nVKktRa2qD2YcoydZYktet0V7gQ36VTxwJb30PPGAA3W7uqnsuX25esNe7G/vGY4Wa6HlawB0l2huZH7MkRfX18eBM032qX5F+ypPXDOtV4xfKCiNqYA2ZwyZFhm+2DMxCOpIsVANwIE2ZrfvBprSdUJaBPrfucatbgGfyS5j2lJEkdVe+oOdRal2frVbtX0vWYNXv6LNmkiMuKjLbHaMLPc5UjqaPqgJo/bFJdh2RZk6n0KLqpRmN84o+ibAmdoNkLciUN6bI7QN/xOtUekmRZp/Q5VHwA3Ex9at1RqC3HpVmFZVo3L7l/PKa3IF8V16yPOTx/D5LhWw6jro9HafyCJ/2T/XRUyr6iVB0y79i4/Y0xYAbXw8mQdU7k6kKw7/ZIu1gBwPU3QenLi/zLXRQsVcGeFvmC9YBvutRcsVz2shZJGSrMHtD1KOkprcuySL7dcjxTKs/pYCtbny531KnouXy5fZLFsUqZZo9Zif2Zniz0T8Sw5dfr5e642sLXd7ZFrk02LV5bP7pj37NQS9dYJN9OOVZUqkMW/eLnI+ly5ZN7bbaK9tSr9bRPlwfUqfq+PiXPG9XySLIsT9a0YY40Pt2u9TMledcqa221Wr8MHOzbPnUd3in78sDyMoXLGHoB4Ka6/N5m/71iZpFedgTGXU7J1MvldlnUom3LS0M/jAwr0IPEkqv5syKuTRJ1fTxq/ZP9+OTzSWPqxYI7zl1j2vvrJnlrFcWA30tqfs8p/jgB3KpiH1qnyj/8m7Kedcq1wSrXhqFbzFbem0OnmbfIWvaG1n+5XNsO75R9/s5rjmt5fIucBWMcDxO6xJr1XJnWN1i17Xi1HOnVcgw6caqsjyfL817kTqjhjj17Qa4sFTvl8/mkpC1KnznCQ3zToJoNDaoJ9/pMu3aszhh+LE9sstb8rkZdWXly1a7X4tr112wya0WtSpdxbwFwE52t04sF1fJptja/sk5JAy764x/fourCf9Xist1yFP5EB3ZlRtfY0uHvQZK0aZi5S6Kuj49MktWu9K1r5ZWi6KILXDWmFszgkiP5S4cZ8BtcmNVhXhcrADBbwpJX9f6xWpUuX6RZwZt04mxZl2/T3naPSh8PUSW4e7bWvP2BDlQVKWfetMCMrhZNnZer9TWH1fTmKiWNdmHt4dw9W2v2/0V7N+Vq/gOBMz+QqpzCGv252a2Xbf806kPHzluslYG+UCPvFmWRreyw9lZtUd6SVE21XP351Hm5yn/VrY/3b1P6lCgPN2WRyv90XG+V2GWdGfwMEjRriV2l7r/oQEkGPWMA3Dx97aoI9Fix7qpS/jUXzFjNer5Mm2f6x2Nu2RvNeMw+Ne+vVIdSh10WJOr6+Eglpsr6uMTkPhipmO5z543R7dquqvQ0bfGt097WoohPVjp+l6aFm85pjfuE1jM4GAAAAAjvUoOKpmWrJv1VfejKjfAQLfr6+Ih1OrVszlp5k7bofe8qxl8iaqNvwQw22w+75Ei7mt9uZ+YpAAAAIAqXD9erRlLOskWRe2hEXR8fuQ5Ptbxich+M3CgDZrDZfvglR/oOH9DrHVLS06n8cQIAAAARBdedtMs6L9LyS9HXx0esr0n1Ve1i/hSMxhi6yAIAAAC43Vz2rNWP8pyyrHHr/xRdj4nqcDsb8zqYAAAAAG4XwRbUZK1cQrjEyNGCCQAAAAAwBS2YAAAAAABTEDABAAAAAKYgYAIAAAAATEHABAAAAACYgoAJAAAAADAFARMAAAAAYAoCJgAAAADAFARMAAAAAIApCJgAAAAAAFMQMAEAAAAApiBgAgAAAABMQcAEAAAAAJiCgAkAAAAAMAUBEwAAAABgCgImAAAAAMAUBEwAAAAAgCkImAAAAAAAUxAwAQAAAACmIGACAAAAAExBwAQAAAAAmOL/A9SSQc3No3cyAAAAAElFTkSuQmCC)"
      ]
    },
    {
      "cell_type": "markdown",
      "metadata": {
        "id": "YD17gE_QEA2H"
      },
      "source": [
        "#**Python Assignment Operators**\n",
        "Assignment operators are used to assign values to variables:\n",
        "\n",
        "![image.png](data:image/png;base64,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)"
      ]
    },
    {
      "cell_type": "markdown",
      "metadata": {
        "id": "1wwTR0Z6EZO6"
      },
      "source": [
        "#**Python Comparison Operators**\n",
        "Comparison operators are used to compare two values:\n",
        "\n",
        "![image.png](data:image/png;base64,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)"
      ]
    },
    {
      "cell_type": "markdown",
      "metadata": {
        "id": "VhO41bCOElD8"
      },
      "source": [
        "#**Python Logical Operators**\n",
        "Logical operators are used to combine conditional statements:\n",
        "\n",
        "![image.png](data:image/png;base64,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)"
      ]
    },
    {
      "cell_type": "markdown",
      "metadata": {
        "id": "o4BFKvU1Eyfm"
      },
      "source": [
        "#**Python Identity Operators**\n",
        "Identity operators are used to compare the objects, not if they are equal, but if they are actually the same object, with the same memory location:\n",
        "\n",
        "![image.png](data:image/png;base64,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)"
      ]
    },
    {
      "cell_type": "markdown",
      "metadata": {
        "id": "TmKUBqMuFAmD"
      },
      "source": [
        "#**Python Membership Operators**\n",
        "Membership operators are used to test if a sequence is presented in an object:\n",
        "\n",
        "![image.png](data:image/png;base64,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)"
      ]
    },
    {
      "cell_type": "markdown",
      "metadata": {
        "id": "-4yivTjXFNpN"
      },
      "source": [
        "#**Python Bitwise Operators**\n",
        "Bitwise operators are used to compare (binary) numbers:\n",
        "\n",
        "![image.png](data:image/png;base64,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)"
      ]
    },
    {
      "cell_type": "markdown",
      "metadata": {
        "id": "XKbHNSaQFhD9"
      },
      "source": [
        "#**Python Lists**\n",
        "\n",
        "\n",
        "Lists are used to store multiple items in a single variable.\n",
        "\n",
        "Lists are one of 4 built-in data types in Python used to store collections of data, the other 3 are Tuple, Set, and Dictionary, all with different qualities and usage.\n",
        "\n",
        "Lists are created using square brackets:"
      ]
    },
    {
      "cell_type": "code",
      "execution_count": null,
      "metadata": {
        "colab": {
          "base_uri": "https://localhost:8080/"
        },
        "id": "1domA3xSFkYP",
        "outputId": "bc769b20-d8e7-416d-a030-05b3fd6b02a9"
      },
      "outputs": [
        {
          "name": "stdout",
          "output_type": "stream",
          "text": [
            "['apple', 'banana', 'cherry']\n"
          ]
        }
      ],
      "source": [
        "myfirstlist = [\"apple\", \"banana\", \"cherry\"]\n",
        "print(myfirstlist)"
      ]
    },
    {
      "cell_type": "markdown",
      "metadata": {
        "id": "pRnuk1KaF_nL"
      },
      "source": [
        "##**List Items**\n",
        "List items are ordered, changeable, and allow duplicate values.\n",
        "\n",
        "List items are indexed, the first item has index [0], the second item has index [1] etc.\n",
        "\n",
        "#**Ordered**\n",
        "When we say that lists are ordered, it means that the items have a defined order, and that order will not change.\n",
        "\n",
        "If you add new items to a list, the new items will be placed at the end of the list."
      ]
    },
    {
      "cell_type": "code",
      "execution_count": null,
      "metadata": {
        "colab": {
          "base_uri": "https://localhost:8080/"
        },
        "id": "HSlsYS8oGPHQ",
        "outputId": "03ee7b4d-569e-4a26-fbaf-ffa3afeca59c"
      },
      "outputs": [
        {
          "name": "stdout",
          "output_type": "stream",
          "text": [
            "banana\n"
          ]
        }
      ],
      "source": [
        "print (myfirstlist[1])"
      ]
    },
    {
      "cell_type": "markdown",
      "metadata": {
        "id": "iviq607YGXQg"
      },
      "source": [
        "##**Changeable**\n",
        "The list is changeable, meaning that we can change, add, and remove items in a list after it has been created.\n",
        "\n",
        "###**Allow Duplicates**\n",
        "Since lists are indexed, lists can have items with the same value:\n",
        "\n",
        "####**Example**\n",
        "Lists allow duplicate values:"
      ]
    },
    {
      "cell_type": "code",
      "execution_count": null,
      "metadata": {
        "colab": {
          "base_uri": "https://localhost:8080/"
        },
        "id": "5mVnRjfmGeC1",
        "outputId": "11fc2971-8ccf-4da7-b53b-999d96f1103d"
      },
      "outputs": [
        {
          "name": "stdout",
          "output_type": "stream",
          "text": [
            "['apple', 'banana', 'cherry', 'apple', 'cherry']\n"
          ]
        }
      ],
      "source": [
        "myfirstlist = [\"apple\", \"banana\", \"cherry\", \"apple\", \"cherry\"]\n",
        "print(myfirstlist)"
      ]
    },
    {
      "cell_type": "code",
      "execution_count": null,
      "metadata": {
        "id": "-SZHx9gNGoXH"
      },
      "outputs": [],
      "source": [
        "# Write a Python code to peint the 3rd item in the list name myfirstlist\n"
      ]
    },
    {
      "cell_type": "markdown",
      "metadata": {
        "id": "21JU3mP8G2tF"
      },
      "source": [
        "##**List Length**\n",
        "To determine how many items a list has, use the len() function:\n",
        "\n",
        "###**Example**\n",
        "Print the number of items in the list:"
      ]
    },
    {
      "cell_type": "code",
      "execution_count": null,
      "metadata": {
        "colab": {
          "base_uri": "https://localhost:8080/"
        },
        "id": "nW1Eb4MNG9FA",
        "outputId": "5e902043-6384-4dce-de41-b55c14aafd8b"
      },
      "outputs": [
        {
          "name": "stdout",
          "output_type": "stream",
          "text": [
            "4\n"
          ]
        }
      ],
      "source": [
        "myfirstlist = [\"Kofi\", \"John\", \"Job\", \"Mike\"]\n",
        "print(len(myfirstlist))"
      ]
    },
    {
      "cell_type": "markdown",
      "metadata": {
        "id": "kDGPiiZcHXOr"
      },
      "source": [
        "##**List Items - Data Types**\n",
        "List items can be of any data type:\n",
        "\n",
        "###**Example**\n",
        "String, int and boolean data types:"
      ]
    },
    {
      "cell_type": "code",
      "execution_count": null,
      "metadata": {
        "id": "QKsspdWNHdVG"
      },
      "outputs": [],
      "source": [
        "list_1 = [\"Kofi\", \"John\", \"Job\", \"Mike\"]\n",
        "list_2 = [10, 67.98, 7, 23, 63]\n",
        "list_3 = [True, False, False]\n",
        "list_4 = [\"abc\", 34, True, 40.87, \"male\"]\n",
        "#A list can contain different data types:\n",
        "#A list with strings, integers and boolean values:\n",
        "\n"
      ]
    },
    {
      "cell_type": "markdown",
      "metadata": {
        "id": "v6T-9GGvICci"
      },
      "source": [
        "**type()**\n",
        "From Python's perspective, lists are defined as objects with the data type 'list':\n",
        "\n",
        "<class 'list'>\n"
      ]
    },
    {
      "cell_type": "code",
      "execution_count": null,
      "metadata": {
        "colab": {
          "base_uri": "https://localhost:8080/"
        },
        "id": "ItzKQVemIF_f",
        "outputId": "77696c4a-9ae3-4289-f756-10ca4a98e5c4"
      },
      "outputs": [
        {
          "name": "stdout",
          "output_type": "stream",
          "text": [
            "<class 'list'>\n",
            "<class 'list'>\n"
          ]
        }
      ],
      "source": [
        "# Let check the type of our above list\n",
        "print (type(list_1))\n",
        "print (type(list_2))"
      ]
    },
    {
      "cell_type": "markdown",
      "metadata": {
        "id": "ylw5XveuIjF6"
      },
      "source": [
        "##**The list() Constructor**\n",
        "It is also possible to use the list() constructor when creating a new list.\n",
        "\n",
        "###**Example**\n",
        "Using the list() constructor to make a List:"
      ]
    },
    {
      "cell_type": "code",
      "execution_count": null,
      "metadata": {
        "colab": {
          "base_uri": "https://localhost:8080/"
        },
        "id": "FkN5OjKzInDf",
        "outputId": "33f51b3f-e487-4697-fee5-4bc446b7b56c"
      },
      "outputs": [
        {
          "name": "stdout",
          "output_type": "stream",
          "text": [
            "['Kofi', 'John', 'Job', 'Mike']\n"
          ]
        }
      ],
      "source": [
        "list_5 = list((\"Kofi\", \"John\", \"Job\", \"Mike\"))\n",
        "print(list_5)"
      ]
    },
    {
      "cell_type": "code",
      "execution_count": null,
      "metadata": {
        "colab": {
          "base_uri": "https://localhost:8080/"
        },
        "id": "sidmpQsAneK6",
        "outputId": "25dca2ac-bd71-4c30-df54-08118bd48d83"
      },
      "outputs": [
        {
          "name": "stdout",
          "output_type": "stream",
          "text": [
            "[[1, 2, 3], [4, 5, 6], [7, 8, 9]]\n"
          ]
        }
      ],
      "source": [
        "# Let creat a List of list (3 x 3)\n",
        "list_of_lists = [[1, 2, 3], [4, 5, 6], [7, 8, 9]]\n",
        "\n",
        "easier_to_read_list_of_lists = [[1, 2, 3],\n",
        "                                [4, 5, 6],\n",
        "                                [7, 8, 9]]\n",
        "\n",
        "print(easier_to_read_list_of_lists )"
      ]
    },
    {
      "cell_type": "markdown",
      "metadata": {
        "id": "8IigRS6cJGhn"
      },
      "source": [
        "##**Python Collections (Arrays)**\n",
        "There are four collection data types in the Python programming language:\n",
        "\n",
        "* **List** is a collection which is ordered and changeable. Allows duplicate members.\n",
        "* **Tuple** is a collection which is ordered and unchangeable. Allows duplicate members.\n",
        "* **Set** is a collection which is unordered, unchangeable*, and unindexed. No duplicate members.\n",
        "* **Dictionary** is a collection which is ordered** and changeable. No duplicate members.\n",
        "* Set items are unchangeable, but you can remove and/or add items whenever you like.\n",
        "\n",
        "* As of Python version 3.7, dictionaries are ordered. In Python 3.6 and earlier, dictionaries are unordered.\n",
        "\n",
        "When choosing a collection type, it is useful to understand the properties of that type. Choosing the right type for a particular data set could mean retention of meaning, and, it could mean an increase in efficiency or security."
      ]
    },
    {
      "cell_type": "markdown",
      "metadata": {
        "id": "YFoolRlsJzGq"
      },
      "source": [
        "##**Python - Access List Items**\n",
        "\n",
        "List items are indexed and you can access them by referring to the index number:\n",
        "\n",
        "###**Example**\n",
        "Print the second item of the list:"
      ]
    },
    {
      "cell_type": "code",
      "execution_count": null,
      "metadata": {
        "colab": {
          "base_uri": "https://localhost:8080/"
        },
        "id": "93cUJoQ1KCFk",
        "outputId": "e822d96d-b0d0-4273-d087-90f75d0bc7ce"
      },
      "outputs": [
        {
          "name": "stdout",
          "output_type": "stream",
          "text": [
            "Kofi\n"
          ]
        }
      ],
      "source": [
        "#Let print the first itm of list_1\n",
        "# Note: The first item has index 0.\n",
        "list_1 = [\"Kofi\", \"John\", \"Job\", \"Mike\"]\n",
        "print(list_1[0])"
      ]
    },
    {
      "cell_type": "markdown",
      "metadata": {
        "id": "jPIoSP_6KWnc"
      },
      "source": [
        "##**Negative Indexing**\n",
        "Negative indexing means start from the end\n",
        "\n",
        "-1 refers to the last item, -2 refers to the second last item etc."
      ]
    },
    {
      "cell_type": "code",
      "execution_count": null,
      "metadata": {
        "colab": {
          "base_uri": "https://localhost:8080/"
        },
        "id": "rBwYB6KUKgs5",
        "outputId": "703e802b-9fa4-4b8a-e971-67b4411f7112"
      },
      "outputs": [
        {
          "name": "stdout",
          "output_type": "stream",
          "text": [
            "Mike\n"
          ]
        }
      ],
      "source": [
        "# Let us print the last item of the list_1\n",
        "list_1 = [\"Kofi\", \"John\", \"Job\", \"Mike\"]\n",
        "print(list_1[-1])"
      ]
    },
    {
      "cell_type": "markdown",
      "source": [
        "##**String Slicing**\n",
        "In Python, string slicing enables us to extract substrings from a string by applying some complex manipulation of indices. This is one of the most powerful operations that sequences provide. String slicing has been fully covered in our tutorial on “Python String Operator and Methods“.\n",
        "\n",
        "Syntax\n",
        "\n",
        "slice([start,] stop[, step])\n",
        "or\n",
        "\n",
        "slice(stop)\n",
        "slice(start, stop[, step])\n",
        "\n",
        "Given below are some details about its syntax’s parameters\n",
        "\n",
        "**start:** Represents the starting index value for the slicing. It’s optional and it defaults to None(beginning of the string at index 0).\n",
        "\n",
        "**stop:** Represents the ending index value for the slicing. It’s mandatory.\n",
        "\n",
        "**step:** Represents the steps between each index for slicing. It’s optional and it may be an increment step(positive number) or decrement step(negative number).\n",
        "[Source](https://www.softwaretestinghelp.com/python/python-string-functions/)"
      ],
      "metadata": {
        "id": "V4BXaO5BOZV_"
      }
    },
    {
      "cell_type": "markdown",
      "metadata": {
        "id": "61HvkeBnK57A"
      },
      "source": [
        "##**Range of Indexes**\n",
        "You can specify a range of indexes by specifying where to start and where to end the range.\n",
        "\n",
        "When specifying a range, the return value will be a new list with the specified items.\n"
      ]
    },
    {
      "cell_type": "code",
      "execution_count": null,
      "metadata": {
        "colab": {
          "base_uri": "https://localhost:8080/"
        },
        "id": "P_8jAorFK95e",
        "outputId": "0db2988b-afad-4a44-f337-43e242b6a315"
      },
      "outputs": [
        {
          "name": "stdout",
          "output_type": "stream",
          "text": [
            "['banana', 'cherry', 'orange', 'kiwi']\n"
          ]
        }
      ],
      "source": [
        "Fruits_bank = [\"apple\", \"banana\", \"cherry\", \"orange\", \"kiwi\", \"melon\", \"mango\"]\n",
        "\n",
        "# For the list above let's return the second (1), third (2), fourth(3), and fifth (4) item:\n",
        "print(Fruits_bank[1:5])\n",
        "\n",
        "#Note: The search will start at index 1 (included) and end at index 5 (not included).\n",
        "#Remember that the first item has index 0."
      ]
    },
    {
      "cell_type": "code",
      "execution_count": null,
      "metadata": {
        "colab": {
          "base_uri": "https://localhost:8080/"
        },
        "id": "7lEdKlLvMDiK",
        "outputId": "e5a7526d-4492-4e23-f4df-52dc2ef6c7b0"
      },
      "outputs": [
        {
          "name": "stdout",
          "output_type": "stream",
          "text": [
            "['apple', 'banana', 'cherry', 'orange']\n"
          ]
        }
      ],
      "source": [
        "#Now try return all the items from the beginning to, but NOT including, \"kiwi\":\n",
        "Fruits_bank = [\"apple\", \"banana\", \"cherry\", \"orange\", \"kiwi\", \"melon\", \"mango\"]\n",
        "print(Fruits_bank[:4])\n",
        "#By leaving out the start value, the range will start at the first item:"
      ]
    },
    {
      "cell_type": "code",
      "execution_count": null,
      "metadata": {
        "colab": {
          "base_uri": "https://localhost:8080/"
        },
        "id": "l4dYqdtfMfSr",
        "outputId": "113134b6-f77a-4929-9fee-f1e5b81e3682"
      },
      "outputs": [
        {
          "name": "stdout",
          "output_type": "stream",
          "text": [
            "['cherry', 'orange', 'kiwi', 'melon', 'mango']\n"
          ]
        }
      ],
      "source": [
        "#By leaving out the end value, the range will go on to the end of the list:\n",
        "#Let's return all the items from \"cherry\" to the end:\n",
        "Fruits_bank = [\"apple\", \"banana\", \"cherry\", \"orange\", \"kiwi\", \"melon\", \"mango\"]\n",
        "print(Fruits_bank[2:])"
      ]
    },
    {
      "cell_type": "code",
      "execution_count": null,
      "metadata": {
        "colab": {
          "base_uri": "https://localhost:8080/"
        },
        "id": "EQAf12x5NC5n",
        "outputId": "3355694e-cbde-4340-d46c-de9dcd5ce627"
      },
      "outputs": [
        {
          "name": "stdout",
          "output_type": "stream",
          "text": [
            "['orange', 'kiwi', 'melon']\n"
          ]
        }
      ],
      "source": [
        "#Range of Negative Indexes\n",
        "#Let us return all the items from \"orange\" (-4) to, but NOT including \"mango\" (-1):\n",
        "Fruits_bank = [\"apple\", \"banana\", \"cherry\", \"orange\", \"kiwi\", \"melon\", \"mango\"]\n",
        "print(Fruits_bank[-4:-1])"
      ]
    },
    {
      "cell_type": "markdown",
      "metadata": {
        "id": "nG-l5wV-NZon"
      },
      "source": [
        "##**Check if Item Exists**\n",
        "To determine if a specified item is present in a list use the **in** keyword:"
      ]
    },
    {
      "cell_type": "code",
      "execution_count": null,
      "metadata": {
        "colab": {
          "base_uri": "https://localhost:8080/"
        },
        "id": "GsbcfZ3MNkzg",
        "outputId": "8f1dd35f-f8f1-4140-b267-c3f9abf73ae3"
      },
      "outputs": [
        {
          "name": "stdout",
          "output_type": "stream",
          "text": [
            "Yes, 'apple' is in the fruits list\n"
          ]
        }
      ],
      "source": [
        "#Check if \"apple\" is present in the list:\n",
        "Fruits_bank = [\"apple\", \"banana\", \"cherry\", \"orange\", \"kiwi\", \"melon\", \"mango\"]\n",
        "\n",
        "if \"apple\" in Fruits_bank:\n",
        "  print(\"Yes, 'apple' is in the fruits list\")\n",
        "else:\n",
        "  print(\"No, 'apple' is not in the fruits list\")"
      ]
    },
    {
      "cell_type": "markdown",
      "metadata": {
        "id": "gA6IFZfOctcA"
      },
      "source": [
        "###**Change List Items**\n",
        "Change Item Value\n",
        "To change the value of a specific item, refer to the index number:"
      ]
    },
    {
      "cell_type": "code",
      "execution_count": null,
      "metadata": {
        "colab": {
          "base_uri": "https://localhost:8080/"
        },
        "id": "tnHNCp-idBfi",
        "outputId": "2d70a4d4-8f86-4ed3-ed59-06e317c07392"
      },
      "outputs": [
        {
          "name": "stdout",
          "output_type": "stream",
          "text": [
            "['apple', 'coconut', 'cherry', 'orange', 'kiwi', 'melon', 'mango']\n"
          ]
        }
      ],
      "source": [
        "# For he list below let's change the second item to coconut\n",
        "Fruits_bank = [\"apple\", \"banana\", \"cherry\", \"orange\", \"kiwi\", \"melon\", \"mango\"]\n",
        "\n",
        "Fruits_bank[1] = \"coconut\"\n",
        "print(Fruits_bank)"
      ]
    },
    {
      "cell_type": "markdown",
      "metadata": {
        "id": "7GZ3nrX4hDR1"
      },
      "source": [
        "##**Change a Range of Item Values**\n",
        "To change the value of items within a specific range, define a list with the new values, and refer to the range of index numbers where you want to insert the new values:"
      ]
    },
    {
      "cell_type": "code",
      "execution_count": null,
      "metadata": {
        "colab": {
          "base_uri": "https://localhost:8080/"
        },
        "id": "OJFQlKgVdovW",
        "outputId": "98aaeae5-5033-48d9-a963-624aaf56e313"
      },
      "outputs": [
        {
          "name": "stdout",
          "output_type": "stream",
          "text": [
            "['apple', 'pear', 'watermelon', 'orange', 'kiwi', 'melon', 'mango']\n"
          ]
        }
      ],
      "source": [
        "#Let us change the values \"banana\" and \"cherry\" with the values \"pear\" and \"watermelon\":\n",
        "\n",
        "Fruits_bank = [\"apple\", \"banana\", \"cherry\", \"orange\", \"kiwi\", \"melon\", \"mango\"]\n",
        "Fruits_bank[1:3] = [\"pear\", \"watermelon\"]\n",
        "print(Fruits_bank)"
      ]
    },
    {
      "cell_type": "markdown",
      "metadata": {
        "id": "nr1xA3ymhUwb"
      },
      "source": [
        "If you insert more items than you replace, the new items will be inserted where you specified, and the remaining items will move accordingly:"
      ]
    },
    {
      "cell_type": "code",
      "execution_count": null,
      "metadata": {
        "colab": {
          "base_uri": "https://localhost:8080/"
        },
        "id": "jTa-Il6PhN2B",
        "outputId": "08cdad20-e3a2-4abc-dcad-ae7d0a779ed7"
      },
      "outputs": [
        {
          "name": "stdout",
          "output_type": "stream",
          "text": [
            "['apple', 'Data Science', 'Information Technology', 'cherry', 'orange', 'kiwi', 'melon', 'mango']\n"
          ]
        }
      ],
      "source": [
        "#Let us change the second value by replacing it with two new values:\n",
        "\n",
        "Fruits_bank = [\"apple\", \"banana\", \"cherry\", \"orange\", \"kiwi\", \"melon\", \"mango\"]\n",
        "Fruits_bank[1:2] = [\"Data Science\", \"Information Technology\"]\n",
        "print(Fruits_bank)\n",
        "\n",
        "#Note: The length of the list will change when the number of items inserted does not match the number of items replaced."
      ]
    },
    {
      "cell_type": "markdown",
      "metadata": {
        "id": "M0m055u3iOzN"
      },
      "source": [
        "If you insert less items than you replace, the new items will be inserted where you specified, and the remaining items will move accordingly:"
      ]
    },
    {
      "cell_type": "code",
      "execution_count": null,
      "metadata": {
        "colab": {
          "base_uri": "https://localhost:8080/"
        },
        "id": "yw-wVl6bhzk8",
        "outputId": "8ea69910-6ab6-4b76-eab4-f6a21f1c8770"
      },
      "outputs": [
        {
          "name": "stdout",
          "output_type": "stream",
          "text": [
            "['apple', 'good', 'orange', 'kiwi', 'melon', 'mango']\n"
          ]
        }
      ],
      "source": [
        "#Let us change the second and third value by replacing it with one value:\n",
        "\n",
        "Fruits_bank = [\"apple\", \"banana\", \"cherry\", \"orange\", \"kiwi\", \"melon\", \"mango\"]\n",
        "Fruits_bank[1:3] = [\"good\"]\n",
        "print(Fruits_bank)"
      ]
    },
    {
      "cell_type": "markdown",
      "metadata": {
        "id": "QnjXuekSi4E0"
      },
      "source": [
        "##**Insert Items**\n",
        "To insert a new list item, without replacing any of the existing values, we can use the insert() method.\n",
        "\n",
        "The insert() method inserts an item at the specified index:"
      ]
    },
    {
      "cell_type": "code",
      "execution_count": null,
      "metadata": {
        "colab": {
          "base_uri": "https://localhost:8080/"
        },
        "id": "dzEofE4Bi6jc",
        "outputId": "d957dc8a-8985-45a3-c652-f8bb024c5dc4"
      },
      "outputs": [
        {
          "name": "stdout",
          "output_type": "stream",
          "text": [
            "['Isaac', 'Luke', 'John', 'Mathew']\n"
          ]
        }
      ],
      "source": [
        "#Insert \"John\" as the third item:\n",
        "\n",
        "FirstNames= [\"Isaac\", \"Luke\", \"Mathew\"]\n",
        "FirstNames.insert(2, \"John\")\n",
        "print(FirstNames)\n",
        "\n",
        "#Note: As a result of the example above, the list will now contain 4 items."
      ]
    },
    {
      "cell_type": "code",
      "execution_count": null,
      "metadata": {
        "id": "bKr0oZNfjkZ_"
      },
      "outputs": [],
      "source": [
        "# Now add your first name as the first item and surname as last item \n"
      ]
    },
    {
      "cell_type": "markdown",
      "metadata": {
        "id": "jgpJ9Czrk71Z"
      },
      "source": [
        "##**Add List Items**\n"
      ]
    },
    {
      "cell_type": "markdown",
      "metadata": {
        "id": "e1DGajBplMll"
      },
      "source": [
        "###**Append Items**\n",
        "To add an item to the end of the list, use the append() method:"
      ]
    },
    {
      "cell_type": "code",
      "execution_count": null,
      "metadata": {
        "colab": {
          "base_uri": "https://localhost:8080/"
        },
        "id": "D_3XPrWylRY3",
        "outputId": "c0a7163f-317a-4c43-d11a-cde8ca2046d3"
      },
      "outputs": [
        {
          "name": "stdout",
          "output_type": "stream",
          "text": [
            "['Isaac', 'Luke', 'Mathew', 'Kofi']\n"
          ]
        }
      ],
      "source": [
        "#Let us use the append() method to append an item:\n",
        "#Let append Kofi\n",
        "FirstNames = [\"Isaac\", \"Luke\", \"Mathew\"]\n",
        "FirstNames.append(\"Kofi\")\n",
        "print(FirstNames)"
      ]
    },
    {
      "cell_type": "markdown",
      "metadata": {
        "id": "LXxdIVfEl39u"
      },
      "source": [
        "###**Insert Items**\n",
        "To insert a list item at a specified index, use the insert() method.\n",
        "\n",
        "The insert() method inserts an item at the specified index:"
      ]
    },
    {
      "cell_type": "code",
      "execution_count": null,
      "metadata": {
        "colab": {
          "base_uri": "https://localhost:8080/"
        },
        "id": "HQJ-sVHkl7nB",
        "outputId": "0b45db35-8757-4a9e-c158-e3fe0b7f77cb"
      },
      "outputs": [
        {
          "name": "stdout",
          "output_type": "stream",
          "text": [
            "['Isaac', 'Nti', 'Luke', 'Mathew']\n"
          ]
        }
      ],
      "source": [
        "#Let us insert an item as the second position:\n",
        "\n",
        "FirstNames = [\"Isaac\", \"Luke\", \"Mathew\"]\n",
        "FirstNames.insert(1, \"Nti\")\n",
        "print(FirstNames)\n",
        "\n",
        "#Note: As a result of the examples above, the lists will now contain 4 items."
      ]
    },
    {
      "cell_type": "markdown",
      "metadata": {
        "id": "jjV2fGihmb2F"
      },
      "source": [
        "###**Extend List**\n",
        "To append elements from another list to the current list, use the extend() method."
      ]
    },
    {
      "cell_type": "code",
      "execution_count": null,
      "metadata": {
        "colab": {
          "base_uri": "https://localhost:8080/"
        },
        "id": "th3fE9PBmebR",
        "outputId": "8e5145ab-0fb2-4ef5-ac99-8fd1992c5863"
      },
      "outputs": [
        {
          "name": "stdout",
          "output_type": "stream",
          "text": [
            "['Isaac', 'Luke', 'Mathew', 'Antwi', 'Nti', 'Nkrumah']\n"
          ]
        }
      ],
      "source": [
        "# Let us add the elements of Surnames to FirstNames:\n",
        "\n",
        "FirstNames = [\"Isaac\", \"Luke\", \"Mathew\"]\n",
        "Surnames = [\"Antwi\", \"Nti\", \"Nkrumah\"]\n",
        "FirstNames.extend(Surnames)\n",
        "print(FirstNames)\n",
        "\n",
        "#The elements will be added to the end of the list."
      ]
    },
    {
      "cell_type": "markdown",
      "metadata": {
        "id": "9H-F-qCBnOBg"
      },
      "source": [
        "###**Add Any Iterable**\n",
        "The extend() method does not have to append lists, you can add any iterable object (tuples, sets, dictionaries etc.)."
      ]
    },
    {
      "cell_type": "code",
      "execution_count": null,
      "metadata": {
        "colab": {
          "base_uri": "https://localhost:8080/"
        },
        "id": "V-CeDhrqnU9B",
        "outputId": "7e6de600-aade-4d59-d955-311298a55fed"
      },
      "outputs": [
        {
          "name": "stdout",
          "output_type": "stream",
          "text": [
            "['Isaac', 'Luke', 'Mathew', 'Antwi', 'Nti', 'Nkrumah']\n"
          ]
        }
      ],
      "source": [
        "#Add elements of a tuple to a list:\n",
        "\n",
        "FirstNames = [\"Isaac\", \"Luke\", \"Mathew\"]\n",
        "Tuple_Surnames = (\"Antwi\", \"Nti\", \"Nkrumah\")\n",
        "FirstNames.extend(Tuple_Surnames)\n",
        "print(FirstNames)\n",
        "\n"
      ]
    },
    {
      "cell_type": "markdown",
      "metadata": {
        "id": "3wM80dT7oYio"
      },
      "source": [
        "##**Remove List Items**"
      ]
    },
    {
      "cell_type": "code",
      "execution_count": null,
      "metadata": {
        "colab": {
          "base_uri": "https://localhost:8080/"
        },
        "id": "4_eoTkHkofIp",
        "outputId": "b5c1a5e6-4c7c-40d0-9a1f-f0828dc5f830"
      },
      "outputs": [
        {
          "name": "stdout",
          "output_type": "stream",
          "text": [
            "['Isaac', 'Mathew']\n"
          ]
        }
      ],
      "source": [
        "#Remove Specified Item\n",
        "#The remove() method removes the specified item.\n",
        "#Remove \"Luke\":\n",
        "FirstNames = [\"Isaac\", \"Luke\", \"Mathew\"]\n",
        "FirstNames.remove(\"Luke\")\n",
        "print(FirstNames)"
      ]
    },
    {
      "cell_type": "markdown",
      "metadata": {
        "id": "-8Nk7ffZphIa"
      },
      "source": [
        "##**Remove Specified Index**\n",
        "The pop() method removes the specified index."
      ]
    },
    {
      "cell_type": "code",
      "execution_count": null,
      "metadata": {
        "colab": {
          "base_uri": "https://localhost:8080/"
        },
        "id": "Cub_RbIgptN5",
        "outputId": "d51fb95c-0bdc-4bef-d2f6-d3a1d8d2fc3e"
      },
      "outputs": [
        {
          "name": "stdout",
          "output_type": "stream",
          "text": [
            "['Isaac', 'Mathew']\n"
          ]
        }
      ],
      "source": [
        "#Remove the second item:\n",
        "\n",
        "FirstNames = [\"Isaac\", \"Luke\", \"Mathew\"]\n",
        "FirstNames.pop(1)\n",
        "print(FirstNames)"
      ]
    },
    {
      "cell_type": "code",
      "execution_count": null,
      "metadata": {
        "colab": {
          "base_uri": "https://localhost:8080/"
        },
        "id": "Tr1Fmkn4p98T",
        "outputId": "0a961784-4e66-421f-9270-b3a9afbce084"
      },
      "outputs": [
        {
          "name": "stdout",
          "output_type": "stream",
          "text": [
            "['Isaac', 'Luke']\n"
          ]
        }
      ],
      "source": [
        "#If you do not specify the index, the pop() method removes the last item.\n",
        "FirstNames = [\"Isaac\", \"Luke\", \"Mathew\"]\n",
        "FirstNames.pop()\n",
        "print(FirstNames)"
      ]
    },
    {
      "cell_type": "code",
      "execution_count": null,
      "metadata": {
        "colab": {
          "base_uri": "https://localhost:8080/"
        },
        "id": "u0UQCuvlqITI",
        "outputId": "863ad4c1-b8cf-4bbb-940f-a376cf4c366c"
      },
      "outputs": [
        {
          "name": "stdout",
          "output_type": "stream",
          "text": [
            "['Luke', 'Mathew']\n"
          ]
        }
      ],
      "source": [
        "#The del keyword also removes the specified index:\n",
        "#Remove the first item:\n",
        "\n",
        "FirstNames = [\"Isaac\", \"Luke\", \"Mathew\"]\n",
        "del FirstNames[0]\n",
        "print(FirstNames)"
      ]
    },
    {
      "cell_type": "code",
      "execution_count": null,
      "metadata": {
        "id": "G2b0wFW6qnDX"
      },
      "outputs": [],
      "source": [
        "#The del keyword can also delete the list completely.\n",
        "#Delete the entire list:\n",
        "\n",
        "FirstNames = [\"Isaac\", \"Luke\", \"Mathew\"]\n",
        "del FirstNames"
      ]
    },
    {
      "cell_type": "markdown",
      "metadata": {
        "id": "RQWRAAjRq1O6"
      },
      "source": [
        "##**Clear the List**\n",
        "The clear() method empties the list.\n",
        "\n",
        "The list still remains, but it has no content."
      ]
    },
    {
      "cell_type": "code",
      "execution_count": null,
      "metadata": {
        "colab": {
          "base_uri": "https://localhost:8080/"
        },
        "id": "4eM_oRq0q7T5",
        "outputId": "9eb88d4c-80bc-4511-bdbf-1192dbfab915"
      },
      "outputs": [
        {
          "name": "stdout",
          "output_type": "stream",
          "text": [
            "[]\n"
          ]
        }
      ],
      "source": [
        "#Clear the list content:\n",
        "\n",
        "FirstNames = [\"Isaac\", \"Luke\", \"Mathew\"]\n",
        "FirstNames.clear()\n",
        "print(FirstNames)"
      ]
    },
    {
      "cell_type": "markdown",
      "metadata": {
        "id": "30qKGzF_rHKe"
      },
      "source": [
        "###**Loop Lists**"
      ]
    },
    {
      "cell_type": "code",
      "execution_count": null,
      "metadata": {
        "colab": {
          "base_uri": "https://localhost:8080/"
        },
        "id": "vBeuQdPDrM_8",
        "outputId": "386bca34-742c-45aa-f4f1-cb2e332256ec"
      },
      "outputs": [
        {
          "name": "stdout",
          "output_type": "stream",
          "text": [
            "Isaac\n",
            "Luke\n",
            "Mathew\n"
          ]
        }
      ],
      "source": [
        "#We can loop through the list items by using a for loop:\n",
        "FirstNames = [\"Isaac\", \"Luke\", \"Mathew\"]\n",
        "for items in FirstNames:\n",
        "  print(items)"
      ]
    },
    {
      "cell_type": "markdown",
      "metadata": {
        "id": "b6r0nWkjrsvU"
      },
      "source": [
        "###**Loop Through the Index Numbers**\n",
        "You can also loop through the list items by referring to their index number.\n",
        "\n",
        "Use the range() and len() functions to create a suitable iterable."
      ]
    },
    {
      "cell_type": "code",
      "execution_count": null,
      "metadata": {
        "colab": {
          "base_uri": "https://localhost:8080/"
        },
        "id": "Cy2g7cPxrvxH",
        "outputId": "a2f62a88-be87-43dc-eb9d-9ad9eafa4ad6"
      },
      "outputs": [
        {
          "name": "stdout",
          "output_type": "stream",
          "text": [
            "Isaac\n",
            "Luke\n",
            "Mathew\n"
          ]
        }
      ],
      "source": [
        "# Let us print all items by referring to their index number:\n",
        "\n",
        "FirstNames = [\"Isaac\", \"Luke\", \"Mathew\"]\n",
        "for i in range(len(FirstNames)):\n",
        "  print(FirstNames[i])\n",
        "\n",
        "#The iterable created  is [0, 1, 2]."
      ]
    },
    {
      "cell_type": "markdown",
      "metadata": {
        "id": "7VhDW_wFsMCS"
      },
      "source": [
        "###**Using a While Loop**\n",
        "You can loop through the list items by using a while loop.\n",
        "\n",
        "Use the len() function to determine the length of the list, then start at 0 and loop your way through the list items by referring to their indexes.\n",
        "\n",
        "Remember to increase the index by 1 after each iteration."
      ]
    },
    {
      "cell_type": "code",
      "execution_count": null,
      "metadata": {
        "colab": {
          "base_uri": "https://localhost:8080/"
        },
        "id": "-Kdx1Yi-sPKq",
        "outputId": "c0b73a82-85e7-4335-c143-e647874e8051"
      },
      "outputs": [
        {
          "name": "stdout",
          "output_type": "stream",
          "text": [
            "Isaac\n",
            "Luke\n",
            "Mathew\n"
          ]
        }
      ],
      "source": [
        "#Print all items, using a while loop to go through all the index numbers\n",
        "\n",
        "FirstNames = [\"Isaac\", \"Luke\", \"Mathew\"]\n",
        "i = 0\n",
        "while i < len(FirstNames):\n",
        "  print(FirstNames[i])\n",
        "  i = i + 1"
      ]
    },
    {
      "cell_type": "markdown",
      "metadata": {
        "id": "VoDPeknFsgOM"
      },
      "source": [
        "###**Looping Using List Comprehension**\n",
        "List Comprehension offers the shortest syntax for looping through lists:"
      ]
    },
    {
      "cell_type": "code",
      "execution_count": null,
      "metadata": {
        "colab": {
          "base_uri": "https://localhost:8080/"
        },
        "id": "B5JCxHlcsjFj",
        "outputId": "7e51b316-f7de-434d-a907-6656b803f08a"
      },
      "outputs": [
        {
          "name": "stdout",
          "output_type": "stream",
          "text": [
            "Isaac\n",
            "Luke\n",
            "Mathew\n"
          ]
        },
        {
          "data": {
            "text/plain": [
              "[None, None, None]"
            ]
          },
          "execution_count": 38,
          "metadata": {},
          "output_type": "execute_result"
        }
      ],
      "source": [
        "#A short hand for loop that will print all items in a list:\n",
        "\n",
        "FirstNames = [\"Isaac\", \"Luke\", \"Mathew\"]\n",
        "[print(x) for x in FirstNames]"
      ]
    },
    {
      "cell_type": "markdown",
      "metadata": {
        "id": "5VTizXbOtAZa"
      },
      "source": [
        "###**List Comprehension**\n",
        "List comprehension offers a shorter syntax when you want to create a new list based on the values of an existing list.\n",
        "\n",
        "Example:\n",
        "\n",
        "Based on a list of fruits, you want a new list, containing only the fruits with the letter \"a\" in the name.\n",
        "\n",
        "Without list comprehension you will have to write a for statement with a conditional test inside:"
      ]
    },
    {
      "cell_type": "code",
      "execution_count": null,
      "metadata": {
        "colab": {
          "base_uri": "https://localhost:8080/"
        },
        "id": "539O2QwStVVL",
        "outputId": "6fd0146d-8753-4886-fbcc-7b6620f82355"
      },
      "outputs": [
        {
          "name": "stdout",
          "output_type": "stream",
          "text": [
            "['Isaac', 'Mathew', 'Nkrumah']\n"
          ]
        }
      ],
      "source": [
        "FirstNames = [\"Isaac\", \"Luke\", \"Mathew\",\"Antwi\", \"Nti\", \"Nkrumah\"]\n",
        "\n",
        "newlist = []\n",
        "\n",
        "for x in FirstNames:\n",
        "  # check if the letter 'a' is in any item of firstnames\n",
        "  if \"a\" in x:\n",
        "    newlist.append(x)\n",
        "\n",
        "print(newlist)"
      ]
    },
    {
      "cell_type": "code",
      "execution_count": null,
      "metadata": {
        "colab": {
          "base_uri": "https://localhost:8080/"
        },
        "id": "2ZFIxsZMt_PV",
        "outputId": "ceaf6ac3-c295-48e1-c930-13b38860800a"
      },
      "outputs": [
        {
          "name": "stdout",
          "output_type": "stream",
          "text": [
            "['Isaac', 'Mathew', 'Nkrumah']\n"
          ]
        }
      ],
      "source": [
        "#With list comprehension you can do all that with only one line of code:\n",
        "FirstNames = [\"Isaac\", \"Luke\", \"Mathew\",\"Antwi\", \"Nti\", \"Nkrumah\"]\n",
        "\n",
        "newlist = [x for x in FirstNames if \"a\" in x]\n",
        "\n",
        "print(newlist)"
      ]
    },
    {
      "cell_type": "markdown",
      "metadata": {
        "id": "LraY_d2muz4y"
      },
      "source": [
        "####**The Syntax**\n",
        "newlist = [expression for item in iterable if condition == True]\n",
        "The return value is a new list, leaving the old list unchanged."
      ]
    },
    {
      "cell_type": "markdown",
      "metadata": {
        "id": "JBz8rEKKvAaX"
      },
      "source": [
        "#####**Condition**\n",
        "The condition is like a filter that only accepts the items that valuate to True."
      ]
    },
    {
      "cell_type": "code",
      "execution_count": null,
      "metadata": {
        "colab": {
          "base_uri": "https://localhost:8080/"
        },
        "id": "cnMD7qQ4u6Dv",
        "outputId": "0a67bca1-c350-498c-8aa6-1decbaa2f8b6"
      },
      "outputs": [
        {
          "name": "stdout",
          "output_type": "stream",
          "text": [
            "['Isaac', 'Mathew', 'Antwi', 'Nti', 'Nkrumah']\n"
          ]
        }
      ],
      "source": [
        "#Only accept items that are not \"apple\":\n",
        "\n",
        "newlist = [x for x in FirstNames if x != \"Luke\"]\n",
        "#The condition if x != \"apple\"  will return True for all elements other than \"apple\", making the new list contain all fruits except \"apple\".\n",
        "#Let see\n",
        "print(newlist)"
      ]
    },
    {
      "cell_type": "code",
      "execution_count": null,
      "metadata": {
        "colab": {
          "base_uri": "https://localhost:8080/"
        },
        "id": "XIfiazgdvmQN",
        "outputId": "08bf7659-b322-409b-b441-dfce6e26d361"
      },
      "outputs": [
        {
          "name": "stdout",
          "output_type": "stream",
          "text": [
            "['Isaac', 'Luke', 'Mathew', 'Antwi', 'Nti', 'Nkrumah']\n"
          ]
        }
      ],
      "source": [
        "#The condition is optional and can be omitted:\n",
        "#With no if statement:\n",
        "\n",
        "newlist = [x for x in FirstNames]\n",
        "print(newlist)"
      ]
    },
    {
      "cell_type": "markdown",
      "metadata": {
        "id": "UoemDjp6vyKf"
      },
      "source": [
        "####**Iterable**\n",
        "The iterable can be any iterable object, like a list, tuple, set etc."
      ]
    },
    {
      "cell_type": "code",
      "execution_count": null,
      "metadata": {
        "colab": {
          "base_uri": "https://localhost:8080/"
        },
        "id": "aBrw-SN7v1Pt",
        "outputId": "9d4b831d-a6f7-4ef6-8256-689a2c94a3b1"
      },
      "outputs": [
        {
          "name": "stdout",
          "output_type": "stream",
          "text": [
            "[0, 1, 2, 3, 4, 5, 6, 7, 8, 9]\n"
          ]
        }
      ],
      "source": [
        "#You can use the range() function to create an iterable:\n",
        "newlist = [x for x in range(10)]\n",
        "print(newlist)"
      ]
    },
    {
      "cell_type": "code",
      "execution_count": null,
      "metadata": {
        "colab": {
          "base_uri": "https://localhost:8080/"
        },
        "id": "ZP3kAVXVwGwv",
        "outputId": "ef7f8d41-4113-439b-c85e-c651100a90fe"
      },
      "outputs": [
        {
          "name": "stdout",
          "output_type": "stream",
          "text": [
            "[2, 4, 6, 8, 10, 12, 14, 16, 18]\n"
          ]
        }
      ],
      "source": [
        "#Le look at same example, but with a condition:\n",
        "#Accept only numbers from 1 to 20 that are divisible be 2:\n",
        "\n",
        "newlist = [x for x in range(1,20) if x%2 ==0]\n",
        "print(newlist)"
      ]
    },
    {
      "cell_type": "markdown",
      "metadata": {
        "id": "PX-_fhDCwzC4"
      },
      "source": [
        "####**Expression**\n",
        "The expression is the current item in the iteration, but it is also the outcome, which you can manipulate before it ends up like a list item in the new list:"
      ]
    },
    {
      "cell_type": "code",
      "execution_count": null,
      "metadata": {
        "colab": {
          "base_uri": "https://localhost:8080/"
        },
        "id": "0iJ60hpWw1lD",
        "outputId": "42481669-987c-4009-81a7-a17db55d79cd"
      },
      "outputs": [
        {
          "name": "stdout",
          "output_type": "stream",
          "text": [
            "['ISAAC', 'LUKE', 'MATHEW', 'ANTWI', 'NTI', 'NKRUMAH']\n"
          ]
        }
      ],
      "source": [
        "#Set the values in the new list to upper case:\n",
        "\n",
        "newlist = [x.upper() for x in FirstNames]\n",
        "print(newlist)"
      ]
    },
    {
      "cell_type": "code",
      "execution_count": null,
      "metadata": {
        "colab": {
          "base_uri": "https://localhost:8080/"
        },
        "id": "Me3iMl60xEUe",
        "outputId": "405d67ff-90e1-4f32-e52f-216bccf42805"
      },
      "outputs": [
        {
          "name": "stdout",
          "output_type": "stream",
          "text": [
            "['good', 'good', 'good', 'good', 'good', 'good']\n"
          ]
        }
      ],
      "source": [
        "#You can set the outcome to whatever you like:\n",
        "#Set all values in the new list to 'good':\n",
        "\n",
        "newlist = ['good' for x in FirstNames]\n",
        "print(newlist)"
      ]
    },
    {
      "cell_type": "code",
      "execution_count": null,
      "metadata": {
        "colab": {
          "base_uri": "https://localhost:8080/"
        },
        "id": "No_I5qAuxTud",
        "outputId": "0825c928-36a6-44ca-c91d-bc860a0b95db"
      },
      "outputs": [
        {
          "name": "stdout",
          "output_type": "stream",
          "text": [
            "['Isaac', 'Luke', 'Mathew', 'Antwi', 'Isaac', 'Nkrumah']\n"
          ]
        }
      ],
      "source": [
        "#The expression can also contain conditions, not like a filter, but as a way to manipulate the outcome:\n",
        "#Return \"Isaac\" instead of \"Nti\":\n",
        "\n",
        "newlist = [x if x != \"Nti\" else \"Isaac\" for x in FirstNames]\n",
        "\n",
        "#This expression says:\n",
        "#Return the item if it is not Nti, if it is Nti return Isaac\".\n",
        "print(newlist)"
      ]
    },
    {
      "cell_type": "markdown",
      "metadata": {
        "id": "0vew-u8hyTje"
      },
      "source": [
        "##**Sort Lists**"
      ]
    },
    {
      "cell_type": "markdown",
      "metadata": {
        "id": "SwqQ4Z1WymTw"
      },
      "source": [
        "###**Sort List Alphanumerically**\n",
        "List objects have a sort() method that will sort the list alphanumerically, ascending, by default:"
      ]
    },
    {
      "cell_type": "code",
      "execution_count": null,
      "metadata": {
        "colab": {
          "base_uri": "https://localhost:8080/"
        },
        "id": "uhx2P_V9yqyO",
        "outputId": "ef6b52c1-781f-460f-8eb2-11a84f58d330"
      },
      "outputs": [
        {
          "name": "stdout",
          "output_type": "stream",
          "text": [
            "['Alex', 'Fred', 'Isaac', 'John', 'Luke', 'Mathew']\n"
          ]
        }
      ],
      "source": [
        "#Let us sort the list alphabetically:\n",
        "\n",
        "FirstNames = [\"Isaac\", \"Luke\", \"Mathew\",\"John\",\"Fred\", \"Alex\"]\n",
        "FirstNames.sort()\n",
        "print(FirstNames)"
      ]
    },
    {
      "cell_type": "code",
      "execution_count": null,
      "metadata": {
        "colab": {
          "base_uri": "https://localhost:8080/"
        },
        "id": "u-zuNHBCzGYt",
        "outputId": "0912a14d-f19a-4a71-b601-f51f77d8361c"
      },
      "outputs": [
        {
          "name": "stdout",
          "output_type": "stream",
          "text": [
            "[2, 3, 8, 12, 23, 65, 70, 82, 110]\n"
          ]
        }
      ],
      "source": [
        "#Sort the list numerically:\n",
        "\n",
        "Numlist = [110, 70, 2, 65, 82, 23, 12, 8,3]\n",
        "Numlist.sort()\n",
        "print(Numlist)"
      ]
    },
    {
      "cell_type": "code",
      "execution_count": null,
      "metadata": {
        "colab": {
          "base_uri": "https://localhost:8080/"
        },
        "id": "0bYHo9cRzZry",
        "outputId": "749928bd-085c-463b-d2b8-bf7e4b76e3d0"
      },
      "outputs": [
        {
          "name": "stdout",
          "output_type": "stream",
          "text": [
            "['Mathew', 'Luke', 'John', 'Isaac', 'Fred', 'Alex']\n"
          ]
        }
      ],
      "source": [
        "#Sort Descending\n",
        "#To sort descending, use the keyword argument reverse = True:\n",
        "FirstNames = [\"Isaac\", \"Luke\", \"Mathew\",\"John\",\"Fred\", \"Alex\"]\n",
        "FirstNames.sort(reverse = True)\n",
        "print(FirstNames)"
      ]
    },
    {
      "cell_type": "code",
      "execution_count": null,
      "metadata": {
        "colab": {
          "base_uri": "https://localhost:8080/"
        },
        "id": "ZmUuajBHzo8k",
        "outputId": "78049c62-ba31-4bf4-cfc0-cd353365c7e9"
      },
      "outputs": [
        {
          "name": "stdout",
          "output_type": "stream",
          "text": [
            "[110, 82, 70, 65, 23, 12, 8, 3, 2]\n"
          ]
        }
      ],
      "source": [
        "#Sort the list descending:\n",
        "Numlist = [110, 70, 2, 65, 82, 23, 12, 8,3]\n",
        "Numlist.sort(reverse = True)\n",
        "print(Numlist)"
      ]
    },
    {
      "cell_type": "markdown",
      "metadata": {
        "id": "zqFEph6Mz4Bf"
      },
      "source": [
        "###**Customize Sort Function**\n",
        "You can also customize your own function by using the keyword argument key = function.\n",
        "\n",
        "The function will return a number that will be used to sort the list (the lowest number first):"
      ]
    },
    {
      "cell_type": "code",
      "execution_count": null,
      "metadata": {
        "colab": {
          "base_uri": "https://localhost:8080/"
        },
        "id": "qNPNWZ8bz-aO",
        "outputId": "2bd78de1-8526-47eb-8277-2dd74a6006f9"
      },
      "outputs": [
        {
          "name": "stdout",
          "output_type": "stream",
          "text": [
            "[70, 65, 82, 110, 23, 12, 8, 3, 2]\n"
          ]
        }
      ],
      "source": [
        "#Let us sort our Numlist based on how close the number is to 50:\n",
        "\n",
        "Numlist = [110, 70, 2, 65, 82, 23, 12, 8,3]\n",
        "def myfunc(n):\n",
        "  return abs(n - 70)\n",
        "\n",
        "\n",
        "Numlist.sort(key = myfunc)\n",
        "print(Numlist)"
      ]
    },
    {
      "cell_type": "markdown",
      "metadata": {
        "id": "D0bh1eDL0tKf"
      },
      "source": [
        "###**Case Insensitive Sort**\n",
        "By default the sort() method is case sensitive, resulting in all capital letters being sorted before lower case letters:"
      ]
    },
    {
      "cell_type": "code",
      "execution_count": null,
      "metadata": {
        "colab": {
          "base_uri": "https://localhost:8080/"
        },
        "id": "cxySupAH0pWN",
        "outputId": "10e2f89f-9901-476c-d9bc-a6969d4c3eef"
      },
      "outputs": [
        {
          "name": "stdout",
          "output_type": "stream",
          "text": [
            "['Fred', 'Isaac', 'John', 'Luke', 'alex', 'mathew']\n"
          ]
        }
      ],
      "source": [
        "#Case sensitive sorting can give an unexpected result:\n",
        "\n",
        "FirstNames = [\"Isaac\", \"Luke\", \"mathew\",\"John\",\"Fred\", \"alex\"]\n",
        "FirstNames.sort()\n",
        "print(FirstNames)"
      ]
    },
    {
      "cell_type": "code",
      "execution_count": null,
      "metadata": {
        "colab": {
          "base_uri": "https://localhost:8080/"
        },
        "id": "DDic_5fk1HVo",
        "outputId": "72d09f02-1bc0-4ce4-df9f-afa8aab7e6f7"
      },
      "outputs": [
        {
          "name": "stdout",
          "output_type": "stream",
          "text": [
            "['alex', 'Fred', 'Isaac', 'John', 'Luke', 'mathew']\n"
          ]
        }
      ],
      "source": [
        "#Luckily we can use built-in functions as key functions when sorting a list.\n",
        "\n",
        "#So if you want a case-insensitive sort function, use str.lower as a key function:\n",
        "\n",
        "#Perform a case-insensitive sort of the list:\n",
        "\n",
        "FirstNames = [\"Isaac\", \"Luke\", \"mathew\",\"John\",\"Fred\", \"alex\"]\n",
        "FirstNames.sort(key = str.lower)\n",
        "print(FirstNames)"
      ]
    },
    {
      "cell_type": "markdown",
      "metadata": {
        "id": "ioI8-kli1dzT"
      },
      "source": [
        "###**Reverse Order**\n",
        "What if you want to reverse the order of a list, regardless of the alphabet?\n",
        "\n",
        "The reverse() method reverses the current sorting order of the elements."
      ]
    },
    {
      "cell_type": "code",
      "execution_count": null,
      "metadata": {
        "colab": {
          "base_uri": "https://localhost:8080/"
        },
        "id": "ekTvu9KJ1f3z",
        "outputId": "79747693-1c76-42a0-d7b3-e943d9161a0f"
      },
      "outputs": [
        {
          "name": "stdout",
          "output_type": "stream",
          "text": [
            "['alex', 'Fred', 'John', 'mathew', 'Luke', 'Isaac']\n"
          ]
        }
      ],
      "source": [
        "#Reverse the order of the list items:\n",
        "\n",
        "FirstNames = [\"Isaac\", \"Luke\", \"mathew\",\"John\",\"Fred\", \"alex\"]\n",
        "FirstNames.reverse()\n",
        "print(FirstNames)"
      ]
    },
    {
      "cell_type": "markdown",
      "metadata": {
        "id": "37mbziUA2CLn"
      },
      "source": [
        "##**Copy Lists**\n",
        "\n",
        "You cannot copy a list simply by typing list2 = list1, because: list2 will only be a reference to list1, and changes made in list1 will automatically also be made in list2.\n",
        "\n",
        "There are ways to make a copy, one way is to use the built-in List method copy()."
      ]
    },
    {
      "cell_type": "code",
      "execution_count": null,
      "metadata": {
        "colab": {
          "base_uri": "https://localhost:8080/"
        },
        "id": "u4FYjBa72LlY",
        "outputId": "e167f4c1-534f-43b0-8054-bb0159c2fed0"
      },
      "outputs": [
        {
          "name": "stdout",
          "output_type": "stream",
          "text": [
            "['Isaac', 'Luke', 'mathew', 'John', 'Fred', 'alex']\n"
          ]
        }
      ],
      "source": [
        "#Make a copy of a list with the copy() method:\n",
        "\n",
        "FirstNames = [\"Isaac\", \"Luke\", \"mathew\",\"John\",\"Fred\", \"alex\"]\n",
        "Copy_FirstNames = FirstNames.copy()\n",
        "print(FirstNames)"
      ]
    },
    {
      "cell_type": "code",
      "execution_count": null,
      "metadata": {
        "colab": {
          "base_uri": "https://localhost:8080/"
        },
        "id": "pnaJDsF02Yq_",
        "outputId": "57493bde-c0c1-471b-9f38-2c1ea8c1269e"
      },
      "outputs": [
        {
          "name": "stdout",
          "output_type": "stream",
          "text": [
            "['Isaac', 'Luke', 'mathew', 'John', 'Fred', 'alex']\n",
            "['Isaac', 'Luke', 'mathew', 'John', 'Fred', 'alex']\n"
          ]
        }
      ],
      "source": [
        "# What will happen if we assigne the firstlist to the new list\n",
        "FirstNames = [\"Isaac\", \"Luke\", \"mathew\",\"John\",\"Fred\", \"alex\"]\n",
        "Copy_FirstNames_1 = FirstNames\n",
        "print(Copy_FirstNames_1)\n",
        "print(FirstNames)\n",
        "#Alternatively we can copy with assignment statement"
      ]
    },
    {
      "cell_type": "code",
      "execution_count": null,
      "metadata": {
        "colab": {
          "base_uri": "https://localhost:8080/"
        },
        "id": "1Mr_v84L27PF",
        "outputId": "1119abf1-fe29-4df1-8eaf-0b13e4d74cf3"
      },
      "outputs": [
        {
          "name": "stdout",
          "output_type": "stream",
          "text": [
            "['Isaac', 'Luke', 'mathew', 'John', 'Fred', 'alex']\n"
          ]
        }
      ],
      "source": [
        "#Another way to make a copy is to use the built-in method list().\n",
        "FirstNames = [\"Isaac\", \"Luke\", \"mathew\",\"John\",\"Fred\", \"alex\"]\n",
        "Copy_FirstNames_2 = list(FirstNames)\n",
        "print(Copy_FirstNames_2)"
      ]
    },
    {
      "cell_type": "markdown",
      "metadata": {
        "id": "4_-Flk5KNj-h"
      },
      "source": [
        "##**Join Lists**\n",
        "There are several ways to join, or concatenate, two or more lists in Python.\n",
        "\n",
        "One of the easiest ways are by using the + operator."
      ]
    },
    {
      "cell_type": "code",
      "execution_count": null,
      "metadata": {
        "colab": {
          "base_uri": "https://localhost:8080/"
        },
        "id": "laHcqQggNuD3",
        "outputId": "0940abce-0c6f-4b7e-8598-b039e51e7ea7"
      },
      "outputs": [
        {
          "name": "stdout",
          "output_type": "stream",
          "text": [
            "['Isaac', 'Luke', 'mathew', 'John', 'Fred', 'alex', 10, 12, 34, 99, 17, 100]\n"
          ]
        }
      ],
      "source": [
        "#Let us join the following two list:\n",
        "\n",
        "First_list = ['Isaac', 'Luke', 'mathew', 'John', 'Fred', 'alex']\n",
        "Second_list = [10, 12, 34, 99, 17, 100]\n",
        "\n",
        "Final_List = First_list + Second_list\n",
        "print(Final_List)"
      ]
    },
    {
      "cell_type": "code",
      "execution_count": null,
      "metadata": {
        "colab": {
          "base_uri": "https://localhost:8080/"
        },
        "id": "CPsDNfIwOb3q",
        "outputId": "9d539066-6026-41d7-a46c-712ccb39e1c1"
      },
      "outputs": [
        {
          "name": "stdout",
          "output_type": "stream",
          "text": [
            "['Isaac', 'Luke', 'mathew', 'John', 'Fred', 'alex', 10, 12, 34, 99, 17, 100]\n"
          ]
        }
      ],
      "source": [
        "#Another way to join two lists is by appending all the items from Second_list into First_list, one by one:\n",
        "First_list = ['Isaac', 'Luke', 'mathew', 'John', 'Fred', 'alex']\n",
        "Second_list = [10, 12, 34, 99, 17, 100]\n",
        "for items in Second_list:\n",
        "  First_list.append(items)\n",
        "print (First_list)"
      ]
    },
    {
      "cell_type": "code",
      "execution_count": null,
      "metadata": {
        "colab": {
          "base_uri": "https://localhost:8080/"
        },
        "id": "tmdg3vaqPI8E",
        "outputId": "4196b59a-9931-4a10-f41c-5bf8559ca41b"
      },
      "outputs": [
        {
          "name": "stdout",
          "output_type": "stream",
          "text": [
            "['Isaac', 'Luke', 'mathew', 'John', 'Fred', 'alex', 10, 12, 34, 99, 17, 100]\n"
          ]
        }
      ],
      "source": [
        "#Or you can use the extend() method, which purpose is to add elements from one list to another list:\n",
        "#Use the extend() method to add Second_list at the end of First_list:\n",
        "First_list = ['Isaac', 'Luke', 'mathew', 'John', 'Fred', 'alex']\n",
        "Second_list = [10, 12, 34, 99, 17, 100]\n",
        "\n",
        "First_list.extend(Second_list)\n",
        "\n",
        "print(First_list)\n"
      ]
    },
    {
      "cell_type": "code",
      "execution_count": null,
      "metadata": {
        "colab": {
          "base_uri": "https://localhost:8080/"
        },
        "id": "vDrtxTFeRF0I",
        "outputId": "3c6af327-9964-4f8b-dcbc-2ec22a6fc4c6"
      },
      "outputs": [
        {
          "name": "stdout",
          "output_type": "stream",
          "text": [
            "[1, 2, 3, 4, 5, 6]\n",
            "[1, 2, 3, 4, 5]\n"
          ]
        }
      ],
      "source": [
        "a = [1,2,3,4,5]\n",
        "b = a.copy()\n",
        "a.append(6)\n",
        "print(a)\n",
        "print(b)"
      ]
    },
    {
      "cell_type": "code",
      "execution_count": null,
      "metadata": {
        "colab": {
          "base_uri": "https://localhost:8080/"
        },
        "id": "6uwKMlBrUSWz",
        "outputId": "6c62dae9-a9ff-4a97-e2aa-50c193cfec47"
      },
      "outputs": [
        {
          "name": "stdout",
          "output_type": "stream",
          "text": [
            "[5, 10, 25, 20, 25, 30, 35, 40]\n",
            "Sum of list =  190\n"
          ]
        }
      ],
      "source": [
        "numbers = [5, 10, 25, 20, 25, 30, 35, 40]\n",
        "\n",
        "print(numbers)\n",
        "Sum = sum(numbers)\n",
        "\n",
        "print(\"Sum of list = \", Sum)\n"
      ]
    },
    {
      "cell_type": "code",
      "execution_count": null,
      "metadata": {
        "colab": {
          "base_uri": "https://localhost:8080/"
        },
        "id": "qL43AN70Vo-1",
        "outputId": "375abcca-1359-43fe-f38f-3723d6c7ebfd"
      },
      "outputs": [
        {
          "name": "stdout",
          "output_type": "stream",
          "text": [
            "Original List:  [4, 6, 8, 9, 3, 7, 2, 4, 19, 3, 56]\n",
            "List after removing duplicate elements:  [2, 3, 4, 6, 7, 8, 9, 19, 56]\n"
          ]
        }
      ],
      "source": [
        "numbersDuplicate = [4,6,8,9,3,7,2, 4, 19, 3, 56]\n",
        "\n",
        "#Hint: U can use\n",
        "# *set() \n",
        "# set()\n",
        "#list comprehension \n",
        "#list comprehension + enumerate() \n",
        "\n",
        " "
      ]
    },
    {
      "cell_type": "code",
      "execution_count": null,
      "metadata": {
        "cellView": "form",
        "id": "WZO0n7S_XoCH"
      },
      "outputs": [],
      "source": [
        "#@title\n",
        "print(\"Original List: \", numbers)\n",
        "numbers_No_Duplicate = [*set(numbersDuplicate)]\n",
        "print(\"List after removing duplicate elements: \", numbers_No_Duplicate)"
      ]
    },
    {
      "cell_type": "markdown",
      "metadata": {
        "id": "zBOlI_B1P3Bi"
      },
      "source": [
        "##**List Methods**\n",
        "![image.png](data:image/png;base64,iVBORw0KGgoAAAANSUhEUgAAA7IAAAKFCAYAAADxiNVVAAAgAElEQVR4nOzdd1gUx/8H8PcBUpRDiojYIChBTBQFkYjdoGJs0ShqjEZjYk2MNRoVjaDGEjX2GrvRGEti7CWKUhRFRQVBhIggVUGkt9vfH35vf5x3wIEIXPJ+PY9Pwt3s7uzszO59dmdmJYIgCCAiIiIiIiLSEFpVnQEiIiIiIiKistAp+kdQUFBV5YOIiIiIiIhILTqqPnRycqrsfBARERERERGphV2LiYiIiIiISKMwkCUiIiIiIiKNwkCWiIiIiIiINAoDWSIiIiIiItIoDGSJiIiIiIhIozCQJSIiIiIiIo3CQJaIiIiIiIg0CgNZIiIiIiIi0igMZImIiIiIiEijMJAlIiIiIiIijcJAloiIiIiIiDQKA1kiIiIiIiLSKAxkiYiIiIiISKMwkCUiIiIiIiKNwkCWiIiIiIiINAoDWSIiIiIiItIoDGSJiIiIiIhIozCQVcHPzw8SiQQSiQStWrVCeHh4lebH29tbzM/48eORnZ1dpfmhf6ei9awy6/3+/fvF7UokEvj5+VXKdomIiIhIc1VqIBseHo5WrVop/Gg9evSoyrS//PKLQjp3d3c8f/68MrNL/zFFA7nX/zk6OmL06NH4/fffkZmZWdVZJSIiIiL6T6vyJ7IHDx5Eamqqwmepqak4efLkW9ledXvaSprh9u3b2LVrFzw8PODk5IQzZ85AEISqzla1x/ZGRERERG9DlQeyZ86cwa1btxQ+u3HjBi5cuFBFOSIqWXh4OMaPH4+zZ89WdVYqlKenJwRBgCAIuHPnDuzs7Cplu8OHDxe3KwgC2rdvXynbJSIiIiLNVeWBbHp6Oo4fP47c3FwAQGZmJg4cOID09PQqzhn9lzk4OCAsLAyCIKCwsBCRkZGYMWMGpFIpACA6OhqLFi3C48ePqzinRERERET/PVUeyALA77//juDgYABASEgIzp49C6lUirp165a6bGZmJn799Vf07dsXZmZmkEgksLa2xqhRo+Dj4wOZTCam9fb2RocOHcS/g4OD0axZM7Hr4/79+1VuQyaT4dKlSxgwYACMjIxgZmaGsWPHIiYmRmX658+fY/369XBzc4ORkREkEgmaNWuGb7/9FsHBwcV2SX3y5AkWLVok5umDDz7A+vXrkZSUVGo50NujpaUFGxsbLF++HJs3bxaDWT8/Pxw7dkwpfVnqpJyqOmNtbY0hQ4bg119/VRofLggCoqKi4OnpiXbt2imM5fX09MT9+/chk8mQnZ2N8ePHi997e3sjLS0Nq1atgqOjo0J336KTLhUdk/76On744QdcunQJHh4e4v65ubnhwoUL5WpvpXU/FgQBDx48wPTp0+Ho6Cim7dKlC1auXInk5GSl8nx9X+Li4nDkyBG4ubmJZTtv3jykpKSoVQeIiIiIqJoRirh586Zw8+ZN4W0JCwsTHBwcBAACAGHy5MmCvb29AEDw9PQUcnJyhDlz5ggAhAEDBggTJkwQ0/bs2VN49uyZwvoePnwo9OjRQ0yj6t/SpUuF/Px8QRAEwcvLq8S0+/btEwRBEHx9fcXPLC0tBXd3d5Xpu3btKsTGxirk6ebNm4KLi0ux25BKpcLy5cvFPMn5+PgIdnZ2JeYPgDBu3DghKyvrrR2j/7Ki9cPBwUEICwtTSpOSkiIMGDBATDdixAjh5cuX4vdlrZOCIAj+/v4K7aKkuikIgpCfny+sW7dOkEqlxaaXt5esrCxh3Lhx4ue9e/cW2rdvr3I/9+3bp7K9vb6Okur2/v37BZlMplSe6ra318s9Pz9f2L59e4n7amdnJ/j4+Cgcp6L7Ym9vL3Tt2lXlsiNHjhTS0tLetOoQERERUSWr0ieyLVu2RPfu3QEAx48fx/Hjx8UnXL1794alpWWxyyYnJ2PWrFk4d+4cLC0tsWvXLmRlZaGwsBDnz5+HlZUVAGDNmjXiGFxPT0/4+vqK6yjafVQQBAwfPlzltoYOHYqMjAwUFhbi7NmzYr4uXbqEy5cvi+mePn2KmTNn4vr16wCACRMmICUlBfn5+Th+/DisrKyQnp4Ob29vhcmskpKSsHLlSvFJVI8ePRASEgKZTIasrCxMnz69bAVLb42xsTFatmwp/h0TEyN2gy9PnUxNTcWKFSvEHglz5sxBWloaBEFASkoKVq1aBVNTU4U8HD58GHPmzEF6ejqkUim8vLyQlpYGmUyGhw8fYsCAAcXmv1GjRjh06BAKCwvLPRZ20KBBiIyMhEwmQ1xcHEaNGgXg1TCBtWvXit2ty9veivr7778xdepUcV93796N/Px8pKWlYcGCBQBejVmeM2dOid28v/vuO+Tm5iI/Px87d+4UPz927Bju3btXpv0nIiIioqpXpYGsvr4++vXrB6lUiuDgYHh4eODBgwdwcXFBt27dSlz26tWrCkHv4MGDYWBgAC0tLXTo0AG9e/cGAMTHx+PixYvlzmPdunXxwQcfoFatWtDS0oKTk5NCIBMVFSX+/+XLl3Hp0iUAgK2tLcaPHw8TExPo6OigR48e6N+/P4BXP/iPHDkiBkC+vr44fvw4AEAqleK7775D8+bNIZFIYGBggNq1a5c7/1SxJBIJtLW1xb9TU1PF41ieOpmUlKRQh0xMTFCjRg3x/6dOnYoTJ06gVq1a4vYOHTokbnPAgAH49ttvxe7Itra22LRpU7HBaf369VG/fn1oaZW/6bds2RI2NjaQSCSwtLTEl19+KXa3vn79eoUFhtnZ2Th69Ki4rx9//DEGDBgAHR0dGBkZ4fPPP4eLiwuAV92Ti5t8q3HjxnB2doauri50dHTQrl07ODg4AHjVFjnOmYiIiEjzVPkYWUdHR7i5uSl81qNHDzRu3LjYZQRBwN27d8W/t2/fjlq1aolj4gwMDLBx40bx+9jYWOTk5FRIfg0MDNCoUSOlzwsLCxESEiL+bWNjgwYNGoh/6+npwdraWvw7NDQUiYmJSvvi4uKiEChT9SL8b/InORMTE0il0nLXSTMzM4WeBzNnzkTNmjXRrl07TJo0CSdPnsR7772Hjz/+GACQmJiIR48eieldXV1hZGSkkEcLCwusWbMGZmZmFb7/qtSpUwc2Njbi35GRkRWy3tTUVIXxsra2tmLADACmpqYKbfHu3btqtXNTU1OYm5tXSB6JiIiIqGpUeSBrYmIiPqkCAEtLS/Tp00fhqdfrcnJykJCQoPY25N0oK8LrT+Tk8vLySp04pujkVQUFBSgsLFTaF21t7Td6WkZv14sXLxQC1kaNGkEqlZa7TtapUwezZ88Wux3LXbt2DRs3bkSfPn3Qtm1bXLlyBcCrSaGKPvE0NDR8wz2qeBkZGRWynvT0dKV3TBelq6urEKyr2861tLRKPL8QERERUfVXLSKmbt26iV0Ee/bsiffee6/E9Lq6ugrjBseNG4esrCyFd1EW/bd582YYGBi81X14PU+qFJ19WEdHB9ra2motR9WDIAg4ffq0wjuOO3fuDKlU+kZ1snPnzggMDMT27dsxdOhQpW7B4eHh2LlzJzIzMyGVSmFrayt+V/TpcFURBEFhtuLXg/LykkqlMDExKfb7vLw8hdmctbW1IZFIKmTbRERERFS9VYtA9p133sG1a9cgCAJ27twpjgcsjra2tkKwe+3aNZXj3ARBgJ+fH1avXq1yPTKZrMKe1L6ep6ioKDx9+lT8Ozc3VyGP77zzDszNzaGtra3ww//15ajqyWQyxMTE4Pvvv8f48ePFMZtdu3aFu7s7gPLXyYiICOzYsQO1a9fGmDFjcODAAYSFhSElJQVff/21uFx8fDxycnJQv359NGnSRPzc398f2dnZCtvIzMyEl5eX0it73pbQ0FDxKbGlpSWaNWumMl1Z25uJiYlCUB8REaHwfumUlBSFV2A1bdoU+vr6Zc0+EREREWmgahHIloebm5s4eVJwcDCmTJmCGzduoKCgAMCrp58//fQT+vXrp9DV0cLCAk5OTgCAe/fu4ezZs8jNza2QPHXp0gVdu3YF8OpH9+bNm5GamgqZTIazZ8/i999/B/DqSdNnn30mTuLUoUMH2Nvbq1zu7t274izIVHmKvvNUW1sbjRs3xrJly8RAysrKCgsWLFAYB12eOimTybB27VoMGjQIV65cQV5enri+ouM97ezsYGhoCDMzM4wYMUIcK/rrr79iw4YNePnypfhu2a+++gr+/v5vrWxyc3NRUFAAmUyGa9euYfny5eJ3r/eoeJP2ZmBggIEDB4r7+scff+DYsWMoKChAZmYmtm/fLraN9u3blzhbMxERERH9u2hsIGthYYEVK1agR48eAIBz586hbdu2qFGjBiQSCSwsLPDdd98pjVtt0KAB2rVrJ/49ZcoU6OvrQyKRYP/+/W+UpwYNGmDFihViN+lNmzbB1NQU2tra6N+/P+Lj4yGVSuHp6akwLrhZs2YKM78WXa5Dhw64cePGG+WLKpazszN+/fVXdOrUSeHz8tZJADhx4gQ6d+4MPT09SCQSmJqaYvv27QBeTX729ddfi995eHjA09MTUqkU6enpmDlzJmrXrg0tLS00adIEBw4ceKv7v3jxYtSoUQPa2tpo166dQjA5e/ZshR4Vb9reunXrhtWrV4v7+vnnn6NGjRowNDTEkiVLALwK8pcsWaIwmRoRERER/bvpVHUG3oStrS3++OMPXL16FQcOHEBAQIA4y6mdnR3atWuHQYMGoWPHjuIyBgYGWLhwIRo0aIBDhw7h9u3bYvqKmDjHyckJJ0+exIEDB/DHH38gMDAQ6enpsLOzQ8+ePfHFF1+gZcuWCmP5tLW1MWXKFLRs2RJLly7FxYsXYWpqig8//BATJkyAj48PFi5c+MZ5o/Jr3bo1HBwcMGzYMHTs2LHYMddlrZNNmjTBhg0bcPLkSVy6dAnXrl0D8OqJr4uLCwYMGIC+ffsqBIc6OjqYMWMG+vTpg19//RUXLlwQl2vdujW6du2K0aNHw8TEpMJ6GxQ1fvx4WFlZie3Hzs4Oo0aNwpgxY5RmA37T9qajo4MvvvgCrq6u2L59Oy5duiSuo3Pnzujbty9GjhzJWYiJiIiI/mMkQpFBa0FBQQAgdgUkIsrOzsbUqVOxZcsWAICXlxc8PT2rOFdERERE9F+msV2LiYiIiIiI6L+JgSwRERERERFpFAayREREREREpFE4RpaIiIiIiIg0Cp/IEhERERERkUZhIEtEREREREQahYEsERERERERaRQGskRERERERKRRGMgSERERERGRRmEgS0RERERERBqFgSwRERERERFpFAayREREREREpFEYyBIREREREZFGYSBLREREREREGoWBLBEREREREWkUBrJERERERESkURjIEhERERERkUaRCIIgyP+IioqqyrwQERERERERlUqn6B+pqakAgAaNrKokM0RERERERESlYddiIiIiIiIi0igMZImIiIiIiEijMJAlIiIiIiIijcJAloiIiIiIiDQKA1kiIiIiIiLSKAxkiYiIiIiISKMwkCUiIiIiIiKNwkCWiIiIiIiINAoDWSIiIiIiItIoDGSJiIiIiIhIozCQJSIiIiIiIo3CQJaIiIiIiIg0CgNZIiIiIiIi0igMZImIiIiIiEijMJAlIiIiIiIijcJAloiIiIiIiDQKA1kiIiIiIiLSKAxkq1hOTg6+mzkDw4Z6IDU1RWWa5ORkjP58JJydHBHg7y9+/uJFKmZMn6b0OVUP6hzb10U+egS3bl2wetXKt5y76q885UfVy43AQFhamOPokcNVnZUqUVn7X1BQgD/+OIbevdxhaWEOZydHnD518o3WWdXHrqq3T0RE1R8D2WquoKAAvx08AF/fq/h+7lx80K6d+J2xsQlmzf4e77//Plb+tAIJ8fFVmNN/lydPnog/Cj3nzUFeXl5VZ4mISIkgCPjzj2OYMG4sbt0KAgDExsYgOzu7inNW8eQ3tywtzHEjMLCqs0NERFWMgWw1F3L/Pnbv2oUxY75Ev379IZFIFL43NzfHmK++wqNHETh06DcUFhZWUU7/Xe7fuyv+KAzw90fMkydVnCP6L1m9aiXcunVB5KNHb31bb/Lki0/Nql5qaiqOHDmMLl27ws//GuISkhCfmIyBnwwqcbn/6rGrzLZFRERvFwPZaiwvLw+HDx9C7dpGGOwxBDo6OirTtW3rggEDP8Hh33/Ho0cRlZzLf5+cnBxcvnwZnTp1xpy58xASEoLrgderOltEREpSnj9HQnw8PvqoN2yaNFG62flvoq+vj+UrfkJ8YjKc27at6uwQEVEVYyBbjf3zTxR8LvugR093WL/zTrHpdHV10a9/f7x8mYbLly5BEIRKzOW/T3T0Y1wLCIBTmzbo3acvHB2dEHj9GrKysqo6a0REClJTU/HgwQPUqlWrqrNCRERUqSo1kM3MzMSaNT/j4/59YdvkHVhamMPe7l2M/Gw4Tp44oTQOsehkL0+fxmL3rp3iuMXevdxx4NdflZYpOllOTEwMFsz3hLOTI2ybvIPRoz5HUNBNlYFeVlYWdu/aiYED+ov5mjplMkJCQpTSy7smRUQ8hJ+fL0aP+hy2Td6Bs5Mjlv64BC9epKrc/+fPn2Pd2jXo0L6duA+/bN+G5ORklekDr1/Hy5dp6N6jB7S1tUssW1vbd9GxU2dcv34dL9PSSkxLJQsKCkJ8fBzaubqiYcOGcHRyxI3AQDx+/LjYZcp6bAVBQEhICKZOmQx7u3fF+nnx4gWVY9vy8vJw8sQJfDpsiNh2Bg7ojw3r1+Hp01i19+30qZMYNXIEnJ0cYWlhDksLc/T5qBfWrV2D58+fK6Qt2v4SEhJw8sQJeAz6BJYW5ujQvh22b9uGnJwctbctJy+r7m7dxIlpFsz3RExMjNrrkMlk8PPzxdivxsDe7l1YWpjDY9AnKs8j8nPCqpU/ISLiIWbOmC6eE8Z+NQYh9+8DAJ4+jcXSJYvFYzjys+EVcr4o2oXz9XNS0e0DQGpqCoYN9cDyZUsREhIi5sXSwlztSa9u3LiBCePGKizb3a0bflgwX6mMV69aiX59ewMAJk2cIKZXZwxiWZctbd/LW76lKUtdKcuxUrUN+bVAnt/AcvbkiImJwQ8L5ovHsLtbN2zZvAkvX75USHf0yGGVx+C7mTNKbJtv89iVpbzLo7iuwa+XmbOTI76d/A18fC4jLy+vQtoWERFVL6r7qr4leXm5uBbgj+vXromfvXiRivPnz+H8+XPwnL8A48ZPUAra7ty+g359+yDu6VPxs1u3gnDrVhCeP3+G8RMmKnW73bdvL7Zu2aIQVJ45fQr3793D2nXr0c7VVfw8OTkZc+fMxl/Hjyvk6+CBA/C96quUHgCePXuG6VOn4MaNG+JnGRkZWPPzaqSnp8Nz/gLo6+uL30VEPMSUyZPFcZdF9wEAunTtqrD+3NxchIaGovl778HKyrqEUn3F0NAQLVq0wO5dO/E0Lg61jY1LXYaUZWRkIMDfH85t2+K9996Hrq4u2rVzxfZt2xB08waaN2+utExZj60gCDh27ChmzZyBjIwM8fMzp0/hzOlTSuvPycmBt9dC7Phlu8LnAf7+CPD3R15eHqZOm67W/oWFheHs2TMKnwUF3URQ0E3cvn0bK35aCTMzM4XvH0U8wpdfjEZQ0E3xs8hHj/43CVauyjZbnMhHjzB16rcKP5ZjY2Owdctm3LxxAz+vXQtb23dLXEdBQQG2btmM1atWKpTf1atXcPXqFcyd56nynLBzxy/YtHGDwjJ/HT+Op7FP0aNnT/z++yGFH8fnz59DXNxTbNm6HU2aNhU/L8/5AgD27NmNuXPmKJyT5Ntft2EjbGxsStxvdcU8icYffxxT+Oz+vXu4f+8ebgQGVui21FWWfS9v+apS3rpSlvwWFBRg86aNWLzIW2EdBw8cUCuPr7sWEIAZM6Yp1EX58bsWEIDlP62Eubl5udZdHmUti/KU95u6ERiIiRPGIzb2/2/UxMbG4NBvBxFy/x62bN0OUzPTCt0mERFVvUp9ImtiYooDBw8hPjFZ/BfzNB6nzpxF+/YdcOb0KcTHxyktV1CQj06dOuHvy1cQ8zQeT+MTceLUaTg6OmH7tq24d++u0jJaEi18O2UKgu+FIC4hCf9Ex+Cnlavw4kUqtm3birQXL/637gL8sm0rLv39N+Yv+AFh4RFivk6fPYcmTZsqpJdLTExEfn4B9u77FZH/RCMuIQl+Adfh1r07Tp74Cw/Dw8W0WVlZ2LB+HW7dCsK3U6biXsgDcRsXL/nAvddHSvnPysrE48f/wNb2XUilhmqVr12zZoiKikJycpJa6UnZkydPcCvoJtq2dYGJiQkA4P0WLeHo6IQrV3yUnoiU59g+fBiOn1etgrGxCbZt34F/omMQn5iMyH+isXPXbqUg42F4OE6e+AtDhg7F7Tt3EZeQhLiEJISGhWPDps0wLsNNi6nTpiu0v7iEJNy+cxdfjR2H06dO4ubNG0rLxMbGwNTUFMf+OI4nsU8V2l9xbVaV9PR0rFnzM+Lj4rF+w0ZE/hON+MRkPIl9il8P/Ibc3Bzs2b2r1Kc2fr5XsXrVSnTv3gN+AdfxND5R3I8JEycVe07IycnBiJGfI/DmLcQlJCHyn2hMnzETt24FYemPS+Do6CSu75/oGMyeMxchISHw9/cT11He8wUAhIeF45vJk8Vz0sNHUeL2L5w/B+D/z5HfzZqN9957D75+AeKxOnDwEExMSv8xPvCTQQrHOD4xGWHhEZjnOV9hW8Cr+nD8r1evadmwcZPCMqWNQSzLsurs+5uWryrlrSvq5hcAAgL8sebn1XB0dMKRY38g5mm8WOYrV/+sVj7l0l68wI4d25GYkID5C37Aw0dRiE9Mxp279zFh4iScOXMaGzesF9vIwE8GqTwGy1f8pHAj9XVv49i9SXm/ifz8PJw48Rfy8/OwY+cuPIl9Kp5XLl7yQfcePaGlrV0hbYuIiKqXKh8jq6Ojg9atHdH/44+RkZGBnGzl7lBtnJ0xf8EPsLe3h46ODrS0tODk1AbDR4xAYmIi7t+7p7TMp8OHY/yEiahbty4kEgn09fUxYOAn6N2nD8LDHuBp3Ksf33Fxcbh69SrGjPkSX40dJz7J1NHRQatWrTFy5EhcveKDR5GK3Zjs7e2xbv0GuHXvjpo1a0IikcDGxgb9+vVHYmIi4hP+/1U44eFhuHzpEoZ/NgKTv52COnXqiNuwsbFReXc95XkKkpOSYGxsjBo1dNUqS3PzurCxscHzZ8/USk/KfK9eQWZmJjp36SJOmmJpWQ9tnJ1xIzAQka/Vg7IeW0EQcPnSJUREPMTs779H7z59xB+cNWvWhK3tuzAwMFBYJjc3F4mJiahTxxx1zM0hkUggkUhgYmKKgQM/wegvxpR7fyUSCepZWmLosE9hY2Ojslt6p06dsXrNWnzQrh1q1NCFlpYWHB2d0LVbNzx58gQpz9XrkvfoUQSu+FzGlKlTMfCTQahZsyYAoEYNXXTp2hWDPYYgMDAQT4v0vHhdXl4eLlw4DweHVpi/4AfY2NhAS0tL3I9Ro79AgwYNcfXKFaVlx42fAM/5C9CoUSNIJBLUrFkTH/XuAxsbG0yZOg0/r1krrk9fXx+9P+oNe3t7PCvSnsp7vgAAL29vTJz0tXhOkkql+PjjAbC3t8fTp0+Rn//2XvFU29gYnwwaDFfX9nj58mWlj6NXd9/fpHxf9yZ1Rd385uXl4dzZM6hVqxa+nzsXrq7txaeNtY2NYdvUtkzl9PDhQ1z6+28MHTYMY778ClKpFABgYWGBiZO+Rs+e7gi6eQNJSYllWu+bKEtZlLe830RhoQzZ2dmoVasWGjVqLF4va9TQRfPmzTFr9vd4p4Q5JoiISHNVatdi4NUd99u3bsHH5zKCg+8gPT0dIffvi92QUlNVjy9Vxc7ODoaGhkhMTIQgCKXO1lizZk3Y2DTBbwcPij/YExMSxG6ga9YUf/f82WvBofwC/bpGjRoDADKLdKv6JyoKiYmJcHFxEX+8q6thw4Zqp9XT1VUKgkh9aS9e4Nq1a3B0agObd/7/qWiNGrpwbd8eW7dsRuD162jVqrV47Mt6bHNzcxEZGQl7e3s4OLRSa4bRxlZW6NSpMzasX4cnT6IxYMBANLW1RaNGjUt86qKKIAiIjY3FubNncfNGIFJSUhAVFSV2yYuNVR5vq6WtBS0txXxKJBJYWVkhMTERubm5am1bXlYzpk/DjOnTVKaxsLBA+mtPvYvKzMzAo0eP4Ofni9atWhabro2zM/Lz8xRuAmlrayuVt7zNZGVlobCwAFpa/5/eUCqFiYkp4uPjkZOTA319/XKfL+Tbf52JqSnMzesiOzsbhYUy1KhR7CrL5NmzZ7h44QICAvyQkJCI2NgYsatqk6ZNkZubW+a68ybU3fc3Kd/XvWldUSe/8m3Y2TWDvb3ysIOyevz4H2RkZKB1a0fo6irewDQzM8P7LVpg5U8rEB8Xj4YNG73x9tRR1rIoT3m/CX19fbRq3Rp79+zG+PFjMXToMDg7t0VTW1uYmJhAS6vK79cTEdFbUqmBrKqxT2/CuLYxrKyskJSUpPYPM3lgGBf36qlPTIx67wctGpiWRNVFPzo6GgBgbc27wtVZ1D9RuBV0E4mJiTh96qTKND4+lzHYYwhMTV91Qyvrsc3OzkJMzBNY1KsHszpmpS+AV8Hdj8uW4+fVq3D61Emx/RgaGqL/xwPw3azZqFu3bqnrKW78WnmpOy5WTl5WJSktMJb3VChNWQNDVen19HShq6f4Y7uizxdaWhJoaVfcD21BEPDnn3/g+1mzip10rrpQte8VWb4VXVdU5Ve+DUenNhUya7D8RpL8hmhREomkzG3ubSmpLEpT0TdtAGDQoMGQQIJtWzcrjFW2t7fHjJnfwb3XRwxoiYj+hSotkC0sLMTOHb/gr+PHMdhjCEaMGAmbJk1Qq1Yt6Ovr4+iRw5g0cUKZ1pmcnIyQkBD07tNXrSBWEARERUACB5cAACAASURBVEUB+P8fCvXrNwAALPTyxthx48u4V+oRg2c1xxIWpeoJWXFy8/JUznhLpRMEAT6XLyMxseQuezcCAxESch8dO3YCUPZjq69vgAb1G+De/Xt48SJN7XFZNjY2WLtuPXJW/ISYmCcIvnMHx//8E/v37UVBQT6W/Lis1CfCAQH+WL1qJZo2tcWkr7+Bk5MTahkaQiqVIioyEuPGfqlWXspLXla79uxFz57u5VqHsYkJzMzqoE/fvli56mcYGRlVZBZLVRnnizfx8GE4Vv30E8zqmGHO3Lno3KUrahsZQWpkhLS0F5g4ofrluaiKLN/KqCvybcTHxyH3f0/t34S8jcTEPFEaqyoIAgoLC99o/W9TVbZNXV1dDPv0UwwZOhSpqakIDw/DFR8fHDl8GN9O/gY7dhmJ52wiIvr3qLRblJmZmYiIeAhX1/aYM3cenNu2hZmZWbkv/IWFheKrDZq/955ayzx//hz3792Ds7MzLOtbAgDMzc3x3nvv4dq1a2pPIFJWdS0sAADhYWFq/xAxNTOFed26ePHihdpj516mpSEqKgpm/xunSepLSkpCgL8/+vTti/CISKXJcuITk3Ho8BEAr2YLlh/Hsh5bXV1dmNWpg6jISIUZNtWlr68PW9t3MWiwB9at34BeH/XGgwcPSg3AAeBBaCgyMjIwe84c9OnbF5b168PIyEit7s0Vwdr6HRgaGsL36pVyv4ajVq1asLK2VjleuTJUxvlCTiaTlXks6+PHjxER8RDjxo3HiJGfo3HjxqhtbKzW06g3CZIqKsCqyPKtjLqip6eHuhYWiH4cjYTEhDden7yN3L59S6mNqLp+VYSKOnZV3TaBV0N+zMzM4OraHrO/n4OFXl7IyMjA7Vu3FNKVp20REVH1U2mBrK6uLkxMTBEZ+Qh37txGQUEBAODly5e4cP489uzZXeyyL9Ne4mH4QzGgS09Px57du7Bu7Rp06tQZrVq1Vlrm6dOniI2NES9YMTExWLLYG2fPnkGHjp1gaVkfANCocWN07NQZp0+dxPezZ+HBgwdi3nJychAaGoqlSxYrvHqkrJo2bYp2rq74/dAhXLx4AQUFBZDJZIiOjsbyZUtx7OgRpWVq1qwFa+t3EBHxEOnp6nVTvHs3+H8TDJXezZQUPXwYjlu3guDs3LbYJwnvvmsHR0cnBN28KY7RK+ux1dbWhrPzqyctW7dsRlRUFARBQH5+Hq4FBGDhDwsQEhKisMxfx49j9aqVCAt7ILaBgoICRDyKQGJCAszMzFC7du1S91E+EVWAnx/S09MBvJrxMzQ0FOvXr1Wr6++bePfdd9G1Wzds37YNixd5Izo6GjKZDMCrG12B169jkbeX2GtCFX19fXT78ENkZmZi5vRpOHfuLLKysgC8KpP4uDjs27sH27ZtfSv7UBnnC+BVUPDgwQOcOnWyTEG/qYkpDA0NEfS/LvLAq3J5/PgxNm7YgDu37ygto6enBwsLC5w6eRIJ8fFK35fkTZZVpSLLtzLqiqGhIVq3bo2IiIfYtnWrWOZZWVm4cP485nvOK9P65G3k4IED+GX7NrGdJiYmYuVPK3D27Bk4tXFG3boW5c6zXEUfu6pqm6mpKZg753ucPXsGqakpYoCa9uIFQkNDASjONVHetkVERNVPpXUtll/kjh09gtGfj1T4ztjYBHbN7Ipd9tatIHzcv6/S5w0bNsKUqdNgYaF8Ud+/by/279ur9Lm7ey+M/mKMONZIV1cXEyd9jadPY3Hs2FEcO3ZUZR4+dOte4v6VpH79BvhsxEjMmjkDn4/4TOE7GxsbNGigPKGTnp4emjdvjtOnTiI6+rE4JrM4GRkZuHfvHuya2aNB/frlzut/UWFhIQL8/VG3bl10KKH7WZ06deDUpo0YVFpYWJTr2Lq2b49Bgz2wa+cOXDh/XuG791u0UKrP+fl5WL5sKZYvW6q0LkNDQyxb8ZP4qqCSOLd1gXPbtliz5meliXScnZ0rZIxfSWobG2PWrO+RkJCArVs2Y+uWzUpp3nvvPQwb9mmJ63Fz646p06Zj9aqVSmUu992s2RWS59dVxvkCAFxcPkDDho3w45LF+HHJYgCv3ke8cdPmErujywOh3w4exG8HDyp85+TUBoaGyq/ysrKyQlsXF/x1/DjOnDktfn78r5OlvoLnTZZVpaLLtzLqSt9+/XH1yhWV1xxnZ+cyrau2sTHGjhuPqMhIeC38AV4Lf1D43t29FyZO+lppIqjyqOhjB1Rd24yKilR6z7acu3svdOzUWfy7vG2LiIiqn0qd/aBnT3fs3L1HHKvSpGlTjBs/AecuXMTIkZ8Xu5yjoxO8Fy0pMi6xEcaOG4+jf/yJdq6uKpcZOmwYZs3+Hk2aNhXXsXTZcmzYtFnplSjm5uZYu24Dtm77Bd2794Cxsfz9oS3w5Vdf4fhfJ9Ha0bHc+y2RSPDxxwPwy85dCvs+Z+48/Pb7YbR1cVG5XFsXFxgZ1cb5c+dK7f4VEfEQV6/4wMXFBUZqPJ2j/5ecnIzr/5utuHFj5UlW5LS1tdHO1RWGhob4++JF5OfnlevY1qxZE57zF8Br0WKxfnbs2Anbf9mJtes2iE9O5dx7fYRde/aiX//+4kylDRs2wqefDscfx09gwICBanUPbtSoETZv2Yrhn42AsbEJjI1N0LdfPxw+egwrV/+stN23oUnTptj/60EsXbYcHTt2EgMrJ6c2mDJ1GtZv3IR3XnuP7ut0dHQwfsJEHD32J4YP/0wsw4YNG6Ff//7YtGUrvvxq7Fvbh7d9vgCAlg4OWL1mjcI5z9r6HejolDxDTm1jYyxf8RO+nTIVDRs2gqGh4aun4L/sxPYdO9HUtqnKZX5Y6CXWC0NDQ3Ts2Am1VAS9FblscSqyfCujrpibm+OnVasVyty910c4fPQY5s6bX+b1tWnjjJ2792Lc+Alift9v0QI/LPTCmnXrVb6urTzexrGrirZpbGyCRYuWYNbs7+Hk1Eb8vJ2rq8prfnnbFhERVT8SochAkaCgIABAg0ZWVZahonJycjDfcx5iYp6ofbc08tEjjBv7JXr36Yup06ZXQi7fnry8PHh7/YAAf39s2bpd/FGgKt2PSxbj4oUL2PbLL7Cza1bJOSUiIiIiIqo8nI++GtPV1cWgQR5IS3uJ3w/9Jo4Ve13QzZs48ddfGDR4MJo2ta3kXBIREREREVWuShsj69jaAfFx6r9+Jj4xWeXnlhbFd6sqzzLVWXxiMt57/318PmoU1vy8Gu82a6bUjTQ5ORlbt2yGlZUVPDyGQFtbW9zf9Rs24pNBg6sq+0RERERERG8Fn8hWczo6OhgydBg6dOiIHxcvxrWAAPG7Fy9SsWzpj7h//z6mz5iJepYV90oGIiIiIiKi6qpaj5ElIiIiIiIieh2fyBIREREREZFGYSBLREREREREGoWBLBEREREREWkUBrJERERERESkURjIEhERERERkUZhIEtEREREREQahYEsERERERERaRQGskRERERERKRRGMgSERERERGRRmEgS0RERERERBqFgSwRERERERFpFAayREREREREpFEYyBIREREREZFG0Sn6h4mJCQAgK+NllWSGiIiIiIiIqDR8IktEREREREQaReGJbGpqKgDAycmpSjJDREREREREVBo+kSUiIiIiIiKNwkCWiIiIiIiINAoDWSIiIiIiItIoDGSJiIiIiIhIozCQJSIiIiIiIo3CQJaIiIiIiIg0CgNZIiIiIiIi0igMZImIiIiIiEijMJAlIiIiIiIijcJAloiIiIiIiDQKA1kiIiIiIiLSKAxkiYiIiIiISKMwkCUiIiIiIiKNwkCWiIiIiIiINAoDWSIiIiIiItIoDGSJiIiIiIhIo1TbQNbPzw8SiQT79++v6qwUKzExER9//DGsra3h4+Mjfp6SkoKxY8cqfU5Eb4e3tzdatWqF8PBw8bPs7GyMHz8e7u7ueP78eYVsRxPOS0VpWn41UUpKCubNmwdra2tIJBJ0794dUVFRVZ2tt05Vm/svbZ+IiKpetQ1kq7uCggLs2rULf//9N5YsWYJOnTqJ35mamooX2YULF+Lp06dVmFNS1/79+yGRSJT+denSBStXrkRycnJVZ5GIqpHMzEzMnj0bixcvRnR0NAAgOTkZ+fn5VZyz/yb5jZvx48cjOzu7qrNDRERvGQPZcrpz5w42bdqEb775Bh4eHpBIJArfW1hYYPLkyQgLC8OePXtQWFhYRTmlN+Xj44MZM2ZgwIABvPv/L8cnmP8O4eHhaNWqFby9vd/qdu7cuYODBw9izpw5SEtLgyAIuHPnDuzs7N7qdivDf/GJZ2XVGyIiqhgMZMshNzcXe/fuhbGxMUaOHAkdHR2V6dq3b49PP/0Ue/fuRVhYWCXnkspr3759EAQBgiCgsLAQkZGR+OKLL+Dn54f9+/fzpgQRAQAiIyNRr149DBkyBEZGRlWdnf+89u3bQxAEbN68GQYGBlWdHSIiessYyJbDo0ePcP78efTr1w9NmzYtNp2enh48PDzw4sULnD17FoIgVGIuqSJoaWnBxsYG8+bNg4uLC27duoWXL19WdbaIqBqIjo5GzZo1oaenV9VZISIi+s+p9EBWEAQEBwfjyy+/FCfHcHR0xKJFi/D48WO1gr3k5GQsXboUjo6OkEgksLa2xrRp0/D48WOltMeOHUP//v3FbUkkErRr1w5Lly5VOeaxaHeqW7duwcPDA0ZGRmjTpg0ePXoEAPD19cWLFy/Qp08faGtrl5hXe3t7uLm5icuQZjIyMoKxsTEKCgogk8kUvlNVpz/44ANs2rQJmZmZCmnlXde8vLzw4MEDjBs3DtbW1jAyMoKHhwfu3LkDAHjy5Anmzp2LZs2aQSKRoG/fvrh27ZrK9pGbm4sjR46gV69eMDIygpmZGT799FMEBAQopA8JCUHz5s2LHT+WmZmJ0aNHo3v37oiPjxc/l8lkuHTpEjw8PGBmZgaJRAI3NzccOXIEubm5pZZFs2bN8O233yIgIECp7Irj7++PYcOGifsvP09Mnz5dZTuvCN7e3ujQoQMA4LPPPlMYJ+3n56eU/vHjx5g2bZrK4/e6zMxMbNq0CV26dIFEIoGZmRm++OILBAcHl/kGV1mOR0nKkif5efHWrVvYvXu3uEyzZs2wdu1aZGdnIzc3FydPnhTrobW1NZYvX4709HSlbZelzRSdtCsuLg5HjhyBm5ub0vbl9u/fj2bNmiE4OBjz589XOI5Fu4w/fvwY06dPF+uYtbU1Ro0ahfPnz5dajvI8zZ8/H8HBwQr1VL6Not3Uk5OTFSaE+u2334rNh6OjI1atWoW0tDSl7crXuXfvXvj6+uLTTz+FmZkZzMzMMHbsWMTExEAQBKVzy+eff46IiIgS90nu+fPncHd3V7lvqiZOk9fHAQMGiMd93rx5SElJUbn+sly/y6q4rsGvnyPlcx8sX74cT548AaB+vSEiompEKOLmzZvCzZs3hbdFJpMJBw4cEExNTQUASv/GjRsnZGVlCYIgCL6+vgIAYd++fQrrCAsLE9q3b69yeRcXFyE0NFQhvZeXl8q0AIQBAwYISUlJSultbW2FIUOGCFKpVEzr4OAghIWFCdnZ2cLEiRMFd3d3ITk5Wa39XrVqlWBraysEBwe/QenR27Zv3z6VdU4QBOHWrVuCra2tMHHiRCE7O1v8vLQ6PXHiRCEjI0NMHxYWJjg4OAh169ZVqF9F6/CiRYsEOzs7pe/kdbCojIwM4dtvv1W5balUKuzfv1+QyWSCIAhCTk6OMHnyZMHe3l64f/++0j5ev35dsLS0FFauXCkuk5+fLyxfvlxlXgEIS5cuFfLz88V1HDhwoNi0PXv2FJ49e1amY1FcO3/48KFCei8vL6XyycrKEsaNG6f2dks6V/j6+gqC8P/npY4dO6o85qrylpCQIAwePFjleq2srITLly+rVSaCUPbjUdx5tKx58vLyEqRSqVC3bl2Vy0ydOlUYOXKkyu+WLFkiFBQUiOsqa5uRH0crKyvhgw8+ULnM8uXLxW2UVHfk5eDr6ytYWVmpTKOqnb1OnqfStgFAGDJkiFJ7lqfx8fFR2dYBCP379xcSEhIUtitfp6WlpcplevfuLXh6eqos2379+gmJiYml1rFnz54JPXv2LLUNe3l5CZaWloKrq6vKtF9//bV4PZcr6/W7JKravPz86uXlpXCsvv7662LrhDytOvWGiIiql0p9IhsUFITZs2dDKpVi7969yMrKgiAIePHiBU6dOoUGDRqUuPzLly+xZMkSxMbGYu/evcjIyIAgCMjNzcXp06eRk5ODzZs3K9xN9/T0FMc7CoIAmUyG2NhYTJkyBceOHUNAQIDSdiIiIhAVFYUDBw6I25BP4JGZmYnIyEjY29urPSbq/fffR0REBBITE8tWYFTl8vLyEBgYiNmzZyMhIQH9+/eHvr6++P29e/fg5eWFNm3aIDAwEPn5+RAEASkpKVixYgX27t2Ls2fPKq03Ozsb48aNwz///AOZTIaMjAwsWLAA169fF7sxP3z4EIWFhcjKysLixYsRHByMy5cvK6znwoUL2LFjB3r06IEbN26gsLAQ+fn5OHv2LGxsbDBnzhwEBQUBeNXVvV+/foiNjcW5c+cU1iMIAnx9fWFoaCg+7QKAv//+G97e3ujTp4+YH3kbmjFjBtasWYNbt24BANLS0nDkyBHY2NjAz89PLIusrCxcvXoVTk5O0NJS75QzfPhwhXYrL9Nly5bh+vXrOHHihPoHUU2enp7w9fUFoDhOWhAEtG/fXiFtSEgIZs+ejfj4eMhkMqSlpYnHr2jeCgoKsHbtWpw5cwYrVqxASkoKBEFAfn4+AgMDYWdnhzVr1iA1NVWtPJbleBSnvHlKT0+HlZUVTpw4gaysLMhkMgQGBsLFxQWrV6/G9evXxfOyTCZDcHAwXFxccO7cOYVzX3nbTHR0NOrUqQMfHx/k5uaisLAQAQEBcHFxwR9//IHY2FgAr+pOWFgYHBwc4OXlpXAchw8fjry8PBw5cgR5eXk4evQocnNzxetIcHAw+vbtW2pPGwMDA2zevBleXl5wcHBAWFiYwjaKOn/+PMaMGSPWFXma1NRUrF+/HnFxcVixYoU4WVRcXBxmzJiBP//8EytWrFD5dDg3NxfLly9HYmIiBEFAUlISvvrqK5w8eRI///wzvvrqK8TGxkImkyElJQUTJkzA8ePHERwcXOJ+AYCZmRnOnDmjct/OnDkDMzMzMW18fDzy8/Nx4sQJ8bg/fPgQvXv3xpEjRxAaGiqmLc/1uyKEhobiyJEjGDVqlFgmMpkMz549w/79+2Fqagqg9HpDRETVT6UFsvKLYHR0NBYtWoThw4eLkzHUrl0bvXr1gqenZ4kTNISFheH8+fOYO3cuhg8fjlq1agEAdHV10bNnT4wcORJ+fn6IiYkpdh0SiQQNGjTA6NGjYWtrq7K7b4sWLbBjxw707t1b3Ibcs2fPkJCQABMTE+jq6qq17xYWFrC1tUVSUpJa6alqFe1WqqenBxcXF9y8eRPr1q1Dt27dxHSCIODChQsAgBUrVsDZ2Vmc+MvExARjxoyBm5sbLl68iJycHIVtTJs2DcuXLxe7GtaqVQsDBw6Era0t5s2bh507d8LW1hZaWlowMDDAwIED0aJFC4U6lJ2djdOnT8PQ0BDe3t5o06YNtLS0oKOjgx49emDmzJmIjo7G1atXxWUcHR3h5uaGq1evKgQqCQkJOH36NNq3b48mTZoAgNhVtE2bNlixYoWYH3kbmjhxIho3boyLFy8CeBUgpaenw8jICI0bNxbLwsDAAB06dMDixYthYmJS7uNiYmKCzz77DF26dBF/9FeV1atXY+bMmahXrx4kEgmMjIwwdOhQtGjRAjExMcjLywMAxMTE4OLFi/jmm28wZcoUcf91dHTg7OyMcePG4cKFC2rNDFvW41Gc8uapRYsW2LNnD3r37g0DAwOxG2y3bt3QokULHD58GJ999hlq1aoFiUSCFi1awN3dHampqWL34jdpM25ubtixYwc6deoEXV1daGlpwcXFBe7u7vjnn3/w7NmzUssQgHhzyNDQENbW1uJ5XFdXFy1btoS3t3eJcx+U1cqVKzFjxgyxrsiFhobizJkzGD16NL755hvxxqilpSVmzpyJfv36ISAgAAkJCUrrlNe/unXrAgDMzc0xePBgAMDatWvx448/okGDBpBIJDAxMcHQoUMBoMKvQUXrhPy429rawsPDA/Hx8QqvnquI63d55OTkID4+HnXr1oWFhYV4bpcPwZg0aVKFbo+IiCqP6ul234KcnBzExsbCwcEBzs7OSq+rUUdERATi4+MxduxYjB07VmUaS0tLhbFFgiAgOjoaf/31F/z9/fHs2TNERESI7/yT/7coLS0t1KhRo8S8WFlZqZ1vPT091KxZU+30VL3UrVsXhw4dQufOnRU+z8nJwcOHD/HgwQM4ODgUu/ygQYOQm5ur8CRXW1tbqQ3I60lmZiYKCgoUbpTIx74+ffoU2dnZMDAwQEZGBiIjI9GyZUsx+CzKyckJLVq0QHh4uLiMiYkJOnbsiAULFuDWrVv48MMPAQD379/HhQsXcOTIEfEHZkZGBsLDw3Hp0iU0bNiw2P1zdXVFXl4ejI2N0bZtW3h7e2PgwIEYPXo02rRpg6ZNm8LY2LjMbT4pKQmnTp2Cj48P4uLiEB0dLQZXdnZ2yMnJqbKZSVU9sTMzM4OFhQWysrLEma3j4uJw/fp1XL9+HUuWLCl2feoEGGU9HsXdaCtvnuRBc1Ha2towMDDAs2fPlJ6kSSQSWFpaIjg4GM+ePROP2Zu0mdef6EskEtjY2CA+Pl4p8C2OgYEBnJ2dsWXLFgwbNgyjR4+Gq6srmjVrBjMzM7V7DairRo0aKut+ZGQk0tPT0bZtW6XJoszNzdG6dWssXLgQsbGxStcbVfVPfo1JTU1V2p6xsTFsbW0RFRX1prujQFWdAABra2sAUBgfXZ7rd0WwsbGBm5sbli9fjn/++Ucce29tbc2ZjYmINFylPZHNysrC48ePUa9ePdSpU6dc61DnIlz0B01BQQF++ukntGzZEpMnT8bBgwdx4cIFlcErkZy8W6lMJsP+/fuRnZ2N1atXK3UNl9fp0qSnp6OgoEDt7RcNhOT09PSUfuympKQgOTkZ1tbWKm+USCQSlT/Ke/TogYYNG+LixYsoLCxEbm4uTpw4ATc3N7Rr105MJ+99oG5+tbW1MXPmTCxbtgxJSUmYOHEi2rZtC1NTU3Tu3Bn+/v5qPUUVBAEHDx6Evb09Ro8ejV27duHcuXPV/n2WWlpaSgGGuhPYqJoQ6XVlPR7Fqcg8yRUXSBoaGirlraLbTGndgFX57LPP8Msvv0BXVxezZ89Gp06dULduXbRq1QpHjx5Ve1KyNyG/DsmDvqIkEkm59gt4dcPjdZV9M1VV3st6/a4olpaW2LhxI0aOHIkzZ85g4MCBaN68OSwsLDB27Fi12hQREVVPlRbIGhgYoFGjRkhISFC7C9jr5Hel//zzT6Xxc6rGs/n4+MDb2xvNmjXD77//jpiYGLx48QIymUwcC1NeZQmGc3NzkZWVVe5tUdWQSCTw8PDA3Llz8eeff8LLy0thRlV5nXZ1dRVn3Fb17/VxZRXF1NQU5ubmePz4scr6JQ/GX9e0aVN0794df//9N548eYLHjx/Dx8cHvXr1Qr169ZTWP2jQILx48aLY/Sv6zkapVIrvvvsOjx49QkxMDE6fPo1JkyYhJCQEX375pcKYueKEhobCy8sL5ubm2Lx5M6KiopCSkoLCwkI8e/YMPXv2fINSq1yNGjUCAKxatarEc5Y6Y/DKczzedp7KqqrbjJyenh6++OIL3LlzB0lJSbh06RLmzp2Lly9fYtSoUbh06dJb27ac/HqmKrAX/vcO63+Tsl6/K5KtrS12796NxMREhIaGYs+ePejcuTO2bduG77//XmmmbCIi0gyVGshaWVkhODgYN2/eLNc6mjRpAqlUiosXL6o1IcTdu3eRnp6OxYsXY9CgQWjYsCFq165drm7NcnXq1EG9evWQmpoqjoMrzYsXLxARESGOZyLNoaOjg6+//hoTJ07Exo0bsX79evFJkbxO+/v7ixMqVSZDQ0M0adIEd+/eRWRkpNL3QUFBuHfvHuzs7BQCG/mkT6GhofD394evry+ysrIUJnkqun4/P78yPw3V0dFBw4YN4e7ujnXr1mHu3Ll48OAB7t+/X+qykZGRePDgAaZOnYpx48bhnXfegYmJSYV3+SxJRQURFhYWcHBwUBqTXB5vcjzeVp7KqrLbTGFhYYm9ALS0tGBubo4uXbpg0aJFWLVqFdLT0xEYGPjW8ya/ngUGBipdz5KTk3H79m24urqW2I38bZNPTlURynr9fhsMDAxgb2+PESNGYM+ePRgwYADu3bun8LoxoPR6Q0RE1UOl/TKUv4POysoKc+fOxeHDh8V3/6WlpeH06dPw9vZW+X5LuebNm8Pd3R1r167F999/j6ioKPGJU0ZGBnx9fTFr1izxfXnywPHy5ct4+fIlgFez0N69exfLli0r13ihWrVqoUmTJnjw4IG4ztIEBQXB1tYWFhYWZd4eVb1atWph/vz56N+/PxYvXoxDhw5BEASFOj1t2jTs2LFDDAxkMhmSk5Nx8ODBUut1eRkYGKBXr17IyMiAp6cnbt68CZlMhoKCApw8eRLe3t6wsrJCx44dlZaVT/q0a9cu7Ny5U2GSJ1XrHzt2LP766y/xyUVBQQFiY2OxdetWrFmzBsCrMXDffPMNLl++LI5zk8/CGhYWBqlUqtaPcjMzM0ilUly7dk38gVlQUIDIyEisWLECN27ceKNyK4m+vj4sLS1x9OhRhYlqysva2hpubm44duwYJk2ahHv37ok3QrKzs3H37l3MnTsX165dK3VdZT0elZGnsqqsNqOvljscKAAAIABJREFUr49atWrhzJkzCAkJUfju+fPn+Oabb3D8+HE8f/5cDFhSU1Nx9+5dAEDjxo3LvW11ya9nO3fuxLp168TrSXx8PBYuXIjjx4+jXbt2Cr0kKpOhoSHu3buHY8eOVUjgWdbrd0X5/fff4e3tjfv374s3nwsKChAWFoa4uDiYm5vD2NgYQMn1hoiIqp9Kff1Oq1atMGPGDKSkpGDw4MGoWbMmJBIJjI2N8dFHH5X6w9HExATe3t5o3749Vq9ejSZNmoiT5kilUnTs2BFnz54VL47t27dH+/btsWTJEvFJrJ6eHhwcHBAeHq40fksd+vr6aNmyJYKDg9UKhNPT03H79m28//77Ypc+0jwWFhb48ccf0bx5c8yZMwdXrlwB8GpCpaVLlyI9PR1jxoyBqampOL6tbt26GDZsWIUERMVxc3PDN998g3PnzsHZ2Rna2tqoUaMG+vTpg7i4OCxZsgROTk5KyxkbG6NDhw64cOEC/Pz80LdvX6UZugGgd+/e8PT0RFRUFPr16wdDQ0NIJBLUqFEDjRo1wrhx48Qf4DKZDFevXkXXrl3FyZ20tLTQsGFDbNu2DSNGjECrVq1K3Sf5D95du3ahfv364vaaNm0KHx8fSKXSNy+4YtjY2KBDhw74888/0bBhQ3GGUz8/v3KtT09PDzNnzsTgwYNx4MABtGzZUpz8p2bNmnBwcMCSJUvUfgJcluNRWXkqq8poM/Xq1UO7du1w/fp1tGjRQjyO+/fvB/Dqpkv//v1Rp04dccIiU1NTLFy4EP3794ebm1tF7GqJTExMMHXqVNjY2GDmzJniNap+/frYuHEj+vfvj5kzZyqNja8sHTt2hJWVFebMmQN9fX3xJsTz58/Ltb6yXr8rSl5eHubPn48WLVpAT09PbC+urq4IDQ3FiBEjxG7spdUbIiKqXio1kNXR0cGkSZPE9+rJx8y4uLhg2bJlmDNnTqmzCNrZ2eHUqVPYuHEjPvzwQ/FH7QcffIB58+Zh3759sLW1BfDqycOBAwfw1VdfwdTUFKamphg8eDD+/vtvbN++vdxdfTt06ABjY2OcOHGi1B97Dx48wIULF8RlSHPZ29tj2bJlAIBZs2bhwYMHkEgkGDJkCG7cuIFp06ahdevWAF6NZ+zTpw+2bNkCLy+vtzY7pvxp8eHDh+Hu7g6pVApTU1MMGzYMZ8+exbBhw1R2pZdIJOjZsyfs7e2VJnkqSkdHB9OnT8fly5fx5Zdfws7ODsCr8W4eHh44cOAAvv32WwCvxqH98ssvCuUglUrh7u6Ow4cPY9WqVSqD5deZmJhg8+bNmDt3LqysrBTWceTIETRr1qy8xaXWtleuXCmeM6RSqcJ5pjwsLCywe/duHDp0CH369BHfW9m6dWtMnjwZvr6++D/27jsqiutvA/izgKA0KSJBNKCIWKIoiIhGQYOK0VgSNbEm9qhJ7NHYkp/YuyaxJibGlhjQqFiwgAULVRErxUaTJigdgXn/8N0JKwvsIiyueT7ncDzOzs7cvXPvnfnO3HvH2dlZoW0pczxUlSZlqaLO6OjoYN68eWIZAl6eI+rVqwcTExNs3LgRnp6e6Nixo/gdV1dXbN68GXv37lVZ7xkXFxf8888/mDFjhngs27Vrh7Vr12LXrl012ovH0dERO3fuFGc2t7Kygo2NTYUz+pdHmfN3VRkwYAAOHz6MIUOGiGXBysoKY8eOxcWLF2XayPLKDRERvXkkQomBINIxS/Ke4NC/8vPz8e233+L8+fP466+/xAsQeevNnz8fx48fx99//41WrVqpOKVERERERERvH5U+kX1b6OjoYOTIkcjIyMAff/xR5msirl69Ci8vL4wcObJanyIRERERERH9l6gskG3UqJE43uRt+Gvbti0mTZqEH3/8UZz8p6SkpCSsX78eTZo0wahRo8SxQBKJBGvWrFFVthMREREREb11tGo6AepKS0sLX3zxBa5cuYJ58+bB0tISrq6uAICnT59i4cKFuH79Onbt2gVLS8saTi0REREREdHbg2NkiYiIiIiISK1wjCwRERERERGpFQayREREREREpFYYyBIREREREZFaYSBLREREREREaoWBLBEREREREakVBrJERERERESkVhjIEhERERERkVphIEtERERERERqhYEsERERERERqRUGskRERERERKRWGMgSERERERGRWmEgS0RERERERGqFgSwRERERERGpFQayREREREREpFYkgiAI0v/cv3+/JtNCREREREREVCGtkv9JT08HAFg2sqqRxBARERERERFVhF2LiYiIiIiISK0wkCUiIiIiIiK1wkCWiIiIiIiI1AoDWSIiIiIiIlIrDGSJiIiIiIhIrTCQJSIiIiIiIrXCQJaIiIiIiIjUCgNZIiIiIiIiUisMZImIiIiIiEitMJAlIiIiIiIitcJAloiIiIiIiNQKA1kiIiIiIiJSKwxkiYiIiIiISK0wkCUiIiIiIiK1wkCWiIiIiIiI1AoDWSIiIiIiIlIrDGSJiIiIiIhIrTCQrQRBEHDwoDdsbRrju7lzkJOTIy73O3sWTo4OMsuJiKqaIAgICLiIIYM+gYW5GVrYNcOO7dtea5t5eXn4dvYsDP1sCNLTn1ZRStVn/0RERKQ+GMhWQnR0FH7dsQPvv98FM2bOgq6uLgBAIpGgW/fu+G7+fHj9fQCHDnpDEIQaTi0p6qC3FyzMzUr9fTywP7Zu2Yy0tLSaTiKR6NKlAHw1eRIuXrwAAMjISEdWVlYNp6p6SOvm+nVrazopRERE9IZgIKukgoIC7Nu7F5mZmZg9Zy7MzMxkPpdIJPDw6I3+Awbit52/4n5MTA2llKrKlcuX8b8fvsfoL0YhJjr6tbYVEx0N9+5uvCCn15KXl4cjhw+jXr16OHrsOOITk5CYlILpM2ZW+L3/4hPP4KAgWJib4aC3V00nhYiIiKoIA1kl3bp1E4cOemPQ4MGws7OTu46uri5GjhyFZ8+ew9vbC0VFRSpOJb2OnzdvQWJSChKTUhCfmISrQSEYOmwYgoOCeDzpjZCdnY1HDx/iA/ceaNfOARoab3dT/vEngxQK1ImIiOi/4+2++qliRUVFOH3qFAwN66KXhwc0NTXLXLdFy5bw6O2B8+fOIT4+XoWppKqkoaEBKysrTJs+Ew4OjoiIuIGszMyaThb9x2WkpyMtLRW1a9cutx0iIiIielupPJAVBAG3bt3CzOnT4OToAAtzM/Rw744N69chNjZWZkxpQUEBjvn4YNjQT2Fr0xgt7Jph8pcTERISXGrsackum7Gxsfh+0UI4OTrA1qYxRn/xOUJDQ8TvCIKAbVu3wNamsTi+7FUXL16ArU1j7Nu3V1yWkpKCwKtX4ermisaNm5T7O7W1teHeoyfCwkJxM+JGZbOL3hAGBvowrGuIwsJCFAvFMp/JK9N9entg1++/yUz4ddDbC+93dsGtW7ewauUKmXG40i6P5XWBTE9/iqGfDcG3s2chLy9PXF7yO2lpaVixfJmYjsOH/wEArF+3Fu7d3RAVFYlLlwIw+ovPYWvTGE6ODlixfBkyMtJL7S8nJwe7fv8NHw/sDwtzM9jaNMawoZ9iz+4/FO6Wmp2djY0bN2BA/49ga9NYnJRo1IjhOObjg4KCAoW2U1JaWhp+3LQRPdy7w8LcDE6ODpg5fRqCg4JQWFgorldd7QcAXLsWhrZt3sOqlSvkPqFPSkrCp4MHYdrUrxWe9E3R9AYHBcktRxV1F46JjkbfDz2w+49dOOfvj5bN7cTvvlqmACA//2V6pJNJvd/ZBb/s2FFqPUDxOlBZZdULRcro+nVr0e+jPgCAKZMnydS74KCg104bERER1QwtVe5MEAQcPvwPvpszR+bC+WZEBG5GRCAhIQGLPZegdu3ayMnJwYplS7Fjx3aZbRw6dBCnT5/CytVrMHDgx5BIJDKf79mzG9u3bZPZ/skTx3EzIgKbfvwJLp06QSKRwK1bN+zdswenfE/C2bkjtLW1xfULCgpwyvckmjWzw/vvdxGXx8fH4caNcAwfMUJm/bLY2NjAyckJ4eHh6OXRm09O1Fh8XDweP3qErq5u0NXVE5eXVabDwkIRFhaKu3fvYuGi78UJwarTqVO+WLdurcw43qISgV1qaurLgC84WFyWlZWFjRvWIzMzEwsXfY/atWsDeBkszp41EyeOH5NZ19/PD/5+ftDV1cXHnwyqME0FBfm4euUyAq9eFZdlZKTj9OlTOH36FBYu+h4Tv5ykcN2IiY7G9OlTZQKQuLhY7Nu3F+Hh17Ft+y+wadq0WtsPALCzaw63bt1w/tw5fDZ0GN59912Z7YSGBOPChfP4dedvCh37yqa3ukRHRWPcmNEIDQ0Rl8VER2PhgnkoKMiXOWY1VQeqqowSERGRelLpE9kb4eFY6ukJfX19/PTzZjx4FIvEpBTci4rB3n1/wsLCQlz3woXz2L9/H1zduuGk72nEJyYhNj4Rf/51AFZWVli+dCluhIeX/kESDUydNg3hEbeQ8CQZDx7FYs3adcjISMeOHdvxLCMDANC4cRO4urni/LnzePDgvsw2Hjy4j/PnzsPVzQ2Wlpbi8kcPH0JPTw9Nm9oq9HuNjIxhZd0YCQkJyM3NrUyWUQ178aIA166FYckSTyQnJ8PDwwM6Ojri53fu3MG6NWtg37YtTvieQmx8IhKTUnD3XhQWff8DvP4+gHP+fgBejvMLuHQFrVq1wrdz5orjcBOTUqrkgvv8ufMYNmy4WPZf3W5SUhJevCjE7j37EPPgERKeJOPSlUC49+iBYz5HEXnvnrhuSEgwThw/hqlTp+HuvShxvPC18AgsXbZc4aDE2NgE+/88IPNbY+MTcfykLzp3fh8nTxxHYmKCQtt6lpGBlSuXIzgoCJMmT8H1GzeRmJSCx3HxOOt/Hu7uPSD5/7Gi1d1+6OrqomfPXggLC0VAwEWZbeTk5ODUKV907eoKx/ZOCv02ZdLr1KGD3HK0/88DMDY2KXMfNk2bwuf4SYwc9TncunXD7bv3xO+uWr1GvIkBvLw5YGJigkP/HMHjuHjEJybB5/gJODg4ljpmytSBqqRoGZ0+YyaOHH0Z7JYc/56YlAKnDh2qPF1ERESkGioLZAVBgL+/H+LiYjH3u+/w8SeDxAsnQ0NDdP/gA0yfMRO1a9dGXl4e/M6ehZ6eHubMnQv7tm2hoaEBLS0tuLp1w+QpXyEuLhaBgVdL7WfY8OH4ctJk1K9fHxKJBLVr18bAjz9Bn759ce/uHcQnvLwA09bWRs9eHkhMTMD5c+dk0nnO3x/Pnz9Dj549ZZ4UPXr0CPXq1YOenl6p/cpTp04dNGjQAKmpKXjxQvkulFQzSnY/fLehJT706IXw69exdNlydC7xhF4QBFy8cB4AsOj7H9C2bTtoab3s5FDXyAjDhg1Hl66uuHjxIvLz86s93T/8bzEmTZ4ilv1XtWjRAj/+9DPce/SArq4uJBIJmjRpgn79+iMpKQmJTxLFdbP//zUuFg0awLBuXQAvxwu/8847GDN2HDx6f1jpdGppaaFdOwf0HzAAWVlZyMst3VVVnsjISPj7+WH4iJGYNftbmJubAwBq1dJGy5YtMXfefDRp0kQl7QcAOLZ3QteurvD3O4vnz5+Ly+/du4tz/v7o/sEHqF+/foW/63XSW126dnXF+o2b0NHFBbVqaUNDQwMODo7o1r07Hj9+jKdpL7vt1mQdqM4ySkRERG8+lXUtzs/PR0JCAlq1aoW2bduV20VOOiNni5YtYW1tXerzNm3s0aJFC0RHRyMvL0/mSYI8urq6aNLEBn/9+SeeP3v273Zat0GXrq64evUqPv30M9Q1MkJycjL8zp6FW7dusLNrXmpbpqb1YGRsrNBv1tTUrDBt9OarV68etu/4VexWKpWfn4+YmBhERUXig26uZX6/70cfIT8/X+ZJbnWoVUur3HqloaEh9/NGjV52i80u8Q7SVu+9B1vbZljiuRi3b99Gjx490czODhYW76BWrYq71ZdUWFiIa2FhOH/+HMLDryMzMxO3bt4U33manl56fK48sbGPkZWVhU6dOpX7RFhV7Uf9+vXR/YMPsGXzz4iJiUa7dg4yE8K5deumUFfgqk5vVdDQ1ICGhmzaJRIJrKyskJSUJAalNVkHqrKMEhERkfpR2RPZ3NwcxMY+hln9+jAxLbv7G/DvjJyNGr2LOnVKX7BKJBKlXzfRsGFDAEBCwr8zCNc1MoJ7jx64eOE8bvz/hEyhIcEICwuFR+8PVTKukd480u6HCU+S8fOWrcjLy8P2bVuRkpIis560TFckKysLRUWFFa5XU+SNT23WzA7rN26Ei0sn/LHrd4wcMQzOTo5o897LCY6ySgS95UlJScHkSRPR76M+WLtmNc6cPo3Aq1cV/n5Jjx49AvBv4F0WVbUf0rH2hoZ1cfrUKRQVFSE+Ph7nz53DB+7uFU4IV53prS6vlpWarANVVUaJiIhIPansiWzt2nVg2cAS169fw9O0p+WO5TIyNoapaT3Exj5Gbm5OqScQgiCguLi4jG+XJggC7t9/OQ721Yvg99/vgmbN7HDK9yTee+89nDrliy5dXeHS0UXuttLSUpGRng5TU9MK91tUVCR3hk9SDxKJBP369UdCfDyWLvHEOxYWMpPWSMu0k5MTNm/dhoYNG1XZvrOzs6tsW5UhkUjg6Ngef+zZi+zsbDx88AAhIcE4dOgg1q9bCwCYOWt2uZM0FRUV4bedv+LokSMYPORTjBw5Ck1sbKCnp4fatWvjoLcXpkyepHCapMFkbOzjcsc2qrL9+Hes/ctJnwICLiI+Pg79+i9TaEK46kivKlVnHahIVZRRIiIiUl8qu81fu3ZtNGzUCLdu3UJ4+PVy19XT04OVtTXu3L6Nhw8flvr8xo1w3LlzB02bNlWom11aWhpuRkTAyckJFg0sZD6ztLSEq5sbzp87D5+jR3HO3x/uPXqgrpFRqe1YWVkhNTVV4SCjoKAAaampqFfPjF3d1JSWlhbGjB2HL0aPwe+/7cTOX38RX/EiLdPBwcFyJw4qT1FRUalXwACAiYkJWrVqhaSkpFKfFxcLKC5SfUCjp6eHVu+9h8+/GI1NP/6s8Pt0s7OzERUViU6dOmPe/AVw6tABpqamle4aa23dGPr6+rh69Wq5N4hU2X5Ix9pHRt7D4X8O4czp02UOS1BVehVRXFSM4uLS5U9Zr1MHqpKiZVTeq5KIiIhIPakskJVIJOjWrTsaNmyE5cuWwefoUfFi9Pnz5/A7exbr160Vx4B1/+ADZGdnY+WKFQi/fh3FxcUoLCzEmdOnsW7dWjRs2AjOzh1L7Sc+Ph5xcbEoLi6GIAiIjY3FsqWe8PU9ife7dIWFRQOZ9TU1NdGjZ088f/4M386eBUvLhjKv3CnJytoa2dnZiI6OUug3p6WlIjLyHho0aIA6deoomWP0ptDV1cWMmbPg4dEbGzesx5EjhyEIgkyZ/n7RIuzft0+c1ba4uBhpaWn4559DYrkGAJ3aOtDV1YW/nx/u3btbal96+vqoW9cI/n5+CAsLRXFxMV68KMDVK1cwfeo3uPD/E+tUt21bt2DHju2IjY0VA/cXLwpw585tJCcnw8KiAXQqCKq0tbVhbGyCmJhoXL9+TdzO8+fPceb0afzxxy6l0tSsWTN0694du//YhQ3r1yE1NVVM1+3bt7Fi2VLcv39fpe0H8O9Y+2VLl+DE8WPo2bOXUsMSXie9ytLU1ECdOnUQFhaKc/5+r/2ktzJ1oKooU0Z1dHRgbm6O48eO4UliYnmbJSIiIjWh0oFXrd57D5MmT0ZGRjrGjxuDxlaNYGFuBjtbGwwf9hkSS1xgdO3qirFjx+H8OX949OoBSwtzNLK0wMgRw5D05Am+mz8fbeztS+1j757dcHJ0gKWFORq8Ux8d2jtg/7598PDojdFjxsrtZiZ9JySAUq/cKcnSsiHatLHHtWthKCioeBbimJgYBAcHw97ent3b1JyZmRnmLViAZs3ssHzpUly9cgUA0MbeHvMXLkRWVhZmTJ+K5na2sDA3g6WFOd5r2RyTJk6QKdf165vDsb0TwsJC0c21qzg78kFvL3E/H7i7IywsFH0/7A1LC3O829ASAwf0w9OnT1XWdTMnJweLFsxHh/YOaGRpIc7g/MWokQCAgQM/rvDpYMkAbfTno8Tt2Nna4OuvpiidprpGRpgw8Uu0atUKGzesR+tWLcR0fdDNFWfOnIbw/4GZKtsP6Vh76X4VfeVOSZVNr7Jq1dIWJy37aspkWFqYw8LcDN/OnlXpQFPZOlBVlCmjVlZW6ODsjJMnT6Bd2zZivSv5PmIiIiJSLyobIwu87KY5esxYtG3XDnt378aFCxcQFxcLBwdHfNinDwYMHCheeOjq6mLGrNlo3cYee/fuRnBQELS0aqFbt24YM24cHB3by50R9LOhQ2FlZQ0vr78REx0NBwdHDPn0Uwwe8mmZT0l0dXVhb98W5/z9S71ypyQzMzM4d+wIn6NHMWLk/XK7DxYUFODM6VNwcHDEe63bVCK36E1ja9sMCxYuwjdff4UlnouxYdMm2No2Q//+A9CunQN+2/krLl0KwM2ICBgZGcPJyQk9e/WCR+8PxXKtra2NqdOmQUdHB95eXoiLi4WjY3uYmLwcc62pqYkxY8dBX18fv/+2E3fu3EGXLl3x+Rej4di+PaZP+0Ylv/WL0aPRqFEjHDl8GMHBwcjISIdN06Zwd++BsePGo1EjxQLqXr088NuuP7BpwwZcvHhBZhvBQYEIvKrcK2Xat3fCnn1/4s/9+3DsmA9uRkSgYcNG6OXRCwMGfozGTV5OsKTK9gMA7NvYw8rKSuFX7ryqsumtDHf3Hli9dh12bNuGsLBQ2DRtCgsLC2hqaqCoEl3XJRKJUnWgqihTRusaGeGH/y2GoWFdHPPxQWHhC7Rr5wA9ff0qTRMRERGpjkQoMRAvNDQUAGDZyKrGElRZMdHRmDhhHPr0/QjTZ8xU6rtJSUn45qspsGhggWXLV5Z7wXrtWhhGfz4KY8aOw5Svvi4z6A2/fh3jxo7B4CFDOOEI0RvuddqPoqIirF2zGj5Hj2LHr78qNT6WiIiIiCrnzXinQw0LDQnGhQvnFRrb1qrVexj48Sfw+vtv3Lt3T+46OTk5+PPP/ahb1xCffDKIQSzRW0z6yh1XN1eFX7lDRERERK9HZV2LHdrZIzEhoVq2nZiUIne5hblZhd/LycnBqVO+MmPbyvpeYlIKtLW1MWz4cAQFBmL1yhVYtWYtzMxejrdKTEqBIAg4efIEvP4+gB/+txhNbGzEbTZq1AhBIWGv8UuJ6E0TEHARkZH3MHfePIVfuUNEREREr+c//0Q2NDQEx3x8lBrb1rSpLcaOH4+AgItYt3YNcnJyALx836O/nx+WL12KQYOHYODHn1TZuDYievMkJSXh8KFD6NLVFW04Fp6IiIhIZd6aMbJERERERET03/CffyJLRERERERE6oWBLBEREREREakVBrJERERERESkVhjIEhERERERkVphIEtERERERERqhYEsERERERERqRUGskRERERERKRWGMgSERERERGRWmEgS0RERERERGqFgSwRERERERGpFQayREREREREpFYYyBIREREREZFaYSBLREREREREakWr5H+MjY0BADlZz2skMUREREREREQVkQlk09PTAQCOjo41khgiIiIiIiKiirBrMREREREREakVBrJERERERESkVhjIEhERERERkVphIEtERERERERqhYEsERERERERqRUGskRERERERKRWGMgSERERERGRWmEgS0RERERERGqFgSwRERERERGpFQayREREREREpFYYyBIREREREZFaYSBLREREREREaoWBLBEREREREakVBrJERERERESkVhjIEhERERERkVphIEtERERERERqhYEsERERERERqRUGstVEEATs27cPhoaGmDJlCrKzs8XlJ06cgLW1tcxyov+ie/fuoW3btvD09KzppKiN3NxcfPnll/Dw8EBaWlpNJ6fKCIIAPz8/uLu7QyKRwNTUFBs2bKjSfbytefdfp+p2hO1W1YuNjcWECRNgamoKiUSCYcOGIT09vdr3+yYeS09PT7Rt2xb37t2r6aQQvfEYyFaTu3fvYtOmTejevTsWLVoEPT09AIBEIoGHhweWLVuG3bt3Y9++fRAEoYZTSwCwd+9eSCSSUn9ubm5Yu3YtUlJSajqJRG8tf39/jBgxAmfPngUAPH36FJmZmTWcKlIl6Y0GiUSCS5cu1XRyqIpJz7GvBo1PnjzBpEmTsGPHDjx9+hTAy/qfk5PD8kBE5WIgqyRF7pTl5+fj119/xfPnz7F48WKYm5vLfC6RSNC/f3989tln+PnnnxEZGVndyabXcP78ecyaNQsDBw587Tukb+Ld3+r0X/u9VDm5ubk4cOAA6tevj8uXL6OoqAiCIGDhwoU1nbS3hjo/5VH1k3S2W6p19uxZHDt2DFu3bkVOTg4EQcDJkydhYmJS00kjojccA9lqEB4ejn379mHkyJFo1aqV3HX09PQwYcIEZGRkYO/evSgqKlJxKqkse/bsgSAIEAQBRUVFiImJwZgxY3Dp0iUeK6JqkJWVhZiYGHz44Yfo0KEDNDR4avovqlOnDrZu3QpBENC5c+eaTg5VseHDh5e6QSUIAqKiouDm5oaPPvoIderUET9jeSCiivBqoYoVFRXBx8cHRkZG6NevHzQ1Nctct3Xr1ujfvz9OnTqFx48fqzCVpCgNDQ00adIECxYsgLOzM8LCwvD8+fOaThbRW+Xp06dISUlBnTp1ym0ziejtkpeXhydPnkBHRwc6Ojo1nRwiUjMqD2QFQUB4eDjGjRsHa2trSCQSODg4YMmSJXj48KHMeNH8/Hx4e3ujd+/eMDQ0hKmpKYYNG4YrV66UGld66dIlSCQS7N27t9Q+09ImZC7fAAAgAElEQVTS4OHhgS+//BK5ublyv/Pw4UPMmDED1tbWMDQ0xJAhQ3D9+vVS21i0aBHCw8PRvHlzcQxlye5OSUlJuHjxInr06IGmTZuWmxc6Ojro27cvAgMDce3atUrlJ6mGoaEhjIyMUFhYiOLiYpnP5JXpjh07YsuWLTKTee3duxfNmzdHeHg4Fi1aJDMOV1puX7ccp6SkYMGCBWI6/vrrLwD/diu8c+cO/P39MXDgQBgaGsLa2hoLFiwQxyWVlJ2djS1btsDNzQ0SiQSGhobo3bs3tm/frlD3PkV+b0kpKSlYsWKFWLfc3d3h5+cndwx5cXEx/P39MWTIEHFyEHd3d3h7eyM/P7/CtEmV7EKo6P6l47zkjdkqq0uiNP/DwsKwa9cuMU+bN2+OTZs2ITc3F/n5+Th27JjY3llbW2PVqlXljhOVHqOOHTuK5W7nzp1y80CZPCv5O7Kzs7Fx40YxX5YvX65Q3irafl+6dEluOVGmG6n02Dk4OEAikcDa2hozZszAw4cPFfq+svkjrXO7d+9GQEAAhg0bBlNTU5iammLChAmIjY2FIAi4c+cOJk6cKJ5XPv/8c0RFRcnd/6v1zdTUFGPGjEF4eHipMqhMfVb03PW69T01NRW9e/fG4MGD8ezZM3G5IAhYt24dWrZsiVu3bsl858iRI5BIJDhy5Eip3ybtAn3v3j24uLhg27Zt8PX1Rb169cT0v9oWAsq1I/KoQ7sFAA8fPsTMmTPF/VpbW+OLL77A6dOnZbYlzc+IiAh4e3uLk6k1b9683PZF2Tolb/1x48bh0qVLKCwsBFD6/JaWloaBAwfKPbbS9rWsLvGKnndfXX/MmDEwNTWFoaEhBg4ciOPHjyMnJ0fhfD979iwMDQ2xZMkSucc4MTERPXr0wOjRo8V0HDp0CP379xfTKZFI4OLighUrVig890Zlrg2Aqi1zRG8koYSQkBAhJCREqC7FxcXC/v37BRMTEwFAqb+JEycKOTk5giAIQlZWljB16lS56xkYGAh79+4ViouLxW0HBAQIAIQ9e/aU2m9qaqrQq1cvme2X/E6XLl3kpsnZ2VmIjIyU2Ya89PTq1UtITU0VBEEQrly5IhgYGMhNhzwPHz4UOnXqJHz33XdCYWFhpfOWXt+ePXvKLENhYWGCra2tMHnyZCE3N1dcXlGZnjx5spCVlSWzfXl/0n2+Tjn+9NNPBTs7O7nbXbx4sWBhYSF06tRJ7v6/+uormW0mJycLAwcOrDC9iuRned+/e/euYG9vL7Rr165U2gEIVlZWQkBAgMx2X7x4IaxatUowMDCQu+0VK1YIL168qDB9ld2/9He9urzk9hYvXiyzfPHixYKBgYFQv359uWmePn26MGrUKLmfLVu2TKZtyMnJESZOnCiYmJgIjRo1UigPlM0z6e/o06eP0LlzZ5l1X/1t8ijTfkvLb3ntakXH8NU0lmzDb9++XSrvXt22svkjTbOFhYXc9fv06SMsXLhQbrvQr18/ISkpSeY3PHnyRBg8eLDcbVlZWQnnzp2TWV+Z+qzIuasq6nthYaHw3XffCfb29sLdu3fF5U+fPhW3/csvv8h8Z9myZaXWX7x4scwyaVmUly5pW1iZelwWdWi3AgICBCsrK7nbkZefBgYGQpMmTeSuX/IcJaVMnapo/ZLpefX8Vl7ZlObfq+VBEJQ770rX37t3b5l5r2i7Jgj/lmd3d3chISGh1Ofe3t4CAMHb21vmGJS134EDBwrJycky25D3mytzbVCVZY7oTaXSJ7KhoaGYO3cuDAwMsHv3bnFQf0ZGBo4fPw5LS0tx3TNnzmDnzp3o2bMngoODUVRUhBcvXsDX1xdNmjTBvHnzEBoaWiXpunXrFubOnYvExEQUFxfj2bNn+P777xEYGAgfHx8AgKmpKU6ePInFixfD3t4ed+/eFcdRnjx5EqampgCAmJgY6Ovro3nz5grt28TEBDY2NoiLi1PqriCpRkFBAYKCgjB37lw8efIE/fv3R+3atcXPIyIisHjxYrRv3x5BQUF48eIFBEHA06dPsXr1auzevRu+vr4AXo4Punv3Luzt7bF48WKx/AiCgOHDh792Wk+fPo2xY8eK5fjV7SYmJuLFixfw8fFBVlYWiouLERkZiT59+sDb2xu3b98W171y5QoOHTqEefPm4enTp+J44fj4ePz444/iLNzlUeb3RkdH46OPPkJMTAyKioqQk5OD7du34+nTp/D29kZBQYG4rp+fHzw9PdG3b19ERkaiqKgIxcXFiIuLw6xZs7Bx40aEhYUplXfK7L+yMjMzYWVlBR8fH+Tk5KC4uBhBQUFwdnbG+vXrERgYiN27d4vHJjw8HM7Ozjh16hSSkpJKbe/Fixfo378/bty4gRcvXqCoqAhXrlyBs7NzqTyobJ5duHABLi4uYr4ICk7ApEz73blzZ7nlpGS7Wpbnz59j2bJliIuLE/NOEATk5+fjxIkTyMvLw9atWyt88lDZ/MnPz8eqVauQlJQEQRCQnJyM8ePH49ixY9iwYQPGjx+PuLg4FBcX4+nTp5g0aRKOHDmC8PBwcRuFhYXYtGkTTp48idWrV4v17cWLFwgKCoKdnR02btxY6lUkitZnRc5dVVHfNTU1YW9vj/DwcJmhMvfv38ft27dhZ2eHgIAA8SlVTk4O7t+/jzZt2qBBgwZlbtfOzg5XrlzBxIkT0atXL6Smporp37p1q8yYyqqox296u1VQUCBu++DBg8jPzxfLfHh4OD766KNS3fMzMzNhb2+P8+fPIz8/X6asbN68WTxHAcrXqfT0dCxcuBCXLl3CrFmzkJCQIJOePn36lDnm3dTUFIcOHZJ7bMsbE6vMeRcAbt++jSVLlsDExAR///23eO2ZlZWFQ4cOwdbWtsJ8lzI2NkafPn1w5swZBAcHy3yWn5+P8+fPw83NDR07dhSXL1y4UKYcSY/7tGnTcOjQIVy5ckXh/SujOs6VRG8alQWy0pPmo0ePsGTJEgwfPlw8AdWtWxe9e/fGwoULUadOHeTm5uLEiRPQ19eHp6cn2rdvDw0NDWhpaaFnz56YPXs2Hj16hIsXL1ZJ2tavX4/Zs2fjnXfeEbtUffbZZ2jdujViY2OVuoi9f/8+6tevD319fYXW19XVRcOGDZGcnFwlF8v0+kaMGCF2/9HR0YGzszNCQkLw448/onv37uJ6giDgzJkzAIDVq1fDyckJWlpaAF6e7MaOHQt3d3ecPXsWeXl51Z7utWvXYtasWWI5flXr1q3xxx9/oE+fPtDT04NEIoGtrS2GDBmCxMRExMfHi+tKu5s1bNgQRkZGAF6OF27QoAG++uorDBgwoErTPmPGDKxatQpNmjSBhoYG6tSpgwEDBsDZ2RmxsbFidylp99v27dtj9erVsLW1hYaGBiQSCSwtLTF58mS8++674itcqnr/r6Nk/tepU0ccVtG9e3e0bt0aXl5eGDFihHhsWrduDQ8PD6Snp8vt/tepUyf88MMPaN26NbS0tKChoYGOHTti/PjxSExMFIcrvE6eTZ06FStXrhTzRRGqbL/v3r2L06dPY/78+Rg+fLgYcGlra6NXr14YNWoULl26hNjY2DK38Tr5Iz131K9fHwBgZmaGwYMHAwA2bdqE5cuXw9LSEhKJBMbGxvjss88AAMnJyeI2YmNjcfbsWXz99deYNm0ajI2NAQBaWlpwcnLCxIkTcebMmVJdK5WpzxWpqvreokUL2Nra4ubNm+KyCxcuoEOHDpgzZw6uXbuGuLg4AEBGRgaio6PRrFkzhc+XFVFFPa7M/qqy3ZIGzPr6+rC2toa2tjaAl2W+TZs28PT0LDWsyd7eHsuXL0fXrl2hra0tlpXp06fDwMAAISEh4iSGytap27dv4+TJkxg/fjx++OEHWFhYyKRn6dKlSgWKFVH2vCsIAnx9fXHnzh0sWbIEn3zyiXjtqaenhxYtWkBXV1epNHTv3h3Ozs44e/aszE2y6OhonD59Gl26dCn1toqSpMd99OjRsLW1RUZGhrLZUKHqOlcSvWm0VLWjvLw8xMXFwd7eHk5OTnIvtKWkM1i2adMGNjY2pT53dHRE69atce/ePeTm5srcka0MeZOLmJqawtzcHDk5OUrPUmtmZqbwtPGampqvnX6qXvXr18eBAwfg6uoqszwvLw+RkZG4c+cO7O3ty/z+oEGDkJ+fL/MktzrUqlWr3HolPYm9ytraGgBkgqW2bduiRYsWmDNnDm7cuIG+ffuiZcuWsLS0FC+cqpKmpmaptOnp6cHa2hqxsbHiGKusrCzcu3cP/v7+aNiwYZnb69SpEwoKChROq6L7fx3y8l9a/1NTU0s9NZRIJLCwsEB4eDhSU1NhZ2en0H5atWoFAwMDJCYmik8dKptn2traSs8grMr2OyoqComJiZgwYQImTJggdx0LCwuZMZvy0lvZ/JF37pBeFKenp5c63kZGRrC1tcX9+/fFZQkJCQgMDERgYCCWLVtW5v5LBr+AcvW5IlVV362srGBvb4/bt28jJycHL168wOXLl+Hu7g43Nzds27YNISEhsLOzw+PHjxEaGop58+aV224pQxX1uDL7q8p2q06dOnBycsK2bdswdOhQjB49Gp06dULz5s1hamqqVH21srJCs2bNkJKSgvz8fOjq6ipdpx4+fIjMzEy4uroq9OT+dSl73hUEAZGRkWjdujXat29fJWXN0tISnTp1wsmTJxEdHS2+nSIgIAAZGRno27evTNsgCAIePXqEo0eP4vLly0hNTUVUVBQePXoEAOK/Vam6zpVEbxqVPZHNycnBw4cP8c4776BevXrlriudwdLa2lrunTKJRFLtr2fQ0NDg7Jn/UdLX7xQXF2Pv3r3Izc3F+vXrS3XvlJbpimRmZlb5BVRVklfOW7ZsiZ07d8LV1RVbt25F37590aRJE1hYWGDRokVKXSRXlkQiKZW21NRUPHnypMLvVuYGlCL7ry6JiYlyn9pX5kmVsbExmjRpgidPniAvL0+leQaotv0uGRCWpay8laqu/MnKyiq1TEdHp1SeKDohlaJ1rjJltqrqu6GhoRjIpqSk4NGjR4iNjYWLiwsaNGgAZ2dnXLx4Ebm5uYiMjESzZs3QuHFjpdOrDFXW47L2V9VlbMSIEfj111+hra2NuXPnomvXrqhfvz7atm2LgwcPlpqQsCzGxsaoV6+ezNNjZeuUdH3pDZTqpux5V7p+gwYNYGZmViVp0NbWRp8+fRAXF4eAgAAAL29c+fr6olevXjKvXSwsLMSaNWvQpk0bfPPNN/jzzz9x5syZagleS1J1u09UU1QWyNapUweNGjXCkydPkJqaWu66JiYmMDMzw8OHD+WOG5UGGfLIu3hQtZSUFLmzwMpTVFRU5d2dqGpIJBIMGTIE8+fPx+HDh7F48WKZ2RClZbpTp07ijNvy/hQZ6/eqmi7H0hkgjx49iszMTFy7dg2bN29Gq1at4OnpidWrV9fIyU/aNgwaNAgZGRll5vmrY+eqw5s6pj01NRXh4eGwtLREnTp1VJ5nr9N+K8vKygoAcPjw4TJ/V0Xj7Wq6TDVq1AgAsG7dunJ/Q1WMoy9LVdV3iUSCNm3aICIiAnFxcbhy5YoYrOro6MDV1RVXr17FgwcPcPfuXbRs2bLcLphvi6ouYzo6OhgzZgyuX7+O5ORk+Pv7Y/78+Xj+/Dm++OIL+Pv7K5SulJQUJCQkyNx0UrZOSddXZobw16HseVe6fmpqaqlx5q/DwcEB7u7u8PX1RXp6Om7fvo0zZ87go48+knkyff78eXh6eqJ58+b4+++/ERsbi4yMDBQXF4tjsZWh6LVBTbdrRKqi0kDWysoK4eHhCAkJKXddfX192NjY4MaNG4iJiSn1eWhoKCIiImBnZydWwHr16sHe3l7sTldScXFxlV50SyfSkadJkyZITk5WuLHJz89HSkoK6tevz64dbyAtLS189dVXmDx5MjZv3oyffvpJfLoqLdOXL19WeuIx6cQ5r1JlOVaUvr4+2rZti0mTJmHXrl2Vep9uWb+3MmmxsbHBpUuXSo0ZVBXpk4fExMRSn1VlkFYZRUVFuHDhAgCITwVUnWeVab8ry8bGBgYGBqXGqlUmvTVVpszNzWFvb4+LFy9W6YW2POWdu6Ret77b2dmhSZMmuHTpEi5duoR27drBwMAAANCuXTvUrl0bZ8+eRVRUlMxnipBOVqMqb3q7paGhATMzM7i5uWHJkiVYt24dMjMzERQUpND35dVFZeuUdH3pk/bqpux5V0dHB2ZmZoiMjKzSp6AlJ326ceMGfH194ejoKDPJEwDcuHEDmZmZWLp0KQYNGoSGDRuibt26SndxVvbaoKbbNSJVUVkgK31nnZWVFebPnw8vLy+x0Xv27BlOnDgBT09PccxU7969kZWVhYULFyIkJATFxcUoLCzEsWPH4OnpCSsrK3Tp0kXcvoGBAYyNjXHy5EkEBgaiuLgYBQUFuHDhAsaMGSNODvC69PX1ERERgUOHDslt5G1sbJCVlYW7d+8qtL2UlBTcvn0bDRs2VHrCAVINPT09LFq0CP3798fSpUtx4MABCIIgU6ZnzJiBnTt3iheixcXFSElJwZ9//imWawCoXbs29PT0cPLkyVLvVARUV44rsm7dOmzcuBEPHz4UA/eCggJERETgyZMnaNiwoUJjfiv6vcoq2TZMmDABR48eFZ+SFxYWIi4uDtu3b8fGjRtfe19lMTAwgK2tLQ4cOICoqCgIgoDs7GwcO3YMo0aNQkRERLXtu6SMjAzcvn1bnCQuOzsbu3btwpo1a+Du7g4XFxcAqs+zyrTfldWyZUt4eHhg06ZN+O6773D//n0x0MnKykJAQADmzJlT5rtbX01vTZQpa2truLu749ChQ5gyZQoiIiLEOpebm4sbN25g/vz5uHr16mvtp7xzV1XVdwBo0KAB2rRpg3379iEsLAxdu3aV+czZ2RmrV6+Gn58f3nvvPYW2qampCV1dXQQGBsLX17fag9k3ud1KS0vD119/jSNHjiAtLU0MatLT03Hjxg0AwLvvvivznZycHNy5c0fcZ25uLry8vDB//ny0aNECPXv2FNdVtk5J19+2bRuWLl0qjuUuKCgQy2559U9Zyp53NTU1xafH69evF9ts6Xl11qxZMrOIK6N79+5o2bIl1qxZgyNHjsid5Ek6Edy5c+fEm0HSvFm5cqVCXbkB5a8NarpdI1IVlb5+p23btpg1axaePn2KwYMHQ1dXFxKJBEZGRvjwww9lZll0d3fH119/jVOnTsHJyQmampqoVasW+vbti4SEBCxbtgyOjo7i+ubm5vjwww8RGBgIFxcXaGpqil2ZUlNTxe4vr6tLly6wsrLCvHnzULt27VIvlX/33Xfh6OiIoKAghe5mRkZG4vLly2jfvj3H5L7BzM3NsXz5crRs2RLz5s0Tn3o5OjpixYoVyMzMxNixY2FiYiKOkapfvz6GDh0qU67feecduLi4IDAwEK1btxZnR5a+5FxV5bgi2dnZmDZtGho3bixOIqWjo4P+/fsDAIYOHarQ07SKfm9l9OnTBwsXLsT9+/fRr18/6OvrQyKRoFatWmjUqBEmTpyo1NNiZdna2qJXr144duwYmjVrBg0NDejr66Nv376oVauWOGtndQsMDETXrl2ho6MDiUQCfX19jB07FgYGBliwYIFMOlSdZ8q235VlbGwMT09PdO7cGevXr4eNjY04AY+BgQG6dOmiUOBTk2VKR0cHs2fPxuDBg7F//360adNGrHO6urqwt7fHsmXLXrs3Rnnnrqqq78DLC+4WLVogPDwcLVq0kJlBV9qWxcbGonnz5mjWrJlC29TW1hYn2xs5cqR4jL/88stqeQr4prdbUVFR6N+/P+rVqydO+mViYoL//e9/6N+/P9zd3UutP3DgQHGfurq6GDx4MJ4+fYoFCxagZcuW4rrK1iljY2NMnz4d9vb2WLp0KczNzcXyY29vj2PHjlX5jQdlz7tubm4YOXKkTJstLYvx8fGVbrOlN2Z8fHyQnJxcapIn4OXrxTp37oxly5aJT2KleXPv3j2F50GozLVBTZ8riVRBpYGslpYWpkyZIr7vUlrxnJ2dsXLlSsybN09mWvRFixbBy8sLHh4eMDAwgImJCYYOHQpfX18MHTpUpmuGpqYmvvrqK2zZsgWtW7cGAHzwwQfw8vKCt7e3wu91rYijoyN27tyJDz74AMDL8SE2NjaoVasWgJeNTZcuXXD69GlER0eXu638/Hz4+PjA2dkZ7dq1q5L0UfVp0aIFVq5cCQCYM2cO7ty5A4lEgk8//RTBwcGYMWOGeBxNTEzQt29fbNu2DYsXLxbLtY6ODubNm4f58+eL5b9jx47iBGiqKscVmTx5Mv744w/07dtXnIHbzs4OM2bMwLlz50rN4FyWin5vZWhpaWHmzJk4d+4cxo0bJ87ma2VlhSFDhmD//v2YOnVqpbdfkTp16uB///sfli5dCisrKxgYGGDAgAHw8/PDL7/8It6Br259+vTBjh07ZNrH8ePHw9fXt9TxUXWeKdt+vw47OzscP34cmzdvxgcffCB2Ve3YsSMWLFiAPXv2VPj6j5ouU+bm5ti1axcOHDggU+fatWuHb775BgEBAXB2dn6tfZR37qqq+i7Vvn17AC9nRK1bt67MZ+3atYOzszNat26tVF3p06cPtm/fLuaDnZ0dLC0tq+UG8JvcbpmYmGDjxo3w9PSU6cbq6uqKzZs3Y+/evaWeCtra2mLdunUYMGCAWBdHjx6Nixcvyq2LytYpFxcXHD9+HJ6enuI50MrKCl9//TW2bNlSpa/fAaD0eVdPTw+rVq3Chg0bxHyXnld37dpV6TZbR0cH/fr1g4GBQalJnqSsra2xf/9+jB8/HiYmJjAxMcHgwYOVPl9U5tqgpts1IlWQCCU620vHG1TFnfL/sqCgIAwYMABff/01vv322zJPtCEhIRg0aBBGjRqF77//nk9kiYiIqMp4enrC29sbf/31l8Kv8CIiUhcqfSL7X2Fvb49hw4Zh9+7dZY6vyc7Oxm+//QYjIyMMHz6cQSwREREREZGCVBbINmrUSBxn8rb/6ejoYOzYsTA0NMSiRYtKvX9UEAQcPnwYu3fvxpQpU8RxQhKJpMrec0ZERERERPS24hPZatK8eXN888038PPzk3n/qPT9ZvPmzcPIkSMxbNiwKhsrRkRERERE9F/AMbJERERERESkVvhEloiIiIiIiNQKA1kiIiIiIiJSKwxkiYiIiIiISK0wkCUiIiIiIiK1wkCWiIiIiIiI1AoDWSIiIiIiIlIrDGSJiIiIiIhIrTCQJSIiIiIiIrXCQJaIiIiIiIjUCgNZIiIiIiIiUisMZImIiIiIiEitMJAlIiIiIiIitcJAloiIiIiIiNSKRBAEQfqf+/fv12RaiIiIiIiIiCrEJ7JERERERESkVrRK/ic9PR0AYNnIqkYSQ0RERERERFQRPpElIiIiIiIitcJAloiIiIiIiNQKA1kiIiIiIiJSKwxkiYiIiIiISK0wkCUiIiIiIiK1wkCWiIiIiIiI1AoDWSIiIiIiIlIrDGSJiIiIiIhIrTCQJSIiIiIiIrXCQJaIiIiIiIjUCgNZIiIiIiIiUisMZImIiIiIiEitMJAlIiIiIiIitcJAloiIiIiIiNQKA1kiIiIiIiJSKwxkiYiIiIiISK0wkFWhmOhouHd3w/p1a+V+LggCDh70hq1NY3w3dw5ycnLE5X5nz8LJ0UFmOb3Z8vLy8O3sWRj62RCkpz9V6DsVlZHKWL9uLdy7uyEmOrrKtlmdgoOCYGFuhoPeXjWdFPp/hYWF+OefQ+jT2wMW5mZwcnTAiePHVLb/ytQlVUpJScHoz0fBydEBVy5frunkUDWrTDtdFe1aRkY6Zs2c8Z8oZ296na9uqvz9CQnxmDVzBlrYNYOFuRkmfzkRzzIyXmub6nbdQbKq41q0ujCQfYNER0fh1x078P77XTBj5izo6uoCACQSCbp1747v5s+H198HcOigNwRBqOHUvt0eP34sXrQvXDAPBQUFNZ0kohohCAIO/3MIkyZOQFhYKAAgLi4Wubm5NZwy4KC3FyzMzWr0ZFtYWIi//tyPgICL+G7+fHR0camxtKgbaXD37exZyMvLq+nkvPGMjIwxZ+53eO+997B2zWo8SUys6SSRmktOTsacb2dj757dyMhIBwCkZ6SjWCiu4ZTRm0Z6c8XC3AzBQUE1nRzRWxXIqvMdvIKCAuzbuxeZmZmYPWcuzMzMZD6XSCTw8OiN/gMG4redv+J+TEwNpfS/4WbEDfGi/crly4h9/LiGU1Q2PsF8O7ypxzE9PR3e3l5w69YNly5fRcKTZCQmpeDjTwbVdNJeW1Xcdb518yZ2/f47xo4dh379+kMikVRhCv+b+DSnbGZmZhg7fjyio6Nw4MBfKCoqqrJtq/IpjDpfr71NAi5ewJnTp7Fq9Ro8eBSLxKQU7P/zAIyNTcr9Huvom+9NvKaojnLzVgWy6uzWrZs4dNAbgwYPhp2dndx1dHV1MXLkKDx79hze3l5VegKjf+Xl5eHcuXPo2tUV8+YvwK1btxAYFFjTySKqEU/T0vAkMREfftgHTWxs3qhA7eNPBiExKQXTZ8yskf0XFBTAy+sA6tY1xOAhn0JLS6tG0qGunDp0QGJSClatXoPatWvXdHLURocOzhj48Sfw+vtvREdH1XRySE0JgoD79++jU6fO6NGzF+sglat27dpYtXoNEpNS4NShQ00nR8RA9g1QVFSE06dOwdCwLnp5eEBTU7PMdVu0bAmP3h44f+4c4uPjVZjK/45Hjx7i6pUrcGzfHn36fgQHB0cEBV7l2GT6T0pPT8edO3egp6dX00l54zx4cB/nz51Hz14esG7cuKaTQ/8R2tra6Ne/P54/f4Zz/v4cakSVkp+fj+TkZGjraENHR7umk0NUKSoPZEVDV78AACAASURBVAVBwK1btzBz+jQ4OTrAwtwMfXp7YNfvv8kECkVFRdj880+wMDfDTz9uQmFhocx2nmVkYML4sejT2wNRUZGIiY5G3w89sPuPXTjn74+Wze1gYW5WavyNovsHZLu+PHnyBMd8fDBk0CewMDfD+51d8MuOHXLH9Uj3MX3aN2hh1wy2No0x+ovPcfbsGbnjylJSUhB49Spc3VzRuHGTcvNPW1sb7j16IiwsFDcjbiic76S40NBQJCYmwKVTJzRs2BAOjg4IDgrCw4cPy/xOWloafty0Ee93dhHL1K+/7EBKSorc9ZUtI2VZv24t+n3UBwAwZfIksczLG8NQLBTj0qUAjP7ic9jaNIaTowNWLF8mjot5VU5ODnb9/hs+HtgfFuZmaGHXDNOnfYNbt24pfeFUVduS5nMP9+7ipEPfL1qI2NhYmfVK1t37MTHYtnWL+J0+vT3wzz+HUFhYiJycHBz4608xXd3dumL/vn1yx0Qr03aU7KL3atkYMugTBARclPndihxHeft/v7MLFi6Yh5CQYBQXKz6m6dV8fL+zC1YsW4onT57IrHfQ20tuuhQZ05idnY2NGzdgQP+PYGvTWDzuo0YMxzEfnyoZd15W16lXy5utTWMMG/op9uz+Q+zGeNDbC+93dsGtW7ewauUKmTxXtCtWUGAgnj9/hh49e5Z7AzI2NhY/fL9ILAM93Ltj29YteP78eal1S3a9irhxAxPGj4WtTWP06umOBw8eVJimE8eP4YtRI8UyYmFuhr4f9saPmzYiLS1NZl1lz3HSuQOmTf1a7o29nJwcTJv6NT4dPAhJSUkVpvXVrqzp6U8x9LMhWLVyBW7duiXml4W5WakuqMq0KSXLSVpaGlYsXybmz+HD/7xWWY2NjcX3ixbCydFBbMdDQ0OqpV0ryda2Gbp0dUVgYCCeP3um8L7Komh9KC5+eR6ZMH6seO4aNvRT+J09W+o6rSyKXq9J5ecXKHz9BVQuP8tSmXOOMteLJfeh6PVDeRQ9PunpTzH6i1Fyj0F54x+VqaOA8tcd1X3sZk6fhuCgIDEvyut+K/2tr5bJitqTkmUhLS0NFy6cF8vCyBHDxIm0avqaojLK6hr86jnOydEBU7/5GufPn0NBQYHS5UYZKu0HJQgCDh/+B9/NmSNTiMPCQhEWFoq7d+9i4aLvoaurC01NTXwxegxiY2OxccN6tG7dGq5u3QC8nFxj9+4/EBQYiJ82b4GtbTOF+lsrs/+SoqOiMW7MaISGhojLYqKj/38SoHxM/HKSeBEjCAIOHTqIObNnISsrS1z/5InjOHniuNx0xcfH4caNcAwfMQLa2hXfFbOxsYGTkxPCw8PRy6N3uRdQpJysrCxcuXwZTh06oFWr96CtrQ0Xl074ZccOhIYEo2XLlqW+ExUViWnffCOOqQX+LVMA4Natm8z6lSkjrys1NfVlAx4cLC7LysrCxg3rkZmZiYWLvpfpVpSSkoL58+bi6JEj4rKMjHT8uX8/Ai4GYNOPP8GlUyeF9l1V24qJjsb06VNlGuG4uFhs37YVIcHB2LBpE2xtm8l8JyQ4GP379UVqaqq4LCwsFLNnzkBUZCQibtzA6dOnxM/u3LmDGdOnQkdHW2YMaGXbjuPHj8Hb20umfbp48QIePHiAzVu2KtU95/DhfzB75gyZMhMTHY2Y6GhER0dj85atFY5rkn7n1XyMiY7Gxo0bcPHiRbn5WBkFBfm4euUyAq9eFZdlZKTj9OlTOH36FBYu+l6m7awqaWlpmD1rpsysyllZWfD384O/nx90dXWrZHxvfn4+bt++jZatWsHKyrrM9a5euYJZs2bIlIGbERG4GRGBq1euYNWataXmRMjNzcXq1Stx9swZ8XgXFRaiWIHhJHfv3oWv70mZZaGhIQgNDcG1a9ewes1amJqaynyu6DnO0tISrm5u2Ld3D+7du4t27RxktnPv3l2c8/fHpMlTUL9+/QrTWlmVbVNOnfLFunVrZY5FUWFhpcvqnj27sX3bNpk24eSJ47gZEVGt7RoA6Ovro3Xr1tj1+2+IT0hAXSOjCvf1ugoLC7F921asX7dWph2S1q35Cxbiy0mTq7SLvTLXX9LPKpOf8lRmW8qmV9nrh/LUxPEpj7LXHao4dvv27UV4+HVs2/4LbJo2fa3fV1Z7IpWSnIxvZ8/C8WM+4rLCwkIUC8VvxDVFVQkOCsLkSV8iLu7fmw1xcbE48NefuHUzAtu2/wIT04qvTSpLpU9k79y5g3Vr1sC+bVuc8D2F2PhEJCal4O69KCz6/gd4/X0A5/z9xPV1dXUxdeo02Nu3xaqVKxEVFQkAuBRwERs3rMe48RPQsePLGSJtmjaFz/GTGDnqc7h164bbd+8hMSlFZvyNsvuXiouLhYmJCQ79cwSP4+IRn5gEn+Mn4ODgiJMnjiMxMUFcNzLyHjasWwcjI2Ps+GWnOHg+5sEj/Pb7LjRpUvqJ66OHD6Gnp4emTW0VykcjI2NYWTdGQkLCGzFz6Nvk8ePHCAsNQYcOzjA2NgYAvNe6DRwcHHHhwvlST1BycnLw808/IiwsFFOnTUfErTtITEpBbHwizvqfh0fvD0vtozJlpCzTZ8zEkaMvL9h/3rxFLPOvjmFISkrCixeF2L1nH2IePELCk2RcuhII9x49cMznKCLv3RPXLSwsxK87tsPfzw+Lvv8Bd+9Fib/phO8p2DRtih07tis0PX9VbSszMxMbN25AYkIifvp5M2IePEJiUgoex8Vj3/6/kJ+fhz92/V7qyUlWVhbatXPAP4ePIjY+EfGJSdi9Zx+MjIyxbu0apKSk4M+/Doj1+q+/vdCwYSP4+/vLXAhUtu14+OABevbshatBIYhPTMKDR7FYs3YdMjLS4eNzFC9eFCh0HJ8/f45jPkdhZWWFIz7Hxf0/eBSLw0d8YN/GHhqSipvzgoIC7NmzG8FBQZg0eQqu37iJxKT/Y+/O42pK/ziAf25d7aVFJWoiQkKUFqEsISPr2A0z9hEz9kERStYhMfZ9N8YyhmxRkqRFhLSpkfYi0b6e3x9+90zXvdW9ddvM9/169Xpx77nnPOc53+c5z3POeZ6TiZjX8XBZuw4xMdHYtnULezzGfDdWaLpEGdOopqaOc+cv8O1LYnIqbty6jd69+wjUnZISGhqCmze8sHDhIjbeklPT8TT8Bdw3bmIbBmO+G4uHAYEwNjbGrytW8qVTlI5ufn4e3rz5B4aGHaCsrCR0mY/Z2Th69DDS09I+5+/reKSmZ+LZ85eY5zgft27dxN49vwvEbXx8PBLeJGDf/oNsrN/1uS9Sw2vxkqV8+5KSloGnz55j9py5uHnDC6GhIQK/EfUcJy0tjUGDBwMAvO/c4ZunoeIQmX79+9doLDUvZn5dsRLGxsZ4GBDI7gdvApra1Cl+9/0wefIUhL+I4Ju0rKaxKi8vj2XLf2XXV7F812W9xtOxUyfEx8cjMzND7Lz+kijlIeLlSxw7ehT6+vo4/8cFtk69ddsbtv36w3OnB+7e9a52W6K013jEaX/VNj8rqum6xElvTdoPVRHn+KipqePY8ZNCj0FVnSFRyiiPOO0OSR67j9nZ2LJlk8B57m1SMu75+sHObhA4UrXv/lRWn/BERESgpLiYjYWKedTQbQpJKSkpZrd79Nhxdj95eT1o8BBISUuLFTfiqreOLMMw8H/gBwBwWbsO3bv3YK8KNVdVxeTJU9DXxhb+/v4oKipif9dSRwdLly1HRkYGDuzfj2fPnmLrli0YO248ZsycJfKVpZpuHwBsbGzh4bkLVr16oVkzGUhJScHU1Az9BwzA27dvkfU+i93GfV9fxMbGYOWqVRjm4MBWyAoKCjA07AB5eXmBtCUkJKBFixYij0GTl5dHq1at8O5dJhu0RDIe+j9AXl4ebPv1YxtiOjot0dPcHCHBwYiL47/zz7sDMeX7qfhl4SK0aNECAMDlcmFgYCBwp6WmMVJbRkZG2P37HtgNGgQFBQVwOBwYGBhgxIiRSE9PR2rav69xSElJgb+/P2bOnIXZc+ayV/q5XC66d++BadOmwf+BH17HVf8UhKTW9fp1LB743ceixYsx5ruxbGekWTMZ9OvfH+PGT0BwcLDAuHFe2bW0sgKXy4WUlBSsevWCVa9e6NvXBidPn4Ftv/5suTY3t4CtrS1f2apN3TH3p3lY47IW+vr6kJKSgpycHOyHfgtTUzOkpCSjoEC0V46UlZUiNzcXSsrK0G3dmt2+nJwcLCwtsdLJWaQ7Molv38L/gR+GfjsMCxcugra2NgBAWVkZ02fMxOgx3yE4KAgJCQkipUtcXC4XPXqYYuSoUcjNzUWhiPsvjrz/X4DQadUKKs2bAwCkpKTQsmVLzJg5S+zGYWWy3mchMyMDqqqqaNZM+JM0MTEx8PXxwcRJkzBz1mwoKysDALS1teE4fwGGDLHHk9AQZGTwP4ZrZGQED09PtrzWBofDQUsdHUycNBkGBgZCH0MV9RwHAB07dkK//v3x0P8BX6M8OTkZfvfvizREpjZqU6esW+/K3i2urqMtSqx+991YzJw1i12fnJwcRo/5DsMcHBAdFYnklKov1NS0XuPR1NSCgYEB3ld44qSuMAwDX18fJCUlYsnSZbDt15+tU026d8eiRYuhqKiIwEePJNouESc2a5ufFdX2nCNKesVtP1SloY5PVcRpd0jy2PHq3SnfT8Wy5b+y57lmzWTQuXNnrHRyFuuGQWWqq0/69rXBdo+dbCzwNIY2haSUlZWjoKAAioqK0NP7ht1PXl6vWLkKbet4/oh6e7S4qKgIcXFxiI2NwcD+tpUu5zB8OIqKiiArK8t+ZtWrF1auWoUF8x1x5vQp2NsP5XvPal1vX0paClJS/EHK4XCgr6+P9PR0NtB42zAyMoKJSXexrkhraLSA6v/vAFZHWlqaZperAx+zs/H48WOYmvWEQYWGWLNmMrDu3RsHD+xHcFAQunfvwR7bf+LjkZ6eDktLS5HisTYxUhtSUlJCt6Wn9w2Afxv/AJCelsY+3uLpubPSdb4TofEkqXXx8nnZ0iVYtnSJ0GW0tbWR88Udc2Fll8vlQl5eHoWFBSgq4q/0ZWRkoNGiBZ49e4qs91lQU1OvVd0hLS0tkO8KCgrQ09NDckoyyspEG1OmotIcPXqYwmPHdsyY/iMmTpoEk+7d0bZNW6g0by5yHGVmZiIiIgLDHIYLdHzl5ORgbm6OUydP4PXrWHQzMRFpnVUpLS3F07Aw+PndR3j4M+Tk5CDi5Uv2bveHD8LHSdWGcZcuMDTsgA1urnj16hUGDRqMDh07QkenZaUdztrQ1dWt9Ls3b/5hnwr4ctiIhoYGunTtiu2/bUNqSip0dfXY76SkpNCM26xG6WEYBklJSbhz+zZCQ4KRlZWF+Ph49rGvpKQkgd+Ieo4DPsfv4MFDMHPGdDwPD2fT/fChP2JiorHSyUmkITI1VZs6pVkzbqVlRVKxqqCgAAODdvjj/Plqx67WtF7jkZWRqZMLn8IUFhYiKTERxsbG6Nixk8D3hh06oGPHToiJiUZubm6t7rBUJE5s1jY/K5LkOae69IrafqhKQx2fqojT7pDksUtMfIvc3FxYW1vXOl+rUlV9AgDSXGlwuYJDZxpDm0JS5OTk0L1HD5w6eQI//TQHEydOgrm5BdobGkJNTQ1SErjzXZ1668gWFOQjMbH6d3Hm5uYKHAgOh4P+AwZi0KDB8Pa+g0lTpoh1paq226/Ml+NleNvQbtkSGi00KvkVaazi/4lH2JNQpKen842vq8jP7z7GjZ8AdfXPJwHenas2bUS74tTYYkTY+ERRygnAfxKqjKTWJcodwi8bCdXJz89HUSH/8sIuEkm67uBwOJASc1yotLQ0HOcvgKKiIo4fO4aVK35lv7O0soLzahf07Nmz2g5tSsrnq9n6+vqVbkdShI1jrA8dOnSEh6cnPD08cPLEcZw8cRzA5yEZ02fMgOP8BVBSEv4osKTxOo28hltFHA5H4uODKxsjV1OVpc+spzlsbGxx585t9Os/ACXFxbjr7Y3+AwagW9dutd5uVSRZP/FIOlZ5Fzd45a0ydVGv1ZXCwgIkpyRDU0tL6Hg3KSkOpKTrb7SasNiUZH5K+thUlV5R2w9VaWzHpyr1deyE1buNQWNoU0jS2LHjwAEHhw7uh/sGN/ZzIyMjLFv+K+yHflunHdp668jKycmjdavWMDc3x979B/iuPleHYRjcv++Lp0/D0KJFC3h6eKBt27ZiTUhSm+2Lu40XL18gO/ujWFe83r9/h+wPHwQm4RCmrKys2hlDiXgYhoHf/fvVzrQZEhyMiIiX6NvXBkCFBouIY/1qEyP1pVWr1gCA9a5umDP3p0axLl4+Hz95CkOG2NcqTeKqj7pDFEpKSpi/4GfM/WkeMjMyEBUVBW/vO7hy+TKWLl6EQ0eOCL0SXxHveFTWaJDUu6nLyspw7OgRXPv7b4wbPwFTp06DQbt2UFRUhJycHC5fuoj5jvMksq0vcTgcmJn1xMnTZ5CXl4c3//yD0NAQXLlymZ0dd+my5RLrRAq7w8nDi9vExLcC45IYhpH4u8ADAx/BY8d2tG9viPkLfoaZmRkUlZSgrKyM+Lg4zJ0zSyLb0dLSwoCBA7Fv7x5ER0chNzcX/g/84Llrd51POiTJ+gmom1gVtSFd23qtqLi43ubJ4NWDFZ9Wqai8nEF5WXmDdpYkeZ6oj3OOuO2HqjSF41OVujh2wurdyuTl5dVqm+JoLG0KSZGRkcGkyZMxYeJEfPjwAdHRUXjg54dLFy9i4S8/4+hxFbbNXBfqLaLl5OSgq6eHkJAQPA8PF+u3jwMDscndHXN/mocDhw4jIyMDu3ftQk5OjtDly8vKUV7OP/V9bbYvKt5jifFxcXyzd1VHX18f7969E7kgFRcX4/27d2jRQrNOHpX7L8rIyEDgo0dwGD4c0bFxfAPjeX8XLl4CAAQ+esQ2QLX+P/YiOipKpEZpTWNEFJJqFGtqasLY2BiPHz8WaUKn+lhXmzZtoaSkhIf+DyTy2hZx1EfdUVF1x5HL5UKnVSv0HzAA7hs3YdHixYiNjUFUVFS16+YdjxcvXggcj8LCQoSEhEBbW1vkiecqk5eXh9jYGFhb94aT82qYW1hAQ0Oj3odEKCoqwrhLF/zw43Ts2r0HpqZmePHiOXK/OHeUlZWJ/UopdQ11aGppITs7u9IxZ7y4ffo0TCBu379/j5cvXsDc3Bw6rXTE27FKRL56hdzcXKx0coLD8OGfxwmrqEh8CAOHw0G//v2hotIcf1+9Cq/r12FqagaznuYS20Z5ebnQYyLJ+gmQfKy+e/cO4c+ewdTUDNotW1a5bG3rtU8fPyI+Ph4a/x9bKSnCygOvHoyIiEB0tGBdExsTg+joKHTo0FGsJx6EtddqSpLnifo454jbfqhKXR2fqlRWRmuiLo7d48ePq73po66uDmNjY6SnpwvsC6/zL2mNrU0hKVJSUtDQ0IC1dW+sXOWE9a6uyM3NxdOwML7lJBk3QD12ZDkcDvr3HwBdXT2sdXHBubNn2ZNQeXk53r9/j7/+ugKPHdv5Ai8+Ph4b3FzRw7QHpk6dhl69rLHK2Rk3b3jhxPFjfO/FkpaWgry8PMLCnuC+rw/fexVrun1xSEtLw9z889Wfgwf2Iz4+HgzDoKSkGI8DA7F+3VpEREQI/E6/TRvk5eXh9etYkbbz/v07xMREo1WrVvU2PuZrFxMTjbCwJzA3t4CKiorQZTp06AhTUzM8CQ1lx1+1b98evayt8eeFC7h37+7nqdXLy5GQkICtWzbjyuVLfOuoaYxURVZWFtra2rjh5YW01NTqf1ANvW++QV8bW9y84YVVK1cgMjKSLWeFhYV49eoVNm9053u9QF2vq0OHDug/YAAOHzoE9w1uSEhIYMt3Xl4egoOCsMHNFfHx8bXce0H1UXcAVR/H+Ph4ODutwqNHAezM2QzDID0tDbGxsVBSUkIrnVbVbqPi8fD03Mk+gZCTk4N9e/fgyuVLsLC0rPTRY1HJyMhATU0dcXGv8ezZU/aYf/r0CXe9vXHy5Ilarb8qB/bvw6FDB5GYmMhut6SkGJGRr5CRkQEdnVaQ/X8nRVZOFgoKCvD18RHa+KuKgoIi2rRpi9jYGOTkCH+MlRe358+dw5HDh9iLr+np6dj+2zbcvn0LZj3NoaWlXYs9/hdvspjAgAB2WyUlxXj16hV+/32XRCfxatvWALb9bLF/316cOH4MAwYOlNgrdxQVFREZGYkbN7wEGrWSrJ+A2sVqcnIykpIS2YZZWmoqe1xt+/VD69atq9x2beu158/D/z8pkGC+X750ETrampW+81eYqspDxXpwx/bf4Hfflz3fhYU9wcaNG5CXl4de1tYiXWCvqr1WU5I8T9THOUfc9kNVJH18qlNVGa2Jujh2p06ewE6PHWx7jVcXbt7ozq5HUUkJzZurwtfHB2FhT1BeXs62xxYv/AUP/j8pkyQ1hjaFpHz4kAVnp1W4ffsWPnzIYjuoH7Oz8erVKwD880hIOm6Aen6PbDcTEzivWYNVK1ZgyeKFWLJ4ocAyU6f9wP47Pz8fhw4eAAAs/3UF+8iSvf1QhAQHw3OnB3T19DBq1GgAnyfl6WVtjbNnTmPBfEcsmO/IrtPVbYPY268J6969MXbceBw/dhR3vfmnoe/StSs7e1pFrVvrols3Ezx9GgaH4SOqnSgjLi4OISEh+GmeI71DVgLKysoQ+OgRtLS00KeKxx9atGgBs5494bFjO6KiIqGtrY1WrVrj+6nTsGL5Mvww9Xu+5Q0MDNC6teBEMDWJkaro6+vDwtIS1/7+G7du3WQ///uaV42mWZeRkYHj/AVITk7ClSuXceXKZaHLDbQbVG/raq6qihUrViEtLQ0HD+zHwQP7BZYxNjbGpEmTq01TTdRH3VHVcVRXV0fQ40AcPXJY6G9/nD4Dxl26VLsNGRkZTJ32AyIjI7Fv7x7s27uH73tTUzO+uram5OTkMGDgQFy5fAnTf5jG952qqho6dupYq/VXJT8/H1u3bIbLameB73R19TB69Bj2bpuWljbMeppj/7696G/7b9nfs3dfta/gkZWVRefOnXHzhhcSEt6w4+Yraq6qijlzf0J8XBxc16+D6/p1fN/b2w+F4/wFEpscydzCEuYWFvD03CkwEZK5ubnIM+OLQkZGBoOH2OP8uXPQ0WlV41fuCGNpaQVdXT1s2uiOTRvdAXx+nybvXcmSqp+A2sXqmdOncOb0KYHP7e2HYvqMmdWen2tTr+Xm5uLFixfo2MkIrVvxX8QqKSlGeHg4lJSUYD/0W5EnvKmuPBh36YJ5jo7YtNEdEyeMF/i98+o1sBMx36trr9WEJM8T9XHOqUn7oSqSPD7Vqa6MikvSx45X73ru9IDnTg+B9YwbPwHA5yc8BtrZwc11PRy+Hcq3nJlZzzp77Leh2xSSfAVPfHxcpW0Te/uh6Gvz74RWko4boJ7fI8vhcDBy5CjcuuONuT/NQ5euXQF8PlkMGjQY237bjl9XrIScnBxKS0tx9MhhXPzzAmbPncs3HlZBQQGLlyyFVa9eOHTgAPt+WQCwsxuEbdt3wNTUDMDn95Xp6OhAWlpKrO3XlIKCAta4rIXrBnf2nX99+9rg8JFj2LV7D3vFvCJNTU1YWlnB774f/vmn6qtNxcXFuOt9B6amZuhSx5Nq/FdkZmYi6P+zFX/zTeVjmqSlpdHL2hpKSkrwuXcPJSXF4HA4GDVqNI4cO86OAWjXvj2cnFfjjz8vwsLSUmA9NYmRqjRXVcW69a6Y8v1UqKqqQUlJCX372kCxFo8PaWpqYtfuPTh46AgGDRoMVVXeO3W7Ytbs2fj7mhd6mJrW67ratW+PM2fPY/OWrejb14Z9PMrMrCcWLV6C3/fuQ1sJTKkvTH3UHVUdx7YGBtjh4cm3bSUlpc9XsI8cw3pXN5EbqwYGBtizdx+cnFez62rXvj0WLlyEI8eOizX3QFWGDLHHsRMn+crF3J/m4c7de5hWyxN0VX6cPh27f9/DF2u8bV/+6yp6WVuzy8rIyGDhokVYuGgx22AxM+sJdXXRJmKzsLSEikpzgXeqVtSzpzmOnTiFuT/NY8t7l65dsW69Kzx3/y72xIVV0dPTw/4DB9kYUlVVw/ARI3Dx8hVs99gpdt1Snfbt2sO4SxeJv3Knm4kJPDw9K8xFoIc2bdqC+/+ZnCVZPwE1j9UFP/8iUI7EPa41rddiY2Pg/8APlpaW7GumeN6/z8LLFy/Q18YWvax6iZQOoPrywOVy8eP0GTh+8hSGjxjB1lP9BwzAmbPn8dM8R5FfiQhU3V6rKUmeJ+r6nFOT9kNVJH18qlJdGa0JSeZ3z57mOH32PFasXMWWT11dPcycNQubt25j1yMtLY0ZM2dhy9ZtMDIyAvBve+zw0WNob1j9u7troqHbFJKiqqqGDRs2YsXKVTAz68l+3svaGpu3bMWeffv56sK6iBsOU+FB5SdPngAAWuvV7rEyIr6nT8Mw/YdpmDFzFuYv+LnSK7nhz55h1swZGDd+vEQnLCGEECKe4uJiuLmuQ+CjRzhw8DDbUf2vOHv2DNauWY2jx0/U6WQehF9xcTE2bXTHvbt3hU7yFhIcjMmTJmC92wZMnjylgVJJCCF1r3FOX/YfZGzcBaPHfIeLf/6J6Ohoocvk5+fj/PlzaN5cBd99N5Y6sYQQ0oBkZGQwdux4fPz4CX9e+INvzoav3cfsbNz19kZfG9s6f+UO4fckNBTXr13D2HHjBCZmYxgGYWFPYGpqhoED7RoohYQQUj/qbYysaQ8TpKbUforxr1VqeiYmT5mC4KAgbNuyGVt/2853O55hGNy6dRMX/7yAdetdYdCuHQBAR1sTXC4Xicl1M5CbEEJI5T7PivwjPHd6oEOnThg9eozEZwlujJ6/eA7/B35Y77ahzl+5Q/6VmZmJ+bzmwgAAIABJREFUgwf2Q19fH+PHTxC4oJ2Tk4PQ0BDYDR4sscm3CCGksaI7so1I+/aGmDl7Nh4+9MeO7b+xMw0yDANfHx9scnfH2HHjMXrMd/+JhhIhhDR2XC4XEyZOQp8+fbHJ3R2PAwMbOkl1Lj8/H5cu/okOHTqiT5++DZ2c/4zs7A/YsnkTXr58iaXLlqOljuBrm1RUVHDo8FHMnj2H2gmEkK8ejZElhBBCCCGEENKk0B1ZQgghhBBCCCFNCnVkCSGEEEIIIYQ0KdSRJYQQQgghhBDSpFBHlhBCCCGEEEJIk0IdWUIIIYQQQgghTQp1ZAkhhBBCCCGENCnUkSWEEEIIIYQQ0qRQR5YQQgghhBBCSJNCHVlCCCGEEEIIIU0KdWQJIYQQQgghhDQp1JElhBBCCCGEENKkUEeWEEIIIYQQQkiTQh1ZQgghhBBCCCFNCrfif9TU1AAA+bmfGiQxhBBCCCGEEEJIdeiOLCGEEEIIIYSQJoXvjuyHDx8AAGZmZg2SGEIIIYQQQgghpDp0R5YQQgghhBBCSJNCHVlCCCGEEEIIIU0KdWQJIYQQQgghhDQp1JElhBBCCCGEENKkUEeWEEIIIYQQQkiTQh1ZQgghhBBCCCFNCnVkCSGEEEIIIYQ0KdSRJYQQQgghhBDSpFBHlhBCCCGEEEJIk0IdWUIIIYQQQgghTQp1ZAkhhBBCCCGENCnUkSWEEEIIIYQQ0qRQR5YQQgghhBBCSJNCHVlCCCGEEEIIIU0KdWQJIYQQQgghhDQp1JElhBBCCCGEENKkUEeWEEIIIYQQQkiT8lV2ZN3c3NC9e3dER0c3yPbT09MxatQotGnTBn5+fuznWVlZmDNnjsDnhPxXRUdHo3v37nBzc2vopNSZgoIC/PTTT7C3t8f79+8bOjm1kpiYiDlz5kBDQwMcDgeTJ0/Ghw8farXOhq6vgc918+rVq9GmTRtwOBwMGjQI8fHxDZaeutIY8pqIpr7rxoCAAHA4HJw5c6Zetve1YxgGPj4+sLOzA4fDgYaGBnbu3Fkv225sx/JrOgeSxqdeO7K8wvXTTz+hoKCgPjddb0pLS3H8+HH4+Phg48aNsLGxYb9TV1dnGxLr169HcnJyA6aUfOnMmTPgcDgCf/369cP27duRmZnZ0EkkEvZfqJMkJS0tDfPmzcOhQ4eQlZUF4HMHsLy8vIFTVjt5eXlYuXIl3N3dkZCQAADIzMxESUkJWyd8zRdaSN16//497O3t6QLCV4jXQeNwOAgICOD7ztfXF99//z3u3bsH4HNdmZOTQ/FAiIR9lXdkG9KzZ8+wb98+/Pzzzxg/fjw4HA7f99ra2vjll18QFRWFkydPoqysrIFSSkTl5+eHZcuWYfTo0bU+8fwX7kBW9F/b36/ZvXv34OXlhf379yM/Px8Mw+DWrVvQ0NCo8neN/S7gs2fPcP78eTg5OeHjx49gGAbPnj1Dx44d62X7jT1/vgaN7Q4VQHdcv2YFBQW4cOECtLS08OjRI5SVlYFhGKxZs6ahk0bIV4dbnxvr3bs3GIapz03Wq6KiIpw6dQqqqqqYNm0auFzh2du7d29MnjwZp06dwogRI2BsbFzPKSVVOX36NKZMmQIAKC8vx5s3b+Du7o6jR4/izJkzWLt2LaSlpRs4lUQSvvY6SVIYhkFsbCz69euH4cOHQ15evqGTJDFxcXFo2bIlJkyYABUVFb7vpkyZwtYFhNSEhoYGbt261dDJIHVAXl4e+/fvx/79+/k+z83NRVxcHL799ltYWFhASurfe0YUD4RIFt2RlaDXr1/D29sbI0aMQPv27StdTlZWFuPHj0d2djZu375NDelGTEpKCgYGBli9ejUsLS0RFhaGT58+NXSyCKlXhYWFSEtLg6ysLGRlZRs6ORKVkJAABQWFr26/CCENIysrC5mZmZCXl6eL3oTUsXrtyFb2KE3FR17evHmDJUuWoE2bNlBRUcH48ePx7NkzoevLy8vDvn37YGVlBQ6Hg06dOmHDhg34559/hC7PMAzCw8Mxa9YsdlIPKysr7Nu3D3l5eexyZWVl2LZtGzgcDrZs2YLS0lK+9Xz48AHjx4+HlZUVIiMj2c8fPnyI7OxsODg4VFt5GRkZwc7Ojv0NadxUVFSgqqqK0tJSgTGBosbVmTNn0KlTJ4SHh8PFxYVvHC7vca+qHv/ija35cjxnxd9kZmbyTVrzxx9/APj38cXIyEj4+vpi9OjRUFFRQZs2bbB69Wp2zGNFvPLVr18/cDgcqKioYOjQoTh48KBIEzaIsr8VZWZmYvPmzejUqRM4HA7s7Ozg4+Mj9EJPeXk5fH19MX78eHbiITs7O1y6dAlFRUXVpo2nsjqpJvklbB+srKywe/dupKenC11e1NjJzMzEmDFjKp0oLjQ0FG3atMH8+fP5fleVL/OQd3xv3rzJV+e9f/8eo0ePxoEDB3D79m20aNGCPY5fjguriBevLi4uCA8PZ/OEw+EInfSDlx5x89rU1BQcDgdt2rTBkiVL8ObNG5H2nze+TVj6qiqPFScuyczMxN27d9kJXRwcHPDhwwehx7VTp05YuHAhAgMDUV5eLnb+VObLcqqhoYEZM2YgPDxc5Iukosbhl/sfExODHTt2sMfAysoK58+fR2lpKfLy8nDixAk2Xd26dcPRo0eFlk9xynPFMitKneHm5oY+ffoAAL7//nu+eqiq+K24rSVLlqC4uJj9vKioCAsXLsSgQYOQmprK9xsPDw+0atUKT548Ecgv3jGty7pRGHHzoCbtsNrEHyA8Br8sMwB/fr59+5avDWhlZVVpjIkT45Utb2pqig0bNuDNmzfsvn05NCAgIEDoseUd/6omPhL3vPZlncnL++riuqKysjK4uLhARUWl0t/du3cPKioqOHLkCIDPd5x5c8CoqKiwx3348OFinYN5cxAI225Vj95LKubIV4KpIDQ0lAkNDWXqSlRUFGNiYsK4urryff7w4UMGANO3b19GXV2dAcD3Z2lpycTExPD9Ji0tjRk5cqTAsrw/ExMTJioqil2+vLycOXfunND1A2AcHR2Z3Nxcdvnc3FzG0dGRUVZWZm7fvs1+XlJSwmzevJnR0dFh7t27x35eUFDAODo6Mvb29kxmZqZI+bFjxw7G0NCQCQ8PFysfSd04ffo0A4A5ffq0wHdhYWGMoaEh4+joyBQUFLCfixNXvPUL++Ntk1cWhKXh3bt3zJAhQ5i5c+cy+fn57Oe830yYMIHp2LGj0PW6uroyOjo6jLW1tdDtL1iwgG+dGRkZzOjRo6tNryj5WdXveXVCjx49BNIOgNHX12cePnzIt96SkhJm69atjLKystB1b968mSkpKak2fRW3/2WdJG5+MQzDvHr1irG0tKx0n4cMGcK8e/eOXV7cOom3/v79+zNJSUns57y6cNiwYUxqaqpI+y1OHvLiTthyXx6biqr6XcW8qEleR0VFMb179xa6vKWlJfPq1atq8yA/P5+ZO3eu2OWR9zsTExNmzJgxQvfr3LlzleYtbxlR86cqaWlpzLhx44SuQ19fn7l//z7f8q6urrU+N/L2X1lZmdHS0hJYXllZmXFxcWEcHBxEqjvELc/i1hmurq6Vlsmq4pdhGObTp0/M1KlTBc7r8fHxjKWlJaOsrMzcvXuX/VxYO4CXXxWPaV3VjZURJQ9q2g4TJ/6qIkqZqZif6urqjJ6enkgxI26MV7d8xXPwl2WKl4+V7YOweGAY8csBry1a2XEVVtYqExQUxOjo6DBr1qxhSktL+b4rLCxkfvnlF8bS0pKJj49nGKbquh0As3XrVr71VLbPvHIgLI4rOzdLMubI16FRPVocERGBlStXIjU1FeXl5fj48SPWrl2LoKAgXL9+nV2urKwMe/bswdWrVzFjxgz8888/KC8vR1lZGd68eYPZs2cLrPvFixdwdXVFz549ERwcjJKSEjAMg6ysLGzbtg2nTp3C7du32eUVFRXh5OSEnj17wsXFhb3z6uPjA3d3dyxcuJBvRuK8vDzExcXByMhIYJxVZbp06YLY2NhK79aQhldcXIzg4GCsXLkSaWlpGDlyJOTk5NjvxYmrKVOmICoqCiYmJnB1dQXDMOyfJMbheXt7Y+bMmWz5+XK9qampKCkpwfXr15Gbm4vy8nLExMRg2LBhuHTpEl69esUuGxgYiCtXrsDJyQlZWVlgGAZlZWVITk7G7t27oaioWG16xNnf169fY/jw4YiLi0NZWRny8/Nx8OBBZGVl4dKlS3x3Q3x8fODm5gYHBwfExMSgrKwM5eXlSEpKwrJly+Dp6YmwsLBa56c4+ZWXl4etW7ciKCgIzs7OSE9PB8MwKCkpQXh4OEaNGiWwfnHrJCMjI7i6uiI0NBQbN25EXl4eSktLsWvXLjx79gzLly9Hy5YtRdq3Z8+eYc+ePTAwMMDt27dRUlKCsrIyhISEYPDgwXB3d4eXlxeAz2O6rly5grlz52LIkCF49+4dexx79+5d6TZ4Y8FcXV1hYmKCqKgo9ndfThIlTl5/+vQJGzduRFJSEk6dOoXc3FwwDIOioiLcvHkThYWF2L9/f7V3BXjj24SlT5TyGB4ejuLiYvj5+aGoqIjdLy6Xi0uXLsHAwAABAQHscc3Pz4e/vz/MzMwgJSUlVv4Iwzv2t27dwrZt29hyWlJSguDgYHTs2BGenp7Vvh5J3DjkycnJgYWFBR48eMDGz/Xr16Gurg5XV1ekp6fj9u3bKCoqQllZGby9vaGvr4/bt28jJyeHXU9Ny7OodcaaNWvw8OFDAJ/nP6hYD1UVvwCgrKwMIyMjxMXFISUlhS/P3r59i1atWsHPz4+dtDEnJwcxMTHo0aMH1NTUKl1vXdWNlREnD0Rth0kq/gDg48ePIpWZikpKSmBnZ4fnz5+z8RcYGAhLS0uBmBE3xp88eYKVK1dCWVkZp06dYie3y87Oxo0bN9C6detK96V3795Cj211ZVrccuDn5wd3d3dYWlrC19eXb58OHz5cbZ5XZGxsjCFDhuDevXtISkri+y4lJQVBQUEYMGAAvvnmGwD/1u0V46ikpARBQUHo378//vrrL4H1SIIkY458PRpVR9bDw4NtjPEeZZw4cSK6du2KxMREtsJ++/Yt7ty5g2HDhsHd3Z197ENKSgr6+vrQ09PjWy/DMLh79y4AYNu2bTA3N2cnYlJTU8PMmTNhZ2eHe/fuobCwkP1d69atsXbtWqSlpcHDwwMhISFwcXHB1KlTsWDBAr7JnN69e4e0tDSoqalBRkZGpP3V1taGoaEhMjIyapVvRLIqPnolKysLS0tLhIaGYvfu3RgwYAC7XE3jqq5s374dy5YtY8vPl7p27YqTJ09i2LBhUFRUBIfDgaGhIcaPH4/U1FS+10HxGpq6urpQVVUF8Hm8cKtWrbBgwQKhHbPaWLJkCbZu3QoDAwNISUlBXl4eo0aNgqWlJRITE9lHqYuKiuDl5YWePXti27ZtMDQ0hJSUFDgcDlq3bg1HR0d888037CsPakOc/IqIiMDt27cxe/ZsrFq1ClpaWgAALpcLQ0NDaGtr8627prEzYMAAODs7Y+/evbh06RLOnz+Pw4cPC7zqqyq8RlVCQgJcXFwwePBgcLlcSElJoWfPnnB2doaSkhL8/PxEaiRLgjh5HRUVBW9vbzg7O2PKlCnsRRUZGRkMGTIE06ZNQ0BAABITE+s0zQMHDsThw4dhY2PDV+eXlpYiJycHKioq+Oabb9jjKi8vjz59+sDd3b3KTo6oEhMTce/ePfz8889YtGgRu04ulwtzc3PMnTsXd+/erXI25NrUYXZ2djh69Cj69u3Lxo+NjQ1sbGwwcOBAXLt2DYMHD4aMjAykpKRgbW2NQYMGISMjg42r2pRnUeuM2urZsydiY2PZR9aLi4tx//59/PDDD5g+fTpCQkLYhnNqaioSEhJgbGwssbGR9bWfPKK2wyQRfzw1KTPW1tbYtm0bunbtysaflZUVZs+ejdTUVDx9+hSA+DFesX7csGEDpkyZwk5u17x5cwwdOhRr1qyR6IR34paDoqIi/P3331BSUsLGjRvRr18/vn3q1KmTWNtXVFTE8OHD8ejRI/aReB4fHx+8evUKAwcOrDKmuVwuLCwsMGHCBOTk5NTJ6+wkGXPk61GvsxZXR1gh0dDQgLa2NvLz89mrnrwrRGvXrhVoIApTWFiImJgYREZGwsTEpNLlxo4di6KiIr47bjY2NtiwYQOmTp2KQ4cOYeTIkXBxcan0jpS+vn616eGRlZWFgoKCyMuThqGlpYULFy7A1taW7/PaxFVdaNasmdAOLA/vxPilNm3aAADfXZLu3bvDyMgIK1aswPPnz+Hg4IDOnTujdevWIl+oEYe0tLRA2hQVFdGmTRskJiayYzZzc3MRHR0NX19f6OrqVro+a2trFBcX1yqt4uRXbGwsUlNT0adPH5HuVtc0drhcLhYsWIC4uDj88MMPAIDNmzcLfdVXZQoKCpCQkAATExOhM6YbGRnB2NgYr169Qk5OTrV3BiWhJnk9Z84czJkzR+j6dHR08PHjx7pJ7P9xuVyhM9OrqqrCwsICbm5uGDNmDKZPn46ePXuiffv2UFVVFfk4VYd3HgwKCsLGjRsrXa6qC6W1qcOkpaUF7pJxuVwoKCigoKBAoOMrKysLTU1NhISE4N27d9DQ0KhVeRa1zqitDh06wNraGmFhYRg+fDhSU1MRFBSEdevWoXnz5ti3bx+io6PRokUL9smtrl27SmTbQP3tZ8Xtfamqdlht4o9HkmXG2NgYysrKSE1NBcMwYsc4wzBISkqCiYkJzM3NJVZeqyJuOeAtb2xsLLFYMzMzg7W1Na5du4YhQ4ZAUVEROTk58PPzg52dHUxNTfmWLy0tRVBQELy9vREaGopPnz7h2bNnbF0t6hh/cUgy5sjXo1HdkRVGSkpKoGLlXRk1NDQUqZLJz88XaQKQnJwcgZMCb5C+g4MDAGDmzJkidZ5J08V79Kq8vBxnzpxBQUEBPDw8BB4Br01cNSbCGi6dO3fG0aNHYWtri/3798PBwQEGBgbQ0dGBi4sLX8eirnA4HIG08Z58qE7FBpekCcuv+Ph4AEC7du1EWkdtYkdRURE//PADtLS0YG1tjUmTJlX6qi9hCgoKkJiYiJYtW6JFixYC3wurcxtKVXldldTU1Hp5CkIYaWlpLF++HFu2bEFGRgYcHR1hYWEBdXV12Nra4tGjRxKZkETUSa2qKqt1VYfl5eUJ5L+0tLTAXSxJl2dhdUZtaWlpoWvXroiIiMCnT58QExMDGRkZGBsbw9DQEKampvD19UV5eTkiIyPRoUMHgafCJK0u9rMqVbXDqiPKuUKSZUZNTQ0GBgZIS0tDYWGh2DHOW76y+rEuiFsOeMu3a9cOSkpKEkmDrq4uBg4ciICAAMTFxQEAIiMjcffuXQwbNozvjnh6ejomT56MPn36YP369fDy8oK/v3+dtwskGXPk69HoO7LC8E4Sb9++FWl5eXl56Onpwdramp1tTtifsDEMDMPgzp07CA4OhpaWFtzd3flmKv5SQkKCyPtRVFSE/Px8kZcn9YvD4WD8+PFwdnbG1atX4erqyje7YW3iqjq5ubmS3h2x8GZ0vHbtGnJycvD06VPs3bsXxsbGcHNzw7Zt2+qso1gVdXV1aGpqYuzYscjOzq40z/fv31+v7zrlPYkh6rig2sROXl4ezp49C+Dz2K8tW7aIPFNxxW2npaXh3bt3At/z5htorHh5ffXq1UrzTZTxj3VJWVkZv/76K16/fo3ExETcvHkT8+fPR0REBGbNmsU35remeOfBHTt2VJkPVY33rcs6TBSNtTxXJC8vj44dOyI2NhbJycnw9fVFr169oK2tDVVVVfTp0wcBAQFISEhAfHw8unXrJvI8GU2ZJOKvIkmVmfT0dISHh6N169aQl5cXO8arqx/rgrjlgLd8UlKSxC7YSUtLw8HBAbm5ubh79y7Ky8tx584dfPPNN3xDqnhz1Pz555+YNm0aHj58iIyMDHYc8enTp8XetqjtYEnHHPk6NMmOrKqqKgwNDRETEyNSA05eXh76+vpCn/+vzoMHD+Dk5IQlS5bgjz/+QFpaGjZv3izwLtEWLVqgZcuW+PDhg8jjyrKzsxEbG8uOpyOND+9RTkdHR+zduxe///47e2eiNnFVVlYm9ApzixYtYGJiwj4WVVFDdTCUlJTQvXt3zJs3DydOnKjR+3Qr29+apKVdu3YICAhoVONgdHR0AHweKyvKMapp7JSWluL333+Hl5cXzp49izVr1mDv3r04e/asyPnL23Z4eDgiIiIEvo+MjERERAQ6d+4MZWVlkdNWFd7kY5LQrl07KCsr4969e2K9aqkhcLlc6Orqwt7eHrt374azszMiIyPx8uVLvuVqkj/a2towMTGBv79/jSc3qU0dJgn1XZ5rWn9aWFggPj4egYGBCAwMhJWVFfvIb58+fRAZGYkHDx4gLi6O/U6cNEmqbIi6PUmQRPwJI2qZEaasrIx9lQvvMWJxY7xi/RgaGlq7nRGRuOVATk4OOjo6iI+P55uErLZ4kz55e3vj5cuX8PPz45vkCfh8kT0yMhL9+vXDpk2b0Lt3b2hqatboQhNv6MiXr7ACwD4VV1FdxRxp2ppkR7ZNmzYwNTXFpUuXcPbsWRQUFIBhGKSlpWHbtm3YuXMn3/K8x4P19fWxZMkSHD16lC0E5eXlyMzMxPnz5+Hm5sY3QD02NhYrVqyAhYUF5syZA1tbW2zcuBFXrlzBvn37+B61UlRURLt27RAZGSlyA//JkydCJ4IhjYuioiJcXFwwcuRIuLu748KFC2AYpkZxJScnB0VFRdy6dUtoJ0JZWRlqamq4desWgoKCUF5ejuLiYjx48AAzZsxgJ62oazt27ICnpyfevHnDxnlxcTFevHiBtLQ06OrqijTmt7r9FZe8vDyGDh2K3NxczJkzB9euXWMvZpWWliIpKQkHDx6Ep6dnrbcljo4dO8LW1hYnT57EjRs32PcNx8fHw8XFhb2DylPTOunixYtwd3fH4sWLMWDAADg6OsLR0RHu7u548OCBSGmtuG1XV1fcuXOHTW9QUBCcnJyQm5sLW1tbiYyHVlJSwosXL3DlyhWJdDw7d+4Me3t77Nq1C6tWrUJ8fDzb4MnNzcXDhw+xYsUKxMbG1npbNREbG4uff/4Z9+/fZ8fpMgyDlJQUREVFQVlZmW8cXE3zp02bNrCzs8OVK1cwf/58vHjxgi2rBQUFeP78OZydnfH48eNK11HTOJSU+irPvIb/5cuX+SYOE1Xbtm1hZmaGw4cPo6SkhG+sJe/xYldXV3z48IFtnIuSJknWjaJsrzZ58CVJxB+PuGUG+Hwj4NWrV+yNg0+fPmH//v3YtGkT7OzsYG5uDkD8GK+4vLOzMy5evMjG/sePH3Hz5k2Jlwdxy4GysjIsLCwQGRkJT09PtiOYl5cHLy8vLF68uEbp4E36FBAQgG3btiEoKEhgkicZGRloaGggOjoaISEh7DH/+PEjvLy8cODAAZG3p6ysDENDQ1y4cAGxsbFgGIbdh2nTpuHFixd8y0sy5sjXo0l2ZFVUVDBv3jyoq6tjzpw5UFBQgJSUFHR0dLBnzx6h41PMzMywefNm5OTkYObMmVBXV2fHmWhpaWHSpEl8lXteXh7bIV6/fj3U1NTA4XAwcuRITJ06Fe7u7rh48SK7vJycHLp164bw8HCRxnDxHtfs0qVLnY+nIbWnra2NTZs2oXPnznBycmI7DeLGVcuWLdGrVy8EBQWha9eu7OzIZ86cYbfz7bffIigoCL169YK0tDRkZWVha2uLd+/eiTWZWG3k5eVh0aJFaNu2LTuJlKysLEaOHAkAmDRpkkhXYKvb35oYNmwY1qxZg/j4eIwYMQJKSkrgcDho1qwZ9PT0MHfuXLHuFkuCnp4e5syZg6ysLIwYMQLNmjWDtLQ02rVrh6tXr/Jd0eYRN3YiIyOxc+dOTJ06FbNmzQKHw4GioiIWLFiAli1bitV56969O5YtW4b4+HgMGTKETa+VlRUCAgLg7OyMYcOGSSRv+vbtC319fTg5OUFOTo5tKNZ0MhA1NTW4ubmhd+/e8PDwQLt27di7Y8rKyujbty9u374tcDW/vpSXl8Pf3x/9+/dnJ6qRkpKCrq4uDh06hKlTp6J79+7s8jXNH1lZWSxfvhzjxo3DuXPn0K1bN7asKigowMTEBBs3bqz2Dpy4cShp9VGeDQwM0KdPH1y9ehW6urpsPcS7e1cddXV1dO7cGY8fP4aFhQX7BAYA9vHi+Ph4GBsbi1xH10XdWJXa5sGXJBV/gPhlBgCCgoJgY2MDWVlZcDgcNG/eHAsWLIC6ujpWr17Nd4zEjXFe/ZiVlYVx48ZBQUEBHA4Hqqqq+Pbbb+ukPIhbDsaNG4eRI0fi0KFDaNWqFTgcDpSUlODg4IBmzZrVOB09evRA586dcfr0aaGTPFXsdI8aNYo95qqqqpg2bZpY2zI0NMSQIUPg5eWFDh06QEpKim8fKh5DQLIxR74eTbIjC3yeTfjy5csYN24clJWVoa+vj8WLF+P+/fv47rvvBJbncDiYMGECQkJCsGTJEvTo0QPA5xOUg4MDDhw4AFdXV8jLy7OP7506dQqLFi2CkZERux5FRUWsWbMGNjY22LlzJ9942T59+kBVVRXXr1+vtiDxBtHzfkMaPyMjI2zZsgUAsGLFCkRGRooVV8DnitjJyQnOzs5sg8fKyoqdVEJaWhoLFizAvn372NkIBw4ciIsXL+LSpUtiT6tfU46Ojjh58iQcHBygrq4O4PNdxyVLluD+/fsCMzhXprr9rQkul4ulS5fi/v37mDVrFjp27Ajg89jJ8ePH49y5c1i4cGGN118THA4HEydOxOXLlzFw4EAAn/Nr06ZN8Pb2Rp8+fYT+RtTYSU9Px6pVqwAAixYt4psZ2cj0BtzqAAAgAElEQVTICBs3bsTbt2+xc+dOkYZbcLlcODo64urVqxg3bhzU1dWhrKwMe3t73LhxA0uXLhVrAqmqmJmZ4ejRo2y+6Ovro127drVqbHXs2BE3btzA3r17MXDgQPYRaCsrK6xevRqnT5+GoaGhRNIvLkNDQxw5coTvmPLy9uLFi9ixYwff8atN/mhra+PEiRO4cOECX1nt0aMHfvnlFzx8+BCWlpZVrkPcOkzS6qM8q6mpYfv27Zg9ezYb6xXjpjq8C9UA0K9fP74nFXiPF+vo6MDExETk8bF1UTdWpbZ5IIwk4g8Qv8wAYN8XW7Hc8NqAX56fxI1xLpeL+fPns+9m5x0fS0tLbNmyBU5OThIvD+KWA21tbRw6dIiNH2VlZYwaNQo+Pj7YvHlzjdPxzTffYPDgwQAgMMkTz4gRI/DXX3/xneuWLFmCJ0+eYO7cuSJvS15eHuvXr4e7u7vAPhw+fFjosDtJxRz5enCYCoMzeOMHzMzMGixBTVlRURF+/fVX+Pn54Y8//mArImHLOTs748aNG/jzzz+FvgKDEEIIIYT8q6CgAIsXL8abN29w5syZenk9GCGk8Wqyd2QbI1lZWUydOhXZ2dk4efJkpa8rePz4MS5evIipU6fW2x02QgghhBBCCPla1FtHVk9Pjx2T8bX+AWBnd929ezc7KRAA9vv09HR4eHjAwMAA06ZNYwfRczgcrFu3rr4OByGEEEIIIYQ0WZIZBEVYXC4XP/74IwIDA+Hk5ITWrVuz4zWysrKwZs0aPHv2DCdOnEDr1q0bOLWEEEIIIYQQ0vTQGFlCCCGEEEIIIU0KjZElhBBCCCGEENKkUEeWEEIIIYQQQkiTQh1ZQgghhBBCCCFNCnVkCSGEEEIIIYQ0KdSRJYQQQgghhBDSpFBHlhBCCCGEEEJIk0IdWUIIIYQQQgghTQp1ZAkhhBBCCCGENCnUkSWEEEIIIYQQ0qRQR5YQQgghhBBCSJNCHVlCCCGEEEIIIU0KdWQJIYQQQgghhDQp1JElhBBCCCGEENKkcBiGYXj/iY+Pb8i0EEIIIYQQQggh1eJW/M+HDx8AAK319BskMYQQQgghhBBCSHXo0WJCCCGEEEIIIU0KdWQJIYQQQgghhDQp1JElhBBCCCGEENKkUEeWEEIIIYQQQkiTQh1ZQgghhBBCCCFNCnVkCSGEEEIIIYQ0KdSRJYQQQgghhBDSpFBHlhBCCCGEEEJIk0IdWUIIIYQQQgghTQp1ZAkhhBBCCCGENCnUkSWEEEIIIYQQ0qRQR5YQQgghhBBCSJNCHVlCCCGEEEIIIU0KdWQJIYQQQgghhDQp1JElhBBCCCGEENKkUEeWEEIIIYQQQkiTQh1ZQgghhBBCCCFNCnVk61hsbAyGDbXHsKH2iI2NYT9/Hh6OYUPtMf2HacjMzGzAFJK6UlhYiF+XL8OkiePx4UOWSL+Je/0adgP6wWPH9jpOXeNXk/wjjUtIcDB0tDVx+dLFhk7KV4FhGDx86I/xY7+DjrYmjDp2wKGDB+pl23QsCSGENDb12pHlnQh/Xb4MhYWF9bnpBpGfn4+jR44gIyMDq9e4wNCwA/tdNxMTrF7jgpcvX+LIoYMoLS1twJSSL719+xbDhtpDR1sTa1Y7obi4uKGTRAj5D+BdwNHR1kRIcDDfdwEBD7HAcR78/R8AALKzPyA3NxcfPmRh0sTxsBvQD3GvXzdEshu9mrQ/qjoWhBBCGh7dka0BUa9MP3jgh4t/XsCixYth1auXwPfmFhaY8v33OH/+HEJDQuoquaQGXr54jrCwJwCAwEePkPj2bQOniPyXeOzYXm+dktrcaaO7dPWnsLAQf1+9ihYtWuCa1w0kp6YjNT0Ti5csbeikNWn1WdYIIYRIFrc+N2ZuYYHU9P/GY7Qfs7Nx4Y8/0Lt3HwyxHwoOhyOwDJfLxXdjx8HH5x7Onz+LbiYmUFBQaIDUkooKCwtx//592NjYok/fvtjovgFBwUFo1759QyeNEPKVk5OTw9Ztv2Hrtt/4Ps/Ly0PCmzcYaDcIPXqYQkrq3+vQamrqOHf+Qn0ntUmpSfujsmNBCCGkcaA7snXk+Yvn8H/gh8H29mjRokWly+nq6mLYMAfc9/VFdHRUPaaQVCYh4Q0eBwbCrGdPDHMYDlNTMwQHPUZ+fn5DJ40Q8h+V/eED3r9/Bzk5OUhLSzd0cgghhJAGV68d2comsqn4eFpiYiLWuqyBuZkpDNu1xZzZMxHx8qXAuoqLi+F1/TomT5oAw3ZtoaOtiTGjR2LP77uRnJzEtyzDMIiIiMDSxYtgbmYKHW1NDBtqjxPHjwl0TiqmMT8/H4cOHUSf3r2go62JXZ474bFjO0YMHwYAmO84DzramuwfbwxNWVkZHvr7o0OHjujTp2+VecLhcNDXxhaKiooIDgoCwzBi5yuRrCdPniA1NQW9rK2hq6sLUzNThAQH482bN5X+5v3799i9y5ONlWFD7XHk8KFKJ/LixeTiRb/AqGMHGLZri+k//oB79+6ioKBAYHlx4r0qN2944cdpU9lyoKOtCYdvh2L3Lk+8f/+eb9mKky2lpaXB6/p1dpKZPr174fChQzUa687Lq0F2A6CjrQlzM1OsdVmDxMREkddRXl6OgICHmDN7Jow6doCOtibGj/0OXtevC4xn5pXpHdt/Q2xsDJYvWyq0fklOTsLmje7sMZz2/RQ8eRIqtEzm5+fjxPFjGDN6JDvpzuJFvyAiIkJgeXHqN95Yx61bNiMiIoJNi462psiTXoWEhGDe3Dl8vx1kNwDr1roI5LEo9VllxP2tqHW7uPlbFWF1f5/evbBmtRNCQ0NQXl4OgD/Wk5OTcOL4MXaM/LCh9jh39qzQcfLinFsqW36Q3QDs9NiBxMREdt++fNw1JDgYfXr3QkREBLZu2SwQE1VNjCZOWam4/PQff4Bhu7Zs3gcHB4mc7zy8/YiMjBSoP/b8vhu5ublCf5eYmIh1a13YGB5kNwAH9u/Dp0+fBJYVtW78sv0halmr7NHjL/PVsF1bTJ40AT737gnMeVFXdSkhhPzX1eujxdU5efIEnJ2ckJ39gf3s2t9/IzkpGbv37IWBgQGAzycFN9f1OHrkMN/vAx89QuCjRyguLmbHDTEMg6tX/8KqFSv41hsW9gRhYU8QFRWFNS5rBR7pDQt7gokTxvE1yMrKykTaj9ycHLx6FQHjLl2gpaVV7fK6urrobGyMly9fIi8vD0pKSiJth0hebm4uAh89grmFBYyNu0BGRga9elnj8KFDeBIags6dOwv8JjY2Bot++YUdUwv8G18A0K9/f77lGYbBlSuXsWL5Mr6G3K2bN3Dr5g2B9YsT79WJiorC7du3+D578iQUT56E4unTp9j223ZoaGjwff869jVmzZiOJ09C2c/iXr/+/yRYRZj70zyR7xDFvX6NxYsX8pWrpKREHDywH6EhIdi5axffpGjClJaW4uCB/fDYsZ0v//z9H8Df/wGcV6/BT/McweXyV2/Hjh7Bvr17+H7Dq18GDxmCP/+8wNdY9fa+g5SUZBw4eJjvsfLMzEw4O63Etb//Zj/Lzv6A8+fO4aH/Q+za/Tt6WVsLpFvU+q22Et8m4K+/rvB99vLFC7x88QIhwcES3ZaoxNn3muavMFev/oXlS5fwHfO4168R9/o1Xr9+jb379kNNTZ397tnTZxgx3AEpycnsZ7yy/P79O764EvfcUtnyvGOTkpICV7cNkJOTE2nfRCFuWSktLcX+fXvhvsGNbz3nz52rcRoSEhIw/YepSEhIYD+Le/0aG9xckZSUJHD+fRwYiGXLlvCVRV4ePQ4MxNbftkNTUxOAZOtGcVSWr74+PvD18am0DpJkXUoIIaSRPVocHRWNn3/5BeEvIpCSloGY1/FYumw5wsKe4K73HXa5mOhoeF2/hgkTJ+Lps+dISctASloGXkVFY8++/VBVVWWXjYyMxI7ffoNJ9+64efsOEpNTkZqeiajoWLisXYeLf17AfV8fgbQ8DgxEz57meBwcyjepxuIlS/H3NS8AwJ69+5Cansn+mVtYAADevXuH1JQUtG/fXqRGiaKiIgwM2iElObnSK9Skfrx9+xZhT0JhYWEJNTU1AECXrt1gamqGBw/8BO4I5OfnY8/vuxEW9gQLFy3Gi4hIpKZnIjE5Ffd8/WA/9FuBbcTERGPnjh1QVVXDocNH8U9CIlLTMxH3TwKOHT8h0MkQJ96rs3jJUr6YTUnLwNNnzzF7zlzcvOGF0FDBSceSkhKhrq6OK3/9jbdJyUhOTcf1GzdhamqGWzdvIDU1RaRt5+TkwNNzJ1JTUvH7nr2I+ycBqemZeJuUjLPn/kBRUSFOnjhe7QzRAQ/94bFjOwYNGoyAwCAkp6az+zHPcT4OHzqIFy+eC/yusLAQU6f9gODQMKSkZSDunwS2ftm8aSNMTc3Y9f2TkIiVTs6IiIjAo0cB7DpKS0tx5NBB+Pr4wGXtOkRFx7LH++btO2jXvj0OHTqIj9nZAtsXpX7jjXX8dcVKGBsb42FAIHuszp2/wNfpqsyY78byHWNefbd6jYtAXSpKfVYZcX4rat1em/z90qdPn+B1/Rr09fXx9/UbbN3/T0Iirv59HSbdTCDF4T8FlpaWwMbGBj73HyAxOZUv1r+MK3HPLc/Dw+Hu5gYlJSX8vmcvW+6jY+Nw5ux56OjoVLov5hYWeBgQCGNjY/y6YqXIMSFuWQkMfATPnR4wNTXDpSt/8e3Tdo+d1ea5MLm5uehs3IWtP1LSMhAQGAS7QYNw/NhRvjz6mJ2No0cPIz0tDS5r1yHmdTxS0zPx7PlLzHOcj1u3bmLvnt/ZOqI2dWNtylrEy5c4dvQo9PX1cf6PC2ys3LrtDdt+/eG50wN373oL/E5SdSkhhJDPGlVH1tXNDY7zF0BLSwscDgfKysoYNWo0jIyMkJycjJKSzyevoqIipKeno0ULTbTQ1ASHwwGHw4GamjrGjPkO02fMBPD5Crj/Az8AgMvadejevQd7hbS5qiomT56Cvja28Pf3R1FREV9aZs2eg9VrXKCvr883qYYosrKyEBERUeXY2IqkpaWhq6uLjx+zkUcd2Qb10P8B8vLyYNuvHztBl45OS/Q0N0dIcDDi4vgfL4uOjsJ9X19M+X4qflm4iD3mXC4XBgYG7J0DHoZhcN/XF7GxMVi5ahWGOTiwFzsUFBRgaNgB8vLyfL8RNd5rgsPhoKWODiZOmgwDAwN8+vhRYBkbG1t4eO6CVa9eaNZMBlJSUjA1NUP/AQPw9u1bZL0X7R2vr1/H4oHffSxavBhjvhvL3oVp1kwG/fr3x7jxExAcHIzkCnfDvlRcXIy7d71hYtIdLmvXwcDAAFJSUux+/Dh9Blq31oX/gwcCv5370zyscVkLPT09cDgcKCgo4NthDjAwMMCixUuw03MXuz45OTkM+3YYjIyM8O7dO3YdKSkp8Pf3x8yZszB7zlw0/39Dmcvlonv3Hpg2bRr8H/jhdZzgDKii1m91obnq/9i777Aojv8P4O8DpMiBFAFREEQRkSgCIvaKit+IPdZoLIkFNVHQWFBMwG7EFnvsLUU09oKdohQLIr0EpB7FxtHh9vcHuQ3HHXBHEc/f5/U8PI/eze7Ozs7M7exO0cL4CV+hd+8++PDhw0cfwiDtudcnfasqLy8Dn88HV0MDRm3asHW/qqoqejg4YOVqd3b/Qt3t7eGx7idYWlpCSUkJCgoKsLPrjmnTp4PH4+FVeDgA2X9bGIbB/fv3kJqagpWrVmHc+AlsudfU1MTgIUOw1NWtQd/GylpWSkpKcPvWTairq2OVuzt69+4jck7mHczrFA8rKyu4u69h6w8OhwMzMzPMnTcfXC4XYWFhbG+n2NhY3L93D5OnTMGcb7+DhoYGAMDAwAAuCxdh+HAnPA0NQVYWD0Dj1o3VqXwtXd2WYcDAQWxese7WDUuWLIW6ujoeBwaKlemGqksJIYRU+KS6FkvqUqOtowM9PX0UFhaivFyAZs2AtiYm6N9/APb+ugevXydj7Nhx6GBuDmPjtiI3AsXFxUhISEBcXCyGDBpQ7XFHOjujuLgYKioq7GfKysoyN2Crat26jdRh1dXV63UsUn/v373DkydPYGvXHWbt/nsr2qyZMnr36YNDBw8gOCgI3brZsI3cfxITwePx4ODgINWM08I8aWlpCWvrbhJns65K2vwuDYZhkJqaitu3biE0JBhv3rxBYmIiUlMrxk6mpoqPt1VQVICCgmg8ORwOTExMwOPxxB4CVUeYVsvcXLHMzVViGAMDA+RJGAcnlJ/PR3x8PAIC/GHTrWu14brb26O0tATNmimznykqKoqlt4qyMtTU1FBQUIDy8jIoKPwXnquhAW1tHWRkZKCoqAiqqqrgZWayXUd37ar+DVXlxm/l41clqX5rCDk5Obh75w4ePw5AZiYPqakpbFfN9h06oLi4uEEbTbWR9tzrk75VaWq2gI2NLXZ4b8fsWTMxecoUWHfrhnam7aDZooVUZU/IwsICXC4XPB4PDMPI/NvCMAzS09NhZWUlUn80JlnLijC8hUUnWFqKD6FoaEZGxjBr3x65OTkoKSmBmpoakpL+AZ/Ph42NLZSVlUXC6+rq4osuXbD9l23ISM+AkZFxg9aN0ioqKkJqSgqsrKxgYdFJ7Hvzjh1hYdEJsbEx4PP5Im92G6ouJYQQUuGTashKoqDAgYKiaIPSwMAAm7Zsxc4d3rhx/Ro7lorL5WL0mLH4ccVK6Ovro7CwACkpta//yefzUV5eVms48nlL/CcRz56Ggsfj4cb1axLDPHz4AF9NnAQdnYqbE+G4L1PTdlIdQ5gnDVq1gm5L3do3gPT5vTbVjeuqK1nHclUeI1ed2m7m3uS+QXZWVq37kbVhKCm8iooylFVEb6alqU8ASN2zQlL9Vh/VjcP8FEk694ZMX0VFRbgsXAR1dXUcP3YMK1f8yH7n0LMn3Nd4oHv37lI1KrVaaMHExARZWVkoLi6W+belsLAMKSmvoaevDx3d2ruHNwRZy4owvK1d94/yYFVLqwV0dHSQlp6GoqJCqKmpsQ/SjI3bioXncDhidU5D1Y2yKCoqRFp6WrXXsi5lmsbFEkJI3XzyDdnqmJmZYfeeX1G07RekpLxG2IsXuHzpEs6cPoWyslJs3LQFqqpqaNO6Dezt7bHvwEEYGRl/1Dimp1ffRbKq/Pz8RowJqQ3DMHj44AF4PF6N4UKCgxER8Qr9+vUHUDFRFwCkSzm2SZgnw1+F492791KNeQSky++1vRF+/DgQO7y3o0MHcyxctBh2dnZQ53KhoaGBxIQEzJv7rVRxqSthWh0/eQrDhzvVaR9a2trQ1W2Jkc7O2O69E5qamg0ZxVoJe1n87OmFufPmf9RjSyM2Ngbev/wC3Za6WO3ujgEDB6GFpiY0NDXx/v07uCz49OJcWUOnL5fLxcJFizFv/gJkZ2UhOjoavr63cfHCBbgtXYLDR45IfKtWVXZ2NiIiIvDlSGeoqqqCYRiZflsKCwvRpnUbvHjxHG9y30hd7utD1rIiDJ+RkY7if3sgNKbcnFzwMjPR3b4H1NQq6i5hHZGS8lpsnDXDMBInXGyIulEWwjq8umspEDAQlAsa9AEVIYQQyeS+plVVVYW5eUdM+Goi9vy6FyP+9yWioqLA4/GgqqoKI2NjhISE4GVYWIMfu7pZjHV0dGBlZSVV9zeg4geax+OhRQstqNOMxU0iKysLjwMDMdLZGTFxCWKT5WTwsvHneR8AFTNiCq+9voEBACAmOlqqWa2VlZWh27IlEhMS2O68sqgpv9cmKjISfD4fK1evxkhnZxi2bg1NTc2P0s0RqHhrzeVy4e/3qNYJnaqjrq4OE1NTieOVPwY9PT1YWVnhyZMnUk04VB8CgUDmsaxJSUmIi4vFvHnzMX3GN2jbti1aaGlJNUxC2lnZG3rbyhorfZWUlGDYujUGDR6MDRs3YcnSpYiLi0V0dO1rd5eXl7NLz3S2sgIAmX9bhOEjIiIQFvaificjJVnLioqKCvQNDJCclIxMXmajx+/lyzBERUWJTIoorCOeP38mVkfk5ubiVXg47O3tYdhafGKs+tSNspS1ytdS0trvcbGxiImJRseOFrQCASGENDK5bMheuXwZO7y3Izo6ip1MoaysDHHxceBlZkJXVxct/h0DNWjQYBgZGWOdhwfOnT3L3hwJBALk5ubi778vYof3dpnWcFNRUYGBgQGuX7uGzIwMse9btmwJw9atER8fL9V+8/LyEBMTjdZt2tAPXxOJjY3Bs2dPYW/fo9o3Fx07WsDW1g5PQ0PZhxQdOnRAr9698deff+Lu3TsoKyuDQCBAcnIytm7ZjIsXfET2oaioCHv7ijcNhw4eQGJiIhiGQWlpCZ48foyff1qHiIgIkW2kze+1EU5E9TggAHl5eQCA0tISREZG4tdfd0vV9bc+OnbsiEGDB+O3w4exYb0XkpOT2XU88/PzERwUhPVenkhMTKx2H6qqqhg8ZAjy8/Ox3M0Vt2/fYtfrLCsrQ0Z6Ok6fOonDhw81yjkYt22Lfv0H4Mb1a1i1cgWioqLYNSOLiooQGRmJzRs3iCyvURfq6uqIiorC9evXZGr062jrgMvl4um/XeSBinRJSkrCvr178eK5eCOqtvqsJvXZVpKGTN/ExES4r16FwMAAdrZxhmHAy8xEXFwcuFwuWhu2Ftnmw/sPiI2JZctZXl4eTp44jj27d6F//wHo1s0GAGT+bakcftPGjbh65Qr72/Dhwwfcu3tX5t+h2shaVrhcLmxsbBAXF4vDhw6x+aegoAB3fH3hsXZNneJRWFiIuLhY9thFRUW4euUKNm3cCHPzjhgwcCAbVlhH/H7uHI78dpitp3g8Hrb/sg23bt2EXXd76OtXPEBsiLpR1rJW+Vp6b/8FDx/cZ+v9Z8+eYuPG9cjPz0ev3r1FxugTQghpeHLZtbi0tARbt2zG1i2bxb7jcrnYsu0XdumUrtbWcF+7FqtWrIDr0h/guvQHsW2mz/hGpuObmJigh4MDrly+jJs3b7CfX75yDfY9eoCroYHOna3g7+eHrKwstG0rPt6nstTUVERGRGDGNzNp0qcmUF5ejseBgdDX10fff7sMS9KyZUvYde/O3jgZGBigdes2+Hr6DKxYvgzfTP9aJLyZmRnatDES20/vPn0w4auJOH7sKO74ii7R8EWXLjD49y2vkCz5vSb2PRxg36MHdu3aKTaRjr29faPnvRZaWlixYhUyMzNx6OABHDp4QCyMlZUVpkyZWuN+HB2HYqmrG3Z4bxdLc6EfV6xskDhXpaysDJeFi5CWloqLFy/g4sULEsMNcRxar+M4OPT8t9GzAZs2bgBQsR5x1XVPqxI2BP74/Xf88fvvIt/Z2XWX+KCstvqsJvXZVpKGTF9GIEDQk8dia4wKzZw1G1ZffCHy2bNnTzFmtLNYWCMjYyxZ6ipSNmX9bbH64gsscHHBpo0b8N23s2sM21BkLSvOo0bD79EjnDl9CmdOnxIJZ29vX6c4JCYmYtZM8XPjcrlY5e6Ojh0t2M9aaGlh7rz5SExIgOfPP8Hz559EtnFyGgGXhYvYiaAaom6sS1mrfC0nT5oo9r37mrVwrGcdQAghpHZy+UbWacT/cPzkKYwaPZodm2RkZIypU6fh78tXMXbsOLa7JIfDwejRY3Dzti/mzV+AL7p0AQBoaWlj6NBh2PbLdvy4YqVM44FaaGnhp589Me3r6dDS0gaXy0W/fv3ZbsGKioro268fYmNj4O/vV+O+hMs45Ofno4eDw0fr5kn+k52djaB/Zyuu6aGDoqIievXuDS6Xi3t376K0tAQcDgdjxozFkWPH2XGz7Tt0wGr3Nfjjr/Po4eAgtp/mzZtjrcc6eK7fgPYdOgAA+vXrj9+OHMPuPXvFlm2SJb/XxNjYGAcOHmLzrZaWNpxHjcL5CxexfcdOqZeLqo/2HTrgzNnfsXnLVvTr159tWNnZdceSpa74dd9+tKuyjm5VSkpKmL/ABRcuXsK0aV+zaWhkZIxRo0dj/8FD+Pa7uY12Dnp6eti9Zy8OHT6CoUOHQUtLuN5wF3z73Xe4fOUabGxt63WMrtbW2LFrV6Wx2MYwNW0HJaWaZ69qoaWFrdt+wQ9LlsLIyBhcLrfiLfiRY/jt6DF0MO8gcZua6rPajlfXbavTUOnbzswM3jt2idT7ldPjZ08vsbGTtrZ28Fq/USTd586bjwt/X0Kv3r1Fwsr626KkpIRZs+fgj7/OY+rUaWxZtrW1w5q1HvhhyZIGH5cqa1nR09PDL947RPKP04j/4fyFi3Bf41GnOJiZmeFnTy84jfgfuFwutLS0MXnKlGrrru7d7XHsxCnMm7+Aje8XXbrgp589sWvPryJLmjVE3ViXsqakpISZs2bj+MlTcB41is37gwYPxpmzv2P+Ahd26SJCCCGNh8NUGhjy9OlTAEAbY5Mmi9Dn4v27d1i6dAkE5eX4xXtHtY2ElJQULHSZDzMzswaflIIQQkjtioqK4LF2DVJSXtf61ptIb4f3dly7egUHD/3GNkoJIYSQhiKXb2TlQQstLUycNAkBAf64dfOGxIkkysrKcOnvi3idnIzJk6dSI5YQQgghhBBCpPDR+r7Y2lgjI126JUo+Bxm8bPTvPwATvpqInTt2wMysvVjXtJDgYJw4fhyTJ09B93/HHxkaVHSbioiKYdcqJYQQQgghhBDyH3oj24iaN2+O2XPmQF9fH+u9PBEXF8t+9zIsDOu9PPHFF19gzndzaTwNIYQQQgghhEiJxsgSQgghhBBCCJEr9EaWEEIIIYQQQohcoYYsIYQQQgghhBC5Qg1ZQgghhBBCCCFyhRqyhBBCCCGEEELkCjVkCSGEEEIIIYTIFWrIEkIIIYQQQgiRK9SQJYQQQgghhBAiV6ghSwghhBBCCCFErlBDlhBCCCGEEEKIXKGGLHj6jLMAACAASURBVCGEEEIIIYQQuUINWUIIIYQQQgghcoUasoQQQgghhBBC5Ao1ZAkhhBBCCCGEyBWlyv/R1tYGABTwPzRJZAghhBBCCCGEkNqINGTfvn0LALCzs2uSyBBCCCGEEEIIIbWhrsWEEEIIIYQQQuQKNWQJIYQQQgghhMgVasgSQgghhBBCCJEr1JAlhBBCCCGEECJXqCFLCCGEEEIIIUSuUEOWEEIIIYQQQohcoYYsIYQQQgghhBC5Qg1ZQgghhBBCCCFyhRqyhBBCCCGEEELkCjVkCSGEEEIIIYTIFWrIEkIIIYQQQgiRK9SQJYQQQgghhBAiV6ghSwghhBBCCCFErlBDlhBCCCGEEEKIXKGGLCGEEEIIIYQQuUINWUIIIYQQQgghcoUasoQQQgghhBBC5Ao1ZCthGAZnz56FpqYmFi5ciPz8fPbzGzduwNTUVORzQkjT8PLyQrdu3RATE9PUUZGKvMWXiIqJiUG3bt3g5eXV1FH5bKSkpGDu3LnQ1dUFh8PB1KlT8fbt20Y/Ll1LQgj5fFBDtpLo6Gjs3r0bgwcPhoeHB9TV1QEAHA4HTk5O2LhxI06dOoWzZ8+CYZgmji1paGfOnAGHwxH7GzhwILZv347s7OymjiIhhMgNYZ1atdGYmZmJBQsW4PDhw3jz5g0A4M2bN8jJyYGTkxM99KlBQEAAOBwO5s+fj8LCQqm3q+5aEEKIPKOG7L+Ki4tx5MgRfPjwAZ6enjAwMBD5nsPhYPTo0Zg8eTL27t2L2NjYJoop+dgePnyIZcuWYezYsXRz9ZHQG8zPw8e8jsIb/DNnzsi8Lb2l+7ju3r2La9eu4cCBAygoKADDMLh58yZ0dHSaOmpyqz75nxBC5BU1ZP8VFhaGs2fPYvr06bCyspIYRl1dHXPnzsW7d+9w5swZlJeXf+RYko/h9OnTYBgGDMOgvLwcCQkJmD17NgICAui6E0KIlKZNmwaGYbB27Vr2M4ZhEBcXh4EDB8LZ2Rlqamrsd7q6urh58yZevHgBCwuLpojyJ69Pnz5gGAYHDhwQSbvaSLoWhBAi76ghC6C8vBxXr16FlpYWRo0aBUVFxWrDdunSBaNHj8bt27fx+vXrjxhL0hQUFBRgZmaGNWvWwMHBAc+ePcOHDx+aOlqEECKXioqKkJmZCRUVFaioqDR1dAghhMixj9qQrdx9KykpCa6urjA1NYWmpibGjh2LJ0+eSBx7WlxcDB8fH4wYMQKamprQ1dXF1KlT8fjxY7HwdTkGj8eDn58fhg4dig4dOtR4DioqKhg5ciSCgoLw/Pnz+icKkQuamprQ0tJCWVkZBAKByHcMwyAsLAzffvstTE1NweFw0LNnT+zfv19sYjBh/vT09ERUVBTmzZvH5s+JEyfixYsXAIDXr1/D3d0dnTp1AofDgbOzc73LR0REBDp37lzt2Kr8/HzMmjULQ4cORUZGBvu5QCDA/fv3MXHiRHZiFkdHR/j4+KC4uLjWtOjUqRN++OEHPH78WCztqsrNzYWTkxM8PDwQFhbGnr9wnHpubq5IeGHcxo4dC01NTZiammLNmjXsuLuqsrOzsXnzZtja2oLD4cDU1BSurq5ISkqqMV6S5OfnY//+/Rg4cCA4HA50dXUxe/ZshIWFST2GvqnzjizXtnLXxap1a+XjA7JfR0kyMzOxfPly9OrVi93W1NQUkyZNwv3790XykpeXF/r27QsA+Prrr0XGuAcEBNR4nDNnzqBTp04ICwuDh4eHyLaSumkK85DwnBwdHXHv3r16p29tkpKS4Obmxh7X1NQUM2fOhK+vr8i+hN25w8PD4ePjA0dHR7Ycbt26FXl5eWL7liUfVhfe1tYW69evR1JSEpsWVbu75ubmYuzYsTh48CBu3bqFli1bilynwsJCzJ8/X2IeqWscZ8+eDV1dXfYe4Pr16ygoKJAp7YXncfr0aZF9Cst8XFycxO2qXjNbW1t4e3vj/fv3YmGr1uPC+Rm2bt0q8tBcUjd4afJ/TV2PZYmnMH9FRUXJVPcSQkijYCoJDQ1lQkNDmcYSHR3NWFtbM8bGxoyOjg4DQOTPxMSEefDggcg2fD6f+eGHH8TCAmA0NDSYM2fOMAKBoF7HePz4MaOhocGcPn1aqvNISkpievfuzaxatYopKyurf8KQT8Lp06cZABLzwbNnzxhzc3PGxcWFKSwsZD8XCATMuXPnJOY1AIyLiwvD5/PZ8ML8qa+vz2hoaIiFd3BwYNavX89YWFiIfWdtbc1ER0eLxEuW8lFUVMR8//33jKWlJfPq1SuxcwwKCmIMDQ2Z7du3s9uUlpYyW7dulRhXAMzmzZuZ0tJSdh/nzp2rNuzw4cOZnJycGq9BTk4OM3z48Fq39/T0ZAwNDZnevXtLDLto0SKmoKBAZN/R0dFMnz59JIZ3cHBgIiMja4xbZZmZmcxXX30lcV+S6hhPT0+x69fUeUfWa+vv788AYPr16ycxzg4ODkxsbKxM17EmwvOtLm+fO3dOJH0lhQPA+Pv713gcYbmX9CesC4RxsbGxkZi+JiYmYseRNX1r4u/vz5iYmEjcT9Vr6+npyWhoaDBmZmZS5StZ82Ft4efNm8eWPWGeEaZjTfnC39+fKSgoYObNmyeWR+oSxzNnzlSb9gAYT09PqdK+8nmYmZlVW/aq1h8PHz6UmFcAMKNHj2YyMzPZsAUFBcyiRYukiqswL1b+TJr8X/Va1CWewmPJWvcSQkhjaZKuxQoKCli9ejUyMjIgEAhQUFCAQ4cO4c2bN9i1a5fIFPx37tzB0aNHMWzYMISEhKC8vBylpaW4desWzMzMsHr1ajx9+rRex0hISACXy0WnTp2kir+Ojg7at2+P1NRUmZ/sEvlSUlKC4OBgrFy5EpmZmRg9ejRUVVXZ78PDw+Hp6Ynu3bsjODgYpaWlYBgGb968wbZt23Dq1CncunVLbL+FhYWYN28e/vnnHwgEAvD5fKxbtw5BQUFsN+bY2FiUl5ejoKAAGzZsQFhYGB48eCCyH1nKh4qKCkaNGoXU1FTcvn1bZD8Mw8Df3x9cLpd9gwMA9+7dg5eXF0aOHMnGRyAQIDU1FcuWLcOuXbvw7NkzAMD79+/h4+MDMzMzBAQEsGlRUFAAPz8/2NnZQUGh5ipHOEbO09MT1tbWiI6OZscr37x5E7q6umzYjIwMlJaW4urVq+Dz+RAIBIiNjcWXX34JHx8fREZGsmE/fPiAjRs3IjU1FadOnQKfzwfDMCguLsaNGzdQVFSEAwcOSPWWrKysDLt378bNmzexbds2vHnzBgzDoLS0FMHBwbCwsBCrYyRp6rwjy7WtLCIiAitXrmTr1vfv37PHv3r1qszXsToWFhZ48eIFu13l62VkZAQfHx/2jdHatWvh7+8PQHSMO8Mw6NOnT43HmTZtGqKjo2FtbQ1PT0+RbadNmyYSNj4+Hs7OzkhISGDTV/i74uPjg5KSknqnb1UlJSXsvi9cuIDi4mI2LcLCwuDs7Cw2HCYvLw/W1tZ4+PAhiouLRcrGvn37RPKVrPnw6dOnWLlyJTQ0NHDq1Cl2sqZ3797h+vXraNOmTbXnoquri4sXL2LevHkYPnw4cnJypLpOssYxMjIS69evh46ODv766y82jnw+HxcvXoS5uXmt6S6Juro69uzZw5b5ynm/cv3x9u1b/Prrr0hPT8e2bdvw/v17MAyD9PR0LFu2DJcuXcK2bdvY8JGRkfDx8cHMmTORmpoKgUAAgUCAnJwcnDlzptZJsOqa/2WNp5AsdS8hhDSmJmnIzpkzB25ubmjVqhU4HA7U1NQwdepUjB8/Hq9evUJKSgqAihu2GzdugMvlwsvLC927d4eCggKUlJQwbNgwLF++HMnJyfDz86vzMQAgMTER+vr64HK5UsW/efPmMDIyQlZWlsiNC/k8VO6apaKiAgcHB4SGhmLPnj0YPHgwG45hGNy5cwcAsG3bNtjb20NJSQkAoK2tjTlz5sDR0RF3795FUVGRyDFcXV2xdetWtoucuro6xo0bB3Nzc6xZswbHjh2Dubk5FBQUoKamhnHjxqFLly7Iyspi91GX8mFrawtHR0f4+fmJNLQyMzNx48YN9OnTB+3btwdQ0dXt2rVr6N69O7Zt28bGh8PhoE2bNnBxcUHbtm1x9+5dABUNvLy8PGhqaqJt27ZsWqipqaFv377YsGEDtLW1G+w6denSBSdPnsSXX34JdXV1cDgcmJubY+LEicjIyEBaWhobNjo6Gr6+vnB3d8e0adPYpbWUlZUxfPhwzJgxAwEBASL1QnVSUlJw9+5dLF68GEuWLGHPSUlJCfb29pg3bx7u3LlT40y9TZ13ZL22le3YsQPLly9n61ZNTU1MnjwZXbp0QUpKSqPWicrKyhg6dCjGjBmDd+/effT6V5j2ZmZmbPqOGTMGDg4OSElJYbvs1yd9qxI2mLlcLkxNTaGsrAygIi26du0KLy8vsSEx1tbW2LRpE/r37w9lZWW2bCxduhQaGhoIDQ1FeXm5zPlQ+CAiOTkZ69evx7Rp09gJh1q0aIERI0Zg7dq1Mk1CVJu6xPHWrVuIiorC+vXrMX78eDY+6urqsLS0RPPmzesUlxUrVuCbb75hy7ympibmzZsHR0dHvHz5ku0OHRkZiZs3b2LWrFlYvHgxNDU1AQCGhoZYvnw5Ro0ahcePHyMzMxNAxbjhjIwM6Ovrw8DAgP39EQ4TWbhwYd0TsAayxlNIlrqXEEIa0ycz2ZO6ujo6duyIuLg4vHv3DgDA5/ORkJCArl27sjfXldnZ2aFLly6IiYmRaj01SccQ0tPTk3rqf0VFxQb9oSafNn19fVy4cAHffPMNewMFVNx8xMbGIioqCtbW1mLrz+ro6ODixYvIysoSe6KtqKjIvvUUUlFRQfPmzZGfn4+ysjKR74RjX9PS0ti8Xpfyoa2tjX79+uHOnTsib4NevXqFO3fuwNnZmW3k8fl8xMTE4P79+zAyMhI7PzMzMwQFBSE7OxslJSXQ0tJCjx494Ofnh3HjxmH//v0ICQnB27dvG2XdZWHDoCpTU1MAEBkLGBcXh4yMDMydO5fdTvinoKAANzc3pKenSxwTVlV6ejqCgoKwceNGNGvWTCxdxo8fj7y8PJGGY1WfQt6R5dpWPX5Vurq6MDAwQEFBQYPO6l1YWIjbt2/jxx9/xPDhw9GrVy8oKSlh06ZNyM7O/ujj8SSlvbq6OkxNTZGXl8emfX3Styo1NTXY29sjLi4OU6ZMwZYtW+Dn54fs7Oxax5xXZWJigo4dOyI7OxvFxcUy58OioiKkpqbC2toa9vb2EstfQ6tLHGNjY9GlSxd079690eOora2Njh07Ijc3l50IMCEhAXl5eejRo4fYhFZ6enqwsbFBYGAgUlNTAQBmZmZwdHTE1q1bMXXqVFy8eBFRUVEyrRNbF7LGU0iWupcQQhrTJ9OQBYC2bdsCAPtW5M2bN8jOzoapqanEJ6jCm9D6HIOQqoRdswQCAc6cOYPCwkLs2LEDPB5PJFxBQYFUkwRVvsGVhqTGgKQZPutaPoYNGwYjIyPcvXsX5eXlKC4uxtWrV+Ho6IhevXqx4XJycsSexNcUX0VFRSxfvhxbtmxBVlYWXFxc0KNHD+jo6GDAgAEIDAxslAZtVZIaWomJibVul5GRIfb2UxJpJ4aq6WauqfOOrNe2NgoKCjXO9l4XMTExGDp0KIYPH45t27bh9u3bePLkSYMeoyFwOByxc2/o9P36669x5MgRKCsrY+XKlejfvz/09fXRrVs3XLhwQeoGrba2Nlq2bMm+PZY1HwrDt2rVCi1btpTqmPVV1zi2bt0aenp6jR4/VVVVtGrVCuHh4ewb2eTkZAD/Newqk5RfDA0NsW/fPsyYMQM3b97EuHHj0LlzZxgYGGDu3LlS5aW6kDWetWnoOoAQQmrzyTRkmX/XlgP+q1R1dHSgp6eHpKQkiWNRhY2N+hxDSJan++Xl5Y3+pJQ0PQ6Hg4kTJ8Ld3R2XLl2Cp6enyOyYampqMDY2Ru/evdmZOiX9STsmUFZ1LR8dOnTA0KFDce/ePbx+/RpJSUl4+PAhRowYgVatWontf8KECXj37l2151d5PUMNDQ38+OOPiI+PR0pKCm7cuIGFCxciIiIC3377bZONnTIxMQEAXLp0qdrzkGY8JQAYGxsDALy9vWvcV9XxlZV9KnlHlmv7MeXn52Pz5s14+fIlli1bhtDQUOTk5LDjQz09PT96nGTR0OmroqKC2bNn48WLF8jKysL9+/fh7u6ODx8+YObMmbh//75U8crOzkZ6ejr78EvWfCgMn5mZiZycnPomk1TqGsecnJxax6k3hIKCArx+/RrW1tZs415Y30hqgDP/rk9elbm5OU6cOAEej4fIyEicPHkSAwYMwOHDh7Fq1SqJMzPXV13iSQghn5JPpiGbnZ2N58+fo3fv3jAyMgIAcLlctG/fHi9fvkRCQoLYNk+fPkV4eDgsLCykuhmQdAygoltPVlYW+Hy+VHEtLi5GdnY29PX12fFK5POkpKSERYsWwcXFBfv27cOvv/7KviFTU1ODiYkJAgMDJU441tjqWj6Ekz5FRkYiMDAQ/v7+KCgoEJnkqfL+AwICahzvKYmSkhKMjIzg5OSEPXv2wN3dHVFRUXj16pXU+xAIBA32Brd9+/bQ0NDA3bt3ZV72pCoDAwNYW1uLjTOWxaeSd+pybWVVl+uYk5OD2NhYjBkzBh4eHrCzs4Ourq5U9W19br6F40brq7HSV0FBAXp6ehg4cCDWr18Pb29v5OXlITg4WKrtq9YJsuZDYfiwsDCEhobW93SkImscVVRUoKenh9jYWPaNY2NKSUlBSEgIzM3N2QeBwvomODhYrL6p7j5ESE1NDZaWlpg+fTpOnjyJsWPHIjw8XGRJtJrIkv/rE09CCPkUNElDNiUlBcnJyewNTlJSElatWoXLly9jyJAhbKWppqaGESNGgM/nY+3atQgNDYVAIEBZWRmuXbsGLy8vmJiYoF+/fnU+BlBRmfP5fERHR0sV/+zsbERGRsLIyKjOk0YQ+aGurg4PDw+MHj0aGzZswJ9//gmGYdg1MU1MTODq6oqjR4+yDRuBQIDs7Gz8/vvv8PLyapQ3+PUpH8JJn44fP45jx46JTPIkaf9z587FlStX2LcCZWVlSE1NxaFDh7Br1y4AFeNQFy9ejAcPHrBjTYUzYEZHR0NDQ0PqGyIul4vw8HBcvHix3g1PAOjcuTOcnJywe/durFq1ComJiezbaj6fD39/f6xYsaLa9SArMzU1haOjIy5evIiFCxciPDycfbhRWFiIly9fwt3dvcZusJ9S3pHm2tZVXa+juro6NDU18fLlS7x69Yqtx3Nzc3HixAn89ddfYtuoqqrC0NAQFy5ckHmyGVVVVairq+PmzZuIiIiQaVtJGjJ9c3NzsXjxYly+fBm5ublsQ/vt27d4+fIlgP+GzAgVFBQgKiqKPWZhYSHOnz8Pd3d3WFpaYtiwYQBkz4eVw7u7u+P8+fNs/nz//j1u3LjR4HlW1jgqKiqyPSt27NiBuLg4MAyDkpISPHr0CMuWLUNYWFid4pKYmIjMzEy2t8vLly/h5uaGsLAwODk5oUWLFgD+q2+OHTuGPXv2sGNnMzIy8PPPP+Py5cvo1asX2/D966+/4OXlhVevXrFjpsvKyhAdHY309HTo6elBS0urxrjVJf/LGk9CCPnkVF6L52OtI4tq1juTtGYZn89nVq9eXe1agtWtIyvLMdLS0piBAwcy33//PVNUVFTredy+fZsBwPj4+DRMwpBPQk3ryDIMw0RGRjIODg4i64TWtr4hqqyrKGkNQCHhd5XDCwnXX6z6nazlQ0ggEDDbt29nw1aXl2tbCxOV1jisrexVXeuxJiEhIWLrZlZdR1bS2qgMU/16iTWtIwtIXmu1OjWtIyv8q7yuaF3WkW3svCPLta0pXWs6Rm3XsToCgYDZuXOnxDhZWFgwNjY2Yun55s0bidektnVkGaZijWU3NzexbauuIysp7atb+1TW9K1OTWuvSvpNq2lNUUl1gqz5sLS0lNmzZ0+151XTOrI1pVdN38kaRz6fz7i4uEgMZ2NjwxgaGtZpHVlZ6rbAwMBq68Oq16ymtYyrXrPq8mJt+b+68itLPBmmbnUvIYQ0liZ5Iztr1ix4eXnBwsICAODg4IB9+/bhzJkzMDAwEAkrfBt2/vx5ODk5QUNDAzo6OpgyZQpu3bqFKVOmSJw9T5ZjGBgYoF+/fvD19UV8fHyNcRdOjOPg4AAbG5v6JAORM5aWltiyZQuAimUYoqKiwOFwMGnSJISEhMDV1ZXNEzo6Ohg5ciQOHjwIT0/PRhtnWNfyweFwMHz4cFhaWopN8lSZkpIS3Nzc8ODBA3z77bdseTIxMcHEiRNx7tw5/PDDDwAqxngdOXJEJB00NDTg5OSE8+fPw9vbm50RuTZ2dnY4evQohgwZwh6vffv2aNasmcxpJGRhYYHr169j3759GDJkCDQ0NAAAPXv2xJo1a3D69Gmp15c0MDDAiRMn8Oeff2LkyJHsjOc2Njb4/vvv4e/vDwcHhxr30dR5R5ZrW1d1vY4cDgcLFy7EuXPn2HS0sbHBpk2b4Ofnh7Fjx4pto62tje3bt+O7776Djo4ONDQ0RK5zTVRUVLB69Wq4u7uz4wZ79uxZrwmNGip9dXR0sGvXLnh5eaFnz57s5wMGDKj2N83c3Bze3t4YM2YMWyfMmjULfn5+YnWCrPlQSUkJCxcuhK+vL+bMmcOml4ODA7Zs2YLVq1c3eJ6VNY7q6urYunUrdu7cyab7kCFDcP78eZw4cQL6+vp1isfKlSuxdOlS9pyF+5RUt/Xq1Qt///03XF1d2TjY2Nhg+/btOHHihMg1GzNmDC5duoSJEyey+zYxMcGcOXMkXjNJ6pr/ZYknIYR8ajgM89+AIOH4Ezs7u0Y5WExMDCZNmoTx48dj7dq1n9QxgoODMWbMGCxevBg//vhjtbPvhYaGYsKECZgxYwbWrVtHs/QRQgj5ZHh5ecHHxwd//PEH2zAh9RMQEIC+ffvi9OnTNU7iRggh5OP6ZCZ7amrW1taYOnUqTp06Ve0Yqfz8fBw7dgxaWlqYNm0aNWIJIYQQQgghpAk0eUO26uLm9fmrzzFUVFQwZ84caGpqwsPDQ2zNUIZhcOnSJZw6dQoLFy5Ex44dRfZNCCGEEEIIIeTjaPKG7KekU6dO+P7773Hv3j2RNUOZf9eoW716NaZPn46pU6dS45UQQgghhBBCmshHHSNLCCGEEEIIIYTUF72RJYQQQgghhBAiV6ghSwghhBBCCCFErlBDlhBCCCGEEEKIXKGGLCGEEEIIIYQQuUINWUIIIYQQQgghcoUasoQQQgghhBBC5Ao1ZAkhhBBCCCGEyBVqyBJCCCGEEEIIkSvUkCWEEEIIIYQQIleoIUsIIYQQQgghRK5QQ5YQQgghhBBCiFyhhiwhhBBCCCGEELlCDVlCCCGEEEIIIXKFwzAMI/xPYmJiU8aFEEIIIYQQQgipFb2RJYQQQgghhBAiV5Qq/+ft27cAgDbGJk0SGUIIIYQQQgghpDb0RpYQQgghhBBCiFyhhiwhhBBCCCGEELlCDVlCCCGEEEIIIXKFGrKEEEIIIYQQQuQKNWQJIYQQQgghhMgVasgSQgghhBBCCJEr1JAlhBBCCCGEECJXqCFLCCGEEEIIIUSuUEOWEEIIIYQQQohcoYYsIYQQQgghhBC5Qg1ZQgghhBBCCCFyhRqyhBBCCCGEEELkCjVkCSGEEEIIIYTIFWrIEkIIIYQQQgiRK9SQJYQQQgghhBAiV6ghSwghhBBCCCFErlBDlhBCCCGEEEKIXKGGrJxgGAYXLvjAvH07rFq5AgUFBezn9+7ehb2drcjnhHzOdnhvh+PggUiIj2/qqJB6CAkOhqGBHi74nP8sj/e5YxgG/v5+mDhhPAwN9GBp0RGHDx38KMf+1K5lUVERfly+DFMmT8Tbt2+aOjqEEPL/AjVk5UR8fByOHD6Mvn37wdVtGZo3bw4A4HA4GDR4MFa5u+P8X3/i4gUfMAzTxLGVTxd8zsPQQE/sb9zY0Tiwfx9yc3ObOorkEyC8YTU00ENIcHBTR+eT8PbtG0yZPJEeLnyGasrvAQH+WOSyAH5+jwAA7969BZ/Pp/xACCHko6CGrBwoKSnB2TNnkJeXh+UrVkJPT0/kew6HAyenERg9ZiyOHT2CxISEJorp5+lxYCB+/mkdZs2cQTdlH4k8vnFNiI+H4+CB2OG9vamj8sn42Gnyqb2l+5wVFRXh8qVLaNmyJa5cu460DB4yeNlY6urW1FEjhBDy/wQ1ZOVARMQrXLzggwlffQULCwuJYZo3b47p02fg/fsP8PE5j/Ly8o8cy8/H3n37kcHLRgYvG2kZPDwJDsWUqVMREhxMaUugqqqKrdt+QQYvG/Y9ejR1dD4J2to6OPf7n7hz7wHad+jQ1NEhDai6/J6fn4/kpCQMcRwKGxtbKCj8dztB+YEQQsjHQA3ZT1x5eTl8b9+GpmYLDHdygqKiYrVhLTt3htMIJzx88ABpaWkfMZafLwUFBZiYmGDJUjfY2tohPPwl+Hl5TR0tQghpUu/evkVubg5UVVVr/F0ihBBCGstHbchW7mZWUFCAw4cPoW+fXjA00MPuXTvZcAKBAAEB/pj73RxYWnSEoYEeJk4Yj2tXr6KkpERkn8KuZOf/+hPBQUFwmT8PlhYdYWnREcvcXJGengaGYRAXF4vly9xgb2cL8/bt8P3iRUhMTJQYz9zcXOzZvQtDHQfD0EAPffv0wuaNG5CZmSkSzs/vEczbt8POHd4Sx6XyeDxM+moClvywWGQSpoKCApw4fgzjxo5mJ8hYuuR7REREiO0nOzsbQU+eYMDAAWjXzqzG9FVWVobj0GF49uwpXoW/rDEskY2GBheaLTRRVlYGASMQUxJxlAAAIABJREFU+Y5hGERERMBt6RLY29nC0EAPX45wwonjx8Qm3xKWAe/tv4jlybnfzUHEq1cAgLS0VGzeuIEtHzO+noanT0Ml5rOSkhJcu3oVU6dMgnn7drC06AiX+fMQGhoiEj4mJhr9+/bBj8uXoaioSGw/BQUFWPLDYkz6agJ4PB77uSzlUVJa9O3TC2vXrEZoaAgEAkHVw4oQjq3bumUzIiIi2PM3NNCTOImKgKmI26yZ38C8fTvY29li86aNePfurcT9Vy3b9na2WOexFikpKTXGq6qqXZ8v+JxH3z69EBERga1bNouMsa7czbWp84okwuOs81iL0tL/rmdJSQnWrlktlh8A4NDBA+jW9Qu8DAsDIHmiG2nTRCglJQXrPNZKPEdp7PDejlHOXwIAFrosEDmepLHMshxPljq7JtKWj8rpmZaWihPHj+HLEU5sfjl39qxY2atu/9Xlr+rCD3UcjJ07vJGSksKeW9X8HhIcLPHaCq9/TRMfyVKfVA4vLOPCtA8ODpI63cvLy7F1y2aYt29X7bh24e/52bNnAFS8cd61ayfGjHaGeft27HWf8fW0auMqiXDuBUnHranrfUPlOUII+ZwpNcVBnz17ismTvhKp2IXdNcvKynDo4AHs8N4OPp/Pfu/n9wh+fo/gvmYt5i9wgZKSaNTXe3mK3WydOX0KPF4munTpimNHj4rc3P715x/48P49fvHegZYtW7KfJ8THY+nSH0TilhAfj127dsLPzw87d++GuXlHAEDXLl3Rr/8APA4MxJSp02BgYCBy/KehIXj06CGOHD3GTs6UnZ0N99UrceXyZTbcu3dv8fu5c/D388fuPb+iV+/e7Hdpaal4+TIM077+GsrKyrWmbfv27WFvb4+wsDAMdxpBT8obSFpqGl4nJ6P/gIFo3lyd/ZxhGFy69DdWrVghkr+ePXuKZ8+eIjo6Gms91rHXX+jY0SPYv2+vSB6/cvky0lLTMGz4cPz1158i40N9fW8jPT0NBw/9JtJVr6CgAJs3bsDhw4dE9n/x4gX4+t7Glm2/YOzYceBwOGjXzgwDBg7AwwcPkZycBAuLTiLbxMRE48H9+1jgshD6+voAZC+Ply79jeVuriJhE+LjkRAfj/j4eOzbfwDa2jrSJ3wNcnJy4LZ0CUJCQtjP+Hw+du3cgby8PKz1WAdVVVWReFQt26mpKTh08ABCQ0JEynZjaOq8Uh2DVq1g2dkKcXGxyMvjQ0en4vpkZmbi2dNniI2NQWxsDFu/FRcX459//kFnKysYGRvXK02ETp48AffVq0XSRXiOe/bug5lZzQ/xGvN4stbZNZG1fLx4/gKjnEcivVIPG2F+yc3NESl7suav6sK/Cg/Hq/BwpKenw9NrvUgZqi9Z65OysjIc2L8PG9Z7iezn93PnZDquoqIihg4bhrNnTuP+/XuwtbMT+W0sKSnB7Vs30bGjBfr27ffvZ8V48jgQQU+esOHevXsLX9/b8PW9jbUe6zBv/oJG+Y1tyDxHCCGfsybpWvzk8WN0726PJ8GhYhNEBPj7YYf3dgwdOgwBj4OQlsFDemYWnr94iQUuC/Hb4UMIl/C2sbi4BGs91iE8IgoZvGy8iozGtK+n446vLw4fOoivp0/H8xcvkZ6ZheiYOHwzcxZu3bqJiIj/nsCXlJTg9OlTCAkOxgKXhXjx8hUyeNmIjU+Ex7qfEBsbg21bt+D9u3cAgBZaWnAcOhSPHj3EixfPReJTUlKCx48D0bt3H9jadQdQ8aN85PAh3L93Dx7rfkJ0TBwyeNlIScvAjVu30b5DBxw+fIjdPwAkJyVBXV0dHTqYS5W2WlraMDFth/T0dBQWFsp2YYiY0tISPH/+DOvXeyErKwtOTk5QUVFhv4+KioL3L7/Auls33Lh1GylpGcjgZSM6Jg4e637C+b/+xIP798T2W1RUhOkzvkFw6DOkZ2Yh4Z9kuC1bjmfPnmLzpo2wtbVj8/8/ySlYudodERERCAwMENnPo0cPce7cWQwYOAg3b/kiLYOHlLQM/P7HnzAxMcGmDRvYt2bKysoYNtwJGRnpePjggch+GIZBcFAQ1NXV0a//AHA4HACylccPHz7g2tUrMDExweWr19m0+Cc5BZcuX4V1V2socGqucoRj635csRJWVlbwD3jMjlc+9/ufIjf5PB4PpaVlOHX6LBL+SUZ6ZhYCHgfBcehQXLt6BbExMWzYvLw87Nq1ExnpGfh17z4k/JOMDF42Xqem4ey5P1BcXISTJ45L/ZalqnHjJ8A/4DGsrKzw44qVbJwzeNkYN34CgKbPK9XhcrkwNzdHclKSSK+TqKhIpKWlwqBVKzwODGQfNvL5fCQmJKBLl65o0aJFvdJEKCY6Bou//x5h4RFIz8xCbHwie453fG9LdR5LXd1w+co1AKLj3CWNZZb2eHWps6tTl/JRVlaK/v37496DR0hJy0BaBg9Xr9+Ara2d2G+hrPnrZVgYNnh5gcvl4te9+/BPcgoyeNmIiUvAmbO/w9DQsNpzse/RQ+K1rVpGq5L19/3x40Ds2rkDtrZ28Ln4t8g5bd+xs9rjSGJh0QkDBw2Cv98jZGSki3wnfGjTt18/tGnTBsB/dVHlfJSSloHrN2+hT5++uHnjuth+GkJD5jlCCPncNUlD9tvv5mLNWg+YmJiITBBRUlKCO3d8YW3dDR7rfoKZmRkUFBTA4XDQytAQM2fNRps2RvB79Ehsn55eXnBZuIh9u6qrqwvnUaMAAOs3bMJq9zVoZWgIDoeDFlpaGDNmLAAgNyeH3UfK69fwe/QQI/73JX74YQn7BkJDQwOzZs/B2HHjERwUhOTkZHabvn37wdbWDv5+j0Rugv/5JxEPHzyEQ8+e7CzD6enp8PPzw5w53+K7ufPQQksLAKCkpIRu3WwwY8YM+D16iPiE/96uJCcno2XLllBX/+8tYE3U1NTQunVr5ORki3QTJNKr3C2xrVEb/M9pOMJevMCGjZvQ59+n9UBF48/v0UMAgMe6n9Ctmw37JqGFlhamTp2Gfv0HwM/PD8XFxSLHmDd/AdZ6rIOxsTE4HA6aN2+O/305EmZmZliy1BU7d+1m87+qqiq+/N+XsLS0RE6l/FpUVIR7d+9CXV0dK1auhHW3blBQUICSkhIGDBwEl4WLkJqagqCg/94oCHsRPHnyRORGKCsrq2I94h49YGpqCkD28lheXgY+nw+uhgaM2rRh00JVVRU9HBywcrU7m+cbgqWlJfb8uheOQ4eiefPm4HA4MDMzw6hRo8Hj8ZCRmcGGjY+Pw6OHD7Bk6VKMGz+BfSvVrJkyBg4ahK8mTkJwcHCjjS1v6rxSG+tu3ZCYmIiUlNcAKh7gBAYEYOKkyZg8eQpevHiO9+/fA6h4gJCamgILC4sGexslrL/19fXB4XCgoaGBMWPGwtLSEmlpaQ1el0l7vLrU2dWpS/nobm8Pj3U/wdLSEkpKSlBQUICdXXdMmz4dPB4Pr8LDAcievxiGwf3795CamoKVq1Zh3PgJ7JtXTU1NDB4yBEtd3Rr0bays9YnwLam6ujpWubujd+8+IudkLuXDXaHmzZtj2LDhCAkJYR/uCfn7+yE2NgZ9+/WrMU8rKSnBxsYWo8eMAZ/PR1Gh+BCN+mrIPEcIIZ+7JularKysLNKAFcrP5yM+Ph4BAf6w6da12u2729ujtLQEzZr919VW0o9Pc7WKm9X379+xb5iENFu0gJmZmUijNDs7GxEREfhypLPYDYWqqirs7e1x6uQJxMfHoau1NQDA0LAVutvb4/69e/h6eiLbXTM4KAgfPrzH0GHD2LjxMjPZbl67dlX/NLnqDaiubktoaWtXG74yRUXFBr35IEDLli1x6PARsa5cxcXFSEhIQFxcLIYMGlDt9iOdnVFcXCzyJldRUVEsT6ooK0NNTQ0FBQUoLy+DgsJ/+ZuroQFtbR1kZGSgqKgIqqqq7Kyhlp07s43Pyrp2tYalpSXi4+PZbVpoaaFnz57YtnULXoa/RL9+/QEA0dFRYt3gZS2PmpotYGNjix3e2zF71kxMnjIF1t26oZ1pO2i2aCF2vvUlvAmuyti4bUX8K3Vd/CcxETweD8vcXLHMzVXi/gwMDJD34UODxlGoqfNKbYRDEsJfvsSwYcPB4/Hw/NlTuC3/EZqamjhx/DgS4uOh06MH4uJiAQCdLDvLmgzVklR/a+voQE9PH4WFhSgvF6BZswY7nNTHq2udLUlDlg8LCwtwuVzweDwwDCNz/mIYBunp6bCyskK3bjYNXjYlkbU+EYa3sOgEywbKa12trWFvb4/bt29h4KDBaN68Ofh8Ph4HBqJf/wHo2kU0XmVlZXj+7BkePnyAsLAXyMvLQ8SrV2y36LdvJY/Fr4+GzHOEEPK5+6RmLX6T+wbZWVm1hhPeaEgrPz9f7DPhjWBl6ekVb2NMTEwk7kfSzU+zZspwHDoUGRnpCA6qmHzi/bt3uH//PgYOGiQyDlH4tqPW+Fa6AScfn7BbYnpmFvbuP4CioiIcOngA2dnZIuEKCwukuqZ8Ph/l5WVSH19S/lZRUYayiugYaeGsocbGbaGmJjquEqhYX1jSA6MBAwfC0LA1/P38UF5eXvGmxPc2+vcfALvu9mw4WcujoqIiXBYuwpq1HsjJycHKFT9ixPBh6GRhjrFjRiEkJOSjTFIiqZxWfmBVHR6PJ/Y2tKE0dV6pTcuWeuhk2RkxMdHIy8tDQkICmjVThoVFJ5i1M0OXrl0REOAPgUCAuNhYmLVvjzatW8t0DFkpKHCgoPjxfqIkHa8h6+yGLB9aLbRgYmKCrKwsFBcXy5y/hOH19PWho9swY9ZrI2t9IgxvYmoqdY+k2hgatkbffv0REhyMpKQkAEBcXCz8Hj2E49ChIg+ws7Oz4bJgHkY5f4ntv2zDHV9fBD15IjK2tzHQfQIhhEivSd7IVkdLWxu6ui0x0tkZ2713QlNT86Mev3XrirEx1d30Vrd+qLC75v379zFq1GjExlb8MO7avUdk4hbh/n/29MLcefOljldubg7evX0LXV3dWsOWl5dLnJGWyI7D4WDUqNFIT0vDhvVeaGVoKDJZiqqqGtq0bgN7e3vsO3AQRkYNM/GNtITlJSXlNQoLC8TevDEMI3GWYOGkT/5+fpj29XSUlpTgcWAgvpo4iZ3kqfL+ZSmPXC4XCxctxrz5C5CdlYXo6Gj4+t7GxQsX4LZ0CQ4fOSI2ydTHYGRkBAA4fvIUhg93+ujHb+q8UhtVVVV06NABf/7xOzIzMxAYEIDu9vbQ09ODgoICHBwc8PDhA6SmpiI5ORmdO1uBq6HR1NFudHWts6vTUOWjcu8hVVVVMAwjU/4qLCxEm9Zt8OLFc7zJfdNgE7DVRNb6RBg+IyMdxVL2LKhN5Umf/B49RKdOnfDwwQO0aWPETvIEVPyOHjt6BFcuX8ZXEydh+vQZMGvfHurq6lBVVcUFn/NY6LJApmMXFIrPGi1JQ+c5Qgj5nH1Sb2TV1dVhYmqKkOBgJDTB+A89PT1YWVkhPDxcbCKFoqIihISEwMDAQGziJeGkT36PHiIyMhL3799D167W7CRPVfdfdXxiTUxMTJCTkyPxrbIkJSUlyM3JQcuWeiJdr0ndKCkpYfacbzFz1mwcP3YUR4/8hrKyijdmqqqqMDI2ljjm6mMQlpeoyEj27UJlL1+GISoqCh06dBC5CRRO+hQbG4PQkGAEBQehsLBQZJKnyvuvS3lUUlKCYevWGDR4MDZs3IQlS5ciLi4W0dHRUu9DIBA02BtcU9N24HK5YmPZG0N5eblYvJs6r0jDxsYWycnJCA0NRWhICDuzK4fDQQ8HB8TFxuHJ40AkJ/0jNutrbSSlSWOq7qGjrOpSZ0ujPuWjvLycXXqms5UVANnzlzB8REQEwsJe1O9kpCRrfaKiogJ9AwMkJyUjk5dZa3hpCSd9evjwAaKjo/E4MFBkkiegohdXXFwsevfug9Xua2Dfowd0dXXr1JgWDnXIqrKqAiD5YWNj5TlCCPkcfVINWVVVVQweMgT5+flY7uaK27dvsWvflZWVISM9HadPnRRbaqShGLdti379B+DG9WvYtWsnu5xPXl4e9u/bi4sXfNDDwUFi1+O+ffuhY0cL7N+3F7dv3RSZ5EnS/letXIGoqCi2UVRUVITIyEhs3rgBT5+GstuYmJoiPz8f8fFxUp1Dbm4OYmNj0Lp1a7Gu06RumjdvDle3ZXByGoFdO3fg8uVLYBgGHA4HgwYNhpGRMdZ5eODc2bPsjYdAIEBubi7+/vsidnhvb5S35JXLy5bNmxH24gUEAgHKyspwx9cX3t7bYWRkDAeHnmLbCnsR/PH77/j93FmRSZ4k7V+a8piYmAj31asQGBiAD/+ONWUYBrzMTMTFxYHL5aK1oXTdUdXV1REVFYXr1681SMOzY8eOGDR4MH47fBgb1nshOTmZvYHMz89HcFAQ1nt5Vru2tDRUVFXQvHlz3L93DzExog2Sps4r0jBu2xZdu1rj7OnTKC0rhdW/jSQAbPdi7+2/4N279+zNeW1qSpPGoKKiAgMDA1y/dg2ZGRm1b1CLutTZ1alL+fjw/gNiY2LZyafy8vJw8sRx7Nm9C/37D0C3bjYAZM9flcNv2rgRV69cYfPdhw8fcO/u3QbPi7LWJ1wuFzY2NoiLi8XhQ4fY3+OCggLc8fWFx9o1dYoHO+lTcDD27f0Vz549FZvkSVlZGdraOkhIiMeLF8/Za/7hwwfc8fXFyZMnpD6eOpcLMzMzXL58CYmJiWAYhj2HxYsWIioqSiR8Q+Y5Qgj53H1SXYsBwNFxKJa6umGH93Z8M/1riWF+XLGyUY6trKyM6TO+QVRUFPbv24v9+/aKfG9ra4flP66QOPNqq1atYGtni98OH4aBgYHIJE+V9++ycBHS0lJx8eIFXLx4QWI8hjgOZf/dpo0Runa1xvPnzzDSeVSta8kmJCQgJCQE8xe40BqyDUhPTw+r16zBku+/x6YNG2DYyhC9evdGV2truK9di1UrVsB16Q9wXfqD2LbTZ3zTaPHq338A5sz5Frt27cTDB/dFvuNyudiy7Rd2YrLKNFu0gIODA35a5wEAmD9/gdj6pYBs5ZERCBD05DGOHvlNYriZs2bD6osvpDovB4ee/95kb8CmjRsAAAMHDarzOrQttLSwYsUqZGZm4tDBAzh08IBYGCsrK0yZMlXmfQvp6xvArrs9Duzfh0ED+rOf7923H+PGT2jyvFIbbW1tdLSwwPFjRzF33nyRdbGF+eXG9WsY6ezMdtWuTW1p0tBMTEzQw8EBVy5fxs2bN9jPL1+5JrYEjzTqUmdXpy7l49mzpxgz2lksrJGRMZYsdRW5RrLmL6svvsACFxds2rgB3307u8awDUXW33fnUaPh9+gRzpw+hTOnT4mEs7e3r7qp1L7o0hUdO1rA5/xfGPG/L8UmeRI2ui9e8MGsb2aIfKelpQ2LThZSH8vMzAwDBw3G0SO/4Y6vr9g5VF1//v/au/e4nM//D+CvO0npoMNamlqtw1IOqRCZOSzky5BZZtiGnHL6Lsc5bWrMYWVhGJtzP4eJIVZDRCGHSERUCylJcuis7s/vD7vvb7f7ru47Kbe9no/H/Yf7c32uz/U5XJf73XX41OYzR0T0pnvtAllNTU2MG++Hzp0/xOZNG3Em7gxSU1JgYWEJVzdX9P5PH3z0kecrO76NjQ1+Xr0G/xe6Dfv378OVxETY2tmhb5+++GrkKDRt2lThfpLhmju2b5db5KkiU1NTrFj5Mz7+uD9+37UT586dw6NHeWjZqhU6dOiAfv0GwMXVVSa9e4cOCD9wQGZVZEUki/a4urqhZavKV4WkmrG3fx9z583H5EkT8X1gAH5asQL29u+jf/8BcHFxxcYNvyE2NgZXEhNhaGiEdu3aoWevXvDq/Z9XtpJ048aN4T9tOlq1dkZo6PN3IGtqNkS3bt0w0tcXbm5tFa5IKhKJ0LVbN9hvex/m5uYyizxVpEp9fM/GBsHLQ7BnT5j0Oujp6aFd+/YYOnQ4evTsWe0fYiRaOztjeUgIVvz0E06ePAELC0tYW78HTc2aL11ra2eH0P/bgT1hu3EwPBwXL8YjPz8fbm5t0fnDD9F/wAC8Z2NT4/y1tLQw5b//RaNGjRC2ezcyMu7Aza0tjI2fz20XiUT1+qxUp1GjRnByer46rEenTjJTEyTDi83MzNCiRUvoKzk/trprUtuaGBriuwUBMDBogoPh4SgrewYXF1fo6unVOE9V2+zK1KR+uLq6wXvgJ/grMkJaD/7Tpw98R4+BpaXsPFhVny9NTU2MGDkKbVxcELp1K06cOIGMjDtwdXXDf/r0wQBv71p/FlX9/93U1BQ/Bi+HQ/PmCNu9G48e5eGDzh/Cd/RoaDbQVBjkK6NZs2bo0rUr4uMvyC3yJNGrlxc2bt4ibYNs7ezg6dkDo3xH49zZOMSdOaMgZ3na2tqYPmMG3jYzw7YtW2TO4e2338b4sWPk9qmtZ46I6E0nEipMXLpw4QIAoJml4lV7qX5cvBiPEV9+gZGjfDFh4qRKe1oTLl2C76iR+NTHB1OnTWePLBGRGiouLsb8eXNx587tGo9CICIietO9VnNkSbEWLVrCe+An2P3770hOTlaYprCwEDt2bEeTJgb45JNBDGKJiIiIiOiNVWdDi11dnJGVmVlXh3tjZGXnQEtLC58PHYqzcXFYtmQxlv4YBFNTU5ibmSIrOweCICAi4k/s/n0XvlsQABtbWwCAuZkpLC0tcfZ8fD2fBRERERERUe1hj6yasLOzx6jRoxETcxLBQT9KV3sUBAHHoqLww8KFGPSpD7wHfqJwTiQREREREdGbgnNkiYiIiIiISK2wR5aIiIiIiIjUCgNZIiIiIiIiUisMZImIiIiIiEitMJAlIiIiIiIitcJAloiIiIiIiNQKA1kiIiIiIiJSKwxkiYiIiIiISK0wkCUiIiIiIiK1wkCWiIiIiIiI1AoDWSIiIiIiIlIrDGSJiIiIiIhIrTCQJSIiIiIiIrXCQJaIiIiIiIjUimbFfxgZGQEACvOf1EthiIiIiIiIiKojE8jm5eUBANzc3OqlMERERERERETV4dBiIiIiIiIiUisMZImIiIiIiEitMJAlIiIiIiIitcJAloiIiIiIiNQKA1kiIiIiIiJSKwxkiYiIiIiISK0wkCUiIiIiIiK1wkCWiIiIiIiI1AoDWSIiIiIiIlIrDGSJiIiIiIhIrTCQJSIiIiIiIrXCQJaIiIiIiIjUCgNZIiIiIiIiUisMZImIiIiIiEitMJAlIiIiIiIitcJAloiIiIiIiNQKA1kiIiIiIiJSKwxk1UR2djYGDBgAa2trREdHS7+/cOECOnTogAEDBiA7O7seS0hUN2JjYyESiRAaGlrfRakT6ny+Dx8+xNy5c2FtbQ2RSIQePXogLS3tpfKs7+sRGBiINm3aIDk5uV6OT0RERM8xkFUDZWVl2LRpE6KiorBo0SJ8+OGH0m1ubm5YsmQJLl26hBUrVqCsrKweS6reQkNDIRKJ5D5du3ZFUFAQcnJy6ruIRGqjoKAAs2bNwsKFC3Hr1i0AQE5ODp49e1bPJat9ubm58PLyYoBLRERUhxjIqoFLly5hzZo1mDRpEnx8fCASiWS2d+rUCb6+vti4cSNOnTpVT6V8c0VHR2PatGnw9vbmj9Q6UN89blQ7Ll26hB07dmD27Nl4/PgxBEHApUuX4ODgUOV+/8b7X1RUhHHjxsHLywu5ubn1XRwiIiK1wED2NVdSUoKtW7fC0NAQX3zxBTQ1NeXSaGpqYtiwYbCxscHGjRtRUFBQDyV9c2zbtg2CIEAQBJSXlyM1NRUjR45EbGwsQkNDUV5eXt9FJHrtpaamomnTphg8eDAMDAzquzivlImJCSIiIpQK1ImIiKh2MJB9zaWkpODw4cPo168f7OzsKk1nZWWFgQMHIjIyElevXq3DEr7ZNDQ0YGNjg7lz58Ld3R3x8fF48uRJfReL6LV369YtNG7cGI0aNarvohAREdEbqE4D2eTkZLRp0waBgYEoKChASEgImjdvDpFIhB9++EGaTiwW49ixY/Dx8YGJiQlEIhE8PT0RFhaGkpISabqjR4/CwMAA33//PQRBkDteVlYWevTogREjRsj0UhYUFGDNmjXo2rUrRCIRTExMMHLkSCQkJMjlU3GYW05OjszCJTt37lSYn4GBAXr37o1169bJDRNT9twkYmJi8OjRI/Tt2xcNGjSo9NpK8tHT00NMTIzC60E1Z2BgAENDQ5SVlUEsFstsEwQBCQkJ8PX1lT4bHTp0wJo1a2Seu6tXr8LJyQnjxo1DUVGR3DEKCgowYsQI9OjRA1lZWSrnDyhXx0pKShAWFobevXvDwMBAOg946dKluH37tly5cnJysHjxYri6ukIkEsHa2hr+/v5IT09XeA7K1gVFAgMD8cEHHwAAhg0bJjNXOTY2Vi59eno6/P39YW1tDQMDA/j4+ODSpUsK81a17lXlxWtoYmKCzz//HKdPn5are6q2e97e3tI8JSMBKqPKvam4SFF8fDx8fHxgYGCAtm3bIiUlRanzTk9Px9SpU6Xld3V1RXBwMB4/fixNIxkmO3/+fCQkJEjTKjNc+FXef1XafVVVNjRYUd1t3rw5pkyZgtOnT0MsFiM5ORkdO3bEL7/8gsjISLz11lvSc66srSAiIiIAQgXnz58Xzp8/L7wq169fF5ydnYU+ffoInTp1EgBIPwEBAYIgCMKzZ8+EpUuXCvr6+jLbJZ/FixcLz549EwRBEB4+fCh4e3sLnp6eQmZmptzxwsLCBABCWFiY9Lt79+4Jn376qcK8rayshOPHj8vkERMTIwAQBg8eLDg4OMik37Ztm3D//n3B29tbYX6SNBKqnJsgCEJRUZHg5+cneHl5CTk5OdVe30ePHgmDBg0Shg8fLjx58kS1m0PCtm3b5O7Fvg4NAAAgAElEQVSZRHx8vGBvby/4+fkJRUVF0u/FYrGwfft2wdjYWOE99fPzE/Lz8wVBEITi4mJh8uTJgqOjo3DlyhW5Y8TFxQnm5uZCUFCQIBaLVc5fEKqvY4WFhcLEiRMrfV4l9bBifi/mI/m4u7sLSUlJ0rSq1IXKBAQEVLp/TEyMIAj/q5OdO3dWeF3c3d2FGzduyOSrat2rSn5+vjBlyhSF+ejr6wuhoaHS+6fMPZGUb/HixZWeu6Lrp8q9kVxbe3t7YfDgwTLXwdnZWbh+/Xq15x0dHS3XBko+/fv3F+7duycIgiAUFhYKY8eOrdEz8Kruv6rtfnVlfPGaSc65V69ewoMHD6Tfb9++vdJnTpJW8nwoSjN27FihsLBQ6bIRERH9m9TL0OITJ06gY8eOSE1NRXl5OQRBwLx58wAAUVFRCAwMRN++fXHjxg2Ul5dDLBYjIyMD06ZNQ0hICOLj4wEARkZG6NOnD44cOYJz587JHKOkpATR0dHo2rUrOnToAOD56r8rVqxAREQEli1bhocPH0IQBDx79gxnz56Fg4MDQkJCkJeXJ1fmw4cPY9SoUcjKyoJYLIYgCBg6dChOnz6NvXv3Yvbs2dL8ysvLcffuXaxcuRK6urrSPFQ5N+B5D0JqaiocHR2VmmOmp6cHe3t73LlzB0+fPlX9xpCc0tJSnD17FrNmzcK9e/fQv39/aGtrS7cnJiYiICAAbdu2xdmzZ/Hs2TMIgoCHDx9i2bJl2Lp1KyIjIwEAjRo1Qr9+/ZCRkYG//vpL5jiCICAmJgZ6enrw9PSULuilSv4VVVbHkpKSEBYWhq+++goZGRkQi8UQi8V48OABQkNDYWxsLM3jyZMnWLRoETIyMrB161bk5+dDEASUlJTgzz//RHFxMdauXSvtzVSlLlRm3rx5iImJASA7V1kQBHTq1Ekm7dWrVzFr1ixpnXz8+DG+/fZbxMXFITw8XCatqnWvKkeOHMGGDRvQs2dPnDt3DuXl5Xj27BkiIyNhY2OD2bNn48KFC0rfE+D5gmILFy6Eu7s7jh07JnOff/31V7m8VL03Ejdv3kRaWhq2b98u3UeZeZ15eXlYtWoVMjMzsWzZMuniTZmZmZg2bRr27duHZcuWoaSkBDo6Oli7di0CAgLg7OyM69evS+/h0KFDqzzOq7j/L9Puv4zHjx8jLCwMNjY2iI2Nld7TwsJCnDx5Em5ubtDQ0ICDgwNOnz6NsWPHolevXnjw4IH0nNeuXQsdHZ1aLRcREdEbo2JUW1c9snPnzhXKy8vltkt6rLp16yZkZGTIbU9LSxPc3d2FRYsWyX03efJkobi4WPr9lStXBEdHR2HevHlCWVmZTNrZs2cr7H0JCwsT9PX1hdOnT0u/k/z1f+PGjTK9LBKSXrzVq1cr3P4y5ya5Xi/2klVl7dq1SvewkCzJvVT0MTY2FjZt2iTz3IjFYiEoKEhwdHQUEhIS5PKTjBio2Isr+c7b21t4+PChNG1mZqbg6ekpfPXVV9Ie1prkX10dkzzPM2bMqLYHUtJDvG7dOrlnW1I2Nzc34ebNmzLXr7q6UB1JGSvrvZNs37x5s9y2a9euCa1atRK+/vproaSkRBCEmtW9ykh63szNzYW4uDi57ZJrEBwcLP1O2XbP3NxcOHr0aKXnW/F6qHpvBOF5T2KrVq2ExMTEas9TURn09fXl2llBEITs7GyhX79+goeHh5Ceni5zvJq0RbV9/2vS7ldF2R7ZBw8eCL169RI6d+4s3Llzp8o8K+vRJSIiosrJL4FbB7S0tKChId8ZnJ+fj+TkZBw7dgwWFhaV7u/h4YHS0lJoaWmhWbNm8PDwQEREBFJSUtCiRQsAiueWZmZmIi4uDnFxcVi0aFGl+d+/f1/uu4YNG8q99gYA2rRpA0dHR8ycOROXL19G37594eTkhGbNmkFLS+ulzk3Cysqq0vQv0tPTUzotKeftt9/Grl270KVLF5nvi4uLcePGDVy7dg3Ozs6V7j9o0CCUlJRAW1sbRkZG6Ny5M7799lvEx8fjo48+AgBcuXIFR44cQVhYmLTnsib5S1RWx2xsbODp6YmlS5fi77//xpAhQ9C8eXNYW1vL9fzcvHkTWVlZGDNmDMaMGaPw2Obm5tL5kcrWhdqiaM64iYkJzMzMUFhYKF1d+mXq3ovy8/ORmpqK1q1bw9bWVm67m5sbWrVqheTkZBQVFclc0+ravRYtWqBVq1ZVnrOEqvdGQkNDAw0bNlTqGBWlpqbi6dOnaN++vdziTaampnBxccGCBQuQkZGhUnv1MpS9/y/T7r8MQ0NDtG/fHoGBgRg4cCBGjBiBtm3bws7ODoaGhgr/PyEiIiLlvVarFj948AD37t2rNl3FHylaWlro06cPMjIypEPS8vLyEBkZiV69ekkDWwAKF0BRRJVhuU5OTtiwYQO6dOmCtWvXom/fvrCxsYG5uTnmz58vzasm50b1QzKkUSwWIzQ0FEVFRVi+fDmys7Nl0hUWFir1TD19+hRlZWXSf/fs2RMWFhY4evQoysvLUVJSgvDwcHh6eqJjx44vnX9VzM3NsXr1anzxxReIiIjAwIED4eTkBDMzM4wZM0bmGU1LS6s2v6ysLBQXFwNQvi68ShoaGnIBTm3WvYcPHyInJwfW1tZo3Lix3HaRSKQwWK2KpHy2trZK/yFK1Xvzsm7dugUAsLa2ltsmEomqXIiuLim6/6+i3VdGgwYNMH36dCxZsgT379+Hn58f2rdvD2NjY3Tp0gWnTp3ionxEREQv4bUKZI2NjWFqaopBgwbh0aNHMvOjKn5enDfk6uoKT09PREZGIi8vD0lJSThy5Ag+/vhjmXl5lpaWAIDg4OBK8xaUmMdVkWQF2QMHDuDp06e4ePEiVq9ejRYtWiAwMBDLli1DeXl5jc8N+N+PSGXk5+crnZaqJhKJ4OPjgzlz5mDfvn0ICAiQWSVYR0cHlpaW8PDwQHp6eqX3NCIiAiYmJtL97Ozs0KNHD0RFReH27dtIT09HdHQ0evfujaZNm750/tWxt7fH5s2bkZ2djaSkJGzZsgVdunTB+vXr8c0330jPUdKztm/fvirri2TuorJ1oa69TN2rLK/09HQUFhbKbZf8AaQm5cvIyFA68FT13rwsyfEUBYXCP3OhX1evot1Xlr6+PmbMmIGUlBTcuXMHf/75JyZMmICrV6/C19cXSUlJtX5MIiKif4vXKpDV09ODra0tYmNjkZycrPR+FRd9unz5MiIjI+Hm5iZd5EnCzMwMzs7OOHnyZK0v7AE8L3+bNm0wfvx4bN68Wea9ozU5t7feegtNmzZFXl4eSktLq00vCAKysrJgZGQEfX39lz0dAqCpqYmJEyfCz88Pq1evxqpVq6S9nzo6OrCyssKpU6cULu5TGcmiT0lJSTh16hRiYmJQWFgos8jTy+SvLB0dHTg6OmL48OHYsmULvL29kZiYKH31j62tLfT19XH06FGVX09TVV1QVm0FRzVtV6rK6/Lly0hNTZXbfuHCBSQmJsLBwUHpRXq0tbVhbm6OtLQ0ZGZmKrXPy9ybmpAc7+zZs3LHy8nJwcWLF+Hh4VHl0G1V1db9f9XtvjI0NTVhYWEBLy8vrFy5EnPmzMG1a9dw5coVmXSSRciIiIioeq9VIKujo4PevXsjPz8fY8aMwYEDB6S9Q2VlZcjIyMC6desQEhIit2/37t3h5OSEH3/8Efv370fnzp1hZmYmk8ba2hqenp7Yu3cvJkyYgMTERGlQUlRUhMuXL2POnDk4c+aM0mUODg5GSEgI0tPTpXmVlpYiMTER9+7dg4WFBbS1tWt0brq6urC1tcW1a9eUCgCePHmCq1evwtLSkoFsLdLV1cX8+fPRv39/LFy4ELt27YIgCBCJRPDy8oKVlRX8/f2xYcMG6Q9lsViMnJwc7NixA4GBgXLvgpSMIti0aRM2btyITp06yc25fJn8K/P7778jMDAQV65ckf5xpKysDNevX0dmZiZMTU1haGgI4PlQYS8vL6xYsQLffPMN0tLSpD+y8/PzERMTg5kzZ+LmzZsAlK8L1ZEEdnv27MHdu3eVOq+qvEy7UlVe8+bNw/nz5yEWi1FWVoaDBw8iMDAQVlZW6Ny5s9Ll09fXR/v27XHt2jWEhIRI/5BQUFCAgwcP4uuvv5bbR9V787Ikx9u4cSNWrlwpbY+ysrKwYMEC7N+/Hx07dpQZUVBTtX3/X0W7r4ybN29i0qRJOH78uHSusvDPSs/Xr1+Hvr6+NPBv0KABGjdujLi4OERGRjKYJSIiUkbFlZ/qatXiqlbhre59j1DwrktB+N/KnwAqXVFUEKp+n6DkI3lfoSBUv4JmVe89fPH9hDU5t7Vr11Z5PhUlJCQI9vb2Mu8hJeVV9R5ZQRCEpKQkwd3dXea+VveeV1TyLkjJyrKSNBXfdfxiOlXyr66OVbUyc2XvQK3sXaV44R2kqtSFqjx8+FBhHX3xPaKK7pNkpdgXr3lN2xVF8vPzhdmzZ6t0Datr9+7duyf0799fYZ4eHh4Kz1eVeyMINV9FWOLUqVOVvu+04ntkX/Z4r+L+q9ruV0XZVYurej8sIP8O6D/++EPu+eR7ZImIiCr3WvXIAs+HYE2dOhXHjx+Hr6+v9P2GVlZW8PHxwfbt2zFlyhS5/STDNfX19eUWearIzMwMmzdvxq5du9C3b1/pezNdXFwwefJkxMTEwN3dXeny+vn5YcuWLTJ5OTg4wN/fH8ePH5dZ6bYm5/bBBx/A0NAQ4eHhVQ61EwQBR44cQX5+Pj744AOuiPkKODo6YsmSJQCAmTNn4tq1axCJRBg8eDDOnTsHf39/uLi4AHg+77Fv37745ZdfEBAQIDfMVCQSoVevXnB0dJRb5OnFdDXJvzIDBgzAvn374OPjI533aGVlhVGjRuHkyZMYMmSIzLPj4OCAQ4cOYfXq1fjoo4+kPf0dOnTA3LlzsW3bNtjb2wNQrS5UxcjICEFBQRg9ejSMjY2hr68vc+yaqGm7ooikh3737t3w8vKCvr4+jI2NMWTIEERGRspdQ2WYmZlh/fr1mDNnDqysrKCvr48BAwYgKioKixcvVriPKvemNnTs2BF//PEH/P39pdfPxcUFQUFB2Lx5s9wImJp6Ffe/ttt9Zdjb2+O3336Tqbf6+vrw8vLC7t27ERwcLLOGQ58+fbBu3TppORwcHNCsWbPXZiEtIiKi141IEP63bKJkHp6bm1u9FYhklZSUYMaMGYiOjsbOnTulPyBflJ6ejmHDhsHe3h6rVq2S+YFERERERET0JnntemRJVqNGjTB8+HA8evQIW7ZsUfialbKyMuzcuRNpaWkYMWIEg1giIiIiInqj1Vkga2lpCZFIxI+KHwDS1V9XrlwpXWiootjYWKxZswYjRoyAh4cHAEj3Dw8Pr6tbTEREREREVCfYI6sGNDU18dVXX6F79+6YPXs2Tpw4Id124cIFzJw5E23atMHkyZOhqalZjyUlIiIiIiJ69ThHloiIiIiIiNQKe2SJiIiIiIhIrTCQJSIiIiIiIrXCQJaIiIiIiIjUCgNZIiIiIiIiUisMZImIiIiIiEitMJAlIiIiIiIitcJAloiIiIiIiNQKA1kiIiIiIiJSKwxkiYiIiIiISK0wkCUiIiIiIiK1wkCWiIiIiIiI1AoDWSIiIiIiIlIrDGSJiIiIiIhIrYgEQRAk/0hLS6vPshARERERERFVS7PiP/Ly8gAAzSyt6qUwRERERERERNXh0GIiIiIiIiJSKwxkiYiIiIiISK0wkCUiIiIiIiK1wkCWiIiIiIiI1AoDWSIiIiIiIlIrDGSJiIiIiIhIrTCQJSIiIiIiIrXCQJaIiIiIiIjUCgNZIiIiIiIiUisMZImIiIiIiEitMJAlIiIiIiIitcJAloiIiIiIiNQKA1kiIiIiIiJSKwxkiYiIiIiISK0wkCUiIiIiIiK1wkCWiIiIiIiI1AoDWSIiIiIiIlIrDGQVEAQBe/aEwd72PXwzayYKCwul30cdPYp2bq4y3xO9ic6dPQtzM1PsCdv9rzw+EREREb2+GMgqkJJyE7+tX48PPugM/6nT0LhxYwCASCRCt+7d8c2cOdj9+y7s3RMGQRDqubRUm0pLS3EsKgpjRo+Co8P7MDczhb3texjQ/2P8sGghTp2KRXFxcX0X818rL+8hhnzmA8/uXZGaklLfxSEiIiKievKvCmSXBwdV+wO4tLQU/xcaiqdPn2L6zFkwNTWV2S4SieDl1Rv9B3hj44bfkJaa+qqLTXUkNzcXU/2/xudDBuPA/v149CgPAJCfn4+4M2ewIuQnfOI9AIcOhr/SchQXF2PG9GkY8pkP8vIevrLj/Ft7PJVpB4iIiIjo9aZZ3wV43Vy9egV794Rh5ChfODg4KEzTuHFjDB/+BaKPH0dY2G5MnTYdDRo0qOOSUm0qLy9H6Lat2P37LnzqMxj//e/XeNfKCpqamhCLxXj8+BFSbqbg6NEjaNhQq76L+69lZGSM7Tt21XcxiIiIiKieMZCtoLy8HIf/+gsGBk3Qy8uryuDU0ckJXr29EH38OD4b8jnefffdOiwp1bYnTx7j9OlT8PDohNlz5qJp06bSbRoaGjAyMka79u3Rrn37eiwlEREREREB9TC0+M6dO/ju2/n4oFNHmJuZop2bK6ZMnoTo6OMoLS2VSVtaWoqD4eH4fMhg2Nu+B0eH9+E3bizOnz8nNzc1NSUFnt27YnlwEAoLC7F+/TrpMZYs/gFDPvPB0iWLcfXqVen35mamMsM3c3JyEHfmDLp07YL33rOp8jy0tLTg2aMn4uMv4Eri5dq9SFRvNDU10bBhQ5X3e/G57uHZHb+sXYMnT57Ipa04tDXx8mWMGT0K9rbvoVdPT0RHH0ff/3hh65bNOH7sGJyaO0if1RnTp0nn5xYWFmLzpo0Y6N1fOo/38yGDsW3rFqWGIy8PDkK/j/sAACb4jZcew9zMFOfOnlV4ft/On4d2bq6wt30PY0aPwtUrVxTmLRaLERsbIzPP2GfQJzgYHi5Xx1VV1bDr6toWyfza6toBIiIiInr91WmP7LmzZ+E3fhwyMu5Iv8vIuINdO3fg6pVE/LLuV9ja2QF4/kN98aKFWL9+nUwee/fuweHDf2HJsh/h7T0QIpFIZnt8/AV8NvhTmR/j5eXlSpXv7t0MXL6cgKHDhkFLq/rho7a2tmjXrh0SEhLQy6s3hxerMR2dxrC0fBd794QhMjICgwZ9qtQzAABnTp/GtGn+MnMuryQm4kpiIs6cPo2lPwbJzbUuKirCsmVLcPTIEeTn5wMAysvKIC4XV3u83NxcTJ82FX8eOij9Lj8/H8eionAsKgqNGzfGwE8GKVV2ZWzZshlzZs+WzhkGgAP79+Nuxl2s/Hk1bGz+90efsrIyrPtlLZYHB0nPCwBOnjyBkydPYM7ceRg33g+amrXb9CjTthibGNfqMYmIiIio/tRZj+yzZ6UIDz+AZ89KsWHjJtzOuIus7BzczriLo8ei0aNnL2hUCARPnIjG9u3/hy5duyEi8jDuZmXjzt0s7Ni5C1ZWVvhh4UJcTkiQO86Z06fRtm07nDl7HnezspGVnYPZc+Zi+45dmDFzFlq0aIGY2NPIys5BVnYOtu/YBSOj5z9wb6WnQ1dXF3Z29kqdk6GhEays30NmZiaKiopq50JRvdDW1oa390AYGhph6tf/RaeOHTBl8iRs2rgBcWfOIC/vocIVqh8/eoQNG35F9r17mP/td7iRkoas7BxcunwF4/0mICLiT6z+eZVcT2RaWhpupd/CmrXrkPr3LWRl5+BI1HF0694d4YciMPyLL9G1WzckXU+WPqtLl/0IbW1tnD9/Dn8eOogpU/6L68k3kZWdg7tZ2biYkIiFi36QrrJdla/9p2L/geeB8M+r10iPkZWdIzd8Ovl6MiZNnoyExKvIvHcfN1LSMHXadMTHX8CRw3/JpI2NOYnlwUHo0aMnYk/H4W5WNjLv3cfFS5cx3m8Cfl2/Dom1PIJB2bZFMr+2unaAiIiIiF5/ddYjW14uRlFREXR1dWFp+a50wZyGDbXg5OQEJycnadri4mJEHT0KXV1dzJw1C85t2gB4PlexS9duyM3NxQS/8YiLOyPdJuE7egymz5gJDQ3VY/Rbt27hrbfegq6urlLpdXR08M477+Dy5QQ8e/ZyQyap/nX08MCOnbuwatUKhB84gF07d2DXzh3S7e4dOmDa9Bno1OkD6UiAGzdu4FhUFD4bMgSjfEdLe3HNzMzgN2Ei0lJTceH8Ody/nw0LC0tpXo6OjlgeEoLmzR1VLmfBPz2d5u+8A4MmTQA8rxtNmzbFyFG+NT7/ygQEBuJTn8HSf+vr62PAAG8cOhiOu3fv4tmzUjRsqIXS0lIcOXIYzs5tMP/b79DU3Fy6T1Nzc3w1YiTizpzByRMn4OLiWmvlU6VtISIiIqI3Q531yGpra6ONiwvS0tIwbtwYrFq5AnFnziA3NxdisexwyoKCAtxKT4ejkxOsra3l8mrd2hmOjo5ISUmRe6enlpZWjYJYCROTt2BoZKRU2gYNGkBbW7vGx6LXj62dHZb/tAJJ15MRfzEBu3aHYcbMWXB1dUPcmTMY8eUXiIyMkKZPT/8b+fn5cHFxlRuKbGJigpatWuHcuXPIysyS2aahoYGGmqrPxQWAFi1bwt7+fXwfGIBZM2fgyOHDuH379iv7Y4qiIfNGxsYwNX0bRUVFKP9nOHRBQT5SUlIQGxsDlzatZebdmpuZwr2dG+LjLyA3N7dWy6pK20JEREREb4Y6Xexp0KBPEbw8BFoNG2Lh94EY0P9jtHRqDs/uXXHoYLj0R+ejvDzk5j6ApeW70NGRHyYpEoleKlglqk7Dhlowf+cddO78Ib72n4oDBw9h1c+rAQAHw8Ol8z8zMjIAAJaW8qtWi0SiVzJv+v33HbA8JAQdO3pgy+ZNGD7sc7i3c0Prli2xdMlimbmpr4qGhggaDWTr4MPch8i5f7/afSsGv7VF2baFiIiIiN4MdbrYk5aWFoZ8/jkGf/YZ8vLykJx8HSeioxG2ezemTJ6EDZsM0LnzhzA0MoKJyVu4c+c2iooK5Xo9BUF4ZT9Mc3Mf4FFeHkxMTKpNW15eLtcjTG8mDQ0NdO3WHa6ubnjwIEfao2hhYQEAuHPnttzcUkEQlF5oTBUikQhubm2xZVsoCgoKkP733zh//hz27t2D5cFBAFAv7zaW1Nu+H3+MoOCfYGBgUGfHVrZtISIiIqI3Q710a2poaMDExAQeHp0w65vZWBAQgPz8fFyMjwcA6OrqwsraGteSkpCeni63/+XLCbh27Rrs7OxUHtorFosVLtoDAFZWVnjw4AEKCgqUyqu0tBS5Dx7grbdMpfPySD39/fff2LVzR5WvhykoKEB+fr7M/ba2fg96enq4eDFebt/c3FxcSUxEu3btYP6OuaIsqyQuF0MsVvysSujq6qJFy5b48qsRWLHyZ7i6uiEx8TLynz5V+ji1FWxL6u25s2eRmppS/Q6vQHVti0RV7QARERERvf7qLJDNy3uIObO/QWRkhMwKsI8fPUJSUhKA//VuaWtro/tHH6GgoABLFi9GwqVLEIvFKCsrw5HDhxEcHAQLC0u4u3dQqQy6urq4du0aDh06qDBgsbK2RkFBAVJSbiqVX27uA9y4kYx33nkHOjo6KpWFXi/i8nKs+2Ut+n/cF7t/34V79+5Je/2Li4tx5vRpzJ39DW7cSMZHnp7Q09MDALz//vvo1r07dmzfjt9+XY+n/wSQ2dnZCPpxGSIjI+DWth3efttM6bI0aKABHR0dxMdfwPFjUXKjD35Zuwbr16/DnTt3UFZWBuD5yr3XriXh/v37MDd/B42U+ANPo0aNYGZmhkMHD+JeVla16atTsd5On+qPv/6KRGFhIYDnr+XJyszEtq1b5F6p9bJUaVuA6tsBIiIiInr91enQ4rS0VGz47VeF27y8eqPzh12k//7wwy4YNcoXISE/Ifr4MZm0enp6WLLsR7R2dlbp+O7uHWBhYYkfFi3ED4sWAgC6duuG1WvWwsjIGM2aWaB1a2dcvBiPvh/3q/Y9oqmpqTh37hzGjffjO2TVXANNTWhr6+DChfOYNHGCwjR6enr42n8q+vb9WPpdE0NDjBk7DmmpqQhY8B0CFnwns4+XV2/4TZio9Dtpgefzczt6eOD/Qrdh4gQ/TJzgBwAY/sWXCAj8HoWFhVi6ZDHmz50jt6+FhSW8vQcqNVLBysoK7d3dcWD/fkRE/Cn9fv+Bg3LDpJXl6dkDX/tPxfLgIHw5fJjCNDNmzqpR3lVRpW2prh0gIiIiotdfnfXIGhoa4fvvF2HmrG/g5tZW+n1HDw8sXrIUP69ZC1NTU+n3jRs3hv+06fj1t43o1r079PT0YGhoBG/vgdi+cxe8vQdKX4GirNbOzlgeEiKdK2dhYQlr6/eg+c/qsaampnDv0AHRx6Px999pVeZVWlqKI4f/gqurG1q2aq1SOej1Y21tjd179iJs7x/wHT0aLVu1km6ztbPD2HHjcSgiEuP9JkBTU/bvP23btsPGzVsxdtx42NrZAQBatmqF7xYEIGTlKpnnWlmenj2wLCgYrq5u0jKYm5ujQQMNfDViBFau+hk9evSEoaGRTBn3/LEPHT08lDpGE0NDfLcgAEOHDYehoRH09PTQufOH0P2nt7kmNDU1MW68H/bs3YehQ4dJr4eFhSX69e+PNb+sg+/oMTXOXxFV25bq2gEiIiIiev2JhAoTxS5cuAAAaGZpVW8Fqm8XL8ZjxJdfYOQoX0yYOKnSntaES5fgO2okPvXxqZeFdYiIiIiIiP6t+A6bF7Ro0RLeAz/B7t9/R3JyssI0hYWF2LFjO5o0McAnnwxiEEtERERERFSH6myOrKuLM7IyM+vqcDWWlZ2Dz4cOxdm4OCxbshhLfwySGZYoCAIiIv7E7t934QDAhuEAAAEgSURBVLsFAbCxtQUAmJuZokmTJrh+o35WayUiIiIiIvq3YI+sAnZ29hg1ejRiYk4iOOhH6cqrgiDgWFQUfli4EIM+9YH3wE9UnqdLREREREREL4dzZImIiIiIiEitsEeWiIiIiIiI1AoDWSIiIiIiIlIrDGSJiIiIiIhIrTCQJSIiIiIiIrXCQJaIiIiIiIjUCgNZIiIiIiIiUisMZImIiIiIiEitMJAlIiIiIiIitcJAloiIiIiIiNQKA1kiIiIiIiJSKwxkiYiIiIiISK0wkCUiIiIiIiK1wkCWiIiIiIiI1IpmxX8YGRkBAArzn9RLYYiIiIiIiIiqwx5ZIiIiIiIiUisiQRCE+i4EERERERERkbLYI0tERERERERq5f8BLTFnuwgAAigAAAAASUVORK5CYII=)"
      ]
    },
    {
      "cell_type": "code",
      "execution_count": null,
      "metadata": {
        "colab": {
          "base_uri": "https://localhost:8080/"
        },
        "id": "dTpYoq9aP8uz",
        "outputId": "f6b68ac1-8d2a-42a2-b262-504bb8717397"
      },
      "outputs": [
        {
          "output_type": "stream",
          "name": "stdout",
          "text": [
            "2\n"
          ]
        }
      ],
      "source": [
        "#For the list shown below print the index of Kwame\n",
        "Students = ['Afia','Mike','Kwame','Luke','Ruth']\n",
        "print(Students.index('Kwame'))"
      ]
    },
    {
      "cell_type": "code",
      "execution_count": null,
      "metadata": {
        "cellView": "form",
        "id": "UDe5FdWjXzGZ",
        "colab": {
          "base_uri": "https://localhost:8080/"
        },
        "outputId": "82081a2e-ad7f-4aa3-91ed-af031aabaeb3"
      },
      "outputs": [
        {
          "output_type": "stream",
          "name": "stdout",
          "text": [
            "2\n"
          ]
        }
      ],
      "source": [
        "#@title\n",
        "Students = ['Afia','Mike','Kwame','Luke','Ruth']\n",
        "print(Students.index('Kwame'))"
      ]
    },
    {
      "cell_type": "code",
      "source": [
        "Names=[\"Kofi\",\"Mike\",\"Kate\"]\n",
        "\n",
        "Names[1:2]"
      ],
      "metadata": {
        "colab": {
          "base_uri": "https://localhost:8080/"
        },
        "id": "JqFxS7h7F2PK",
        "outputId": "38e19318-4404-4b66-835a-3ea9d501215a"
      },
      "execution_count": null,
      "outputs": [
        {
          "output_type": "execute_result",
          "data": {
            "text/plain": [
              "['Mike']"
            ]
          },
          "metadata": {},
          "execution_count": 8
        }
      ]
    },
    {
      "cell_type": "code",
      "source": [
        "def Dog(s):\n",
        "\n",
        "  s = 10\n",
        "  return s\n",
        "\n",
        "print(Dog('Rover'))\n",
        "type(Dog('Rover'))\n",
        "\n"
      ],
      "metadata": {
        "colab": {
          "base_uri": "https://localhost:8080/"
        },
        "id": "flH92lk6E1yh",
        "outputId": "c303c2bc-3272-4d71-ab41-0da68b64e508"
      },
      "execution_count": null,
      "outputs": [
        {
          "output_type": "stream",
          "name": "stdout",
          "text": [
            "10\n"
          ]
        },
        {
          "output_type": "execute_result",
          "data": {
            "text/plain": [
              "int"
            ]
          },
          "metadata": {},
          "execution_count": 3
        }
      ]
    },
    {
      "cell_type": "markdown",
      "metadata": {
        "id": "pv1KFkrbb5ip"
      },
      "source": [
        "##**Tuples**\n",
        "Tuples are used to store multiple items in a single variable.\n",
        "\n",
        "Tuple is one of 4 built-in data types in Python used to store collections of data, the other 3 are List, Set, and Dictionary, all with different qualities and usage.\n",
        "\n",
        "A tuple is a collection which is ordered and unchangeable.\n",
        "\n",
        "Tuples are written with round brackets."
      ]
    },
    {
      "cell_type": "code",
      "execution_count": null,
      "metadata": {
        "colab": {
          "base_uri": "https://localhost:8080/"
        },
        "id": "x0k5dbQRcAQh",
        "outputId": "8da03d75-c85e-42a2-e9b2-508f56c8e2db"
      },
      "outputs": [
        {
          "name": "stdout",
          "output_type": "stream",
          "text": [
            "('Ama', 'Kate', 'Selena')\n"
          ]
        }
      ],
      "source": [
        "#Let create our first Tuple:\n",
        "\n",
        "First_Tuple = (\"Ama\", \"Kate\", \"Selena\")\n",
        "print(First_Tuple)"
      ]
    },
    {
      "cell_type": "markdown",
      "metadata": {
        "id": "YwVtnTQTcWy0"
      },
      "source": [
        "###**Tuple Items**\n",
        "Tuple items are ordered, unchangeable, and allow duplicate values.\n",
        "\n",
        "Tuple items are indexed, the first item has index [0], the second item has index [1] etc.\n",
        "\n",
        "###**Ordered**\n",
        "When we say that tuples are ordered, it means that the items have a defined order, and that order will not change.\n",
        "\n",
        "###**Unchangeable**\n",
        "Tuples are unchangeable, meaning that we cannot change, add or remove items after the tuple has been created.\n",
        "\n",
        "###**Allow Duplicates**\n",
        "Since tuples are indexed, they can have items with the same value:"
      ]
    },
    {
      "cell_type": "code",
      "execution_count": null,
      "metadata": {
        "colab": {
          "base_uri": "https://localhost:8080/"
        },
        "id": "48tor8kPci0j",
        "outputId": "b1ddbfac-772e-4e37-b971-e8077c77fc14"
      },
      "outputs": [
        {
          "name": "stdout",
          "output_type": "stream",
          "text": [
            "('Ama', 'Kate', 'Selena', 'Ama', 'Kate', 'Selena')\n"
          ]
        }
      ],
      "source": [
        "#Tuples allow duplicate values:\n",
        "First_Tuple = (\"Ama\", \"Kate\", \"Selena\", \"Ama\", \"Kate\", \"Selena\")\n",
        "\n",
        "print(First_Tuple)"
      ]
    },
    {
      "cell_type": "code",
      "execution_count": null,
      "metadata": {
        "colab": {
          "base_uri": "https://localhost:8080/"
        },
        "id": "okyS7-4mc5s4",
        "outputId": "8b32dac7-bf98-4d4b-eb62-939df59c2b81"
      },
      "outputs": [
        {
          "name": "stdout",
          "output_type": "stream",
          "text": [
            "6\n"
          ]
        }
      ],
      "source": [
        "#Tuple Length\n",
        "#To determine how many items a tuple has, use the len() function:\n",
        "print(len(First_Tuple))"
      ]
    },
    {
      "cell_type": "code",
      "execution_count": null,
      "metadata": {
        "colab": {
          "base_uri": "https://localhost:8080/"
        },
        "id": "UUwMdkBtdKvj",
        "outputId": "3732e065-15bb-4929-99fc-07dc7dccef1a"
      },
      "outputs": [
        {
          "name": "stdout",
          "output_type": "stream",
          "text": [
            "('Ama',)\n",
            "<class 'tuple'>\n"
          ]
        }
      ],
      "source": [
        "#Create Tuple With One Item\n",
        "#To create a tuple with only one item, \n",
        "#we have to add a comma after the item, otherwise Python will not recognize it as a tuple.\n",
        "\n",
        "First_Tuple_2 = (\"Ama\",)\n",
        "\n",
        "print(First_Tuple_2)\n",
        "\n",
        "print(type(First_Tuple_2))"
      ]
    },
    {
      "cell_type": "code",
      "execution_count": null,
      "metadata": {
        "id": "qrbmgO6EdmAo"
      },
      "outputs": [],
      "source": [
        "#Tuple Items - Data Types\n",
        "#Tuple items can be of any data type:\n",
        "#String, int and boolean data types:\n",
        "\n",
        "tuple_1 = (\"apple\", \"banana\", \"cherry\", \"coconut\")\n",
        "tuple_2 = (1, 5, 10, 7, 9, 3)\n",
        "tuple_3 = (True, False, False, True)"
      ]
    },
    {
      "cell_type": "code",
      "execution_count": null,
      "metadata": {
        "id": "_jM-m1_Qd_6F"
      },
      "outputs": [],
      "source": [
        "#A tuple can contain different data types:\n",
        "#A tuple with strings, integers and boolean values:\n",
        "tuple_4 = (\"abc\", 34, True, 40, \"male\")"
      ]
    },
    {
      "cell_type": "code",
      "execution_count": null,
      "metadata": {
        "id": "QwG55X_SeR7I"
      },
      "outputs": [],
      "source": [
        "#The tuple() Constructor\n",
        "#It is also possible to use the tuple() constructor to make a tuple.\n",
        "\n",
        "#Using the tuple() method to make a tuple:\n",
        "\n",
        "thistuple_5 = tuple((\"apple\", \"banana\", \"cherry\")) # note the double round-brackets\n",
        "print(thistuple_5)"
      ]
    },
    {
      "cell_type": "markdown",
      "metadata": {
        "id": "uZuqQAP0fJFb"
      },
      "source": [
        "###**Change Tuple Values**\n",
        "Tuples are unchangeable, meaning that you cannot change, add, or remove items once the tuple is created.\n",
        "\n",
        "But there are some workarounds.\n",
        "\n",
        "Once a tuple is created, you cannot change its values. Tuples are unchangeable, or immutable as it also is called.\n",
        "\n",
        "But there is a workaround. You can convert the tuple into a list, change the list, and convert the list back into a tuple."
      ]
    },
    {
      "cell_type": "code",
      "execution_count": null,
      "metadata": {
        "colab": {
          "base_uri": "https://localhost:8080/"
        },
        "id": "zkdl4jBxfTXa",
        "outputId": "f1e101b6-0466-4798-d985-99b9075775fa"
      },
      "outputs": [
        {
          "name": "stdout",
          "output_type": "stream",
          "text": [
            "('Mark', 'Kofi', 'Isaac')\n"
          ]
        }
      ],
      "source": [
        "#Convert the tuple into a list to be able to change it:\n",
        "\n",
        "x = (\"Mark\", \"Fred\", \"Isaac\")\n",
        "y = list(x)\n",
        "y[1] = \"Kofi\"\n",
        "x = tuple(y)\n",
        "\n",
        "print(x)"
      ]
    },
    {
      "cell_type": "markdown",
      "metadata": {
        "id": "Yimp-MLifbuJ"
      },
      "source": [
        "###**Add Items**\n",
        "Since tuples are immutable, they do not have a build-in append() method, but there are other ways to add items to a tuple.\n",
        "\n",
        "1. Convert into a list: Just like the workaround for changing a tuple, you can convert it into a list, add your item(s), and convert it back into a tuple."
      ]
    },
    {
      "cell_type": "code",
      "execution_count": null,
      "metadata": {
        "id": "R2Gd97q2fe0N"
      },
      "outputs": [],
      "source": [
        "#Convert the tuple into a list, add \"Kofi\", and convert it back into a tuple:\n",
        "\n",
        "mytuple = (\"Mark\", \"Fred\", \"Isaac\")\n",
        "y = list(mytuple)\n",
        "y.append(\"Kofi\")\n",
        "mytuple = tuple(y)"
      ]
    },
    {
      "cell_type": "markdown",
      "metadata": {
        "id": "T1kbtEwcfoCW"
      },
      "source": [
        "**Add tuple** to a tuple. You are allowed to add tuples to tuples, so if you want to add one item, (or many), create a new tuple with the item(s), and add it to the existing tuple:"
      ]
    },
    {
      "cell_type": "code",
      "execution_count": null,
      "metadata": {
        "id": "v7TeO4z6fpyu"
      },
      "outputs": [],
      "source": [
        "#Create a new tuple with the value \"orange\", and add that tuple:\n",
        "\n",
        "thistuple = (\"apple\", \"banana\", \"cherry\")\n",
        "y = (\"orange\",)\n",
        "thistuple += y\n",
        "\n",
        "print(thistuple)\n",
        "\n",
        "#Note: When creating a tuple with only one item, remember to include a comma after the item, otherwise it will not be identified as a tuple."
      ]
    },
    {
      "cell_type": "markdown",
      "metadata": {
        "id": "Hxa5OI1wf4Ss"
      },
      "source": [
        "###**Remove Items**\n",
        "Note: You cannot remove items in a tuple.\n",
        "\n",
        "Tuples are unchangeable, so you cannot remove items from it, but you can use the same workaround as we used for changing and adding tuple items:"
      ]
    },
    {
      "cell_type": "code",
      "execution_count": null,
      "metadata": {
        "colab": {
          "base_uri": "https://localhost:8080/"
        },
        "id": "l0uRdnZMf9i6",
        "outputId": "dcdfa646-309e-4321-e2fe-401940d2b108"
      },
      "outputs": [
        {
          "name": "stdout",
          "output_type": "stream",
          "text": [
            "('Data Science', 'Cybersecurity', 'Research Methods')\n"
          ]
        }
      ],
      "source": [
        "#Convert the tuple into a list, remove \"apple\", and convert it back into a tuple:\n",
        "\n",
        "Courses = (\"Data Science\", \"Cybersecurity\", \"Research Methods\", \"Python Programming\")\n",
        "y = list(Courses)\n",
        "y.remove(\"Python Programming\")\n",
        "Courses = tuple(y)\n",
        "print(Courses)"
      ]
    },
    {
      "cell_type": "code",
      "execution_count": null,
      "metadata": {
        "colab": {
          "base_uri": "https://localhost:8080/",
          "height": 204
        },
        "id": "DkvIV7NegC6W",
        "outputId": "e0f2443e-2958-4b3c-bf16-420c6b9f55e4"
      },
      "outputs": [
        {
          "output_type": "error",
          "ename": "NameError",
          "evalue": "ignored",
          "traceback": [
            "\u001b[0;31m---------------------------------------------------------------------------\u001b[0m",
            "\u001b[0;31mNameError\u001b[0m                                 Traceback (most recent call last)",
            "\u001b[0;32m<ipython-input-12-871abdc4e98b>\u001b[0m in \u001b[0;36m<module>\u001b[0;34m\u001b[0m\n\u001b[1;32m      5\u001b[0m \u001b[0mCourses\u001b[0m \u001b[0;34m=\u001b[0m \u001b[0;34m(\u001b[0m\u001b[0;34m\"Data Science\"\u001b[0m\u001b[0;34m,\u001b[0m \u001b[0;34m\"Cybersecurity\"\u001b[0m\u001b[0;34m,\u001b[0m \u001b[0;34m\"Research Methods\"\u001b[0m\u001b[0;34m)\u001b[0m\u001b[0;34m\u001b[0m\u001b[0;34m\u001b[0m\u001b[0m\n\u001b[1;32m      6\u001b[0m \u001b[0;32mdel\u001b[0m \u001b[0mCourses\u001b[0m\u001b[0;34m\u001b[0m\u001b[0;34m\u001b[0m\u001b[0m\n\u001b[0;32m----> 7\u001b[0;31m \u001b[0mprint\u001b[0m\u001b[0;34m(\u001b[0m\u001b[0mCourses\u001b[0m\u001b[0;34m)\u001b[0m \u001b[0;31m#this will raise an error because the tuple no longer exists\u001b[0m\u001b[0;34m\u001b[0m\u001b[0;34m\u001b[0m\u001b[0m\n\u001b[0m",
            "\u001b[0;31mNameError\u001b[0m: name 'Courses' is not defined"
          ]
        }
      ],
      "source": [
        "#Or you can delete the tuple completely:\n",
        "\n",
        "#The del keyword can delete the tuple completely:\n",
        "\n",
        "Courses = (\"Data Science\", \"Cybersecurity\", \"Research Methods\")\n",
        "del Courses\n",
        "print(Courses) #this will raise an error because the tuple no longer exists"
      ]
    },
    {
      "cell_type": "markdown",
      "metadata": {
        "id": "bJKN7x9GgQ7N"
      },
      "source": [
        "###**Unpacking a Tuple**\n",
        "When we create a tuple, we normally assign values to it. This is called \"packing\" a tuple:\n"
      ]
    },
    {
      "cell_type": "code",
      "execution_count": null,
      "metadata": {
        "id": "G_sYVaxYgWcM"
      },
      "outputs": [],
      "source": [
        "#Packing a tuple:\n",
        "\n",
        "Courses = (\"Data Science\", \"Cybersecurity\", \"Research Methods\")"
      ]
    },
    {
      "cell_type": "code",
      "execution_count": null,
      "metadata": {
        "colab": {
          "base_uri": "https://localhost:8080/"
        },
        "id": "OymFlr0ygdjL",
        "outputId": "a00722e3-5041-4da2-bbef-f49703adb488"
      },
      "outputs": [
        {
          "name": "stdout",
          "output_type": "stream",
          "text": [
            "Data Science\n",
            "Cybersecurity\n",
            "Research Methods\n"
          ]
        }
      ],
      "source": [
        "#But, in Python, we are also allowed to extract the values back into variables. This is called \"unpacking\":\n",
        "\n",
        "#Unpacking a tuple:\n",
        "\n",
        "Courses = (\"Data Science\", \"Cybersecurity\", \"Research Methods\")\n",
        "\n",
        "(green, yellow, red) = Courses\n",
        "\n",
        "print(green)\n",
        "print(yellow)\n",
        "print(red)"
      ]
    },
    {
      "cell_type": "markdown",
      "metadata": {
        "id": "xw1NDYXeiOi5"
      },
      "source": [
        "##**Using Asterisk*** \n",
        "If the number of variables is less than the number of values, you can add an * to the variable name and the values will be assigned to the variable as a list:"
      ]
    },
    {
      "cell_type": "code",
      "execution_count": null,
      "metadata": {
        "colab": {
          "base_uri": "https://localhost:8080/"
        },
        "id": "7KSzlWozicbK",
        "outputId": "1473101f-ebf8-4a6c-845b-b310fd4f1fc8"
      },
      "outputs": [
        {
          "name": "stdout",
          "output_type": "stream",
          "text": [
            "Data Science\n",
            "Cybersecurity\n",
            "['Research Methods', 'Mathematis', 'Python Programming']\n"
          ]
        }
      ],
      "source": [
        "#Assign the rest of the values as a list called \"red\":\n",
        "\n",
        "Courses = (\"Data Science\", \"Cybersecurity\", \"Research Methods\", \"Mathematis\", \"Python Programming\")\n",
        "\n",
        "(green, yellow, *red) = Courses \n",
        "\n",
        "print(green)\n",
        "print(yellow)\n",
        "print(red)"
      ]
    },
    {
      "cell_type": "markdown",
      "metadata": {
        "id": "QlL727l2i_HO"
      },
      "source": [
        "If the asterisk is added to another variable name than the last, Python will assign values to the variable until the number of values left matches the number of variables left."
      ]
    },
    {
      "cell_type": "code",
      "execution_count": null,
      "metadata": {
        "colab": {
          "base_uri": "https://localhost:8080/"
        },
        "id": "pSv886WzjAkk",
        "outputId": "1421fa01-2174-4759-9add-c55ac054dd1d"
      },
      "outputs": [
        {
          "name": "stdout",
          "output_type": "stream",
          "text": [
            "Data Science\n",
            "['Cybersecurity', 'Research Methods', 'Mathematis']\n",
            "Python Programming\n"
          ]
        }
      ],
      "source": [
        "#Add a list of values the \"tropic\" variable:\n",
        "\n",
        "Courses = (\"Data Science\", \"Cybersecurity\", \"Research Methods\", \"Mathematis\", \"Python Programming\")\n",
        "\n",
        "(level_1, *level_2, level_3) = Courses\n",
        "\n",
        "print(level_1)\n",
        "print(level_2)\n",
        "print(level_3)"
      ]
    },
    {
      "cell_type": "markdown",
      "metadata": {
        "id": "S74QEaTFjnh4"
      },
      "source": [
        "###**Loop Through a Tuple**"
      ]
    },
    {
      "cell_type": "code",
      "execution_count": null,
      "metadata": {
        "colab": {
          "base_uri": "https://localhost:8080/"
        },
        "id": "UjhbvSLBjp16",
        "outputId": "b5316aae-14b4-4d93-ec1f-54a74c9ba5d6"
      },
      "outputs": [
        {
          "name": "stdout",
          "output_type": "stream",
          "text": [
            "Data Science\n",
            "Cybersecurity\n",
            "Research Methods\n",
            "Mathematis\n",
            "Python Programming\n"
          ]
        }
      ],
      "source": [
        "#You can loop through the tuple items by using a for loop.\n",
        "\n",
        "#Iterate through the items and print the values:\n",
        "\n",
        "Courses = (\"Data Science\", \"Cybersecurity\", \"Research Methods\", \"Mathematis\", \"Python Programming\")\n",
        "for x in Courses:\n",
        "  print(x)"
      ]
    },
    {
      "cell_type": "code",
      "execution_count": null,
      "metadata": {
        "colab": {
          "base_uri": "https://localhost:8080/"
        },
        "id": "uXX_5bAmjv0s",
        "outputId": "5d6b6b49-b8ab-467e-e1a7-5c1ac37d9b64"
      },
      "outputs": [
        {
          "name": "stdout",
          "output_type": "stream",
          "text": [
            "Data Science\n",
            "Cybersecurity\n",
            "Research Methods\n",
            "Mathematis\n",
            "Python Programming\n"
          ]
        }
      ],
      "source": [
        "#Print all items by referring to their index number:\n",
        "\n",
        "Courses = (\"Data Science\", \"Cybersecurity\", \"Research Methods\", \"Mathematis\", \"Python Programming\")\n",
        "for i in range(len(Courses)):\n",
        "  print(Courses[i])"
      ]
    },
    {
      "cell_type": "code",
      "execution_count": null,
      "metadata": {
        "colab": {
          "base_uri": "https://localhost:8080/"
        },
        "id": "bhl-3wBTj4Kk",
        "outputId": "583280a2-fa63-49e8-fd31-b7a838a2e9b3"
      },
      "outputs": [
        {
          "name": "stdout",
          "output_type": "stream",
          "text": [
            "Data Science\n",
            "Cybersecurity\n",
            "Research Methods\n",
            "Mathematis\n",
            "Python Programming\n"
          ]
        }
      ],
      "source": [
        "#Print all items, using a while loop to go through all the index numbers:\n",
        "\n",
        "Courses = (\"Data Science\", \"Cybersecurity\", \"Research Methods\", \"Mathematis\", \"Python Programming\")\n",
        "i = 0\n",
        "while i < len(Courses):\n",
        "  print(Courses[i])\n",
        "  i = i + 1"
      ]
    },
    {
      "cell_type": "markdown",
      "metadata": {
        "id": "XFzC1Eq3kSmU"
      },
      "source": [
        "##**Join Two Tuples**"
      ]
    },
    {
      "cell_type": "code",
      "execution_count": null,
      "metadata": {
        "colab": {
          "base_uri": "https://localhost:8080/"
        },
        "id": "SoIy5q1kkWan",
        "outputId": "2c9da4bd-2d8d-429e-eb07-493d2bd1545e"
      },
      "outputs": [
        {
          "name": "stdout",
          "output_type": "stream",
          "text": [
            "('Data Science', 'Cybersecurity', 'Research Methods', 'Mathematis', 'Python Programming', 1, 2, 3, 4, 5)\n"
          ]
        }
      ],
      "source": [
        "#Join two tuples:\n",
        "\n",
        "Courses = (\"Data Science\", \"Cybersecurity\", \"Research Methods\", \"Mathematis\", \"Python Programming\")\n",
        "Numbers = (1, 2, 3, 4, 5)\n",
        "\n",
        "Course_Numbers = Courses + Numbers\n",
        "\n",
        "print(Course_Numbers )"
      ]
    },
    {
      "cell_type": "code",
      "execution_count": null,
      "metadata": {
        "colab": {
          "base_uri": "https://localhost:8080/"
        },
        "id": "Csez_h3sk1r6",
        "outputId": "1fa505a9-2f68-4f68-b8a2-324b2251333e"
      },
      "outputs": [
        {
          "name": "stdout",
          "output_type": "stream",
          "text": [
            "('Data Science', 'Cybersecurity', 'Research Methods', 'Mathematis', 'Python Programming', 'Data Science', 'Cybersecurity', 'Research Methods', 'Mathematis', 'Python Programming')\n"
          ]
        }
      ],
      "source": [
        "#Multiply Tuples\n",
        "#If you want to multiply the content of a tuple a given number of times, you can use the * operator:\n",
        "Courses = (\"Data Science\", \"Cybersecurity\", \"Research Methods\", \"Mathematis\", \"Python Programming\")\n",
        "Courses_Mult = Courses  * 2\n",
        "\n",
        "print(Courses_Mult)"
      ]
    },
    {
      "cell_type": "code",
      "execution_count": null,
      "metadata": {
        "colab": {
          "base_uri": "https://localhost:8080/"
        },
        "id": "Rg6OzqWRlQX_",
        "outputId": "60ef74ed-f810-40a0-a78c-b8f02bc7e0ed"
      },
      "outputs": [
        {
          "name": "stdout",
          "output_type": "stream",
          "text": [
            "3\n"
          ]
        }
      ],
      "source": [
        "#Tuple count() Method\n",
        "#Return the number of times the value 7 appears in the tuple:\n",
        "\n",
        "Numbers = (1, 3, 7, 8, 7, 5, 4, 6, 8, 7, 12, 90)\n",
        "\n",
        "x = Numbers.count(7)\n",
        "\n",
        "print(x)"
      ]
    },
    {
      "cell_type": "markdown",
      "metadata": {
        "id": "Usv8Up6_lsGv"
      },
      "source": [
        "#**Sets**\n",
        "\n",
        "\n",
        "Sets are used to store multiple items in a single variable.\n",
        "\n",
        "Set is one of 4 built-in data types in Python used to store collections of data, the other 3 are List, Tuple, and Dictionary, all with different qualities and usage.\n",
        "\n",
        "A set is a collection which is unordered, unchangeable*, and unindexed.\n",
        "\n",
        "* Note: Set items are unchangeable, but you can remove items and add new items.\n",
        "\n",
        "Sets are written with curly brackets."
      ]
    },
    {
      "cell_type": "code",
      "execution_count": null,
      "metadata": {
        "colab": {
          "base_uri": "https://localhost:8080/"
        },
        "id": "1Y-Va5cWl08F",
        "outputId": "2ad680c5-371b-4ce1-ce57-631492c9f13c"
      },
      "outputs": [
        {
          "name": "stdout",
          "output_type": "stream",
          "text": [
            "{'Data Science', 'Research Methods', 'Mathematis', 'Python Programming', 'Cybersecurity'}\n"
          ]
        }
      ],
      "source": [
        "Courses = {\"Data Science\", \"Cybersecurity\", \"Research Methods\", \"Mathematis\", \"Python Programming\"}\n",
        "print(Courses)\n",
        "\n",
        "#Note: Sets are unordered, so you cannot be sure in which order the items will appear."
      ]
    },
    {
      "cell_type": "markdown",
      "metadata": {
        "id": "r_74wQlbmRRL"
      },
      "source": [
        "###**Set Items**\n",
        "Set items are unordered, unchangeable, and do not allow duplicate values.\n",
        "\n",
        "###**Unordered**\n",
        "Unordered means that the items in a set do not have a defined order.\n",
        "\n",
        "Set items can appear in a different order every time you use them, and cannot be referred to by index or key.\n",
        "\n",
        "###**Unchangeable**\n",
        "Set items are unchangeable, meaning that we cannot change the items after the set has been created.\n",
        "\n",
        "**Once a set is created, you cannot change its items, but you can remove items and add new items.**\n",
        "\n",
        "###**Duplicates Not Allowed**\n",
        "Sets cannot have two items with the same value."
      ]
    },
    {
      "cell_type": "code",
      "execution_count": null,
      "metadata": {
        "colab": {
          "base_uri": "https://localhost:8080/"
        },
        "id": "m4rnHD2kmXEi",
        "outputId": "b32aee10-b354-4eea-cb50-209bf9185c1d"
      },
      "outputs": [
        {
          "name": "stdout",
          "output_type": "stream",
          "text": [
            "{'Data Science', 'Research Methods', 'Mathematis', 'Cybersecurity'}\n"
          ]
        }
      ],
      "source": [
        "Courses = {\"Data Science\", \"Cybersecurity\", \"Research Methods\", \"Cybersecurity\", \"Mathematis\", \"Research Methods\"}\n",
        "print(Courses)"
      ]
    },
    {
      "cell_type": "markdown",
      "metadata": {
        "id": "-6zjJeiYnIty"
      },
      "source": [
        "##**Add Items**\n",
        "Once a set is created, you cannot change its items, but you can add new items.\n",
        "\n",
        "To add one item to a set use the add() method."
      ]
    },
    {
      "cell_type": "code",
      "execution_count": null,
      "metadata": {
        "colab": {
          "base_uri": "https://localhost:8080/"
        },
        "id": "1HJ3-9WEnL4g",
        "outputId": "50475e08-4a3c-44d2-b572-70c8bd2f467c"
      },
      "outputs": [
        {
          "name": "stdout",
          "output_type": "stream",
          "text": [
            "{'Data Science', 'Research Methods', 'Mathematics', 'Cybersecurity'}\n"
          ]
        }
      ],
      "source": [
        "Courses = {\"Data Science\", \"Cybersecurity\", \"Research Methods\"}\n",
        "Courses.add(\"Mathematics\")\n",
        "print(Courses)"
      ]
    },
    {
      "cell_type": "code",
      "execution_count": null,
      "metadata": {
        "colab": {
          "base_uri": "https://localhost:8080/"
        },
        "id": "r4ipdjtkne-9",
        "outputId": "49e8fb0e-79ce-4f07-9ac3-2b9c43ba19c7"
      },
      "outputs": [
        {
          "name": "stdout",
          "output_type": "stream",
          "text": [
            "{'pineapple', 'papaya', 'banana', 'apple', 'cherry', 'mango'}\n"
          ]
        }
      ],
      "source": [
        "#To add items from another set into the current set, use the update() method.\n",
        "\n",
        "# let add elements from tropical into thisset:\n",
        "\n",
        "thisset = {\"apple\", \"banana\", \"cherry\"}\n",
        "tropical = {\"pineapple\", \"mango\", \"papaya\"}\n",
        "\n",
        "thisset.update(tropical)\n",
        "\n",
        "print(thisset)"
      ]
    },
    {
      "cell_type": "code",
      "execution_count": null,
      "metadata": {
        "colab": {
          "base_uri": "https://localhost:8080/"
        },
        "id": "XnkiO981nsDF",
        "outputId": "86442e89-f8ed-4e6b-9214-8a067a64c7fa"
      },
      "outputs": [
        {
          "name": "stdout",
          "output_type": "stream",
          "text": [
            "{'cherry', 'kiwi', 'orange', 'banana', 'apple'}\n"
          ]
        }
      ],
      "source": [
        "#Add Any Iterable\n",
        "#The object in the update() method does not have to be a set, it can be any iterable object (tuples, lists, dictionaries etc.).\n",
        "#Add elements of a list to at set:\n",
        "\n",
        "thisset = {\"apple\", \"banana\", \"cherry\"}\n",
        "mylist = [\"kiwi\", \"orange\"]\n",
        "\n",
        "thisset.update(mylist)\n",
        "\n",
        "print(thisset)"
      ]
    },
    {
      "cell_type": "markdown",
      "metadata": {
        "id": "yYJ6w8A7n5Dq"
      },
      "source": [
        "**Remove Set Items**"
      ]
    },
    {
      "cell_type": "code",
      "execution_count": null,
      "metadata": {
        "colab": {
          "base_uri": "https://localhost:8080/"
        },
        "id": "GfOv6bJqn-Kq",
        "outputId": "374c82d2-e545-4dbc-d3a7-9948ee31e318"
      },
      "outputs": [
        {
          "name": "stdout",
          "output_type": "stream",
          "text": [
            "{'apple', 'cherry'}\n"
          ]
        }
      ],
      "source": [
        "#To remove an item in a set, use the remove(), or the discard() method.\n",
        "#Remove \"banana\" by using the remove() method:\n",
        "\n",
        "thisset = {\"apple\", \"banana\", \"cherry\"}\n",
        "\n",
        "thisset.remove(\"banana\")\n",
        "\n",
        "print(thisset)\n",
        "\n",
        "#Note: If the item to remove does not exist, remove() will raise an error."
      ]
    },
    {
      "cell_type": "code",
      "execution_count": null,
      "metadata": {
        "colab": {
          "base_uri": "https://localhost:8080/"
        },
        "id": "OvhcpihPoHRo",
        "outputId": "d831babe-a819-4a84-d271-b9e2b0cd4eef"
      },
      "outputs": [
        {
          "name": "stdout",
          "output_type": "stream",
          "text": [
            "{'apple', 'cherry'}\n"
          ]
        }
      ],
      "source": [
        "#Remove \"banana\" by using the discard() method:\n",
        "\n",
        "thisset = {\"apple\", \"banana\", \"cherry\"}\n",
        "\n",
        "thisset.discard(\"banana\")\n",
        "\n",
        "print(thisset)\n",
        "\n",
        "#Note: If the item to remove does not exist, discard() will NOT raise an error."
      ]
    },
    {
      "cell_type": "markdown",
      "metadata": {
        "id": "OtT1CZt6oYZo"
      },
      "source": [
        "###**Join Two Sets**\n",
        "There are several ways to join two or more sets in Python.\n",
        "\n",
        "You can use the union() method that returns a new set containing all items from both sets, or the update() method that inserts all the items from one set into another:"
      ]
    },
    {
      "cell_type": "code",
      "execution_count": null,
      "metadata": {
        "colab": {
          "base_uri": "https://localhost:8080/"
        },
        "id": "ZIgOJlZaocYb",
        "outputId": "35a3da69-e900-426b-d6a8-0b7c1669f6c2"
      },
      "outputs": [
        {
          "name": "stdout",
          "output_type": "stream",
          "text": [
            "{1, 2, 'a', 3, 'b', 'c'}\n"
          ]
        }
      ],
      "source": [
        "#The union() method returns a new set with all items from both sets:\n",
        "\n",
        "set1 = {\"a\", \"b\" , \"c\"}\n",
        "set2 = {1, 2, 3}\n",
        "\n",
        "set3 = set1.union(set2)\n",
        "print(set3)"
      ]
    },
    {
      "cell_type": "code",
      "execution_count": null,
      "metadata": {
        "colab": {
          "base_uri": "https://localhost:8080/"
        },
        "id": "uT_Xg1vGogO-",
        "outputId": "d6cb343f-b8be-40b3-b8d8-436283481d5e"
      },
      "outputs": [
        {
          "name": "stdout",
          "output_type": "stream",
          "text": [
            "{1, 2, 'a', 3, 'b', 'c'}\n"
          ]
        }
      ],
      "source": [
        "#The update() method inserts the items in set2 into set1:\n",
        "\n",
        "set1 = {\"a\", \"b\" , \"c\"}\n",
        "set2 = {1, 2, 3}\n",
        "\n",
        "set1.update(set2)\n",
        "print(set1)\n",
        "\n",
        "#Note: Both union() and update() will exclude any duplicate items."
      ]
    },
    {
      "cell_type": "markdown",
      "metadata": {
        "id": "JRIys0WGooeS"
      },
      "source": [
        "**Keep ONLY the Duplicates**\n",
        "\n",
        "The intersection_update() method will keep only the items that are present in both sets."
      ]
    },
    {
      "cell_type": "code",
      "execution_count": null,
      "metadata": {
        "colab": {
          "base_uri": "https://localhost:8080/"
        },
        "id": "05KYfT5Hop8A",
        "outputId": "4db23fc0-3876-4425-d34a-de5b40f7496c"
      },
      "outputs": [
        {
          "name": "stdout",
          "output_type": "stream",
          "text": [
            "{'apple'}\n"
          ]
        }
      ],
      "source": [
        "#Keep the items that exist in both set x, and set y:\n",
        "\n",
        "x = {\"apple\", \"banana\", \"cherry\"}\n",
        "y = {\"google\", \"microsoft\", \"apple\"}\n",
        "\n",
        "x.intersection_update(y)\n",
        "\n",
        "print(x)"
      ]
    },
    {
      "cell_type": "markdown",
      "metadata": {
        "id": "O0trfC10o1Wo"
      },
      "source": [
        "The intersection() method will return a new set, that only contains the items that are present in both sets."
      ]
    },
    {
      "cell_type": "code",
      "execution_count": null,
      "metadata": {
        "colab": {
          "base_uri": "https://localhost:8080/"
        },
        "id": "mCMq9LR9o4An",
        "outputId": "c5c7c561-8046-4b60-c744-cba8bb20ca30"
      },
      "outputs": [
        {
          "name": "stdout",
          "output_type": "stream",
          "text": [
            "{'apple'}\n"
          ]
        }
      ],
      "source": [
        "#Return a set that contains the items that exist in both set x, and set y:\n",
        "\n",
        "x = {\"apple\", \"banana\", \"cherry\"}\n",
        "y = {\"google\", \"microsoft\", \"apple\"}\n",
        "\n",
        "z = x.intersection(y)\n",
        "\n",
        "print(z)"
      ]
    },
    {
      "cell_type": "markdown",
      "metadata": {
        "id": "bXFqpAV_o72G"
      },
      "source": [
        "**Keep All, But NOT the Duplicates**\n",
        "\n",
        "The symmetric_difference_update() method will keep only the elements that are NOT present in both sets."
      ]
    },
    {
      "cell_type": "code",
      "execution_count": null,
      "metadata": {
        "id": "KxNgpMgRpEkQ"
      },
      "outputs": [],
      "source": [
        "#Keep the items that are not present in both sets:\n",
        "\n",
        "x = {\"apple\", \"banana\", \"cherry\"}\n",
        "y = {\"google\", \"microsoft\", \"apple\"}\n",
        "\n",
        "x.symmetric_difference_update(y)\n",
        "\n",
        "print(x)"
      ]
    },
    {
      "cell_type": "markdown",
      "metadata": {
        "id": "nG_mm390pL1o"
      },
      "source": [
        "The ***symmetric_difference()*** method will return a new set, that contains only the elements that are NOT present in both sets."
      ]
    },
    {
      "cell_type": "code",
      "execution_count": null,
      "metadata": {
        "id": "rquimuqHpO8n"
      },
      "outputs": [],
      "source": [
        "#Return a set that contains all items from both sets, except items that are present in both:\n",
        "\n",
        "x = {\"apple\", \"banana\", \"cherry\"}\n",
        "y = {\"google\", \"microsoft\", \"apple\"}\n",
        "\n",
        "z = x.symmetric_difference(y)\n",
        "\n",
        "print(z)"
      ]
    },
    {
      "cell_type": "markdown",
      "metadata": {
        "id": "WI6pBQ4Mpoum"
      },
      "source": [
        "#**Python Dictionaries**\n",
        "\n",
        "Dictionaries are used to store data values in key:value pairs.\n",
        "\n",
        "A dictionary is a collection which is ordered*, changeable and do not allow duplicates.\n",
        "\n",
        "As of Python version 3.7, dictionaries are ordered. In Python 3.6 and earlier, dictionaries are unordered.\n",
        "\n",
        "Dictionaries are written with curly brackets, and have keys and values:"
      ]
    },
    {
      "cell_type": "code",
      "execution_count": null,
      "metadata": {
        "id": "jXX3onk8p3qs"
      },
      "outputs": [],
      "source": [
        "my_dictionary = {\n",
        "    'apple': 'A red fruit', \n",
        "    'bear': 'A scary animal',\n",
        "    'Python': 'A programming language'\n",
        "}"
      ]
    },
    {
      "cell_type": "markdown",
      "metadata": {
        "id": "W_yfthQJqF_Q"
      },
      "source": [
        "##**Dictionary Items**\n",
        "Dictionary items are ordered, changeable, and does not allow duplicates.\n",
        "\n",
        "Dictionary items are presented in key:value pairs, and can be referred to by using the key name."
      ]
    },
    {
      "cell_type": "code",
      "execution_count": null,
      "metadata": {
        "colab": {
          "base_uri": "https://localhost:8080/",
          "height": 35
        },
        "id": "TxKf86yaqZOa",
        "outputId": "2e692f62-2f66-4faa-eba1-a32dd05d7d0b"
      },
      "outputs": [
        {
          "data": {
            "application/vnd.google.colaboratory.intrinsic+json": {
              "type": "string"
            },
            "text/plain": [
              "'A red fruit'"
            ]
          },
          "execution_count": 119,
          "metadata": {},
          "output_type": "execute_result"
        }
      ],
      "source": [
        "my_dictionary['apple']"
      ]
    },
    {
      "cell_type": "markdown",
      "metadata": {
        "id": "XQCA2Yo0qi58"
      },
      "source": [
        "**Ordered or Unordered?**\n",
        "\n",
        "As of Python version 3.7, dictionaries are ordered. In Python 3.6 and earlier, dictionaries are unordered.\n",
        "\n",
        "When we say that dictionaries are ordered, it means that the items have a defined order, and that order will not change.\n",
        "\n",
        "Unordered means that the items does not have a defined order, you cannot refer to an item by using an index.\n",
        "\n",
        "**Changeable**\n",
        "\n",
        "Dictionaries are changeable, meaning that we can change, add or remove items after the dictionary has been created.\n",
        "\n",
        "**Duplicates Not Allowed**\n",
        "\n",
        "Dictionaries cannot have two items with the same key:"
      ]
    },
    {
      "cell_type": "code",
      "execution_count": null,
      "metadata": {
        "colab": {
          "base_uri": "https://localhost:8080/"
        },
        "id": "OhlCvFZRqnb0",
        "outputId": "ba5a6d60-ff4d-48b3-c1b5-745adf57113c"
      },
      "outputs": [
        {
          "name": "stdout",
          "output_type": "stream",
          "text": [
            "{'brand': 'Ford', 'model': 'Mustang', 'year': 2020}\n"
          ]
        }
      ],
      "source": [
        "#Duplicate values will overwrite existing values:\n",
        "\n",
        "thisdict = {\n",
        "  \"brand\": \"Ford\",\n",
        "  \"model\": \"Mustang\",\n",
        "  \"year\": 1964,\n",
        "  \"year\": 2020\n",
        "}\n",
        "print(thisdict)"
      ]
    },
    {
      "cell_type": "code",
      "execution_count": null,
      "metadata": {
        "colab": {
          "base_uri": "https://localhost:8080/"
        },
        "id": "G4RW2NZdq4Kh",
        "outputId": "6b4ce908-1960-45fa-8f51-2cdfae0386dd"
      },
      "outputs": [
        {
          "name": "stdout",
          "output_type": "stream",
          "text": [
            "{'name': 'John', 'age': 36, 'country': 'Norway'}\n"
          ]
        }
      ],
      "source": [
        "#The dict() Constructor\n",
        "#It is also possible to use the dict() constructor to make a dictionary.\n",
        "\n",
        "thisdict = dict(name = \"Isaac\", age = 36, country = \"Ghana\")\n",
        "\n",
        "print(thisdict)"
      ]
    },
    {
      "cell_type": "code",
      "execution_count": null,
      "metadata": {
        "id": "lkw_axOarNzy"
      },
      "outputs": [],
      "source": [
        "#Get the value of the \"model\" key:\n",
        "\n",
        "thisdict = {\n",
        "  \"brand\": \"Ford\",\n",
        "  \"model\": \"Mustang\",\n",
        "  \"year\": 1964\n",
        "}\n",
        "x = thisdict[\"model\"]"
      ]
    },
    {
      "cell_type": "code",
      "execution_count": null,
      "metadata": {
        "colab": {
          "base_uri": "https://localhost:8080/"
        },
        "id": "3MUStzcRrSf2",
        "outputId": "5c3229fa-0f77-4594-e441-2f9aabddfc4c"
      },
      "outputs": [
        {
          "name": "stdout",
          "output_type": "stream",
          "text": [
            "Mustang\n"
          ]
        }
      ],
      "source": [
        "#There is also a method called get() that will give you the same result:\n",
        "#Get the value of the \"model\" key:\n",
        "\n",
        "x = thisdict.get(\"model\")\n",
        "\n",
        "print(x)"
      ]
    },
    {
      "cell_type": "code",
      "execution_count": null,
      "metadata": {
        "colab": {
          "base_uri": "https://localhost:8080/"
        },
        "id": "Ws1GRogHrbsX",
        "outputId": "75665799-870b-431b-bc10-ad12c289be80"
      },
      "outputs": [
        {
          "name": "stdout",
          "output_type": "stream",
          "text": [
            "dict_keys(['brand', 'model', 'year'])\n"
          ]
        }
      ],
      "source": [
        "#Get a list of the keys:\n",
        "\n",
        "x = thisdict.keys()\n",
        "\n",
        "print(x)"
      ]
    },
    {
      "cell_type": "code",
      "execution_count": null,
      "metadata": {
        "id": "F3TD7Ec8rubz"
      },
      "outputs": [],
      "source": [
        "#Add a new item to the original dictionary, and see that the keys list gets updated as well:\n",
        "\n",
        "car = {\n",
        "\"brand\": \"Ford\",\n",
        "\"model\": \"Mustang\",\n",
        "\"year\": 1964\n",
        "}\n",
        "\n",
        "x = car.keys()\n",
        "\n",
        "print(x) #before the change\n",
        "\n",
        "car[\"color\"] = \"white\"\n",
        "\n",
        "print(x) #after the change"
      ]
    },
    {
      "cell_type": "markdown",
      "metadata": {
        "id": "RHzIApaOr1aG"
      },
      "source": [
        "##**Nested Dictionaries**\n",
        "A dictionary can contain dictionaries, this is called nested dictionaries."
      ]
    },
    {
      "cell_type": "code",
      "execution_count": null,
      "metadata": {
        "id": "TR5--z8ur7AQ"
      },
      "outputs": [],
      "source": [
        "Courses = {\n",
        "  \"Course1\" : {\n",
        "    \"Title\" : \"Machine Learning & Data Mining\",\n",
        "    \"Instructor\" : \"I. K. Nti\"\n",
        "  },\n",
        "  \"Course2\" : {\n",
        "    \"Title\" : \"Principles of Cybersecurity\",\n",
        "    \"Instructor\" : \"Dr. Pinto\"\n",
        "  },\n",
        "  \"Course3\" : {\n",
        "    \"Title\" : \"IT Project\",\n",
        "    \"Instructor\" : \"Mr. Love\"\n",
        "  }\n",
        "}"
      ]
    },
    {
      "cell_type": "code",
      "execution_count": null,
      "metadata": {
        "colab": {
          "base_uri": "https://localhost:8080/"
        },
        "id": "TjzxImExs2yU",
        "outputId": "32b37c8e-5ab5-41cc-a8b9-d7324d30c531"
      },
      "outputs": [
        {
          "name": "stdout",
          "output_type": "stream",
          "text": [
            "{'course1': {'Title': 'Machine Learning & Data Mining', 'Instructor': 'I. K. Nti'}, 'course2': {'Title': 'Principles of Cybersecurity', 'Instructor': 'Dr. Pinto'}, 'course3': {'Title': 'IT Project', 'Instructor': 'Mr. Love'}}\n"
          ]
        }
      ],
      "source": [
        "#Or, if you want to add three dictionaries into a new dictionary:\n",
        "#Create three dictionaries, then create one dictionary that will contain the other three dictionaries:\n",
        "\n",
        "Course1 = {\n",
        "    \"Title\" : \"Machine Learning & Data Mining\",\n",
        "    \"Instructor\" : \"I. K. Nti\"\n",
        "  }\n",
        "\n",
        "\n",
        "Course2 = {\n",
        "    \"Title\" : \"Principles of Cybersecurity\",\n",
        "    \"Instructor\" : \"Dr. Pinto\"\n",
        "  }\n",
        "\n",
        "Course3 = {\n",
        "    \"Title\" : \"IT Project\",\n",
        "    \"Instructor\" : \"Mr. Love\"\n",
        "  }\n",
        "\n",
        "#Put all in one\n",
        "\n",
        "mycourses = {\n",
        "  \"course1\" : Course1,\n",
        "  \"course2\" : Course2,\n",
        "  \"course3\" : Course3\n",
        "}\n",
        "\n",
        "print(mycourses)"
      ]
    },
    {
      "cell_type": "markdown",
      "metadata": {
        "id": "oAyEmEipwssm"
      },
      "source": [
        "#**Control Flow**"
      ]
    },
    {
      "cell_type": "markdown",
      "metadata": {
        "id": "q09ExyPDaELt"
      },
      "source": [
        "**In Python we can achieve decision making by using the following statements:**\n",
        "\n",
        "* if statements\n",
        "* if-else statements\n",
        "* elif statements\n",
        "* Nested if and if-else statements\n",
        "* elif ladder\n",
        "\n",
        "#1) if statements\n",
        "Python if statement is one of the most commonly used conditional statements in programming languages. It decides whether certain statements need to be executed or not. It checks for a given condition, if the condition is true, then the set of code present inside the ” if ” block will be executed otherwise not.\n",
        "\n",
        "The if condition evaluates a Boolean expression and executes the block of code only when the Boolean expression becomes TRUE.\n",
        "\n",
        "![image.png](data:image/png;base64,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)"
      ]
    },
    {
      "cell_type": "markdown",
      "metadata": {
        "id": "TqVrE-72uR2p"
      },
      "source": [
        "##**Python If ... Else**\n",
        "\n",
        "Python Conditions and If statements\n",
        "Python supports the usual logical conditions from mathematics:\n",
        "\n",
        "* Equals: a == b\n",
        "* Not Equals: a != b\n",
        "* Less than: a < b\n",
        "* Less than or equal to: a <= b\n",
        "* Greater than: a > b\n",
        "* Greater than or equal to: a >= b\n",
        "\n",
        "These conditions can be used in several ways, most commonly in \"if statements\" and loops.\n",
        "\n",
        "An \"if statement\" is written by using the if keyword."
      ]
    },
    {
      "cell_type": "code",
      "execution_count": null,
      "metadata": {
        "id": "cxkRnE10uiex"
      },
      "outputs": [],
      "source": [
        "#If statement:\n",
        "\n",
        "a = 33\n",
        "b = 200\n",
        "if b > a:\n",
        "  print(\"b is greater than a\")"
      ]
    },
    {
      "cell_type": "markdown",
      "metadata": {
        "id": "oqtVoIByuxAp"
      },
      "source": [
        "In this example we use two variables, a and b, which are used as part of the if statement to test whether b is greater than a. As a is 33, and b is 200, we know that 200 is greater than 33, and so we print to screen that \"b is greater than a\"."
      ]
    },
    {
      "cell_type": "markdown",
      "metadata": {
        "id": "3OLYSPRDu_HX"
      },
      "source": [
        "\n",
        "###**Elif**\n",
        "The elif keyword is pythons way of saying \"if the previous conditions were not true, then try this condition\"."
      ]
    },
    {
      "cell_type": "code",
      "execution_count": null,
      "metadata": {
        "id": "gNZ7prsTvHh9"
      },
      "outputs": [],
      "source": [
        "a = 33\n",
        "b = 33\n",
        "if b > a:\n",
        "  print(\"b is greater than a\")\n",
        "elif a == b:\n",
        "  print(\"a and b are equal\")"
      ]
    },
    {
      "cell_type": "markdown",
      "metadata": {
        "id": "j_JT3laavKxi"
      },
      "source": [
        "In this example a is equal to b, so the first condition is not true, but the elif condition is true, so we print to screen that \"a and b are equal\"."
      ]
    },
    {
      "cell_type": "markdown",
      "metadata": {
        "id": "6_RIHPXIvOaD"
      },
      "source": [
        "###**Else**\n",
        "\n",
        "The else keyword catches anything which isn't caught by the preceding conditions."
      ]
    },
    {
      "cell_type": "code",
      "execution_count": null,
      "metadata": {
        "colab": {
          "base_uri": "https://localhost:8080/"
        },
        "id": "0eSuSdnZvL2i",
        "outputId": "d2bf0432-9043-4607-d697-5424d4afb712"
      },
      "outputs": [
        {
          "name": "stdout",
          "output_type": "stream",
          "text": [
            "a is greater than b\n"
          ]
        }
      ],
      "source": [
        "a = 200\n",
        "b = 33\n",
        "if b > a:\n",
        "  print(\"b is greater than a\")\n",
        "elif a == b:\n",
        "  print(\"a and b are equal\")\n",
        "else:\n",
        "  print(\"a is greater than b\")"
      ]
    },
    {
      "cell_type": "markdown",
      "metadata": {
        "id": "SLrQ7QyYvbAV"
      },
      "source": [
        "In this example a is greater than b, so the first condition is not true, also the elif condition is not true, so we go to the else condition and print to screen that \"a is greater than b\".\n",
        "\n",
        "You can also have an else without the elif:"
      ]
    },
    {
      "cell_type": "code",
      "execution_count": null,
      "metadata": {
        "colab": {
          "base_uri": "https://localhost:8080/"
        },
        "id": "bLrqwhwAu7rH",
        "outputId": "7ac9037c-ae46-4ef4-ac68-e12cf67188b9"
      },
      "outputs": [
        {
          "name": "stdout",
          "output_type": "stream",
          "text": [
            "b is not greater than a\n"
          ]
        }
      ],
      "source": [
        "a = 200\n",
        "b = 33\n",
        "if b > a:\n",
        "  print(\"b is greater than a\")\n",
        "else:\n",
        "  print(\"b is not greater than a\")"
      ]
    },
    {
      "cell_type": "markdown",
      "metadata": {
        "id": "QiEqve0xveUG"
      },
      "source": [
        "###**Short Hand If**\n",
        "If you have only one statement to execute, you can put it on the same line as the if statement."
      ]
    },
    {
      "cell_type": "code",
      "execution_count": null,
      "metadata": {
        "id": "W5bDWCA4vjvB"
      },
      "outputs": [],
      "source": [
        "##One line if statement:\n",
        "\n",
        "if a > b: print(\"a is greater than b\")"
      ]
    },
    {
      "cell_type": "markdown",
      "metadata": {
        "id": "YyuFk49lvw6i"
      },
      "source": [
        "###**Short Hand If ... Else**\n",
        "If you have only one statement to execute, one for if, and one for else, you can put it all on the same line:"
      ]
    },
    {
      "cell_type": "code",
      "execution_count": null,
      "metadata": {
        "id": "FENaetrXvzgc"
      },
      "outputs": [],
      "source": [
        "#One line if else statement:\n",
        "\n",
        "a = 2\n",
        "b = 330\n",
        "print(\"A\") if a > b else print(\"B\")"
      ]
    },
    {
      "cell_type": "markdown",
      "metadata": {
        "id": "70P089Udv8Ay"
      },
      "source": [
        "This technique is known as Ternary Operators, or Conditional Expressions.\n",
        "\n",
        "You can also have multiple else statements on the same line:"
      ]
    },
    {
      "cell_type": "code",
      "execution_count": null,
      "metadata": {
        "id": "YdDad7lmv84i"
      },
      "outputs": [],
      "source": [
        "#One line if else statement, with 3 conditions:\n",
        "\n",
        "a = 330\n",
        "b = 330\n",
        "print(\"A\") if a > b else print(\"=\") if a == b else print(\"B\")"
      ]
    },
    {
      "cell_type": "markdown",
      "metadata": {
        "id": "DHqsG7ulwCxX"
      },
      "source": [
        "###**And**\n",
        "The and keyword is a logical operator, and is used to combine conditional statements:"
      ]
    },
    {
      "cell_type": "code",
      "execution_count": null,
      "metadata": {
        "id": "RVotJ9kNwE0l"
      },
      "outputs": [],
      "source": [
        "#Test if a is greater than b, AND if c is greater than a:\n",
        "\n",
        "a = 200\n",
        "b = 33\n",
        "c = 500\n",
        "if a > b and c > a:\n",
        "  print(\"Both conditions are True\")"
      ]
    },
    {
      "cell_type": "markdown",
      "metadata": {
        "id": "6hAy_t0rwLVB"
      },
      "source": [
        "###**Or**\n",
        "The or keyword is a logical operator, and is used to combine conditional statements:"
      ]
    },
    {
      "cell_type": "code",
      "execution_count": null,
      "metadata": {
        "id": "1F4yG3pbwNtf"
      },
      "outputs": [],
      "source": [
        "#Test if a is greater than b, OR if a is greater than c:\n",
        "\n",
        "a = 200\n",
        "b = 33\n",
        "c = 500\n",
        "if a > b or a > c:\n",
        "  print(\"At least one of the conditions is True\")"
      ]
    },
    {
      "cell_type": "markdown",
      "metadata": {
        "id": "-Or2W9eDwT6T"
      },
      "source": [
        "###**Nested If**\n",
        "You can have if statements inside if statements, this is called nested if statements."
      ]
    },
    {
      "cell_type": "code",
      "execution_count": null,
      "metadata": {
        "id": "6FPnlUV5wWIQ"
      },
      "outputs": [],
      "source": [
        "x = 41\n",
        "\n",
        "if x > 10:\n",
        "  print(\"Above ten,\")\n",
        "  if x > 20:\n",
        "    print(\"and also above 20!\")\n",
        "  else:\n",
        "    print(\"but not above 20.\")"
      ]
    },
    {
      "cell_type": "code",
      "execution_count": null,
      "metadata": {
        "id": "Q1ZSGWg1N4RV"
      },
      "outputs": [],
      "source": [
        "a = True\n",
        "b = False\n",
        "c = True\n",
        "if a:\n",
        "    print('It is true!')\n",
        "    print('Also print this')\n",
        "    if b:\n",
        "        print('Both are true')\n",
        "        if c:\n",
        "            print('All three are true')\n",
        "else:\n",
        "    print('It is false!')\n",
        "print('Always print this')"
      ]
    },
    {
      "cell_type": "markdown",
      "metadata": {
        "id": "yfSt7cnlwbVE"
      },
      "source": [
        "**The pass Statement**\n",
        "\n",
        "if statements cannot be empty, but if you for some reason have an if statement with no content, put in the pass statement to avoid getting an error."
      ]
    },
    {
      "cell_type": "code",
      "execution_count": null,
      "metadata": {
        "id": "tTuhNhhawg6L"
      },
      "outputs": [],
      "source": [
        "a = 33\n",
        "b = 200\n",
        "\n",
        "if b > a:\n",
        "  pass"
      ]
    },
    {
      "cell_type": "markdown",
      "metadata": {
        "id": "9MA7jyyYeYhF"
      },
      "source": [
        "#**Task 2**\n",
        "In Faith college of science and technology student are graded based on a special grading scheme as shown bellow. \n",
        "The institution wansts to automate the process such that when a user enetrs a student score as input the system will assigned a grade to the student based on their grading scheme.\n",
        "\n",
        "With your experience so far in Python programming help the institution accomplish this task.\n",
        "\n",
        "![image.png](data:image/png;base64,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)"
      ]
    },
    {
      "cell_type": "code",
      "source": [
        "def College (grade):\n",
        "  if grade >= 85:\n",
        "    print('')"
      ],
      "metadata": {
        "id": "MjsMwgE3R87H"
      },
      "execution_count": null,
      "outputs": []
    },
    {
      "cell_type": "code",
      "execution_count": null,
      "metadata": {
        "colab": {
          "base_uri": "https://localhost:8080/"
        },
        "collapsed": true,
        "id": "3_nOYgLzGRCj",
        "outputId": "06176584-a99d-4b44-9ced-3ea4fbc6fa9a"
      },
      "outputs": [
        {
          "name": "stdout",
          "output_type": "stream",
          "text": [
            "Enter your score: 56.9\n",
            "D+\n"
          ]
        }
      ],
      "source": [
        "#@title\n",
        "# make grading decision based on conditional statements\n",
        "# if, elif, else\n",
        "def Grade_system (score): # Creat a simple rading function that take student score \n",
        "    if score >= 85: # check if the student score is 85 or more\n",
        "        return \"A+\"\n",
        "    elif score >= 80:\n",
        "        return \"A\"\n",
        "    elif score >= 75:\n",
        "        return \"B+\"\n",
        "    elif score >= 70:\n",
        "        return \"B\"\n",
        "    elif score >= 65:\n",
        "        return \"C+\"\n",
        "    elif score >= 60:\n",
        "        return \"C\"\n",
        "    elif score >= 55:\n",
        "        return \"D+\"\n",
        "    elif score >= 50:\n",
        "        return \"D\"\n",
        "    else:\n",
        "        return \"F\"\n",
        "    \n",
        "grade = Grade_system(int(float(input(\"Enter your score: \"))))\n",
        "print(grade)"
      ]
    },
    {
      "cell_type": "markdown",
      "metadata": {
        "id": "HYPwZvgKGeE6"
      },
      "source": [
        "##**Task No. 3**\n",
        "\n",
        "A Basic schol student want to check is a number is a prime number or not.\n",
        "\n",
        "Using your acquired skills write a simple Python code to help him solve his problem"
      ]
    },
    {
      "cell_type": "code",
      "source": [],
      "metadata": {
        "id": "Ub9SjLpcRnRm"
      },
      "execution_count": null,
      "outputs": []
    },
    {
      "cell_type": "code",
      "execution_count": null,
      "metadata": {
        "id": "0oyHPTuRG14O"
      },
      "outputs": [],
      "source": [
        "# write your codes here\n",
        "\n"
      ]
    },
    {
      "cell_type": "code",
      "execution_count": null,
      "metadata": {
        "cellView": "form",
        "colab": {
          "base_uri": "https://localhost:8080/"
        },
        "collapsed": true,
        "id": "XNnQnLCT8fzY",
        "outputId": "44520845-c3bb-4292-aef9-26a2b4f17a71"
      },
      "outputs": [
        {
          "name": "stdout",
          "output_type": "stream",
          "text": [
            "Enter a number: 7\n",
            "7 is a prime number\n"
          ]
        }
      ],
      "source": [
        "#@title\n",
        "# Solution 1\n",
        "# We build our program based on the fact that a prime number has only two factors 1 and the number it self.\n",
        "# To take input from the user\n",
        "number = int(input(\"Enter a number: \"))\n",
        "\n",
        "# creat a factor variable\n",
        "factor = 0\n",
        "\n",
        "# check if the number entered is bigger than 1\n",
        "if number > 1:\n",
        "    # check for the factors of number\n",
        "    factor = 0 # set factor to zero (0) for every new input number\n",
        "    for k in range(1, number): # generate integer from 1 to numbers\n",
        "        if (number % k) == 0: # if number divided by any integer from 1 to number gives a reminder then its a factor\n",
        "            # if factor is found, increase factor by 1\n",
        "            factor = factor + 1\n",
        "            if(factor > 2):  # break out of loop if we have two or more factors\n",
        "              break\n",
        "\n",
        "# check if flag is True\n",
        "if (factor <= 2):\n",
        "    print(number, \"is a prime number\")\n",
        "else:\n",
        "    print(number, \"is not a prime number\")\n",
        "\n",
        "\n",
        "#Note: Try improve the program by decreasing the range of numbers where we look for factors.\n",
        "#Tips\n",
        "# Reduce range range(2,num//2) or range(2,math.floor(math.sqrt(num)+1))\n"
      ]
    },
    {
      "cell_type": "code",
      "execution_count": null,
      "metadata": {
        "cellView": "form",
        "colab": {
          "base_uri": "https://localhost:8080/"
        },
        "collapsed": true,
        "id": "XrA7r0on-5jR",
        "outputId": "119824f7-57c2-449e-aa06-f0ea2fc506e6"
      },
      "outputs": [
        {
          "name": "stdout",
          "output_type": "stream",
          "text": [
            "Enter a number: 11\n",
            "Number is a prime\n"
          ]
        }
      ],
      "source": [
        "#@title\n",
        "#Solution 2\n",
        "def Check_prime(number):\n",
        "  for j in range(2,number):\n",
        "    if (number % j) == 0:\n",
        "      return False\n",
        "  return True\n",
        "\n",
        "if(Check_prime(int(input(\"Enter a number: \")))== True):\n",
        "  print(\"Number is a prime\")\n",
        "else:\n",
        "  print(\"Number not a prime\")"
      ]
    },
    {
      "cell_type": "markdown",
      "metadata": {
        "id": "vJe56VYsOJoz"
      },
      "source": [
        "##**While Loops**\n",
        "\n",
        "Python has two primitive loop commands:\n",
        "\n",
        "* while loops\n",
        "* for loops\n",
        "\n",
        "**The while Loop**\n",
        "\n",
        "With the while loop we can execute a set of statements as long as a condition is true."
      ]
    },
    {
      "cell_type": "code",
      "execution_count": null,
      "metadata": {
        "id": "aly4j1lAOYun"
      },
      "outputs": [],
      "source": [
        "#Print i as long as i is less than 6:\n",
        "\n",
        "a = 0\n",
        "while a < 5:\n",
        "    print(a)\n",
        "    a = a + 1\n",
        "#Note: remember to increment i, or else the loop will continue forever."
      ]
    },
    {
      "cell_type": "markdown",
      "metadata": {
        "id": "hkuk5LLOOt0o"
      },
      "source": [
        "The while loop requires relevant variables to be ready, in this example we need to define an indexing variable, i, which we set to 1.\n",
        "\n",
        "**The break Statement**\n",
        "\n",
        "With the break statement we can stop the loop even if the while condition is true:"
      ]
    },
    {
      "cell_type": "code",
      "execution_count": null,
      "metadata": {
        "id": "4hEm5xaiOiXs"
      },
      "outputs": [],
      "source": [
        "#Exit the loop when i is 3:\n",
        "\n",
        "i = 1\n",
        "while i < 6:\n",
        "  print(i)\n",
        "  if i == 3:\n",
        "    break\n",
        "  i += 1"
      ]
    },
    {
      "cell_type": "markdown",
      "metadata": {
        "id": "lqKH8-hAO4Cj"
      },
      "source": [
        "**The continue Statement**\n",
        "\n",
        "With the continue statement we can stop the current iteration, and continue with the next:"
      ]
    },
    {
      "cell_type": "code",
      "execution_count": null,
      "metadata": {
        "id": "TrKubpiHO52X"
      },
      "outputs": [],
      "source": [
        "#Continue to the next iteration if i is 3:\n",
        "\n",
        "i = 0\n",
        "while i < 6:\n",
        "  i += 1\n",
        "  if i == 3:\n",
        "    continue\n",
        "  print(i)"
      ]
    },
    {
      "cell_type": "markdown",
      "metadata": {
        "id": "J7Yo6LtyO_YD"
      },
      "source": [
        "**The else Statement**\n",
        "\n",
        "With the else statement we can run a block of code once when the condition no longer is true:"
      ]
    },
    {
      "cell_type": "code",
      "execution_count": null,
      "metadata": {
        "id": "AiXa2TIRPBNw"
      },
      "outputs": [],
      "source": [
        "#Print a message once the condition is false:\n",
        "\n",
        "i = 1\n",
        "while i < 6:\n",
        "  print(i)\n",
        "  i += 1\n",
        "else:\n",
        "  print(\"i is no longer less than 6\")"
      ]
    },
    {
      "cell_type": "markdown",
      "metadata": {
        "id": "LWUcyubKHLfv"
      },
      "source": [
        "##**The For Loop**\n",
        "\n",
        "A for loop is used for iterating over a sequence (that is either a list, a tuple, a dictionary, a set, or a string).\n",
        "\n",
        "This is less like the for keyword in other programming languages, and works more like an iterator method as found in other object-orientated programming languages.\n",
        "\n",
        "With the for loop we can execute a set of statements, once for each item in a list, tuple, set etc."
      ]
    },
    {
      "cell_type": "code",
      "execution_count": null,
      "metadata": {
        "id": "bUS_jtJAPOhi"
      },
      "outputs": [],
      "source": [
        "names = [\"Isaac\", \"Fred\", \"Mike\"]\n",
        "for x in names:\n",
        "  print(x)"
      ]
    },
    {
      "cell_type": "markdown",
      "metadata": {
        "id": "Rr0VZSP7PU5f"
      },
      "source": [
        "**Looping Through a String**\n",
        "\n",
        "Even strings are iterable objects, they contain a sequence of characters:"
      ]
    },
    {
      "cell_type": "code",
      "execution_count": null,
      "metadata": {
        "id": "358ZtH9OPY8n"
      },
      "outputs": [],
      "source": [
        "#Loop through the letters in the word \"banana\":\n",
        "\n",
        "for x in \"Fred\":\n",
        "  print(x)"
      ]
    },
    {
      "cell_type": "code",
      "execution_count": null,
      "metadata": {
        "colab": {
          "base_uri": "https://localhost:8080/"
        },
        "id": "hHNFnAmgGbEh",
        "outputId": "347d4a0f-b169-456c-a749-e10e6266be3d"
      },
      "outputs": [
        {
          "name": "stdout",
          "output_type": "stream",
          "text": [
            "[100, 91, 82, 73, 64, 55, 46, 37, 28, 19]\n",
            "[1, 3, 5, 7, 9, 11, 13, 15, 17, 19, 21, 23, 25, 27, 29, 31, 33, 35, 37, 39, 41, 43, 45, 47, 49, 51, 53, 55, 57, 59, 61, 63, 65, 67, 69, 71, 73, 75, 77, 79, 81, 83, 85, 87, 89, 91, 93, 95, 97, 99]\n"
          ]
        },
        {
          "data": {
            "text/plain": [
              "range(0, 10)"
            ]
          },
          "execution_count": 2,
          "metadata": {},
          "output_type": "execute_result"
        }
      ],
      "source": [
        "#before we move on to the looping structure, let's take a look at range class\n",
        "i=range(100,10,-9)\n",
        "print([a for a in i])\n",
        "\n",
        "start = 1\n",
        "end = 100\n",
        "step = 2 \n",
        "print([a for a in range(start,end,step)]) #all odd numbers between 1 and 11 \n",
        "\n",
        "range(10) #integers from 0 to 9 "
      ]
    },
    {
      "cell_type": "markdown",
      "metadata": {
        "id": "BgtqYqKbHYlR"
      },
      "source": [
        "###**Nested For Loop**"
      ]
    },
    {
      "cell_type": "code",
      "execution_count": null,
      "metadata": {
        "id": "7vCu-d-GHegO"
      },
      "outputs": [],
      "source": [
        "text=\"In this final project, you are going to apply all the knowledge and skills you have learned from this course to put together a data science project and report\"\n",
        "words = text.split()\n",
        "print(words)\n",
        "\n",
        "for word in words:\n",
        "    if len(word) > 5:\n",
        "        print(word)"
      ]
    },
    {
      "cell_type": "code",
      "execution_count": null,
      "metadata": {
        "id": "zmfqik8uHQRq"
      },
      "outputs": [],
      "source": [
        "#now, let's look at a nested \"for\" loop example\n",
        "\n",
        "star_str = \"\"\n",
        "for i in range(9):\n",
        "    for j in range(i*2-1):\n",
        "        star_str += \"*\"\n",
        "    star_str += \"\\n\"\n",
        "\n",
        "print(star_str)"
      ]
    },
    {
      "cell_type": "code",
      "execution_count": null,
      "metadata": {
        "colab": {
          "base_uri": "https://localhost:8080/"
        },
        "id": "jz-0QvTtmBcA",
        "outputId": "bb424c79-da3e-41bd-b4ba-6b1b74d1ae18"
      },
      "outputs": [
        {
          "name": "stdout",
          "output_type": "stream",
          "text": [
            "2\n",
            "0\n",
            "2\n",
            "2\n",
            "4\n",
            "4\n",
            "6\n",
            "6\n",
            "8\n",
            "8\n",
            "10\n",
            "10\n",
            "12\n",
            "12\n",
            "14\n",
            "14\n",
            "16\n",
            "2\n",
            "3\n",
            "0\n",
            "3\n",
            "2\n",
            "5\n",
            "4\n",
            "7\n",
            "6\n",
            "9\n",
            "8\n",
            "11\n",
            "10\n",
            "13\n",
            "12\n",
            "15\n",
            "14\n",
            "17\n",
            "3\n",
            "4\n",
            "0\n",
            "4\n",
            "2\n",
            "6\n",
            "4\n",
            "8\n",
            "6\n",
            "10\n",
            "8\n",
            "12\n",
            "10\n",
            "14\n",
            "12\n",
            "16\n",
            "14\n",
            "18\n",
            "4\n",
            "5\n",
            "0\n",
            "5\n",
            "2\n",
            "7\n",
            "4\n",
            "9\n",
            "6\n",
            "11\n",
            "8\n",
            "13\n",
            "10\n",
            "15\n",
            "12\n",
            "17\n",
            "14\n",
            "19\n",
            "5\n",
            "6\n",
            "0\n",
            "6\n",
            "2\n",
            "8\n",
            "4\n",
            "10\n",
            "6\n",
            "12\n",
            "8\n",
            "14\n",
            "10\n",
            "16\n",
            "12\n",
            "18\n",
            "14\n",
            "20\n",
            "6\n",
            "7\n",
            "0\n",
            "7\n",
            "2\n",
            "9\n",
            "4\n",
            "11\n",
            "6\n",
            "13\n",
            "8\n",
            "15\n",
            "10\n",
            "17\n",
            "12\n",
            "19\n",
            "14\n",
            "21\n",
            "7\n",
            "8\n",
            "0\n",
            "8\n",
            "2\n",
            "10\n",
            "4\n",
            "12\n",
            "6\n",
            "14\n",
            "8\n",
            "16\n",
            "10\n",
            "18\n",
            "12\n",
            "20\n",
            "14\n",
            "22\n",
            "8\n",
            "9\n",
            "0\n",
            "9\n",
            "2\n",
            "11\n",
            "4\n",
            "13\n",
            "6\n",
            "15\n",
            "8\n",
            "17\n",
            "10\n",
            "19\n",
            "12\n",
            "21\n",
            "14\n",
            "23\n",
            "9\n",
            "10\n",
            "0\n",
            "10\n",
            "2\n",
            "12\n",
            "4\n",
            "14\n",
            "6\n",
            "16\n",
            "8\n",
            "18\n",
            "10\n",
            "20\n",
            "12\n",
            "22\n",
            "14\n",
            "24\n",
            "10\n",
            "11\n",
            "0\n",
            "11\n",
            "2\n",
            "13\n",
            "4\n",
            "15\n",
            "6\n",
            "17\n",
            "8\n",
            "19\n",
            "10\n",
            "21\n",
            "12\n",
            "23\n",
            "14\n",
            "25\n",
            "11\n",
            "We done looping\n"
          ]
        }
      ],
      "source": [
        "for x in range (2,12):  # first line in \"for x\" block\n",
        "    print(x)                    \n",
        "    for k in range (0,16,2):  # first line in \"for k\" block\n",
        "        print(k)               # last line in \"for k\" block  \n",
        "        print(x + k)           # last line in \"for x\" block\n",
        "    print(x)                    \n",
        "print(\"We done looping\")"
      ]
    },
    {
      "cell_type": "markdown",
      "metadata": {
        "id": "MOv32RKoPgfa"
      },
      "source": [
        "**The break Statement**\n",
        "\n",
        "With the break statement we can stop the loop before it has looped through all the items:"
      ]
    },
    {
      "cell_type": "code",
      "execution_count": null,
      "metadata": {
        "id": "rYKgUHcDPmRr"
      },
      "outputs": [],
      "source": [
        "#Exit the loop when x is \"Fred\":\n",
        "\n",
        "names = [\"Isaac\", \"Fred\", \"Mike\"]\n",
        "for x in names:\n",
        "  print(x)\n",
        "  if x == \"Fred\":\n",
        "    break"
      ]
    },
    {
      "cell_type": "code",
      "execution_count": null,
      "metadata": {
        "id": "zdkaiQbNPrTw"
      },
      "outputs": [],
      "source": [
        "#Exit the loop when x is \"Fred\", but this time the break comes before the print:\n",
        "\n",
        "names = [\"Isaac\", \"Fred\", \"Mike\"]\n",
        "for x in names:\n",
        "  if x == \"Fred\":\n",
        "    break\n",
        "  print(x)"
      ]
    },
    {
      "cell_type": "markdown",
      "metadata": {
        "id": "vkmsPJdxPvoX"
      },
      "source": [
        "**The continue Statement**\n",
        "\n",
        "With the continue statement we can stop the current iteration of the loop, and continue with the next:"
      ]
    },
    {
      "cell_type": "code",
      "execution_count": null,
      "metadata": {
        "id": "hSegqcujPvN-"
      },
      "outputs": [],
      "source": [
        "#Do not print banana:\n",
        "\n",
        "names = [\"Isaac\", \"Fred\", \"Mike\"]\n",
        "for x in names:\n",
        "  if x == \"Fred\":\n",
        "    continue\n",
        "  print(x)"
      ]
    },
    {
      "cell_type": "markdown",
      "metadata": {
        "id": "Zjke5HCKP-ZU"
      },
      "source": [
        "**The range() Function**\n",
        "\n",
        "To loop through a set of code a specified number of times, we can use the range() function,\n",
        "The range() function returns a sequence of numbers, starting from 0 by default, and increments by 1 (by default), and ends at a specified number."
      ]
    },
    {
      "cell_type": "code",
      "execution_count": null,
      "metadata": {
        "id": "38i3uOLFQCb8"
      },
      "outputs": [],
      "source": [
        "#Using the range() function:\n",
        "\n",
        "for x in range(8):\n",
        "  print(x)\n",
        "\n",
        "#Note that range(8) is not the values of 0 to 8, but the values 0 to 7."
      ]
    },
    {
      "cell_type": "markdown",
      "metadata": {
        "id": "pmy5vcu5QKwc"
      },
      "source": [
        "The range() function defaults to 0 as a starting value, however it is possible to specify the starting value by adding a parameter: range(2, 6), which means values from 2 to 6 (but not including 6):"
      ]
    },
    {
      "cell_type": "code",
      "execution_count": null,
      "metadata": {
        "id": "zCqR9T-cQL15"
      },
      "outputs": [],
      "source": [
        "#Using the start parameter:\n",
        "\n",
        "for x in range(2, 6):\n",
        "  print(x)"
      ]
    },
    {
      "cell_type": "markdown",
      "metadata": {
        "id": "OOCDRdpOQSW8"
      },
      "source": [
        "The range() function defaults to increment the sequence by 1, however it is possible to specify the increment value by adding a third parameter: range(2, 30, 3):"
      ]
    },
    {
      "cell_type": "code",
      "execution_count": null,
      "metadata": {
        "id": "YQfoeW5SQTia"
      },
      "outputs": [],
      "source": [
        "#Increment the sequence with 3 (default is 1):\n",
        "\n",
        "for x in range(2, 30, 3):\n",
        "  print(x)"
      ]
    },
    {
      "cell_type": "code",
      "execution_count": null,
      "metadata": {
        "colab": {
          "base_uri": "https://localhost:8080/"
        },
        "id": "vpLkrpm1IQAV",
        "outputId": "d9fab193-c1ee-49ab-8828-ca8545ea1439"
      },
      "outputs": [
        {
          "name": "stdout",
          "output_type": "stream",
          "text": [
            "2\n",
            "4\n",
            "6\n",
            "8\n",
            "10\n",
            "12\n",
            "14\n",
            "16\n",
            "18\n",
            "20\n",
            "22\n",
            "24\n",
            "26\n",
            "28\n",
            "30\n",
            "32\n",
            "34\n",
            "36\n",
            "38\n",
            "40\n",
            "42\n",
            "44\n",
            "46\n",
            "48\n",
            "50\n",
            "52\n",
            "54\n",
            "56\n",
            "58\n",
            "60\n",
            "62\n",
            "64\n",
            "66\n",
            "68\n",
            "70\n",
            "72\n",
            "74\n",
            "76\n",
            "78\n",
            "80\n",
            "82\n",
            "84\n",
            "86\n",
            "88\n",
            "90\n",
            "92\n",
            "94\n",
            "96\n",
            "98\n",
            "100\n",
            "102\n",
            "104\n",
            "106\n",
            "108\n",
            "110\n",
            "112\n",
            "114\n",
            "116\n",
            "118\n",
            "120\n",
            "122\n",
            "124\n",
            "126\n",
            "128\n",
            "130\n",
            "132\n",
            "134\n",
            "136\n",
            "138\n",
            "140\n",
            "142\n",
            "144\n",
            "146\n",
            "148\n",
            "150\n",
            "152\n",
            "154\n",
            "156\n",
            "158\n",
            "160\n",
            "162\n",
            "164\n",
            "166\n",
            "168\n",
            "170\n",
            "172\n",
            "174\n",
            "176\n",
            "178\n",
            "180\n",
            "182\n",
            "184\n",
            "186\n",
            "188\n",
            "190\n",
            "192\n",
            "194\n",
            "196\n",
            "198\n",
            "200\n",
            "202\n",
            "204\n",
            "206\n",
            "208\n",
            "210\n",
            "212\n",
            "214\n",
            "216\n",
            "218\n",
            "220\n",
            "222\n",
            "224\n",
            "226\n",
            "228\n",
            "230\n",
            "232\n",
            "234\n",
            "236\n",
            "238\n",
            "240\n",
            "242\n",
            "244\n",
            "246\n",
            "248\n",
            "250\n",
            "252\n",
            "254\n",
            "256\n",
            "258\n",
            "260\n",
            "262\n",
            "264\n",
            "266\n",
            "268\n",
            "270\n",
            "272\n",
            "274\n",
            "276\n",
            "278\n",
            "280\n",
            "282\n",
            "284\n",
            "286\n",
            "288\n",
            "290\n",
            "292\n",
            "294\n",
            "296\n",
            "298\n",
            "300\n",
            "302\n",
            "304\n",
            "306\n",
            "308\n",
            "310\n",
            "312\n",
            "314\n",
            "316\n",
            "318\n",
            "320\n",
            "322\n",
            "324\n",
            "326\n",
            "328\n",
            "330\n",
            "332\n",
            "334\n",
            "336\n",
            "338\n",
            "340\n",
            "342\n",
            "344\n",
            "346\n",
            "348\n",
            "350\n",
            "352\n",
            "354\n",
            "356\n",
            "358\n",
            "360\n",
            "362\n",
            "364\n",
            "366\n",
            "368\n",
            "370\n",
            "372\n",
            "374\n",
            "376\n",
            "378\n",
            "380\n",
            "382\n",
            "384\n",
            "386\n",
            "388\n",
            "390\n",
            "392\n",
            "394\n",
            "396\n",
            "398\n"
          ]
        }
      ],
      "source": [
        "#We can use \"break\" and \"continue\" to improve the efficiency of the program\n",
        "#The following code finds the prime numbers within 400\n",
        "for i in range(2,400):  #set the loop range from 2 to 399\n",
        "    prime=True          #assume each number is prime number without testing\n",
        "    for j in range(2,i-1):   #create an inner loop to find if there is a factor (quiz: what's a better range than this)\n",
        "        if i%j ==0:          #if a factor is found\n",
        "            prime=False      #mark i is not prime\n",
        "            break            #completely stop inner loop\n",
        "    if prime==False:    #we can simple use if prime: print(i) here. But I'd like to show the use continue\n",
        "        continue        #skip the remaining statements of i loop\n",
        "        \n",
        "    print(i)            # the prime number is printed "
      ]
    },
    {
      "cell_type": "markdown",
      "metadata": {
        "id": "SAALhEmrQaWK"
      },
      "source": [
        "**Else in For Loop**\n",
        "\n",
        "The else keyword in a for loop specifies a block of code to be executed when the loop is finished:"
      ]
    },
    {
      "cell_type": "code",
      "execution_count": null,
      "metadata": {
        "id": "x3l8RdijQgE8"
      },
      "outputs": [],
      "source": [
        "#Print all numbers from 0 to 5, and print a message when the loop has ended:\n",
        "\n",
        "for x in range(6):\n",
        "  print(x)\n",
        "else:\n",
        "  print(\"Finally finished!\")\n",
        "\n",
        "#Note: The else block will NOT be executed if the loop is stopped by a break statement."
      ]
    },
    {
      "cell_type": "code",
      "execution_count": null,
      "metadata": {
        "id": "gR4mo32tQowo"
      },
      "outputs": [],
      "source": [
        "#@title\n",
        "#Break the loop when x is 3, and see what happens with the else block:\n",
        "\n",
        "for x in range(6):\n",
        "  if x == 3: break\n",
        "  print(x)\n",
        "else:\n",
        "  print(\"Finally finished!\")"
      ]
    },
    {
      "cell_type": "markdown",
      "metadata": {
        "id": "p2JEqVkhQtiT"
      },
      "source": [
        "**The pass Statement**\n",
        "\n",
        "for loops cannot be empty, but if you for some reason have a for loop with no content, put in the pass statement to avoid getting an error."
      ]
    },
    {
      "cell_type": "code",
      "execution_count": null,
      "metadata": {
        "id": "oTztKZRrQyAk"
      },
      "outputs": [],
      "source": [
        "for x in [0, 1, 2]:\n",
        "  pass"
      ]
    },
    {
      "cell_type": "markdown",
      "metadata": {
        "id": "UYJIddKUqi-W"
      },
      "source": [
        "###**Task 3**\n",
        "\n",
        "1. Create a 4x5 (4 rows x 5 columns) list caled MyList with random numbers\n",
        "\n",
        "2. Using your for loop knowledge print out each row in your list while printing each item in the row"
      ]
    },
    {
      "cell_type": "code",
      "execution_count": null,
      "metadata": {
        "id": "s-wPyV4ErAcV"
      },
      "outputs": [],
      "source": [
        "# Write your codes here\n",
        "\n",
        "#Tip creat simple four list of five element each\n",
        "\n",
        "#Eample list1, list2 .....\n",
        "\n",
        "litt1 = [32, 8, 52, 56, 78]\n",
        "\n",
        "\n",
        "#Combined the individual list as one\n",
        "\n",
        "\n",
        "\n",
        "\n"
      ]
    },
    {
      "cell_type": "code",
      "execution_count": null,
      "metadata": {
        "cellView": "form",
        "id": "RM9Uj5GorY6H"
      },
      "outputs": [],
      "source": [
        "#@title\n",
        "#solution\n",
        "\n",
        "#1. Create a 4x5 (4 rows x 5 columns) list caled MyList with random numbers\n",
        "row1 = [24, 94, 89, 35, 34]  # First row\n",
        "\n",
        "row2 = [21, 4, 9, 5, 374] # Second row\n",
        "\n",
        "row3 = [621, 84, 29, 65, 1374] # Third row\n",
        "\n",
        "row4 = [213, 43, 93, 53, 3743] # Fourth row\n",
        "\n",
        "MyList =[row1, row2, row3, row4] # Combine to creat the final list\n",
        "\n",
        "print(MyList) # visulise my entire list to\n",
        "\n",
        "#2. Using your for loop knowledge print out each row in your list while printing each item in the row\n",
        "\n",
        "for x in MyList:  # First Loop through all rows in list one-afer-the-other\n",
        "  \n",
        "  print(x) # print each row in the list\n",
        "\n",
        "  for k in x: # For each selected row (x) print each item in it\n",
        "    print(k)"
      ]
    },
    {
      "cell_type": "code",
      "source": [],
      "metadata": {
        "id": "Fdu6VtCwRvBb"
      },
      "execution_count": null,
      "outputs": []
    },
    {
      "cell_type": "markdown",
      "metadata": {
        "id": "vQ4iTLQMiaTe"
      },
      "source": [
        "#**Python Functions**\n",
        "A function is a block of code which only runs when it is called.\n",
        "You can pass data, known as parameters, into a function.\n",
        "A function can return data as a result.\n"
      ]
    },
    {
      "cell_type": "markdown",
      "metadata": {
        "id": "7V-vyoqPjbxI"
      },
      "source": [
        "###**Creating a Function**\n",
        "\n",
        "In Python a function is defined using the def keyword:"
      ]
    },
    {
      "cell_type": "code",
      "execution_count": null,
      "metadata": {
        "id": "p4agL1Afitvq"
      },
      "outputs": [],
      "source": [
        "#Creating my first function\n",
        "def myfirst_function(): # Function declaration and definition\n",
        "  print(\"Welcome to Machine learning and data mining class\")"
      ]
    },
    {
      "cell_type": "markdown",
      "metadata": {
        "id": "tiPMcDOWjWRF"
      },
      "source": [
        "###**Calling a Function**\n",
        "To call a function, use the function name followed by parenthesis:"
      ]
    },
    {
      "cell_type": "code",
      "execution_count": null,
      "metadata": {
        "colab": {
          "base_uri": "https://localhost:8080/"
        },
        "id": "HnDpLpDGjjw3",
        "outputId": "e30083f6-aded-4bfe-8a0a-e6d81217ec6f"
      },
      "outputs": [
        {
          "name": "stdout",
          "output_type": "stream",
          "text": [
            "Welcome to Machine learning and data mining\n"
          ]
        }
      ],
      "source": [
        "def myfirst_function():\n",
        "  print(\"Welcome to Machine learning and data mining class\")\n",
        "\n",
        "myfirst_function()"
      ]
    },
    {
      "cell_type": "markdown",
      "metadata": {
        "id": "4VnEBXIpj6d9"
      },
      "source": [
        "###**Arguments**\n",
        "Information can be passed into functions as arguments.\n",
        "\n",
        "Arguments are specified after the function name, inside the parentheses. You can add as many arguments as you want, just separate them with a comma.\n",
        "\n",
        "The following example has a function with one argument (age). When the function is called, we pass along a age, which is used inside the function to print the age of a user:"
      ]
    },
    {
      "cell_type": "code",
      "execution_count": null,
      "metadata": {
        "colab": {
          "base_uri": "https://localhost:8080/"
        },
        "id": "qxUc1vp6kUgo",
        "outputId": "7fb9713f-446d-4562-c6c7-6c97bc041743"
      },
      "outputs": [
        {
          "name": "stdout",
          "output_type": "stream",
          "text": [
            "Wow! you are 8 years old\n"
          ]
        }
      ],
      "source": [
        "def Your_age(age):\n",
        "   print(\"Wow! you are {} years old\".format(age))\n",
        "\n",
        "Your_age(8)\n",
        "\n",
        "#Arguments are often shortened to args in Python documentations."
      ]
    },
    {
      "cell_type": "markdown",
      "metadata": {
        "id": "ThMChNwqqe51"
      },
      "source": [
        "**Parameters or Arguments?**\n",
        "\n",
        "The terms parameter and argument can be used for the same thing: information that are passed into a function.\n",
        "\n",
        "From a function's perspective:\n",
        "\n",
        "A parameter is the variable listed inside the parentheses in the function definition.\n",
        "\n",
        "An argument is the value that is sent to the function when it is called."
      ]
    },
    {
      "cell_type": "markdown",
      "metadata": {
        "id": "MzWTcjreqnlA"
      },
      "source": [
        "###**Number of Arguments**\n",
        "By default, a function must be called with the correct number of arguments. Meaning that if your function expects 2 arguments, you have to call the function with 2 arguments, not more, and not less."
      ]
    },
    {
      "cell_type": "code",
      "execution_count": null,
      "metadata": {
        "colab": {
          "base_uri": "https://localhost:8080/"
        },
        "id": "tBv7M-k2q34j",
        "outputId": "dd7b51c9-6e53-4be9-8115-01f912a2aad7"
      },
      "outputs": [
        {
          "name": "stdout",
          "output_type": "stream",
          "text": [
            "Hello what is your name: Kofi\n",
            "How old are you: 78\n",
            "Welcome! Kofi, you are 78 years old\n"
          ]
        }
      ],
      "source": [
        "#This function expects 2 arguments, and gets 2 arguments:\n",
        "\n",
        "def my_function(Name, age):\n",
        "  \n",
        "  print(\"Welcome! {}, you are {} years old\".format(Name,age))\n",
        "\n",
        "name_ = input (\"Hello what is your name: \")\n",
        "age_ = input (\"How old are you: \")\n",
        "my_function(Name = name_, age = age_)\n",
        "\n",
        "# see how we assigne the arguments\n",
        "# Its known as Keyword Arguments\n",
        "#You can also send arguments with the key = value syntax."
      ]
    },
    {
      "cell_type": "markdown",
      "metadata": {
        "id": "eFh9fB3RtD4V"
      },
      "source": [
        "###**Arbitrary Arguments, *args**\n",
        "If you do not know how many arguments that will be passed into your function, add a * before the parameter name in the function definition.\n",
        "\n",
        "This way the function will receive a tuple of arguments, and can access the items accordingly:"
      ]
    },
    {
      "cell_type": "code",
      "execution_count": null,
      "metadata": {
        "colab": {
          "base_uri": "https://localhost:8080/"
        },
        "id": "SujJfyIOtPOj",
        "outputId": "e553f4e8-4b40-4a69-f81f-0328552c00be"
      },
      "outputs": [
        {
          "name": "stdout",
          "output_type": "stream",
          "text": [
            "What is your favoriate course Machine learning\n"
          ]
        }
      ],
      "source": [
        "#If the number of arguments is unknown, add a * before the parameter name:\n",
        "\n",
        "def My_course(*course):\n",
        "  print(\"What is your favoriate course \" + course[3]) # We expect input arguments to by four (0 -3) then we print out the four\n",
        "\n",
        "My_course(\"Math\", \"cybersecurity\", \"Advance Analytics\",\"Machine learning\")\n",
        "#Arbitrary Arguments are often shortened to *args in Python documentations."
      ]
    },
    {
      "cell_type": "markdown",
      "metadata": {
        "id": "qXi2aWzIZRHv"
      },
      "source": [
        "###**Default Parameter Value**\n",
        "The following example shows how to use a default parameter value.\n",
        "\n",
        "If we call the function without argument, it uses the default value:"
      ]
    },
    {
      "cell_type": "code",
      "execution_count": null,
      "metadata": {
        "colab": {
          "base_uri": "https://localhost:8080/"
        },
        "id": "hHs-iZ3FZasR",
        "outputId": "f3862aa1-bd9b-497d-dfac-506f0bc7cef7"
      },
      "outputs": [
        {
          "name": "stdout",
          "output_type": "stream",
          "text": [
            "5 exponent 2 = 25\n",
            "3 exponent 4 = 81\n",
            "4 exponent 0 = 1\n"
          ]
        }
      ],
      "source": [
        "# Let us build a simple function the mutilple a numbr by itself number of times but with 2 as default\n",
        "#Let say we want to multiple 5 by itself three time (5^3)\n",
        "# Hence base = 5 expoonent (expo) = 3\n",
        "# Answer = 5 * 5 * 5\n",
        "def NumberRaiser(base,expo = 2):\n",
        "  Ans = 1 # Let declare a variable to hold the answer\n",
        "  if(expo == 0):\n",
        "    Ans = 1\n",
        "  else:\n",
        "    for x in range(0, expo):\n",
        "     Ans = Ans * base\n",
        "    \n",
        "  print(\"{} exponent {} = {}\".format(base,expo, Ans))\n",
        "\n",
        "  \n",
        "NumberRaiser(5)\n",
        "NumberRaiser(3,4)\n",
        "NumberRaiser(4,0)\n"
      ]
    },
    {
      "cell_type": "markdown",
      "metadata": {
        "id": "TPyBi9NXdEo6"
      },
      "source": [
        "###**Passing a List as an Argument**\n",
        "You can send any data types of argument to a function (string, number, list, dictionary etc.), and it will be treated as the same data type inside the function.\n",
        "\n",
        "E.g. if you send a List as an argument, it will still be a List when it reaches the function:"
      ]
    },
    {
      "cell_type": "code",
      "execution_count": null,
      "metadata": {
        "colab": {
          "base_uri": "https://localhost:8080/"
        },
        "id": "tNuwNkUIdOYS",
        "outputId": "28fb90ca-2e97-472b-83b8-5605b6aead60"
      },
      "outputs": [
        {
          "name": "stdout",
          "output_type": "stream",
          "text": [
            "23\n",
            "21\n",
            "25\n",
            "26\n"
          ]
        }
      ],
      "source": [
        "def ClassAges(course):\n",
        "  for coourse_ in course:\n",
        "    print(coourse_)\n",
        "\n",
        "\n",
        "\n",
        "ClassAges([23, 21, 25, 26])"
      ]
    },
    {
      "cell_type": "markdown",
      "metadata": {
        "id": "M9qzMKNCfbTz"
      },
      "source": [
        "**Return Values**\n",
        "To let a function return a value, use the return statement:"
      ]
    },
    {
      "cell_type": "code",
      "execution_count": null,
      "metadata": {
        "colab": {
          "base_uri": "https://localhost:8080/"
        },
        "id": "_BB0HFu5fj1f",
        "outputId": "3a547b2c-1c5c-4f94-f537-8f4a657582f3"
      },
      "outputs": [
        {
          "name": "stdout",
          "output_type": "stream",
          "text": [
            "5^2 = 25\n",
            "3^4 = 81\n"
          ]
        }
      ],
      "source": [
        "# Let us build a simple function the mutilple a numbr by itself number of times but with 2 as default\n",
        "#Let say we want to multiple 5 by itself three time (5^3)\n",
        "# Hence base = 5 expoonent (expo) = 3\n",
        "# Answer = 5 * 5 * 5\n",
        "def NumberRaiser(base,expo = 2):\n",
        "  Ans = 1 # Let declare a variable to hold the answer\n",
        "  if(expo == 0):\n",
        "    Ans = 1\n",
        "  else:\n",
        "    for x in range(0, expo):\n",
        "     Ans = Ans * base\n",
        "    \n",
        "  return(\"{}^{} = {}\".format(base,expo, Ans)) # the function returns a string\n",
        "\n",
        "  \n",
        "print (NumberRaiser(5))\n",
        "print(NumberRaiser(3,4))"
      ]
    },
    {
      "cell_type": "markdown",
      "metadata": {
        "id": "1GDo9Qa-gvBD"
      },
      "source": [
        "##**The pass Statement**\n",
        "function definitions cannot be empty, but if you for some reason have a function definition with no content, put in the pass statement to avoid getting an error."
      ]
    },
    {
      "cell_type": "code",
      "execution_count": null,
      "metadata": {
        "id": "NfD0FiBDg1En"
      },
      "outputs": [],
      "source": [
        "def NumberRaiser():\n",
        "  pass"
      ]
    },
    {
      "cell_type": "markdown",
      "metadata": {
        "id": "KxCYDuythGOQ"
      },
      "source": [
        "###**Recursion**\n",
        "Python also accepts function recursion, which means a defined function can call itself.\n",
        "\n",
        "Recursion is a common mathematical and programming concept. It means that a function calls itself. This has the benefit of meaning that you can loop through data to reach a result.\n",
        "\n",
        "The developer should be very careful with recursion as it can be quite easy to slip into writing a function which never terminates, or one that uses excess amounts of memory or processor power. However, when written correctly recursion can be a very efficient and mathematically-elegant approach to programming.\n"
      ]
    },
    {
      "cell_type": "code",
      "execution_count": null,
      "metadata": {
        "colab": {
          "base_uri": "https://localhost:8080/"
        },
        "id": "hNGoLtNnh1ap",
        "outputId": "334cdcef-341e-44d2-ca95-a347cbd591f4"
      },
      "outputs": [
        {
          "name": "stdout",
          "output_type": "stream",
          "text": [
            "\n",
            "\n",
            "Recursion Example\n",
            "1\n",
            "3\n",
            "6\n",
            "10\n"
          ]
        },
        {
          "data": {
            "text/plain": [
              "10"
            ]
          },
          "execution_count": 20,
          "metadata": {},
          "output_type": "execute_result"
        }
      ],
      "source": [
        "def tri_recursion(x): #tri_recursion() is a function that we have defined to call itself (\"recurse\")\n",
        "  if(x > 0): #  x variable as the data, which decrements (-1) every time we recurse\n",
        "    Ans = x + tri_recursion(x - 1) # recursion ends when the condition is not greater than 0 (i.e. when it is 0).\n",
        "    print(Ans)\n",
        "  else:\n",
        "    Ans = 0\n",
        "  return Ans\n",
        "\n",
        "print(\"\\n\\nRecursion Example\")\n",
        "tri_recursion(4)\n",
        "\n",
        "#To a new developer it can take some time to work out how exactly this works, best way to find out is by testing and modifying it."
      ]
    },
    {
      "cell_type": "markdown",
      "metadata": {
        "id": "Qm-YMT3Zj68X"
      },
      "source": [
        "###**Function Overloading**\n",
        "Two or more methods have the same name but different numbers of parameters or different types of parameters, or both. These methods are called overloaded methods and this is called method overloading. \n",
        "\n",
        "Like other languages (for example, method overloading in C++) do, python does not support method overloading by default.\n",
        "\n",
        "[But there are different ways to achieve method overloading in Python.](https://www.geeksforgeeks.org/python-method-overloading/)\n"
      ]
    },
    {
      "cell_type": "markdown",
      "metadata": {
        "id": "GVxxIHAOoEeC"
      },
      "source": [
        "###**Lambda**\n",
        "A lambda function is a small anonymous function.\n",
        "\n",
        "A lambda function can take any number of arguments, but can only have one expression.\n",
        "\n",
        "**Syntax**\n",
        "\n",
        "*lambda arguments : expression*\n",
        "\n",
        "The expression is executed and the result is returned:"
      ]
    },
    {
      "cell_type": "code",
      "execution_count": null,
      "metadata": {
        "colab": {
          "base_uri": "https://localhost:8080/"
        },
        "id": "Kc_nuYDPohgV",
        "outputId": "1874d555-8802-4466-94ac-6124428dde1d"
      },
      "outputs": [
        {
          "name": "stdout",
          "output_type": "stream",
          "text": [
            "44\n"
          ]
        }
      ],
      "source": [
        "#Add 36 to argument k, and return the result:\n",
        "\n",
        "Num = lambda k : k + 36\n",
        "\n",
        "print(Num(8)) # here k is 8\n",
        "\n",
        "# Lambda functions can take any number of arguments:"
      ]
    },
    {
      "cell_type": "code",
      "execution_count": null,
      "metadata": {
        "colab": {
          "base_uri": "https://localhost:8080/"
        },
        "id": "vhF_6YH_pExA",
        "outputId": "908c1d4f-aa6f-48a4-e388-a101415f56f0"
      },
      "outputs": [
        {
          "name": "stdout",
          "output_type": "stream",
          "text": [
            "24\n"
          ]
        }
      ],
      "source": [
        "#Multiply argument i with argument j and return the result:\n",
        "\n",
        "Num = lambda i, j : i * j\n",
        "print(Num(3, 8))"
      ]
    },
    {
      "cell_type": "markdown",
      "metadata": {
        "id": "NZy1NG2DpkoD"
      },
      "source": [
        "**Why the use of Lambda Functions?**\n",
        "\n",
        "The power of lambda is better shown when you use them as an anonymous function inside another function.\n",
        "\n",
        "Let Say we have a function definition that takes one argument, and that argument is multiplied with an unknown number:"
      ]
    },
    {
      "cell_type": "code",
      "execution_count": null,
      "metadata": {
        "colab": {
          "base_uri": "https://localhost:8080/"
        },
        "id": "QKHJg_mOp-6L",
        "outputId": "a9957c2e-f610-46db-b191-eb11a9217ff8"
      },
      "outputs": [
        {
          "name": "stdout",
          "output_type": "stream",
          "text": [
            "Enter ant intger to triple it: 5\n",
            "15\n"
          ]
        }
      ],
      "source": [
        "def Lmfunc(j):\n",
        "  return lambda k : k * j\n",
        "\n",
        "#Let use that function definition above to make a function that always riples the argument we give\n",
        "\n",
        "TripleNumber = Lmfunc(3) # Making a copy of Lmfunc with j = 3\n",
        "\n",
        "print(TripleNumber(int(input(\"Enter an intger to triple it: \")))) # Let call TripleNumber with an argument 5 (k = 5)\n",
        "\n",
        "#That is 5 + 5 + 5\n",
        "#Use lambda functions when an anonymous function is required for a short period of time."
      ]
    },
    {
      "cell_type": "markdown",
      "metadata": {
        "id": "R4mHlfrxjTLn"
      },
      "source": [
        "#**Exceptions**\n",
        "When something goes wrong, Python raises an exception. \n",
        "\n",
        "Unhandled, exceptions will cause your program to crash. \n",
        "\n",
        "You can handle them using try and except:"
      ]
    },
    {
      "cell_type": "code",
      "execution_count": null,
      "metadata": {
        "colab": {
          "base_uri": "https://localhost:8080/"
        },
        "id": "CS9F_k-xjmqK",
        "outputId": "35421971-5b56-4f69-85a1-d0354a58478a"
      },
      "outputs": [
        {
          "name": "stdout",
          "output_type": "stream",
          "text": [
            "cannot divide by zero\n"
          ]
        }
      ],
      "source": [
        "try:\n",
        "    print(0 / 0)\n",
        "except ZeroDivisionError:\n",
        "    print(\"cannot divide by zero\")"
      ]
    },
    {
      "cell_type": "markdown",
      "metadata": {
        "id": "NLdjxWnPujm6"
      },
      "source": [
        "#**Classes and Objects**\n",
        "Python is an object oriented programming language.\n",
        "\n",
        "Almost everything in Python is an object, with its properties and methods.\n",
        "\n",
        "A Class is like an object constructor, or a \"blueprint\" for creating objects.\n",
        "\n",
        "To create a class, we use the keyword class"
      ]
    },
    {
      "cell_type": "code",
      "execution_count": null,
      "metadata": {
        "colab": {
          "base_uri": "https://localhost:8080/"
        },
        "id": "fWcEy2DQuiv8",
        "outputId": "f8feeebc-26f9-4fcc-be9a-3e357719d7d4"
      },
      "outputs": [
        {
          "name": "stdout",
          "output_type": "stream",
          "text": [
            "85\n"
          ]
        }
      ],
      "source": [
        "# Let create our first  class named OurClass, with a property named age\n",
        "\n",
        "class OurClass:\n",
        "  age = 85\n",
        "\n",
        "\n",
        "\n",
        "#Create Object\n",
        "#Now let use OurClass to create objects\n",
        "\n",
        "#Let create an object Kofi of the type OurClass, and print the value of age\n",
        "\n",
        "Kofi = OurClass()\n",
        "print(Kofi.age)"
      ]
    },
    {
      "cell_type": "markdown",
      "metadata": {
        "id": "sv0WlVz7LkJ5"
      },
      "source": [
        "##**The __init__() Function**\n",
        "The examples above are classes and objects in their simplest form, and are not really useful in real life applications.\n",
        "\n",
        "To understand the meaning of classes we have to understand the built-in __init__() function.\n",
        "\n",
        "All classes have a function called __init__(), which is always executed when the class is being initiated.\n",
        "\n",
        "Use the __init__() function to assign values to object properties, or other operations that are necessary to do when the object is being created:"
      ]
    },
    {
      "cell_type": "code",
      "execution_count": null,
      "metadata": {
        "colab": {
          "background_save": true
        },
        "id": "gS_PZYhXLrLT",
        "outputId": "8f074595-f1f7-46fd-c97c-ad8ed0969c4c"
      },
      "outputs": [
        {
          "name": "stdout",
          "output_type": "stream",
          "text": [
            "I. K. NTI\n",
            "36\n"
          ]
        }
      ],
      "source": [
        "#Create a class named Person, use the __init__() function to assign values for name and age:\n",
        "\n",
        "class Myperson:\n",
        "  def __init__(self, Myname, Myage):\n",
        "    self.Myname = Myname\n",
        "    self.Myage = Myage\n",
        "\n",
        "Mike = Myperson(\"John\", 36)\n",
        "\n",
        "print(Mike.name)\n",
        "print(Mike.age)"
      ]
    },
    {
      "cell_type": "markdown",
      "source": [
        "##**Python Modules**\n",
        "\n",
        "What is a Module?\n",
        "Consider a module to be the same as a code library.\n",
        "\n",
        "A file containing a set of functions you want to include in your application.\n",
        "\n",
        "**Create a Module**\n",
        "\n",
        "To create a module just save the code you want in a file with the file extension .py:"
      ],
      "metadata": {
        "id": "pjB5OhxnWp_J"
      }
    },
    {
      "cell_type": "code",
      "source": [
        "#Example\n",
        "#Save this code in a file named mymodule.py\n",
        "#Save in the same working directory\n",
        "\n",
        "def Whoareyou(Yourname):\n",
        "  print(\"Hi, \" + Yourname)"
      ],
      "metadata": {
        "id": "VMmcY5JAW5hD"
      },
      "execution_count": null,
      "outputs": []
    },
    {
      "cell_type": "code",
      "source": [
        "#Import the module named mymodule, and call the greeting function:\n",
        "\n",
        "import mymodule\n",
        "\n",
        "mymodule.Whoareyou(\"Jonathan\")"
      ],
      "metadata": {
        "id": "q2dGaHh3XabG"
      },
      "execution_count": null,
      "outputs": []
    },
    {
      "cell_type": "markdown",
      "source": [
        "##**Python Datetime**\n",
        "\n",
        "A date in Python is not a data type of its own, but we can import a module named datetime to work with dates as date objects."
      ],
      "metadata": {
        "id": "X6TRHcZGX39d"
      }
    },
    {
      "cell_type": "code",
      "source": [
        "#Import the datetime module and display the current date:\n",
        "\n",
        "import datetime\n",
        "\n",
        "date = datetime.datetime.now()\n",
        "print(date)\n",
        "\n",
        "#Return the year and name of weekday:\n",
        "\n",
        "print(date.year)\n",
        "print(date.strftime(\"%A\"))\n",
        "\n",
        "#Creating Date Objects\n",
        "Mydate = datetime.datetime(2016, 9, 18)\n",
        "\n",
        "print(Mydate)\n",
        "\n",
        "\n",
        "#The datetime() class also takes parameters for time and timezone (hour, minute, second, microsecond, tzone), \n",
        "#but they are optional, and has a default value of 0, (None for timezone).\n",
        "#Read More: https://www.w3schools.com/python/python_datetime.asp"
      ],
      "metadata": {
        "colab": {
          "base_uri": "https://localhost:8080/"
        },
        "id": "D362OUvNYAP8",
        "outputId": "f4e66b51-82a4-4307-9f24-a9e4f3f78e16"
      },
      "execution_count": null,
      "outputs": [
        {
          "output_type": "stream",
          "name": "stdout",
          "text": [
            "2023-01-05 14:43:06.360234\n",
            "2023\n",
            "Thursday\n",
            "2016-09-18 00:00:00\n"
          ]
        }
      ]
    },
    {
      "cell_type": "markdown",
      "source": [
        "##**Python Math**\n",
        "\n",
        "Python has a set of built-in math functions, including an extensive math module, that allows you to perform mathematical tasks on numbers.\n",
        "\n",
        "**Built-in Math Functions**\n",
        "\n",
        "The min() and max() functions can be used to find the lowest or highest value in an iterable:"
      ],
      "metadata": {
        "id": "RbuEiViZZL3F"
      }
    },
    {
      "cell_type": "code",
      "source": [
        "#Example\n",
        "Ages = (51, 23, 25, 28, 40, 22)\n",
        "\n",
        "print(min(Ages)) # Print the minimum age\n",
        "\n",
        "print(max(Ages)) # Print the maximum age"
      ],
      "metadata": {
        "colab": {
          "base_uri": "https://localhost:8080/"
        },
        "id": "Wkw5tVNkZXb7",
        "outputId": "0b9e8a0b-0859-4248-ef1e-7104aee478a4"
      },
      "execution_count": null,
      "outputs": [
        {
          "output_type": "stream",
          "name": "stdout",
          "text": [
            "22\n",
            "51\n"
          ]
        }
      ]
    },
    {
      "cell_type": "code",
      "source": [
        "#The abs() function returns the absolute (positive) value of the specified number:\n",
        "Mynumer = abs(-8.12)\n",
        "\n",
        "print(Mynumer)"
      ],
      "metadata": {
        "colab": {
          "base_uri": "https://localhost:8080/"
        },
        "id": "xM9ZQIXkZ0hv",
        "outputId": "51c2aa59-bc92-4411-ef13-10a4dcc70cd9"
      },
      "execution_count": null,
      "outputs": [
        {
          "output_type": "stream",
          "name": "stdout",
          "text": [
            "8.12\n"
          ]
        }
      ]
    },
    {
      "cell_type": "code",
      "source": [
        "#The pow(x, y) function returns the value of x to the power of y (xy).\n",
        "\n",
        "Num = pow(5, 2) # For example 5^3\n",
        "\n",
        "print(Num)"
      ],
      "metadata": {
        "colab": {
          "base_uri": "https://localhost:8080/"
        },
        "id": "5RbQFPyCaDSC",
        "outputId": "4021093a-aea7-40a1-e340-3135bbe9f040"
      },
      "execution_count": null,
      "outputs": [
        {
          "output_type": "stream",
          "name": "stdout",
          "text": [
            "25\n"
          ]
        }
      ]
    },
    {
      "cell_type": "markdown",
      "source": [
        "##**The Math Module**\n",
        "Python has also a built-in module called math, which extends the list of mathematical functions.\n",
        "\n",
        "To use it, you must import the math module:\n",
        "\n",
        "*import math*\n",
        "\n",
        "When you have imported the math module, you can start using methods and constants of the module.\n",
        "\n",
        "The math.sqrt() method for example, returns the square root of a number:"
      ],
      "metadata": {
        "id": "5MBF5Vh-aZJJ"
      }
    },
    {
      "cell_type": "code",
      "source": [
        "import math\n",
        "\n",
        "Num = math.sqrt(25) # Let find the square root of 25\n",
        "\n",
        "print(Num)"
      ],
      "metadata": {
        "colab": {
          "base_uri": "https://localhost:8080/"
        },
        "id": "RyD5tjdjYNt3",
        "outputId": "4e9b83ce-e7b5-42a4-e85c-086fbabc5abe"
      },
      "execution_count": null,
      "outputs": [
        {
          "output_type": "stream",
          "name": "stdout",
          "text": [
            "5.0\n"
          ]
        }
      ]
    },
    {
      "cell_type": "code",
      "source": [
        "#The math.ceil() method rounds a number upwards to its nearest integer, and the math.\n",
        "#floor() method rounds a number downwards to its nearest integer, and returns the result:\n",
        "\n",
        "import math\n",
        "\n",
        "x = math.ceil(4.6)\n",
        "y = math.floor(3.9)\n",
        "\n",
        "print(x) # returns 5\n",
        "print(y) # returns 3"
      ],
      "metadata": {
        "colab": {
          "base_uri": "https://localhost:8080/"
        },
        "id": "JKzvgP5Ha1tv",
        "outputId": "a8a43ef1-8596-4701-f47e-d955ab73f242"
      },
      "execution_count": null,
      "outputs": [
        {
          "output_type": "stream",
          "name": "stdout",
          "text": [
            "5\n",
            "3\n"
          ]
        }
      ]
    },
    {
      "cell_type": "code",
      "source": [
        "#The math.pi constant, returns the value of PI (3.14...):\n",
        "\n",
        "import math\n",
        "\n",
        "x = math.pi\n",
        "\n",
        "print(x)\n",
        "\n",
        "#Read More: https://www.w3schools.com/python/module_math.asp"
      ],
      "metadata": {
        "colab": {
          "base_uri": "https://localhost:8080/"
        },
        "id": "r11ivFK-bP_Q",
        "outputId": "5dfd03d6-7abd-4acd-9dda-f24b968c36c7"
      },
      "execution_count": null,
      "outputs": [
        {
          "output_type": "stream",
          "name": "stdout",
          "text": [
            "3.141592653589793\n"
          ]
        }
      ]
    },
    {
      "cell_type": "markdown",
      "source": [
        "##**Python RegEx**\n",
        "\n",
        "A RegEx, or Regular Expression, is a sequence of characters that forms a search pattern.\n",
        "\n",
        "RegEx can be used to check if a string contains the specified search pattern.\n",
        "\n",
        "\n",
        "Python has a built-in package called re, which can be used to work with Regular Expressions.\n",
        "\n",
        "Import the re module:"
      ],
      "metadata": {
        "id": "j_X71GhHcBm6"
      }
    },
    {
      "cell_type": "code",
      "source": [
        "#Search the string to see if it starts with \"you\" and ends with \"techniques\":\n",
        "\n",
        "import re\n",
        "\n",
        "txt = \"This course will introduce you to data science techniques.\"\n",
        "x = re.search(\"^This.*techniques$\", txt)"
      ],
      "metadata": {
        "id": "qAQgy2zScA_G"
      },
      "execution_count": null,
      "outputs": []
    },
    {
      "cell_type": "code",
      "source": [
        "#Print a list of all matches:\n",
        "\n",
        "import re\n",
        "\n",
        "txt = \"This course will introduce you to data science techniques.\"\n",
        "x = re.findall(\"se\", txt)\n",
        "print(x)"
      ],
      "metadata": {
        "colab": {
          "base_uri": "https://localhost:8080/"
        },
        "id": "uTPap272dCxh",
        "outputId": "6c92c671-b730-4593-cbaf-e5a7e404a78d"
      },
      "execution_count": null,
      "outputs": [
        {
          "output_type": "stream",
          "name": "stdout",
          "text": [
            "['se']\n"
          ]
        }
      ]
    },
    {
      "cell_type": "code",
      "source": [
        "#The search() Function\n",
        "#The search() function searches the string for a match, and returns a Match object if there is a match.\n",
        "\n",
        "#If there is more than one match, only the first occurrence of the match will be returned:\n",
        "\n",
        "import re\n",
        "\n",
        "txt = \"This course will introduce you to data science techniques.\"\n",
        "x = re.search(\"\\s\", txt)\n",
        "\n",
        "print(\"The first white-space character is located in position:\", x.start())"
      ],
      "metadata": {
        "colab": {
          "base_uri": "https://localhost:8080/"
        },
        "id": "Zi8URmf5dhKL",
        "outputId": "959858c2-4777-4802-8b1a-0f92a79f90e3"
      },
      "execution_count": null,
      "outputs": [
        {
          "output_type": "stream",
          "name": "stdout",
          "text": [
            "The first white-space character is located in position: 4\n"
          ]
        }
      ]
    },
    {
      "cell_type": "code",
      "source": [
        "#Make a search that returns no match:\n",
        "\n",
        "import re\n",
        "\n",
        "txt = \"This course will introduce you to data science techniques.\"\n",
        "x = re.search(\"Artificial\", txt)\n",
        "print(x)"
      ],
      "metadata": {
        "colab": {
          "base_uri": "https://localhost:8080/"
        },
        "id": "n2ydF6MUd0mP",
        "outputId": "3b2f7490-9db2-4cb0-edc8-ba820efc6da7"
      },
      "execution_count": null,
      "outputs": [
        {
          "output_type": "stream",
          "name": "stdout",
          "text": [
            "None\n"
          ]
        }
      ]
    },
    {
      "cell_type": "code",
      "source": [
        "#The split() Function\n",
        "#The split() function returns a list where the string has been split at each match:\n",
        "\n",
        "\n",
        "import re\n",
        "\n",
        "txt = \"This course will introduce you to data science techniques.\"\n",
        "x = re.split(\"\\s\", txt) #Split at each white-space character:\n",
        "print(x)"
      ],
      "metadata": {
        "colab": {
          "base_uri": "https://localhost:8080/"
        },
        "id": "OPoSbi9reAc7",
        "outputId": "bb483550-1613-42e2-ce52-c63fd4122f85"
      },
      "execution_count": null,
      "outputs": [
        {
          "output_type": "stream",
          "name": "stdout",
          "text": [
            "['This', 'course', 'will', 'introduce', 'you', 'to', 'data', 'science', 'techniques.']\n"
          ]
        }
      ]
    },
    {
      "cell_type": "code",
      "source": [
        "#You can control the number of occurrences by specifying the maxsplit parameter:\n",
        "\n",
        "\n",
        "import re\n",
        "\n",
        "txt = \"This course will introduce you to data science techniques.\"\n",
        "x = re.split(\"\\s\", txt, 2) #Split the string only at the second occurrence:\n",
        "print(x)"
      ],
      "metadata": {
        "colab": {
          "base_uri": "https://localhost:8080/"
        },
        "id": "7qmTpv_6eVzi",
        "outputId": "c9163c55-c9fb-4511-91ce-0d2e44f4a098"
      },
      "execution_count": null,
      "outputs": [
        {
          "output_type": "stream",
          "name": "stdout",
          "text": [
            "['This', 'course', 'will introduce you to data science techniques.']\n"
          ]
        }
      ]
    },
    {
      "cell_type": "markdown",
      "source": [
        "##**User Input**\n",
        "Python allows for user input.\n",
        "\n",
        "That means we are able to ask the user for input.\n",
        "\n",
        "The method is a bit different in Python 3.6 than Python 2.7.\n",
        "\n",
        "Python 3.6 uses the input() method.\n",
        "\n",
        "Python 2.7 uses the raw_input() method.\n",
        "\n",
        "The following example asks for the username, and when you entered the username, it gets printed on the screen:"
      ],
      "metadata": {
        "id": "piw9T5Wje4V_"
      }
    },
    {
      "cell_type": "code",
      "source": [
        "name = input(\"Please Enter Your Name:\")\n",
        "print(\"Your Name is: \" + name)\n",
        "\n",
        "#Python stops executing when it comes to the input() function, \n",
        "#and continues when the user has given some input."
      ],
      "metadata": {
        "id": "Arj_e86Oe-Mt"
      },
      "execution_count": null,
      "outputs": []
    },
    {
      "cell_type": "markdown",
      "source": [
        "##**String format**\n",
        "\n",
        "To make sure a string will display as expected, we can format the result with the format() method.\n",
        "\n",
        "\n",
        "The format() method allows you to format selected parts of a string.\n",
        "\n",
        "Sometimes there are parts of a text that you do not control, maybe they come from a database, or user input?\n",
        "\n",
        "To control such values, add placeholders (curly brackets {}) in the text, and run the values through the format() method:"
      ],
      "metadata": {
        "id": "LFmln8vsfcID"
      }
    },
    {
      "cell_type": "code",
      "source": [
        "#Add a placeholder where you want to display the price:\n",
        "\n",
        "Amout = 49\n",
        "txt = \"Your rent due is {} dollars\"\n",
        "print(txt.format(Amout))\n",
        "\n",
        "#You can add parameters inside the curly brackets to specify how to convert the value:\n",
        "#Format the amount to be displayed as a number with two decimals:\n",
        "\n",
        "txt = \"TYour rent due is {:.2f} dollars\"\n",
        "print(txt.format(Amout))"
      ],
      "metadata": {
        "colab": {
          "base_uri": "https://localhost:8080/"
        },
        "id": "gpwdPz_3fkXb",
        "outputId": "f696e977-6d78-43f0-d33f-a6fee64d1d87"
      },
      "execution_count": null,
      "outputs": [
        {
          "output_type": "stream",
          "name": "stdout",
          "text": [
            "Your rent due is 49 dollars\n",
            "TYour rent due is 49.00 dollars\n"
          ]
        }
      ]
    },
    {
      "cell_type": "code",
      "source": [
        "#Multiple Values\n",
        "#If you want to use more values, just add more values to the format() method:\n",
        "#print(txt.format(price, itemno, count))\n",
        "\n",
        "quantity = 3\n",
        "itemno = 567\n",
        "price = 49\n",
        "myorder = \"I want {} pieces of item number {} for {:.2f} dollars.\"\n",
        "print(myorder.format(quantity, itemno, price))"
      ],
      "metadata": {
        "id": "L01_Mdd_gOPr"
      },
      "execution_count": null,
      "outputs": []
    },
    {
      "cell_type": "code",
      "source": [
        "#Index Numbers\n",
        "#You can use index numbers (a number inside the curly brackets {0}) to be sure the values are placed in the correct placeholders:\n",
        "\n",
        "quantity = 3\n",
        "itemno = 567\n",
        "price = 49\n",
        "myorder = \"I want {0} pieces of item number {1} for {2:.2f} dollars.\"\n",
        "print(myorder.format(quantity, itemno, price))"
      ],
      "metadata": {
        "id": "wdF4h1BAgYaj"
      },
      "execution_count": null,
      "outputs": []
    },
    {
      "cell_type": "code",
      "source": [
        "#Also, if you want to refer to the same value more than once, use the index number:\n",
        "age = 36\n",
        "name = \"John\"\n",
        "txt = \"His name is {1}. {1} is {0} years old.\"\n",
        "print(txt.format(age, name))"
      ],
      "metadata": {
        "id": "7MBT170cgirc"
      },
      "execution_count": null,
      "outputs": []
    },
    {
      "cell_type": "code",
      "source": [
        "#Named Indexes\n",
        "#You can also use named indexes by entering a name inside the curly brackets {carname}, \n",
        "#but then you must use names when you pass the parameter values txt.format(carname = \"Ford\"):\n",
        "\n",
        "myorder = \"I have a {carname}, it is a {model}.\"\n",
        "print(myorder.format(carname = \"Ford\", model = \"Mustang\"))"
      ],
      "metadata": {
        "id": "DscRz8aOgmxM"
      },
      "execution_count": null,
      "outputs": []
    },
    {
      "cell_type": "markdown",
      "metadata": {
        "id": "65Ko8akFqg1p"
      },
      "source": [
        "## Text cells\n",
        "This is a **text cell**. You can **double-click** to edit this cell. Text cells\n",
        "use markdown syntax. To learn more, see our [markdown\n",
        "guide](/notebooks/markdown_guide.ipynb).\n",
        "\n",
        "You can also add math to text cells using [LaTeX](http://www.latex-project.org/)\n",
        "to be rendered by [MathJax](https://www.mathjax.org). Just place the statement\n",
        "within a pair of **\\$** signs. For example `$\\sqrt{3x-1}+(1+x)^2$` becomes\n",
        "$\\sqrt{3x-1}+(1+x)^2.$"
      ]
    },
    {
      "cell_type": "markdown",
      "source": [
        "#**Task No. 4**\n",
        "Kofi own’s a print shop in Cincinnati. He decides to charge his customers as follows \n",
        "1.\t*For the first 20 prints = $ 0.75 per page.*\n",
        "\n",
        "2.\t*For the next fifteen (15) extra pages pay three (3) times the initial rate per page.*\n",
        "\n",
        "3.\t*For any other remaining pages, a fixed amount of $3.00 is to be paid.*\n",
        "\n",
        "With your knowledge in Python write a simple script that take the number of pages printed from a customer and compute the amount due.\n"
      ],
      "metadata": {
        "id": "tQiVhOg4UzQG"
      }
    },
    {
      "cell_type": "code",
      "source": [
        "## Write your codes here"
      ],
      "metadata": {
        "id": "NcpftwwDU8MD"
      },
      "execution_count": null,
      "outputs": []
    },
    {
      "cell_type": "markdown",
      "metadata": {
        "id": "1Zs6U355rerX"
      },
      "source": [
        "#**Magics**\n",
        "Colaboratory shares the notion of magics from Jupyter. There are shorthand annotations that change how a cell's text is executed. To learn more, see [Jupyter's magics page](http://nbviewer.jupyter.org/github/ipython/ipython/blob/1.x/examples/notebooks/Cell%20Magics.ipynb). "
      ]
    },
    {
      "cell_type": "markdown",
      "source": [
        "#**Refrences**\n",
        "\n",
        "1.   [3Wshools](https://www.w3schools.com/python/)\n",
        "2.   List item\n",
        "\n"
      ],
      "metadata": {
        "id": "vhXnBd1iWBC6"
      }
    }
  ],
  "metadata": {
    "colab": {
      "provenance": [],
      "collapsed_sections": [
        "q-6gN1k2TbQG",
        "3uXW5tYLBzgo",
        "r8tuoHyMTsOB",
        "s72zTiwSUjKW",
        "n_rflbp6eyqi",
        "VBbU0_oeikhQ",
        "BnKihxiqi7dE",
        "k7aF3Iu9kN2G",
        "DD0O060Lkh5k",
        "EjGmAEKasA6P",
        "_cWb-OfDt2tT",
        "HyK5M5zO97DS",
        "XpP_f_BDB-Wo",
        "js3uV3RNDTVv",
        "jPIoSP_6KWnc",
        "Usv8Up6_lsGv",
        "WI6pBQ4Mpoum",
        "q09ExyPDaELt",
        "vJe56VYsOJoz",
        "LWUcyubKHLfv",
        "7V-vyoqPjbxI",
        "tiPMcDOWjWRF",
        "4VnEBXIpj6d9",
        "MzWTcjreqnlA",
        "eFh9fB3RtD4V",
        "qXi2aWzIZRHv",
        "TPyBi9NXdEo6",
        "1GDo9Qa-gvBD",
        "R4mHlfrxjTLn"
      ],
      "include_colab_link": true
    },
    "kernelspec": {
      "display_name": "Python 3",
      "name": "python3"
    },
    "language_info": {
      "name": "python"
    }
  },
  "nbformat": 4,
  "nbformat_minor": 0
}